{
  "nbformat": 4,
  "nbformat_minor": 0,
  "metadata": {
    "colab": {
      "provenance": [],
      "authorship_tag": "ABX9TyOAPFICt4xV4xDuOOhVGeSq",
      "include_colab_link": true
    },
    "kernelspec": {
      "name": "python3",
      "display_name": "Python 3"
    },
    "language_info": {
      "name": "python"
    }
  },
  "cells": [
    {
      "cell_type": "markdown",
      "metadata": {
        "id": "view-in-github",
        "colab_type": "text"
      },
      "source": [
        "<a href=\"https://colab.research.google.com/github/sbborusu/530pm_Agentic_Ai_Batch_7thApril/blob/main/T2_String.ipynb\" target=\"_parent\"><img src=\"https://colab.research.google.com/assets/colab-badge.svg\" alt=\"Open In Colab\"/></a>"
      ]
    },
    {
      "cell_type": "code",
      "source": [
        "# Single line comment\n",
        "letter = 'P'                # A string could be a single character or a bunch of texts\n",
        "print(letter)               # P\n",
        "print(len(letter))          # 1\n",
        "greeting = 'Hello, World!'  # String could be  a single or double quote,\"Hello, World!\"\n",
        "print(greeting)             # Hello, World!\n",
        "print(len(greeting))        # 13\n",
        "sentence = \"I hope you are enjoying 30 days of python challenge\"\n",
        "print(sentence)"
      ],
      "metadata": {
        "colab": {
          "base_uri": "https://localhost:8080/"
        },
        "id": "PX7pdpB030IN",
        "outputId": "2897ee91-c695-45a1-96c0-230147461cdf"
      },
      "execution_count": 5,
      "outputs": [
        {
          "output_type": "stream",
          "name": "stdout",
          "text": [
            "P\n",
            "1\n",
            "Hello, World!\n",
            "13\n",
            "I hope you are enjoying 30 days of python challenge\n"
          ]
        }
      ]
    },
    {
      "cell_type": "code",
      "source": [
        "# Multiline String\n",
        "multiline_string = '''I am a teacher and enjoy teaching.\n",
        "I didn't find anything as rewarding as empowering people.\n",
        "That is why I created 30 days of python.'''\n",
        "print(multiline_string)\n",
        "# Another way of doing the same thing\n",
        "multiline_string = \"\"\"I am a teacher and enjoy teaching.\n",
        "I didn't find anything as rewarding as empowering people.\n",
        "That is why I created 30 days of python.\"\"\"\n",
        "print(multiline_string)"
      ],
      "metadata": {
        "colab": {
          "base_uri": "https://localhost:8080/"
        },
        "id": "MU3OzjKh4h0j",
        "outputId": "c95859f7-6d64-4f52-f999-f9859c2c78b0"
      },
      "execution_count": 14,
      "outputs": [
        {
          "output_type": "stream",
          "name": "stdout",
          "text": [
            "I am a teacher and enjoy teaching.\n",
            "I didn't find anything as rewarding as empowering people.\n",
            "That is why I created 30 days of python.\n",
            "I am a teacher and enjoy teaching.\n",
            "I didn't find anything as rewarding as empowering people.\n",
            "That is why I created 30 days of python.\n"
          ]
        }
      ]
    },
    {
      "cell_type": "code",
      "source": [
        "# String Concatenation\n",
        "first_name = 'Asabeneh'\n",
        "last_name = 'Yetayeh'\n",
        "space = ' '\n",
        "full_name = first_name  +  space + last_name\n",
        "print(full_name) # Asabeneh Yetayeh\n",
        "# Checking length of a string using len() builtin function\n",
        "print(len(first_name))  # 8\n",
        "print(len(last_name))   # 7\n",
        "print(len(first_name) > len(last_name)) # True\n",
        "print(len(full_name)) # 15\n"
      ],
      "metadata": {
        "colab": {
          "base_uri": "https://localhost:8080/"
        },
        "id": "71eF0SDa4rNw",
        "outputId": "a8074d7b-90e2-420f-d586-fffa736c8a02"
      },
      "execution_count": 15,
      "outputs": [
        {
          "output_type": "stream",
          "name": "stdout",
          "text": [
            "Asabeneh Yetayeh\n",
            "8\n",
            "7\n",
            "True\n",
            "16\n"
          ]
        }
      ]
    },
    {
      "cell_type": "code",
      "source": [
        "language = 'Python'\n",
        "a,b,c,d,e,f = language # unpacking sequence characters into variables\n",
        "print(a) # P\n",
        "print(b) # y\n",
        "print(c) # t\n",
        "print(d) # h\n",
        "print(e) # o\n",
        "print(f) # n"
      ],
      "metadata": {
        "colab": {
          "base_uri": "https://localhost:8080/"
        },
        "id": "2Vifx7Re5I_B",
        "outputId": "6b418515-ec12-4678-b910-095a1d5d992b"
      },
      "execution_count": 16,
      "outputs": [
        {
          "output_type": "stream",
          "name": "stdout",
          "text": [
            "P\n",
            "y\n",
            "t\n",
            "h\n",
            "o\n",
            "n\n"
          ]
        }
      ]
    },
    {
      "cell_type": "code",
      "source": [
        "language = 'Python'\n",
        "a,b,c,d,e = language # unpacking sequence characters into variables\n",
        "print(a) # P\n",
        "print(b) # y\n",
        "print(c) # t\n",
        "print(d) # h\n",
        "print(e) # o"
      ],
      "metadata": {
        "colab": {
          "base_uri": "https://localhost:8080/",
          "height": 211
        },
        "id": "pF_ypv0p5Pfr",
        "outputId": "162abf61-b2ba-4249-ef25-6624108ba4eb"
      },
      "execution_count": 17,
      "outputs": [
        {
          "output_type": "error",
          "ename": "ValueError",
          "evalue": "too many values to unpack (expected 5)",
          "traceback": [
            "\u001b[0;31m---------------------------------------------------------------------------\u001b[0m",
            "\u001b[0;31mValueError\u001b[0m                                Traceback (most recent call last)",
            "\u001b[0;32m<ipython-input-17-62e0456be3ac>\u001b[0m in \u001b[0;36m<cell line: 0>\u001b[0;34m()\u001b[0m\n\u001b[1;32m      1\u001b[0m \u001b[0mlanguage\u001b[0m \u001b[0;34m=\u001b[0m \u001b[0;34m'Python'\u001b[0m\u001b[0;34m\u001b[0m\u001b[0;34m\u001b[0m\u001b[0m\n\u001b[0;32m----> 2\u001b[0;31m \u001b[0ma\u001b[0m\u001b[0;34m,\u001b[0m\u001b[0mb\u001b[0m\u001b[0;34m,\u001b[0m\u001b[0mc\u001b[0m\u001b[0;34m,\u001b[0m\u001b[0md\u001b[0m\u001b[0;34m,\u001b[0m\u001b[0me\u001b[0m \u001b[0;34m=\u001b[0m \u001b[0mlanguage\u001b[0m \u001b[0;31m# unpacking sequence characters into variables\u001b[0m\u001b[0;34m\u001b[0m\u001b[0;34m\u001b[0m\u001b[0m\n\u001b[0m\u001b[1;32m      3\u001b[0m \u001b[0mprint\u001b[0m\u001b[0;34m(\u001b[0m\u001b[0ma\u001b[0m\u001b[0;34m)\u001b[0m \u001b[0;31m# P\u001b[0m\u001b[0;34m\u001b[0m\u001b[0;34m\u001b[0m\u001b[0m\n\u001b[1;32m      4\u001b[0m \u001b[0mprint\u001b[0m\u001b[0;34m(\u001b[0m\u001b[0mb\u001b[0m\u001b[0;34m)\u001b[0m \u001b[0;31m# y\u001b[0m\u001b[0;34m\u001b[0m\u001b[0;34m\u001b[0m\u001b[0m\n\u001b[1;32m      5\u001b[0m \u001b[0mprint\u001b[0m\u001b[0;34m(\u001b[0m\u001b[0mc\u001b[0m\u001b[0;34m)\u001b[0m \u001b[0;31m# t\u001b[0m\u001b[0;34m\u001b[0m\u001b[0;34m\u001b[0m\u001b[0m\n",
            "\u001b[0;31mValueError\u001b[0m: too many values to unpack (expected 5)"
          ]
        }
      ]
    },
    {
      "cell_type": "code",
      "source": [],
      "metadata": {
        "id": "cu3W14bY5U0F"
      },
      "execution_count": null,
      "outputs": []
    }
  ]
}