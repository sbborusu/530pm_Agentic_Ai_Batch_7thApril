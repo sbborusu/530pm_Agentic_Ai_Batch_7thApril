{
  "cells": [
    {
      "cell_type": "markdown",
      "metadata": {
        "id": "view-in-github",
        "colab_type": "text"
      },
      "source": [
        "<a href=\"https://colab.research.google.com/github/sbborusu/530pm_Agentic_Ai_Batch_7thApril/blob/main/string_introduction.ipynb\" target=\"_parent\"><img src=\"https://colab.research.google.com/assets/colab-badge.svg\" alt=\"Open In Colab\"/></a>"
      ]
    },
    {
      "cell_type": "markdown",
      "id": "d69c8de4-1961-46f8-900b-ce596a7cc208",
      "metadata": {
        "id": "d69c8de4-1961-46f8-900b-ce596a7cc208"
      },
      "source": [
        "# 10th APRIL - FSDS, GENAI, AGENTIAI"
      ]
    },
    {
      "cell_type": "code",
      "execution_count": 2,
      "id": "11d99c27-9fe6-48db-98f5-fbad87dacb9c",
      "metadata": {
        "colab": {
          "base_uri": "https://localhost:8080/"
        },
        "id": "11d99c27-9fe6-48db-98f5-fbad87dacb9c",
        "outputId": "a28b237c-bb16-4aa0-84cc-34f5a938ea9b"
      },
      "outputs": [
        {
          "output_type": "execute_result",
          "data": {
            "text/plain": [
              "9"
            ]
          },
          "metadata": {},
          "execution_count": 2
        }
      ],
      "source": [
        "9"
      ]
    },
    {
      "cell_type": "code",
      "execution_count": 3,
      "id": "dd915bc6-eaba-4a48-8f8f-603830f47431",
      "metadata": {
        "colab": {
          "base_uri": "https://localhost:8080/"
        },
        "id": "dd915bc6-eaba-4a48-8f8f-603830f47431",
        "outputId": "60d0bd30-26bf-41a1-e10c-0a9cf413023d"
      },
      "outputs": [
        {
          "output_type": "execute_result",
          "data": {
            "text/plain": [
              "18"
            ]
          },
          "metadata": {},
          "execution_count": 3
        }
      ],
      "source": [
        "9 + 9"
      ]
    },
    {
      "cell_type": "code",
      "execution_count": 4,
      "id": "84e6a0c0-e28b-4d79-a4e8-4cba6a209ef6",
      "metadata": {
        "colab": {
          "base_uri": "https://localhost:8080/"
        },
        "id": "84e6a0c0-e28b-4d79-a4e8-4cba6a209ef6",
        "outputId": "92ae3169-7818-4f85-85d2-ea95fb4372f3"
      },
      "outputs": [
        {
          "output_type": "execute_result",
          "data": {
            "text/plain": [
              "14"
            ]
          },
          "metadata": {},
          "execution_count": 4
        }
      ],
      "source": [
        "9 + 9 - (10 - 3) + 3"
      ]
    },
    {
      "cell_type": "code",
      "execution_count": 5,
      "id": "799f3ea9-2d44-4938-8ec6-0cf4af6da477",
      "metadata": {
        "colab": {
          "base_uri": "https://localhost:8080/"
        },
        "id": "799f3ea9-2d44-4938-8ec6-0cf4af6da477",
        "outputId": "a88be05c-3f25-44da-9d0a-3ea98e8977f0"
      },
      "outputs": [
        {
          "output_type": "execute_result",
          "data": {
            "text/plain": [
              "8"
            ]
          },
          "metadata": {},
          "execution_count": 5
        }
      ],
      "source": [
        "9 + 9 - 10 - 3 + 3"
      ]
    },
    {
      "cell_type": "markdown",
      "id": "666dd8a4-7162-47d4-a91f-0de9b559f171",
      "metadata": {
        "id": "666dd8a4-7162-47d4-a91f-0de9b559f171"
      },
      "source": [
        "# numbers are called as operand\n",
        "# +, - * are called operator"
      ]
    },
    {
      "cell_type": "markdown",
      "id": "a3135f9e-7476-47f0-bf94-93e8f3e58d98",
      "metadata": {
        "id": "a3135f9e-7476-47f0-bf94-93e8f3e58d98"
      },
      "source": [
        "# ARITHMETIC OPERATOR"
      ]
    },
    {
      "cell_type": "markdown",
      "id": "70c53e4b-a0a0-4a73-bad8-3e3baba0b3e3",
      "metadata": {
        "id": "70c53e4b-a0a0-4a73-bad8-3e3baba0b3e3"
      },
      "source": [
        "- 1- ARITHMETIC OPERATOR ( + , -, *, /, %, %%, **)\n",
        "- 2- ASSIGNMEN OPERATOR (=)\n",
        "- 3- RELATIONAL OPERATOR\n",
        "- 4- LOGICAL OPERATOR\n",
        "- 5- UNARY OPERATOR"
      ]
    },
    {
      "cell_type": "code",
      "execution_count": 6,
      "id": "71fe18cb-d03f-4363-b439-c517b45c0c47",
      "metadata": {
        "colab": {
          "base_uri": "https://localhost:8080/"
        },
        "id": "71fe18cb-d03f-4363-b439-c517b45c0c47",
        "outputId": "022b9abe-f72f-4a9d-af17-739d8d76c2d7"
      },
      "outputs": [
        {
          "output_type": "execute_result",
          "data": {
            "text/plain": [
              "15"
            ]
          },
          "metadata": {},
          "execution_count": 6
        }
      ],
      "source": [
        "10 + 5"
      ]
    },
    {
      "cell_type": "code",
      "execution_count": 7,
      "id": "f513d1c7-72ed-4bb2-a871-86f347ce2b3d",
      "metadata": {
        "colab": {
          "base_uri": "https://localhost:8080/"
        },
        "id": "f513d1c7-72ed-4bb2-a871-86f347ce2b3d",
        "outputId": "a1f7a7ca-6153-4e49-fac5-ef4d0030d6ff"
      },
      "outputs": [
        {
          "output_type": "execute_result",
          "data": {
            "text/plain": [
              "5"
            ]
          },
          "metadata": {},
          "execution_count": 7
        }
      ],
      "source": [
        "10- 5"
      ]
    },
    {
      "cell_type": "code",
      "execution_count": 8,
      "id": "e6b4a85c-c385-49d6-989f-3125f3108570",
      "metadata": {
        "colab": {
          "base_uri": "https://localhost:8080/"
        },
        "id": "e6b4a85c-c385-49d6-989f-3125f3108570",
        "outputId": "857f440a-5fc1-4744-daf6-59c1740156b3"
      },
      "outputs": [
        {
          "output_type": "execute_result",
          "data": {
            "text/plain": [
              "50"
            ]
          },
          "metadata": {},
          "execution_count": 8
        }
      ],
      "source": [
        "10 * 5"
      ]
    },
    {
      "cell_type": "code",
      "execution_count": 9,
      "id": "7e962897-74f7-4d69-bdd9-85853ed1222b",
      "metadata": {
        "colab": {
          "base_uri": "https://localhost:8080/"
        },
        "id": "7e962897-74f7-4d69-bdd9-85853ed1222b",
        "outputId": "87adc4be-1394-4d95-e20f-004fda580830"
      },
      "outputs": [
        {
          "output_type": "execute_result",
          "data": {
            "text/plain": [
              "20"
            ]
          },
          "metadata": {},
          "execution_count": 9
        }
      ],
      "source": [
        "10 * 2 # MULTIPLICATION"
      ]
    },
    {
      "cell_type": "code",
      "execution_count": 10,
      "id": "67d0026d-4de6-4e86-b435-3a409b4de5a3",
      "metadata": {
        "colab": {
          "base_uri": "https://localhost:8080/"
        },
        "id": "67d0026d-4de6-4e86-b435-3a409b4de5a3",
        "outputId": "ea1fe5b4-f67b-49b8-cf81-3554012e90f6"
      },
      "outputs": [
        {
          "output_type": "execute_result",
          "data": {
            "text/plain": [
              "100"
            ]
          },
          "metadata": {},
          "execution_count": 10
        }
      ],
      "source": [
        "10 ** 2  #POWER"
      ]
    },
    {
      "cell_type": "code",
      "execution_count": 11,
      "id": "1d11bf8c-5a8a-4269-889d-1c90d75d0be5",
      "metadata": {
        "colab": {
          "base_uri": "https://localhost:8080/",
          "height": 106
        },
        "id": "1d11bf8c-5a8a-4269-889d-1c90d75d0be5",
        "outputId": "0e030902-bfee-4f84-c20f-9fb9ac3e8d6c"
      },
      "outputs": [
        {
          "output_type": "error",
          "ename": "SyntaxError",
          "evalue": "invalid syntax (<ipython-input-11-d80ae7059525>, line 1)",
          "traceback": [
            "\u001b[0;36m  File \u001b[0;32m\"<ipython-input-11-d80ae7059525>\"\u001b[0;36m, line \u001b[0;32m1\u001b[0m\n\u001b[0;31m    10 *** 2\u001b[0m\n\u001b[0m         ^\u001b[0m\n\u001b[0;31mSyntaxError\u001b[0m\u001b[0;31m:\u001b[0m invalid syntax\n"
          ]
        }
      ],
      "source": [
        "10 *** 2"
      ]
    },
    {
      "cell_type": "code",
      "source": [
        "10 ** 3"
      ],
      "metadata": {
        "colab": {
          "base_uri": "https://localhost:8080/"
        },
        "id": "pyBcIu_wVDA4",
        "outputId": "e16e01e8-a0b6-496d-cf45-ee07b836ff0a"
      },
      "id": "pyBcIu_wVDA4",
      "execution_count": 12,
      "outputs": [
        {
          "output_type": "execute_result",
          "data": {
            "text/plain": [
              "1000"
            ]
          },
          "metadata": {},
          "execution_count": 12
        }
      ]
    },
    {
      "cell_type": "code",
      "execution_count": 13,
      "id": "131de2ee-bf73-4efa-b59c-97c09bf969a2",
      "metadata": {
        "colab": {
          "base_uri": "https://localhost:8080/"
        },
        "id": "131de2ee-bf73-4efa-b59c-97c09bf969a2",
        "outputId": "e9c0222e-438f-424a-d66c-34f4c7e8754f"
      },
      "outputs": [
        {
          "output_type": "execute_result",
          "data": {
            "text/plain": [
              "2.0"
            ]
          },
          "metadata": {},
          "execution_count": 13
        }
      ],
      "source": [
        "10 / 5 # FLOAT DIVISION"
      ]
    },
    {
      "cell_type": "code",
      "execution_count": 14,
      "id": "56dc75da-0ef1-410e-981d-ca6eb75e3227",
      "metadata": {
        "colab": {
          "base_uri": "https://localhost:8080/"
        },
        "id": "56dc75da-0ef1-410e-981d-ca6eb75e3227",
        "outputId": "8f1af081-d628-4e4f-9432-fdd736cd08c4"
      },
      "outputs": [
        {
          "output_type": "execute_result",
          "data": {
            "text/plain": [
              "2"
            ]
          },
          "metadata": {},
          "execution_count": 14
        }
      ],
      "source": [
        "10 // 5 # int division"
      ]
    },
    {
      "cell_type": "code",
      "execution_count": 15,
      "id": "f0a939b9-7d57-4e96-a590-fe2b9511f9f0",
      "metadata": {
        "colab": {
          "base_uri": "https://localhost:8080/"
        },
        "id": "f0a939b9-7d57-4e96-a590-fe2b9511f9f0",
        "outputId": "11abf463-779d-4572-ef9d-506d4b03029f"
      },
      "outputs": [
        {
          "output_type": "execute_result",
          "data": {
            "text/plain": [
              "0"
            ]
          },
          "metadata": {},
          "execution_count": 15
        }
      ],
      "source": [
        "10 % 5"
      ]
    },
    {
      "cell_type": "code",
      "execution_count": 16,
      "id": "63119534-0b73-4aa6-a28c-5caca7f9d9f2",
      "metadata": {
        "colab": {
          "base_uri": "https://localhost:8080/"
        },
        "id": "63119534-0b73-4aa6-a28c-5caca7f9d9f2",
        "outputId": "cd304e15-ac6a-45ba-a9d3-a9db63e6c99a"
      },
      "outputs": [
        {
          "output_type": "execute_result",
          "data": {
            "text/plain": [
              "3"
            ]
          },
          "metadata": {},
          "execution_count": 16
        }
      ],
      "source": [
        "15 % 6"
      ]
    },
    {
      "cell_type": "code",
      "execution_count": 17,
      "id": "a9df1c0f-6363-41d8-a952-d3794bbefe02",
      "metadata": {
        "colab": {
          "base_uri": "https://localhost:8080/",
          "height": 106
        },
        "id": "a9df1c0f-6363-41d8-a952-d3794bbefe02",
        "outputId": "232f02a5-2b5b-45b4-e0b0-8037fc28467e"
      },
      "outputs": [
        {
          "output_type": "error",
          "ename": "SyntaxError",
          "evalue": "invalid syntax (<ipython-input-17-c12f5655e296>, line 1)",
          "traceback": [
            "\u001b[0;36m  File \u001b[0;32m\"<ipython-input-17-c12f5655e296>\"\u001b[0;36m, line \u001b[0;32m1\u001b[0m\n\u001b[0;31m    15 %% 6\u001b[0m\n\u001b[0m        ^\u001b[0m\n\u001b[0;31mSyntaxError\u001b[0m\u001b[0;31m:\u001b[0m invalid syntax\n"
          ]
        }
      ],
      "source": [
        "15 %% 6"
      ]
    },
    {
      "cell_type": "code",
      "execution_count": 18,
      "id": "13e8b157-9584-4c55-9f80-50d5e30cb3be",
      "metadata": {
        "colab": {
          "base_uri": "https://localhost:8080/"
        },
        "id": "13e8b157-9584-4c55-9f80-50d5e30cb3be",
        "outputId": "5b220fa6-f41e-43d4-cc39-46391f29a44e"
      },
      "outputs": [
        {
          "output_type": "execute_result",
          "data": {
            "text/plain": [
              "2.5"
            ]
          },
          "metadata": {},
          "execution_count": 18
        }
      ],
      "source": [
        "15 / 6"
      ]
    },
    {
      "cell_type": "code",
      "execution_count": 19,
      "id": "25547178-797b-4a18-9cfb-447087f199ae",
      "metadata": {
        "colab": {
          "base_uri": "https://localhost:8080/"
        },
        "id": "25547178-797b-4a18-9cfb-447087f199ae",
        "outputId": "b1f2ed5c-cf64-4ddc-8a6a-bb93258078cd"
      },
      "outputs": [
        {
          "output_type": "execute_result",
          "data": {
            "text/plain": [
              "2"
            ]
          },
          "metadata": {},
          "execution_count": 19
        }
      ],
      "source": [
        "15 // 6"
      ]
    },
    {
      "cell_type": "markdown",
      "id": "a59b92ba-2f8f-4f7f-b5eb-62ac9e2c2561",
      "metadata": {
        "id": "a59b92ba-2f8f-4f7f-b5eb-62ac9e2c2561"
      },
      "source": [
        "# Assignment operator"
      ]
    },
    {
      "cell_type": "code",
      "execution_count": 47,
      "id": "f9bfa576-1abd-45c5-b90a-c5186eedb04b",
      "metadata": {
        "colab": {
          "base_uri": "https://localhost:8080/"
        },
        "id": "f9bfa576-1abd-45c5-b90a-c5186eedb04b",
        "outputId": "bba049c1-45de-45a8-ae5d-da1eb77b2092"
      },
      "outputs": [
        {
          "output_type": "execute_result",
          "data": {
            "text/plain": [
              "10"
            ]
          },
          "metadata": {},
          "execution_count": 47
        }
      ],
      "source": [
        "x = 10\n",
        "x\n",
        "# x is called variable or object or identifier"
      ]
    },
    {
      "cell_type": "code",
      "execution_count": 48,
      "id": "ca64e0a1-e3ec-4202-adca-c5ca705970f1",
      "metadata": {
        "colab": {
          "base_uri": "https://localhost:8080/"
        },
        "id": "ca64e0a1-e3ec-4202-adca-c5ca705970f1",
        "outputId": "35bac25a-598b-4a8e-b96d-509bbd0fe561"
      },
      "outputs": [
        {
          "output_type": "execute_result",
          "data": {
            "text/plain": [
              "12"
            ]
          },
          "metadata": {},
          "execution_count": 48
        }
      ],
      "source": [
        "x + 2"
      ]
    },
    {
      "cell_type": "code",
      "execution_count": 49,
      "id": "a8b03298-6199-45bc-b1ea-f52e3d3ddee2",
      "metadata": {
        "colab": {
          "base_uri": "https://localhost:8080/"
        },
        "id": "a8b03298-6199-45bc-b1ea-f52e3d3ddee2",
        "outputId": "cb1ec7d9-c3da-4115-d8cc-c1979b35014a"
      },
      "outputs": [
        {
          "output_type": "execute_result",
          "data": {
            "text/plain": [
              "12"
            ]
          },
          "metadata": {},
          "execution_count": 49
        }
      ],
      "source": [
        "x + 2"
      ]
    },
    {
      "cell_type": "code",
      "execution_count": 50,
      "id": "40a4a58b-760f-4d93-953d-19b83aeb8cd1",
      "metadata": {
        "colab": {
          "base_uri": "https://localhost:8080/"
        },
        "id": "40a4a58b-760f-4d93-953d-19b83aeb8cd1",
        "outputId": "ada55967-ff4d-406a-a426-c2163971865c"
      },
      "outputs": [
        {
          "output_type": "execute_result",
          "data": {
            "text/plain": [
              "12"
            ]
          },
          "metadata": {},
          "execution_count": 50
        }
      ],
      "source": [
        "x + 2"
      ]
    },
    {
      "cell_type": "code",
      "execution_count": 51,
      "id": "bf984a1b-b847-46e6-8e61-d666e111ecaf",
      "metadata": {
        "colab": {
          "base_uri": "https://localhost:8080/"
        },
        "id": "bf984a1b-b847-46e6-8e61-d666e111ecaf",
        "outputId": "88978fdc-691e-4b05-985d-b2292a67fde9"
      },
      "outputs": [
        {
          "output_type": "execute_result",
          "data": {
            "text/plain": [
              "12"
            ]
          },
          "metadata": {},
          "execution_count": 51
        }
      ],
      "source": [
        "x + 2"
      ]
    },
    {
      "cell_type": "code",
      "source": [
        "print(x)\n",
        "x = x + 2\n",
        "print(x)"
      ],
      "metadata": {
        "colab": {
          "base_uri": "https://localhost:8080/"
        },
        "id": "mBMGsEQsbotc",
        "outputId": "2a0c4d6f-9ea8-484c-8602-516e2ee25414"
      },
      "id": "mBMGsEQsbotc",
      "execution_count": 52,
      "outputs": [
        {
          "output_type": "stream",
          "name": "stdout",
          "text": [
            "10\n",
            "12\n"
          ]
        }
      ]
    },
    {
      "cell_type": "code",
      "execution_count": 53,
      "id": "623461b2-4a58-4198-8512-c86dc6c1b0c7",
      "metadata": {
        "colab": {
          "base_uri": "https://localhost:8080/"
        },
        "id": "623461b2-4a58-4198-8512-c86dc6c1b0c7",
        "outputId": "918f35ea-edfb-4a5f-acca-c169b8bffc7a"
      },
      "outputs": [
        {
          "output_type": "stream",
          "name": "stdout",
          "text": [
            "12\n",
            "14\n"
          ]
        }
      ],
      "source": [
        "print(x)\n",
        "x += 2\n",
        "print(x)"
      ]
    },
    {
      "cell_type": "code",
      "execution_count": 54,
      "id": "b33943e5-eb38-420b-848a-5b8cc862e512",
      "metadata": {
        "colab": {
          "base_uri": "https://localhost:8080/"
        },
        "id": "b33943e5-eb38-420b-848a-5b8cc862e512",
        "outputId": "48cc4f22-e59b-4016-a812-383e047a0629"
      },
      "outputs": [
        {
          "output_type": "execute_result",
          "data": {
            "text/plain": [
              "16"
            ]
          },
          "metadata": {},
          "execution_count": 54
        }
      ],
      "source": [
        "x += 2\n",
        "x"
      ]
    },
    {
      "cell_type": "code",
      "execution_count": 55,
      "id": "20ac9643-40f7-4962-9064-1706afc45483",
      "metadata": {
        "colab": {
          "base_uri": "https://localhost:8080/"
        },
        "id": "20ac9643-40f7-4962-9064-1706afc45483",
        "outputId": "8bcd04e0-e719-417f-a29c-b7570a6a41e8"
      },
      "outputs": [
        {
          "output_type": "execute_result",
          "data": {
            "text/plain": [
              "18"
            ]
          },
          "metadata": {},
          "execution_count": 55
        }
      ],
      "source": [
        "x += 2\n",
        "x"
      ]
    },
    {
      "cell_type": "code",
      "execution_count": 56,
      "id": "ce4fa972-070e-4305-9fcc-7730b3d0fe5c",
      "metadata": {
        "colab": {
          "base_uri": "https://localhost:8080/"
        },
        "id": "ce4fa972-070e-4305-9fcc-7730b3d0fe5c",
        "outputId": "dc95b76b-b4a5-4403-8c35-ab1993751911"
      },
      "outputs": [
        {
          "output_type": "execute_result",
          "data": {
            "text/plain": [
              "20"
            ]
          },
          "metadata": {},
          "execution_count": 56
        }
      ],
      "source": [
        "x += 2\n",
        "x"
      ]
    },
    {
      "cell_type": "code",
      "execution_count": 57,
      "id": "2e2afbf5-9696-422c-99de-946c23ed3123",
      "metadata": {
        "colab": {
          "base_uri": "https://localhost:8080/"
        },
        "id": "2e2afbf5-9696-422c-99de-946c23ed3123",
        "outputId": "66c5ccb3-1c6a-4778-849c-a8b306494757"
      },
      "outputs": [
        {
          "output_type": "execute_result",
          "data": {
            "text/plain": [
              "20"
            ]
          },
          "metadata": {},
          "execution_count": 57
        }
      ],
      "source": [
        "x"
      ]
    },
    {
      "cell_type": "code",
      "execution_count": 58,
      "id": "104bba39-f34b-4c23-87e2-2d75a0ebb7b3",
      "metadata": {
        "colab": {
          "base_uri": "https://localhost:8080/"
        },
        "id": "104bba39-f34b-4c23-87e2-2d75a0ebb7b3",
        "outputId": "881a7c85-5166-4ce0-f35a-39894608e644"
      },
      "outputs": [
        {
          "output_type": "execute_result",
          "data": {
            "text/plain": [
              "18"
            ]
          },
          "metadata": {},
          "execution_count": 58
        }
      ],
      "source": [
        "x -= 2\n",
        "x"
      ]
    },
    {
      "cell_type": "code",
      "execution_count": 59,
      "id": "e2b375af-2bc3-436e-845f-29a6d412f4b2",
      "metadata": {
        "colab": {
          "base_uri": "https://localhost:8080/"
        },
        "id": "e2b375af-2bc3-436e-845f-29a6d412f4b2",
        "outputId": "336061a9-5a72-482e-c543-111bec1746a5"
      },
      "outputs": [
        {
          "output_type": "execute_result",
          "data": {
            "text/plain": [
              "16"
            ]
          },
          "metadata": {},
          "execution_count": 59
        }
      ],
      "source": [
        "x -= 2\n",
        "x"
      ]
    },
    {
      "cell_type": "code",
      "execution_count": 60,
      "id": "a7601ca5-8e93-4d38-a0f7-06570c9906ad",
      "metadata": {
        "colab": {
          "base_uri": "https://localhost:8080/"
        },
        "id": "a7601ca5-8e93-4d38-a0f7-06570c9906ad",
        "outputId": "71daead1-e6cd-4262-b88f-d771731e6a50"
      },
      "outputs": [
        {
          "output_type": "execute_result",
          "data": {
            "text/plain": [
              "14"
            ]
          },
          "metadata": {},
          "execution_count": 60
        }
      ],
      "source": [
        "x -= 2\n",
        "x"
      ]
    },
    {
      "cell_type": "code",
      "execution_count": 61,
      "id": "16bfad2a-7de2-4ba2-b3d3-eec8aa86dea1",
      "metadata": {
        "colab": {
          "base_uri": "https://localhost:8080/"
        },
        "id": "16bfad2a-7de2-4ba2-b3d3-eec8aa86dea1",
        "outputId": "49511234-e284-426e-f1e9-c050cc7ee73c"
      },
      "outputs": [
        {
          "output_type": "execute_result",
          "data": {
            "text/plain": [
              "14"
            ]
          },
          "metadata": {},
          "execution_count": 61
        }
      ],
      "source": [
        "x"
      ]
    },
    {
      "cell_type": "code",
      "execution_count": 62,
      "id": "05eb6608-a744-42a5-bed0-35f9190b4413",
      "metadata": {
        "colab": {
          "base_uri": "https://localhost:8080/"
        },
        "id": "05eb6608-a744-42a5-bed0-35f9190b4413",
        "outputId": "375c4c9c-850a-44d9-e097-60b163c08538"
      },
      "outputs": [
        {
          "output_type": "execute_result",
          "data": {
            "text/plain": [
              "28"
            ]
          },
          "metadata": {},
          "execution_count": 62
        }
      ],
      "source": [
        "x *= 2\n",
        "x"
      ]
    },
    {
      "cell_type": "code",
      "execution_count": 63,
      "id": "37e1cce5-7d93-41db-8990-d9f9dfade494",
      "metadata": {
        "colab": {
          "base_uri": "https://localhost:8080/"
        },
        "id": "37e1cce5-7d93-41db-8990-d9f9dfade494",
        "outputId": "f6847682-afb6-47fc-db7e-62cfe395f1c4"
      },
      "outputs": [
        {
          "output_type": "execute_result",
          "data": {
            "text/plain": [
              "56"
            ]
          },
          "metadata": {},
          "execution_count": 63
        }
      ],
      "source": [
        "x *= 2\n",
        "x"
      ]
    },
    {
      "cell_type": "code",
      "execution_count": 64,
      "id": "b9b80606-390d-4a2a-9715-57243ebde5df",
      "metadata": {
        "id": "b9b80606-390d-4a2a-9715-57243ebde5df"
      },
      "outputs": [],
      "source": [
        "x /= 2"
      ]
    },
    {
      "cell_type": "code",
      "execution_count": 65,
      "id": "4c58be43-c1f9-4371-9712-d5f7e87394be",
      "metadata": {
        "colab": {
          "base_uri": "https://localhost:8080/"
        },
        "id": "4c58be43-c1f9-4371-9712-d5f7e87394be",
        "outputId": "bee4c6a2-924b-4851-87fa-459796fb09be"
      },
      "outputs": [
        {
          "output_type": "execute_result",
          "data": {
            "text/plain": [
              "28.0"
            ]
          },
          "metadata": {},
          "execution_count": 65
        }
      ],
      "source": [
        "x"
      ]
    },
    {
      "cell_type": "code",
      "execution_count": 66,
      "id": "a5c33c75-c14c-49ee-87d2-d052a17317a3",
      "metadata": {
        "colab": {
          "base_uri": "https://localhost:8080/"
        },
        "id": "a5c33c75-c14c-49ee-87d2-d052a17317a3",
        "outputId": "88b3842e-1527-4b71-e02e-2f308afca67c"
      },
      "outputs": [
        {
          "output_type": "execute_result",
          "data": {
            "text/plain": [
              "14.0"
            ]
          },
          "metadata": {},
          "execution_count": 66
        }
      ],
      "source": [
        "x /= 2\n",
        "x"
      ]
    },
    {
      "cell_type": "markdown",
      "id": "532cbe54-44e7-4a25-82c4-10dc5f767006",
      "metadata": {
        "id": "532cbe54-44e7-4a25-82c4-10dc5f767006"
      },
      "source": [
        "# unary operator"
      ]
    },
    {
      "cell_type": "code",
      "execution_count": 69,
      "id": "7ce7989b-31ef-4777-8af2-80beb66f3378",
      "metadata": {
        "colab": {
          "base_uri": "https://localhost:8080/"
        },
        "id": "7ce7989b-31ef-4777-8af2-80beb66f3378",
        "outputId": "ea03c83c-36b1-4eeb-ced2-97b128531388"
      },
      "outputs": [
        {
          "output_type": "execute_result",
          "data": {
            "text/plain": [
              "-7"
            ]
          },
          "metadata": {},
          "execution_count": 69
        }
      ],
      "source": [
        "n = -7\n",
        "n"
      ]
    },
    {
      "cell_type": "code",
      "execution_count": 70,
      "id": "1b0c9590-39fc-4758-a4c1-72ed0dfafb95",
      "metadata": {
        "colab": {
          "base_uri": "https://localhost:8080/"
        },
        "id": "1b0c9590-39fc-4758-a4c1-72ed0dfafb95",
        "outputId": "f26a6c32-4f5a-4897-a54c-038e2593d98e"
      },
      "outputs": [
        {
          "output_type": "execute_result",
          "data": {
            "text/plain": [
              "7"
            ]
          },
          "metadata": {},
          "execution_count": 70
        }
      ],
      "source": [
        "m = -n\n",
        "m"
      ]
    },
    {
      "cell_type": "markdown",
      "id": "469ebd0f-d62d-4cb9-ab93-c8328b48ea2a",
      "metadata": {
        "id": "469ebd0f-d62d-4cb9-ab93-c8328b48ea2a"
      },
      "source": [
        "# 11th"
      ]
    },
    {
      "cell_type": "code",
      "execution_count": 71,
      "id": "2f70319c-2d78-45b2-954e-e5d0879468d0",
      "metadata": {
        "colab": {
          "base_uri": "https://localhost:8080/",
          "height": 141
        },
        "id": "2f70319c-2d78-45b2-954e-e5d0879468d0",
        "outputId": "eb511314-36e5-4553-db70-773317dfa4c5"
      },
      "outputs": [
        {
          "output_type": "error",
          "ename": "NameError",
          "evalue": "name 'nareshit' is not defined",
          "traceback": [
            "\u001b[0;31m---------------------------------------------------------------------------\u001b[0m",
            "\u001b[0;31mNameError\u001b[0m                                 Traceback (most recent call last)",
            "\u001b[0;32m<ipython-input-71-2312a7885de0>\u001b[0m in \u001b[0;36m<cell line: 0>\u001b[0;34m()\u001b[0m\n\u001b[0;32m----> 1\u001b[0;31m \u001b[0mnareshit\u001b[0m\u001b[0;34m\u001b[0m\u001b[0;34m\u001b[0m\u001b[0m\n\u001b[0m",
            "\u001b[0;31mNameError\u001b[0m: name 'nareshit' is not defined"
          ]
        }
      ],
      "source": [
        "nareshit"
      ]
    },
    {
      "cell_type": "code",
      "source": [
        "nareshit = None\n",
        "print(nareshit)"
      ],
      "metadata": {
        "colab": {
          "base_uri": "https://localhost:8080/"
        },
        "id": "a1fTCNfFlGd6",
        "outputId": "de3fb94f-7f9f-4c54-ed07-9f775e188f20"
      },
      "id": "a1fTCNfFlGd6",
      "execution_count": 72,
      "outputs": [
        {
          "output_type": "stream",
          "name": "stdout",
          "text": [
            "None\n"
          ]
        }
      ]
    },
    {
      "cell_type": "code",
      "execution_count": 73,
      "id": "8f3b18b0-ea8e-4adb-a17f-a181ea7d56cc",
      "metadata": {
        "colab": {
          "base_uri": "https://localhost:8080/",
          "height": 35
        },
        "id": "8f3b18b0-ea8e-4adb-a17f-a181ea7d56cc",
        "outputId": "b85f027a-7010-471d-efe4-565e8d111c20"
      },
      "outputs": [
        {
          "output_type": "execute_result",
          "data": {
            "text/plain": [
              "' nareshit '"
            ],
            "application/vnd.google.colaboratory.intrinsic+json": {
              "type": "string"
            }
          },
          "metadata": {},
          "execution_count": 73
        }
      ],
      "source": [
        "\" nareshit \""
      ]
    },
    {
      "cell_type": "code",
      "execution_count": 74,
      "id": "2437bd3c-6340-488d-984d-a4269decca27",
      "metadata": {
        "colab": {
          "base_uri": "https://localhost:8080/",
          "height": 35
        },
        "id": "2437bd3c-6340-488d-984d-a4269decca27",
        "outputId": "6a86336d-6397-4acc-8f9b-2bb30aec48ff"
      },
      "outputs": [
        {
          "output_type": "execute_result",
          "data": {
            "text/plain": [
              "'nareshit'"
            ],
            "application/vnd.google.colaboratory.intrinsic+json": {
              "type": "string"
            }
          },
          "metadata": {},
          "execution_count": 74
        }
      ],
      "source": [
        "s = \"nareshit\"\n",
        "s"
      ]
    },
    {
      "cell_type": "code",
      "execution_count": 75,
      "id": "85230184-f95b-49e1-a8f2-4f711e43bda8",
      "metadata": {
        "colab": {
          "base_uri": "https://localhost:8080/"
        },
        "id": "85230184-f95b-49e1-a8f2-4f711e43bda8",
        "outputId": "542abb5a-6a6b-4af8-bd99-09ffcca6c538"
      },
      "outputs": [
        {
          "output_type": "execute_result",
          "data": {
            "text/plain": [
              "8"
            ]
          },
          "metadata": {},
          "execution_count": 75
        }
      ],
      "source": [
        "len(s)"
      ]
    },
    {
      "cell_type": "code",
      "execution_count": 76,
      "id": "869b75c5-ddb2-4b44-bbcf-0ec7082f9cbf",
      "metadata": {
        "colab": {
          "base_uri": "https://localhost:8080/",
          "height": 35
        },
        "id": "869b75c5-ddb2-4b44-bbcf-0ec7082f9cbf",
        "outputId": "df7f1cee-322c-4e02-c5f2-c6165e271525"
      },
      "outputs": [
        {
          "output_type": "execute_result",
          "data": {
            "text/plain": [
              "'nareshit'"
            ],
            "application/vnd.google.colaboratory.intrinsic+json": {
              "type": "string"
            }
          },
          "metadata": {},
          "execution_count": 76
        }
      ],
      "source": [
        "s"
      ]
    },
    {
      "cell_type": "code",
      "execution_count": 77,
      "id": "fee36ffe-e201-4cb8-b8a3-1064c196742f",
      "metadata": {
        "colab": {
          "base_uri": "https://localhost:8080/",
          "height": 35
        },
        "id": "fee36ffe-e201-4cb8-b8a3-1064c196742f",
        "outputId": "2bc1dff8-e3af-44e0-ba66-483e339335ce"
      },
      "outputs": [
        {
          "output_type": "execute_result",
          "data": {
            "text/plain": [
              "'n'"
            ],
            "application/vnd.google.colaboratory.intrinsic+json": {
              "type": "string"
            }
          },
          "metadata": {},
          "execution_count": 77
        }
      ],
      "source": [
        "s[0]"
      ]
    },
    {
      "cell_type": "code",
      "execution_count": 78,
      "id": "8d9ee23e-fad3-4bee-bc3b-f545d0d1b691",
      "metadata": {
        "colab": {
          "base_uri": "https://localhost:8080/",
          "height": 35
        },
        "id": "8d9ee23e-fad3-4bee-bc3b-f545d0d1b691",
        "outputId": "0c092c7a-b173-4cf0-f5b5-50a341e25df2"
      },
      "outputs": [
        {
          "output_type": "execute_result",
          "data": {
            "text/plain": [
              "'a'"
            ],
            "application/vnd.google.colaboratory.intrinsic+json": {
              "type": "string"
            }
          },
          "metadata": {},
          "execution_count": 78
        }
      ],
      "source": [
        "s[1]"
      ]
    },
    {
      "cell_type": "code",
      "execution_count": 79,
      "id": "1c5aebb5-3a28-46ba-bafb-48e03afbc68c",
      "metadata": {
        "colab": {
          "base_uri": "https://localhost:8080/",
          "height": 35
        },
        "id": "1c5aebb5-3a28-46ba-bafb-48e03afbc68c",
        "outputId": "be00b3a6-7273-4017-dbb5-bc04723322d5"
      },
      "outputs": [
        {
          "output_type": "execute_result",
          "data": {
            "text/plain": [
              "'h'"
            ],
            "application/vnd.google.colaboratory.intrinsic+json": {
              "type": "string"
            }
          },
          "metadata": {},
          "execution_count": 79
        }
      ],
      "source": [
        "s[5]"
      ]
    },
    {
      "cell_type": "code",
      "execution_count": 81,
      "id": "e1df0999-90b1-489e-ac77-370d50a79a78",
      "metadata": {
        "colab": {
          "base_uri": "https://localhost:8080/",
          "height": 35
        },
        "id": "e1df0999-90b1-489e-ac77-370d50a79a78",
        "outputId": "2cbd44af-a88e-4188-b865-06c10a0431a6"
      },
      "outputs": [
        {
          "output_type": "execute_result",
          "data": {
            "text/plain": [
              "'nareshit'"
            ],
            "application/vnd.google.colaboratory.intrinsic+json": {
              "type": "string"
            }
          },
          "metadata": {},
          "execution_count": 81
        }
      ],
      "source": [
        "s"
      ]
    },
    {
      "cell_type": "code",
      "execution_count": 82,
      "id": "531495a4-4acd-4bb9-ada9-eea36e1abbe4",
      "metadata": {
        "colab": {
          "base_uri": "https://localhost:8080/"
        },
        "id": "531495a4-4acd-4bb9-ada9-eea36e1abbe4",
        "outputId": "79fc8422-533e-49ba-97e1-9ebdd4f39a32"
      },
      "outputs": [
        {
          "output_type": "stream",
          "name": "stdout",
          "text": [
            "n\n",
            "a\n",
            "r\n",
            "e\n",
            "s\n",
            "h\n",
            "i\n",
            "t\n"
          ]
        }
      ],
      "source": [
        "for i in s:\n",
        "    print(i)"
      ]
    },
    {
      "cell_type": "code",
      "execution_count": 83,
      "id": "50c8fadf-162d-4121-b306-7b0bf96c0ca6",
      "metadata": {
        "colab": {
          "base_uri": "https://localhost:8080/",
          "height": 35
        },
        "id": "50c8fadf-162d-4121-b306-7b0bf96c0ca6",
        "outputId": "665f65a4-3de2-4eb5-af25-72e3af23e1d6"
      },
      "outputs": [
        {
          "output_type": "execute_result",
          "data": {
            "text/plain": [
              "'nareshit'"
            ],
            "application/vnd.google.colaboratory.intrinsic+json": {
              "type": "string"
            }
          },
          "metadata": {},
          "execution_count": 83
        }
      ],
      "source": [
        "s"
      ]
    },
    {
      "cell_type": "code",
      "execution_count": 84,
      "id": "d3f358b5-fa25-4b4a-a556-8c1d9d2ee47a",
      "metadata": {
        "colab": {
          "base_uri": "https://localhost:8080/"
        },
        "id": "d3f358b5-fa25-4b4a-a556-8c1d9d2ee47a",
        "outputId": "74be7d9e-28df-499c-da3d-5f25262722a9"
      },
      "outputs": [
        {
          "output_type": "execute_result",
          "data": {
            "text/plain": [
              "8"
            ]
          },
          "metadata": {},
          "execution_count": 84
        }
      ],
      "source": [
        "len(s)"
      ]
    },
    {
      "cell_type": "code",
      "execution_count": 85,
      "id": "7a4c2b73-72af-4223-92bc-7d70a88d4c4a",
      "metadata": {
        "colab": {
          "base_uri": "https://localhost:8080/",
          "height": 35
        },
        "id": "7a4c2b73-72af-4223-92bc-7d70a88d4c4a",
        "outputId": "21381f87-d263-451b-c3c2-0534b52f5b52"
      },
      "outputs": [
        {
          "output_type": "execute_result",
          "data": {
            "text/plain": [
              "'nares'"
            ],
            "application/vnd.google.colaboratory.intrinsic+json": {
              "type": "string"
            }
          },
          "metadata": {},
          "execution_count": 85
        }
      ],
      "source": [
        "s[0:5]"
      ]
    },
    {
      "cell_type": "code",
      "execution_count": 86,
      "id": "38cc5fa2-1c22-4e86-941a-e3abca4ae71c",
      "metadata": {
        "colab": {
          "base_uri": "https://localhost:8080/",
          "height": 35
        },
        "id": "38cc5fa2-1c22-4e86-941a-e3abca4ae71c",
        "outputId": "125a6865-6aec-49b1-be9e-d060eeba1641"
      },
      "outputs": [
        {
          "output_type": "execute_result",
          "data": {
            "text/plain": [
              "'nareshit'"
            ],
            "application/vnd.google.colaboratory.intrinsic+json": {
              "type": "string"
            }
          },
          "metadata": {},
          "execution_count": 86
        }
      ],
      "source": [
        "s"
      ]
    },
    {
      "cell_type": "code",
      "execution_count": 87,
      "id": "97e452b9-a3c3-49a0-8d42-61df912e4f6f",
      "metadata": {
        "colab": {
          "base_uri": "https://localhost:8080/",
          "height": 35
        },
        "id": "97e452b9-a3c3-49a0-8d42-61df912e4f6f",
        "outputId": "3012c242-541c-47c1-a70b-72d5524b8b99"
      },
      "outputs": [
        {
          "output_type": "execute_result",
          "data": {
            "text/plain": [
              "'tihseran'"
            ],
            "application/vnd.google.colaboratory.intrinsic+json": {
              "type": "string"
            }
          },
          "metadata": {},
          "execution_count": 87
        }
      ],
      "source": [
        "s[::-1]"
      ]
    },
    {
      "cell_type": "code",
      "execution_count": 87,
      "id": "477bdb0e-233b-4d06-a053-3bcea810c779",
      "metadata": {
        "id": "477bdb0e-233b-4d06-a053-3bcea810c779"
      },
      "outputs": [],
      "source": []
    }
  ],
  "metadata": {
    "kernelspec": {
      "display_name": "Python 3 (ipykernel)",
      "language": "python",
      "name": "python3"
    },
    "language_info": {
      "codemirror_mode": {
        "name": "ipython",
        "version": 3
      },
      "file_extension": ".py",
      "mimetype": "text/x-python",
      "name": "python",
      "nbconvert_exporter": "python",
      "pygments_lexer": "ipython3",
      "version": "3.11.7"
    },
    "colab": {
      "provenance": [],
      "include_colab_link": true
    }
  },
  "nbformat": 4,
  "nbformat_minor": 5
}