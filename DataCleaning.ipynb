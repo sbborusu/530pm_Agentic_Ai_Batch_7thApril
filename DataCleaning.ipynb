{
  "nbformat": 4,
  "nbformat_minor": 0,
  "metadata": {
    "colab": {
      "provenance": [],
      "authorship_tag": "ABX9TyPSRHTJxJNEs6vm9Tzj4ifI",
      "include_colab_link": true
    },
    "kernelspec": {
      "name": "python3",
      "display_name": "Python 3"
    },
    "language_info": {
      "name": "python"
    }
  },
  "cells": [
    {
      "cell_type": "markdown",
      "metadata": {
        "id": "view-in-github",
        "colab_type": "text"
      },
      "source": [
        "<a href=\"https://colab.research.google.com/github/sbborusu/530pm_Agentic_Ai_Batch_7thApril/blob/main/DataCleaning.ipynb\" target=\"_parent\"><img src=\"https://colab.research.google.com/assets/colab-badge.svg\" alt=\"Open In Colab\"/></a>"
      ]
    },
    {
      "cell_type": "code",
      "execution_count": 4,
      "metadata": {
        "id": "KEf5W_Pa57mP"
      },
      "outputs": [],
      "source": [
        "import numpy as np\n",
        "import pandas as pd\n",
        "import matplotlib.pyplot as plt"
      ]
    },
    {
      "cell_type": "code",
      "source": [
        "df = pd.read_csv(r'/content/Churn_Modelling.csv')"
      ],
      "metadata": {
        "id": "bexLLI1M6DNN"
      },
      "execution_count": 5,
      "outputs": []
    },
    {
      "cell_type": "code",
      "source": [
        "df.info()\n",
        "#print(type(df))\n",
        "#print(type(df.info()))"
      ],
      "metadata": {
        "colab": {
          "base_uri": "https://localhost:8080/"
        },
        "id": "f_FhutsR71Gq",
        "outputId": "9d988d64-fe31-40bd-eb75-86ca12c2e0cf"
      },
      "execution_count": 19,
      "outputs": [
        {
          "output_type": "stream",
          "name": "stdout",
          "text": [
            "<class 'pandas.core.frame.DataFrame'>\n",
            "RangeIndex: 10000 entries, 0 to 9999\n",
            "Data columns (total 14 columns):\n",
            " #   Column           Non-Null Count  Dtype  \n",
            "---  ------           --------------  -----  \n",
            " 0   RowNumber        10000 non-null  int64  \n",
            " 1   CustomerId       10000 non-null  int64  \n",
            " 2   Surname          10000 non-null  object \n",
            " 3   CreditScore      10000 non-null  int64  \n",
            " 4   Geography        10000 non-null  object \n",
            " 5   Gender           9963 non-null   object \n",
            " 6   Age              9969 non-null   float64\n",
            " 7   Tenure           10000 non-null  int64  \n",
            " 8   Balance          10000 non-null  float64\n",
            " 9   NumOfProducts    10000 non-null  int64  \n",
            " 10  HasCrCard        10000 non-null  int64  \n",
            " 11  IsActiveMember   10000 non-null  int64  \n",
            " 12  EstimatedSalary  10000 non-null  float64\n",
            " 13  Exited           10000 non-null  int64  \n",
            "dtypes: float64(3), int64(8), object(3)\n",
            "memory usage: 1.1+ MB\n"
          ]
        }
      ]
    },
    {
      "cell_type": "code",
      "source": [
        "print(df.isnull())\n",
        "#print(type(df.isnull()))\n",
        "print(df.isnull().sum())\n",
        "#print(type(df.isnull().sum()))"
      ],
      "metadata": {
        "colab": {
          "base_uri": "https://localhost:8080/"
        },
        "id": "vSZLAvnR7585",
        "outputId": "5b441a89-3f3c-4249-a5dd-347be36efd49"
      },
      "execution_count": 20,
      "outputs": [
        {
          "output_type": "stream",
          "name": "stdout",
          "text": [
            "      RowNumber  CustomerId  Surname  CreditScore  Geography  Gender    Age  \\\n",
            "0         False       False    False        False      False   False  False   \n",
            "1         False       False    False        False      False   False  False   \n",
            "2         False       False    False        False      False   False  False   \n",
            "3         False       False    False        False      False   False  False   \n",
            "4         False       False    False        False      False   False  False   \n",
            "...         ...         ...      ...          ...        ...     ...    ...   \n",
            "9995      False       False    False        False      False   False  False   \n",
            "9996      False       False    False        False      False   False  False   \n",
            "9997      False       False    False        False      False   False  False   \n",
            "9998      False       False    False        False      False   False  False   \n",
            "9999      False       False    False        False      False   False  False   \n",
            "\n",
            "      Tenure  Balance  NumOfProducts  HasCrCard  IsActiveMember  \\\n",
            "0      False    False          False      False           False   \n",
            "1      False    False          False      False           False   \n",
            "2      False    False          False      False           False   \n",
            "3      False    False          False      False           False   \n",
            "4      False    False          False      False           False   \n",
            "...      ...      ...            ...        ...             ...   \n",
            "9995   False    False          False      False           False   \n",
            "9996   False    False          False      False           False   \n",
            "9997   False    False          False      False           False   \n",
            "9998   False    False          False      False           False   \n",
            "9999   False    False          False      False           False   \n",
            "\n",
            "      EstimatedSalary  Exited  \n",
            "0               False   False  \n",
            "1               False   False  \n",
            "2               False   False  \n",
            "3               False   False  \n",
            "4               False   False  \n",
            "...               ...     ...  \n",
            "9995            False   False  \n",
            "9996            False   False  \n",
            "9997            False   False  \n",
            "9998            False   False  \n",
            "9999            False   False  \n",
            "\n",
            "[10000 rows x 14 columns]\n",
            "RowNumber           0\n",
            "CustomerId          0\n",
            "Surname             0\n",
            "CreditScore         0\n",
            "Geography           0\n",
            "Gender             37\n",
            "Age                31\n",
            "Tenure              0\n",
            "Balance             0\n",
            "NumOfProducts       0\n",
            "HasCrCard           0\n",
            "IsActiveMember      0\n",
            "EstimatedSalary     0\n",
            "Exited              0\n",
            "dtype: int64\n"
          ]
        }
      ]
    },
    {
      "cell_type": "markdown",
      "source": [
        "# Handling missing values"
      ],
      "metadata": {
        "id": "hIrrPkbi_Wlo"
      }
    },
    {
      "cell_type": "markdown",
      "source": [
        "1. Delete the columns with missing values"
      ],
      "metadata": {
        "id": "Ei3HE3iP_1R3"
      }
    },
    {
      "cell_type": "code",
      "source": [
        "updated_df = df.dropna(axis=1)\n",
        "print(updated_df.info())"
      ],
      "metadata": {
        "colab": {
          "base_uri": "https://localhost:8080/"
        },
        "id": "g6zAz91Z9jHQ",
        "outputId": "073224a4-451f-485f-bace-16890a7d6424"
      },
      "execution_count": 22,
      "outputs": [
        {
          "output_type": "stream",
          "name": "stdout",
          "text": [
            "<class 'pandas.core.frame.DataFrame'>\n",
            "RangeIndex: 10000 entries, 0 to 9999\n",
            "Data columns (total 12 columns):\n",
            " #   Column           Non-Null Count  Dtype  \n",
            "---  ------           --------------  -----  \n",
            " 0   RowNumber        10000 non-null  int64  \n",
            " 1   CustomerId       10000 non-null  int64  \n",
            " 2   Surname          10000 non-null  object \n",
            " 3   CreditScore      10000 non-null  int64  \n",
            " 4   Geography        10000 non-null  object \n",
            " 5   Tenure           10000 non-null  int64  \n",
            " 6   Balance          10000 non-null  float64\n",
            " 7   NumOfProducts    10000 non-null  int64  \n",
            " 8   HasCrCard        10000 non-null  int64  \n",
            " 9   IsActiveMember   10000 non-null  int64  \n",
            " 10  EstimatedSalary  10000 non-null  float64\n",
            " 11  Exited           10000 non-null  int64  \n",
            "dtypes: float64(2), int64(8), object(2)\n",
            "memory usage: 937.6+ KB\n",
            "None\n"
          ]
        }
      ]
    },
    {
      "cell_type": "markdown",
      "source": [
        "2. Delete the rows with missing values"
      ],
      "metadata": {
        "id": "UtH_5HCrA_Zb"
      }
    },
    {
      "cell_type": "code",
      "source": [
        "updated_df = df.dropna(axis=0)\n",
        "print(updated_df.info())"
      ],
      "metadata": {
        "colab": {
          "base_uri": "https://localhost:8080/"
        },
        "id": "ygaoxl5vAG4P",
        "outputId": "52694e1d-2235-47be-c3a5-cd06679c73d6"
      },
      "execution_count": 23,
      "outputs": [
        {
          "output_type": "stream",
          "name": "stdout",
          "text": [
            "<class 'pandas.core.frame.DataFrame'>\n",
            "Index: 9936 entries, 0 to 9999\n",
            "Data columns (total 14 columns):\n",
            " #   Column           Non-Null Count  Dtype  \n",
            "---  ------           --------------  -----  \n",
            " 0   RowNumber        9936 non-null   int64  \n",
            " 1   CustomerId       9936 non-null   int64  \n",
            " 2   Surname          9936 non-null   object \n",
            " 3   CreditScore      9936 non-null   int64  \n",
            " 4   Geography        9936 non-null   object \n",
            " 5   Gender           9936 non-null   object \n",
            " 6   Age              9936 non-null   float64\n",
            " 7   Tenure           9936 non-null   int64  \n",
            " 8   Balance          9936 non-null   float64\n",
            " 9   NumOfProducts    9936 non-null   int64  \n",
            " 10  HasCrCard        9936 non-null   int64  \n",
            " 11  IsActiveMember   9936 non-null   int64  \n",
            " 12  EstimatedSalary  9936 non-null   float64\n",
            " 13  Exited           9936 non-null   int64  \n",
            "dtypes: float64(3), int64(8), object(3)\n",
            "memory usage: 1.1+ MB\n",
            "None\n"
          ]
        }
      ]
    },
    {
      "cell_type": "markdown",
      "source": [
        "3. Filling the missing values - Imputation"
      ],
      "metadata": {
        "id": "7hFTvo6kBXu6"
      }
    },
    {
      "cell_type": "code",
      "source": [],
      "metadata": {
        "id": "s2dUYsaQBPkK"
      },
      "execution_count": null,
      "outputs": []
    }
  ]
}