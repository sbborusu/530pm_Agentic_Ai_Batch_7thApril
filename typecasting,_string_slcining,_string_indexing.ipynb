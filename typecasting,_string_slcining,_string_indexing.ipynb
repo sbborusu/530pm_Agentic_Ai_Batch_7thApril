{
  "cells": [
    {
      "cell_type": "markdown",
      "metadata": {
        "id": "view-in-github",
        "colab_type": "text"
      },
      "source": [
        "<a href=\"https://colab.research.google.com/github/sbborusu/530pm_Agentic_Ai_Batch_7thApril/blob/main/typecasting%2C_string_slcining%2C_string_indexing.ipynb\" target=\"_parent\"><img src=\"https://colab.research.google.com/assets/colab-badge.svg\" alt=\"Open In Colab\"/></a>"
      ]
    },
    {
      "cell_type": "markdown",
      "metadata": {
        "id": "9Cfdl4y5-b9A"
      },
      "source": [
        "## PYTHON PROGRAMMING LANGUAGE"
      ]
    },
    {
      "cell_type": "markdown",
      "metadata": {
        "id": "pQOpntN7-b9F"
      },
      "source": [
        "Python Became the Best Programming Language & fastest programming language.\n",
        "Python is used in Machine Learning, Data Science, Big Data, Web Development, Scripting, llm , generati ai everywhere\n",
        "we will learn pyton from start to end || basic to expert.\n",
        "if you are not done programm then that is totally fine.\n",
        "I will explain from starting from scratch.\n",
        "python software - pycharm || vs code || jupyter || spyder"
      ]
    },
    {
      "cell_type": "markdown",
      "metadata": {
        "id": "eOhHrY9c-b9G"
      },
      "source": [
        "## PYTHON INTERPRETTER\n",
        "## IDE (INTEGRATED DEVELOPMENT ENVIRONMENT)"
      ]
    },
    {
      "cell_type": "markdown",
      "metadata": {
        "id": "Wq3yRG2m-b9G"
      },
      "source": [
        "IDE (INTEGRATED DEVELOPMENT ENVIRONMENT) =>\n",
        "- using IDE - one can write code, run the code, debug the code\n",
        "- IDE takes care of interpreting the Python code, running python scripts, building executables, and debugging the applications.\n",
        "- An IDE enables programmers to combine the different aspects of writing a computer program.\n",
        "- if you wnated to be python developer only then you need to install (IDE -- PYCHARM)"
      ]
    },
    {
      "cell_type": "markdown",
      "metadata": {
        "id": "nKasswHQ-b9G"
      },
      "source": [
        "PYTHON INTERPRETER -->\n",
        "What is Python interpreter?\n",
        "A python interpreter is a computer program that converts each high-level program statement into machine code. An interpreter translates the command that you write out into code that the computer can understand\n",
        "\n",
        "PYTHON INTERPRETER EXAMPLE -->\n",
        "You write your Python code in a text file with a name like hello.py . How does that code Run? There is program installed on your computer named \"python3\" or \"python\", and its job is looking at and running your Python code. This type of program is called an \"interpreter\"."
      ]
    },
    {
      "cell_type": "markdown",
      "metadata": {
        "id": "iqXzohak-b9H"
      },
      "source": [
        "## PYTHON INTERPRETER & COMPILER"
      ]
    },
    {
      "cell_type": "markdown",
      "metadata": {
        "id": "9X0ll_WK-b9H"
      },
      "source": [
        "Both compilers and interpreters are used to convert a program written in a high-level language into machine code understood by computers.\n",
        "Interpreter -->\n",
        "- Translates program one statement at a time\n",
        "- Interpreter run every line item\n",
        "- Execut the single, partial line of code\n",
        "- Easy for programming\n",
        "\n",
        "Compiler -->\n",
        "- Scans the entire program and translates it as a whole into machine code.\n",
        "- No execution if an error occurs\n",
        "- you can not fix the bug (debug) line by line"
      ]
    },
    {
      "cell_type": "markdown",
      "metadata": {
        "id": "mB0Bo6b7-b9I"
      },
      "source": [
        "Is Python an interpreter or compiler?\n",
        "Python is an interpreted language, which means the source code of a Python program is converted into bytecode that is then executed by the Python virtual machine. Python is different from major compiled languages, such as C and C + +, as Python code is not required to be built and linked like code for these languages."
      ]
    },
    {
      "cell_type": "markdown",
      "metadata": {
        "editable": true,
        "tags": [],
        "id": "pEP-HnKF-b9I"
      },
      "source": [
        "How to create python environment variable\n",
        "1- cmd - python ( if it not works)\n",
        "2- find the location where the python is installed -- >\n",
        "         C:\\Users\\A3MAX SOFTWARE TECH\\AppData\\Local\\Programs\\Python\\Python39\\Scripts\n",
        "3- system -- env - environment variable screen will pop up\n",
        "4- select on system variable - click on path - create New\n",
        "5- C:\\Users\\kdata\\AppData\\Local\\Programs\\Python\\Python311\n",
        "6- env - sys variable - path - new - C:\\Users\\kdata\\AppData\\Local\\Programs\\Python\\Python311\\Scripts\n",
        "7- cmd - type python -version\n",
        "8- successfully python install in cmd      \n"
      ]
    },
    {
      "cell_type": "markdown",
      "metadata": {
        "id": "125EWCMf-b9I"
      },
      "source": [
        "## ANACONDA"
      ]
    },
    {
      "cell_type": "markdown",
      "metadata": {
        "id": "C47Wzaa6-b9J"
      },
      "source": [
        "Anaconda is a distribution of the Python and R programming languages for scientific computing (data science, machine learning applications, large-scale data processing, predictive analytics, etc.), that aims to simplify package management and deployment."
      ]
    },
    {
      "cell_type": "code",
      "execution_count": 1,
      "metadata": {
        "colab": {
          "base_uri": "https://localhost:8080/"
        },
        "id": "DAv4IiNr-b9J",
        "outputId": "b2e3920a-7c50-4870-8244-f9b737e734e2"
      },
      "outputs": [
        {
          "output_type": "execute_result",
          "data": {
            "text/plain": [
              "2"
            ]
          },
          "metadata": {},
          "execution_count": 1
        }
      ],
      "source": [
        "1 + 1 # ADDITION"
      ]
    },
    {
      "cell_type": "code",
      "execution_count": 2,
      "metadata": {
        "colab": {
          "base_uri": "https://localhost:8080/"
        },
        "id": "-8aEqVKJ-b9K",
        "outputId": "4fa43997-3c1c-4be1-ffcc-db995b5fe606"
      },
      "outputs": [
        {
          "output_type": "execute_result",
          "data": {
            "text/plain": [
              "1"
            ]
          },
          "metadata": {},
          "execution_count": 2
        }
      ],
      "source": [
        "2-1"
      ]
    },
    {
      "cell_type": "code",
      "execution_count": 3,
      "metadata": {
        "colab": {
          "base_uri": "https://localhost:8080/"
        },
        "id": "6UzmrGWG-b9L",
        "outputId": "e79525b1-1c24-4c29-e3b2-9b69461265f5"
      },
      "outputs": [
        {
          "output_type": "execute_result",
          "data": {
            "text/plain": [
              "12"
            ]
          },
          "metadata": {},
          "execution_count": 3
        }
      ],
      "source": [
        "3*4"
      ]
    },
    {
      "cell_type": "code",
      "execution_count": 4,
      "metadata": {
        "colab": {
          "base_uri": "https://localhost:8080/"
        },
        "id": "W_Th8t9P-b9L",
        "outputId": "b4240e09-c38b-473d-d21d-0ad66365103d"
      },
      "outputs": [
        {
          "output_type": "execute_result",
          "data": {
            "text/plain": [
              "2.0"
            ]
          },
          "metadata": {},
          "execution_count": 4
        }
      ],
      "source": [
        "8 / 4 # Division"
      ]
    },
    {
      "cell_type": "code",
      "execution_count": null,
      "metadata": {
        "id": "2mXjqcv1-b9L"
      },
      "outputs": [],
      "source": [
        "8 / 5 #float division"
      ]
    },
    {
      "cell_type": "code",
      "execution_count": null,
      "metadata": {
        "id": "bQXPatEl-b9L"
      },
      "outputs": [],
      "source": [
        "8/4 ## float division"
      ]
    },
    {
      "cell_type": "code",
      "execution_count": 5,
      "metadata": {
        "colab": {
          "base_uri": "https://localhost:8080/"
        },
        "id": "qXOmewUq-b9L",
        "outputId": "c13eba92-71a9-4e85-c765-b133d8a929d7"
      },
      "outputs": [
        {
          "output_type": "execute_result",
          "data": {
            "text/plain": [
              "2"
            ]
          },
          "metadata": {},
          "execution_count": 5
        }
      ],
      "source": [
        "8 // 4 #integer division"
      ]
    },
    {
      "cell_type": "code",
      "execution_count": 6,
      "metadata": {
        "colab": {
          "base_uri": "https://localhost:8080/"
        },
        "id": "Vfmo3zRN-b9L",
        "outputId": "1fcd6b64-a493-4b53-db36-744bbb74460e"
      },
      "outputs": [
        {
          "output_type": "execute_result",
          "data": {
            "text/plain": [
              "10"
            ]
          },
          "metadata": {},
          "execution_count": 6
        }
      ],
      "source": [
        "8 + 9 - 7"
      ]
    },
    {
      "cell_type": "code",
      "execution_count": 7,
      "metadata": {
        "colab": {
          "base_uri": "https://localhost:8080/",
          "height": 106
        },
        "id": "Uwe0rsN--b9M",
        "outputId": "9061ea8e-8e03-48da-daaf-c027894d8406"
      },
      "outputs": [
        {
          "output_type": "error",
          "ename": "SyntaxError",
          "evalue": "invalid syntax (<ipython-input-7-57acc2524ef8>, line 1)",
          "traceback": [
            "\u001b[0;36m  File \u001b[0;32m\"<ipython-input-7-57acc2524ef8>\"\u001b[0;36m, line \u001b[0;32m1\u001b[0m\n\u001b[0;31m    8 + 8 - #syntax error:\u001b[0m\n\u001b[0m            ^\u001b[0m\n\u001b[0;31mSyntaxError\u001b[0m\u001b[0;31m:\u001b[0m invalid syntax\n"
          ]
        }
      ],
      "source": [
        "8 + 8 - #syntax error:"
      ]
    },
    {
      "cell_type": "code",
      "execution_count": 8,
      "metadata": {
        "colab": {
          "base_uri": "https://localhost:8080/"
        },
        "id": "cO5QEYOY-b9M",
        "outputId": "554d71be-da0b-4a5d-81ed-405c6408437c"
      },
      "outputs": [
        {
          "output_type": "execute_result",
          "data": {
            "text/plain": [
              "30"
            ]
          },
          "metadata": {},
          "execution_count": 8
        }
      ],
      "source": [
        "5 + 5 * 5"
      ]
    },
    {
      "cell_type": "code",
      "execution_count": 9,
      "metadata": {
        "colab": {
          "base_uri": "https://localhost:8080/"
        },
        "id": "ssQIbJ6P-b9M",
        "outputId": "e8a029c6-c838-4afc-fd67-33856bbfb351"
      },
      "outputs": [
        {
          "output_type": "execute_result",
          "data": {
            "text/plain": [
              "50"
            ]
          },
          "metadata": {},
          "execution_count": 9
        }
      ],
      "source": [
        "(5 + 5) * 5 # BODMAS (Bracket || Oders || Divide || Multiply || Add || Substact)"
      ]
    },
    {
      "cell_type": "code",
      "execution_count": 10,
      "metadata": {
        "colab": {
          "base_uri": "https://localhost:8080/"
        },
        "id": "ihXdJRqm-b9M",
        "outputId": "dfbc3f5d-02bd-4cb4-ab82-b4c6c448bdde"
      },
      "outputs": [
        {
          "output_type": "execute_result",
          "data": {
            "text/plain": [
              "32"
            ]
          },
          "metadata": {},
          "execution_count": 10
        }
      ],
      "source": [
        "2 * 2 * 2 * 2 * 2 # exponentaion"
      ]
    },
    {
      "cell_type": "code",
      "execution_count": 11,
      "metadata": {
        "colab": {
          "base_uri": "https://localhost:8080/"
        },
        "id": "kPVq_qYi-b9M",
        "outputId": "b2fd8f90-6ab3-4cac-a7db-387a8686bdac"
      },
      "outputs": [
        {
          "output_type": "execute_result",
          "data": {
            "text/plain": [
              "10"
            ]
          },
          "metadata": {},
          "execution_count": 11
        }
      ],
      "source": [
        "2 * 5"
      ]
    },
    {
      "cell_type": "code",
      "execution_count": 12,
      "metadata": {
        "colab": {
          "base_uri": "https://localhost:8080/"
        },
        "id": "K-uG2tYo-b9M",
        "outputId": "6b2be599-f1bc-4ae2-ec1d-84287c946282"
      },
      "outputs": [
        {
          "output_type": "execute_result",
          "data": {
            "text/plain": [
              "32"
            ]
          },
          "metadata": {},
          "execution_count": 12
        }
      ],
      "source": [
        "2 ** 5"
      ]
    },
    {
      "cell_type": "code",
      "execution_count": null,
      "metadata": {
        "id": "1qfCecjc-b9M"
      },
      "outputs": [],
      "source": [
        "15 / 3"
      ]
    },
    {
      "cell_type": "code",
      "execution_count": 13,
      "metadata": {
        "colab": {
          "base_uri": "https://localhost:8080/"
        },
        "id": "4tNqS-4F-b9M",
        "outputId": "90667213-4777-4a8f-e2dd-c419f1fa513f"
      },
      "outputs": [
        {
          "output_type": "execute_result",
          "data": {
            "text/plain": [
              "3"
            ]
          },
          "metadata": {},
          "execution_count": 13
        }
      ],
      "source": [
        "10 // 3"
      ]
    },
    {
      "cell_type": "code",
      "execution_count": 14,
      "metadata": {
        "colab": {
          "base_uri": "https://localhost:8080/"
        },
        "id": "C-99UPW_-b9M",
        "outputId": "af0ac4b4-1251-4696-fe0c-e0dfb0d04cb0"
      },
      "outputs": [
        {
          "output_type": "execute_result",
          "data": {
            "text/plain": [
              "1"
            ]
          },
          "metadata": {},
          "execution_count": 14
        }
      ],
      "source": [
        "15 % 2 # Modulus"
      ]
    },
    {
      "cell_type": "code",
      "execution_count": 15,
      "metadata": {
        "colab": {
          "base_uri": "https://localhost:8080/"
        },
        "id": "OdbgybNQ-b9N",
        "outputId": "a28f2881-7f74-47f8-f4d0-32afd14a8074"
      },
      "outputs": [
        {
          "output_type": "execute_result",
          "data": {
            "text/plain": [
              "0"
            ]
          },
          "metadata": {},
          "execution_count": 15
        }
      ],
      "source": [
        "10 % 2"
      ]
    },
    {
      "cell_type": "code",
      "execution_count": 16,
      "metadata": {
        "colab": {
          "base_uri": "https://localhost:8080/",
          "height": 106
        },
        "id": "Akk6Og7G-b9N",
        "outputId": "9b6ee444-5067-46d3-c015-2b37e9669cd3"
      },
      "outputs": [
        {
          "output_type": "error",
          "ename": "SyntaxError",
          "evalue": "invalid syntax (<ipython-input-16-2011a7210a94>, line 1)",
          "traceback": [
            "\u001b[0;36m  File \u001b[0;32m\"<ipython-input-16-2011a7210a94>\"\u001b[0;36m, line \u001b[0;32m1\u001b[0m\n\u001b[0;31m    15 %% 2\u001b[0m\n\u001b[0m        ^\u001b[0m\n\u001b[0;31mSyntaxError\u001b[0m\u001b[0;31m:\u001b[0m invalid syntax\n"
          ]
        }
      ],
      "source": [
        "15 %% 2"
      ]
    },
    {
      "cell_type": "code",
      "execution_count": 17,
      "metadata": {
        "colab": {
          "base_uri": "https://localhost:8080/",
          "height": 141
        },
        "id": "FVuY1OlV-b9N",
        "outputId": "206a1c68-d9a0-4116-bdcd-761c2c60890f"
      },
      "outputs": [
        {
          "output_type": "error",
          "ename": "TypeError",
          "evalue": "unsupported operand type(s) for +: 'int' and 'str'",
          "traceback": [
            "\u001b[0;31m---------------------------------------------------------------------------\u001b[0m",
            "\u001b[0;31mTypeError\u001b[0m                                 Traceback (most recent call last)",
            "\u001b[0;32m<ipython-input-17-a10bf6286f7c>\u001b[0m in \u001b[0;36m<cell line: 0>\u001b[0;34m()\u001b[0m\n\u001b[0;32m----> 1\u001b[0;31m \u001b[0;36m3\u001b[0m \u001b[0;34m+\u001b[0m \u001b[0;34m'nit'\u001b[0m\u001b[0;34m\u001b[0m\u001b[0;34m\u001b[0m\u001b[0m\n\u001b[0m",
            "\u001b[0;31mTypeError\u001b[0m: unsupported operand type(s) for +: 'int' and 'str'"
          ]
        }
      ],
      "source": [
        "3 + 'nit'"
      ]
    },
    {
      "cell_type": "code",
      "execution_count": 18,
      "metadata": {
        "colab": {
          "base_uri": "https://localhost:8080/"
        },
        "id": "ZiS3GhiO-b9N",
        "outputId": "5f15105c-f609-4cb2-d2f8-420eda9bce33"
      },
      "outputs": [
        {
          "output_type": "stream",
          "name": "stdout",
          "text": [
            "15\n",
            "7.8\n",
            "nit\n",
            "(8+9j)\n",
            "True\n"
          ]
        }
      ],
      "source": [
        "a,b,c,d,e = 15, 7.8, 'nit', 8+9j, True\n",
        "\n",
        "print(a)\n",
        "print(b)\n",
        "print(c)\n",
        "print(d)\n",
        "print(e)"
      ]
    },
    {
      "cell_type": "code",
      "execution_count": 19,
      "metadata": {
        "colab": {
          "base_uri": "https://localhost:8080/"
        },
        "id": "3xMI704W-b9N",
        "outputId": "ec7a8e33-5151-4031-f270-be994a934a54"
      },
      "outputs": [
        {
          "output_type": "stream",
          "name": "stdout",
          "text": [
            "<class 'int'>\n",
            "<class 'float'>\n",
            "<class 'str'>\n",
            "<class 'complex'>\n",
            "<class 'bool'>\n"
          ]
        }
      ],
      "source": [
        "print(type(a))\n",
        "print(type(b))\n",
        "print(type(c))\n",
        "print(type(d))\n",
        "print(type(e))"
      ]
    },
    {
      "cell_type": "code",
      "execution_count": null,
      "metadata": {
        "id": "9T86_RtQ-b9N"
      },
      "outputs": [],
      "source": [
        "type(c)"
      ]
    },
    {
      "cell_type": "markdown",
      "metadata": {
        "id": "o8ypZYk0-b9N"
      },
      "source": [
        "- So far we code with numbers(integer)\n",
        "- Lets work with string"
      ]
    },
    {
      "cell_type": "code",
      "execution_count": 20,
      "metadata": {
        "colab": {
          "base_uri": "https://localhost:8080/",
          "height": 35
        },
        "id": "nekbEbd0-b9N",
        "outputId": "186f9fe9-f93d-4a65-f820-bdf8c00203e1"
      },
      "outputs": [
        {
          "output_type": "execute_result",
          "data": {
            "text/plain": [
              "'Naresh IT'"
            ],
            "application/vnd.google.colaboratory.intrinsic+json": {
              "type": "string"
            }
          },
          "metadata": {},
          "execution_count": 20
        }
      ],
      "source": [
        "'Naresh IT'"
      ]
    },
    {
      "cell_type": "markdown",
      "metadata": {
        "id": "fGj8ZTwf-b9N"
      },
      "source": [
        "python inbuild function - print & you need to pass the parameter in print()\n",
        "\n",
        "A function is a block of code which only runs when it is called. You can pass data, known as parameters, into a function. A function can return data as a result."
      ]
    },
    {
      "cell_type": "code",
      "execution_count": 21,
      "metadata": {
        "colab": {
          "base_uri": "https://localhost:8080/"
        },
        "id": "Bg4rt3cB-b9O",
        "outputId": "72e1fedb-0b43-4450-d9a2-80b938610087"
      },
      "outputs": [
        {
          "output_type": "stream",
          "name": "stdout",
          "text": [
            "Max it\n"
          ]
        }
      ],
      "source": [
        "print('Max it')"
      ]
    },
    {
      "cell_type": "code",
      "execution_count": 22,
      "metadata": {
        "colab": {
          "base_uri": "https://localhost:8080/",
          "height": 35
        },
        "id": "y1TcgQeb-b9O",
        "outputId": "bc29641c-3180-4a3d-8074-d33aa7d64980"
      },
      "outputs": [
        {
          "output_type": "execute_result",
          "data": {
            "text/plain": [
              "'max it technology'"
            ],
            "application/vnd.google.colaboratory.intrinsic+json": {
              "type": "string"
            }
          },
          "metadata": {},
          "execution_count": 22
        }
      ],
      "source": [
        "\"max it technology\""
      ]
    },
    {
      "cell_type": "code",
      "execution_count": 23,
      "metadata": {
        "colab": {
          "base_uri": "https://localhost:8080/",
          "height": 35
        },
        "id": "SgYczrmi-b9T",
        "outputId": "9c6c8e76-3962-4d8e-fd3c-32a04fd6fde9"
      },
      "outputs": [
        {
          "output_type": "execute_result",
          "data": {
            "text/plain": [
              "'max it technology'"
            ],
            "application/vnd.google.colaboratory.intrinsic+json": {
              "type": "string"
            }
          },
          "metadata": {},
          "execution_count": 23
        }
      ],
      "source": [
        "s1 = 'max it technology'\n",
        "s1"
      ]
    },
    {
      "cell_type": "code",
      "execution_count": null,
      "metadata": {
        "id": "SE2rpGGe-b9T"
      },
      "outputs": [],
      "source": [
        "a = 2\n",
        "b = 3\n",
        "a + b"
      ]
    },
    {
      "cell_type": "code",
      "execution_count": 24,
      "metadata": {
        "colab": {
          "base_uri": "https://localhost:8080/"
        },
        "id": "H9HmarHi-b9T",
        "outputId": "dc959c56-05db-4848-f24e-9537e3c803ad"
      },
      "outputs": [
        {
          "output_type": "execute_result",
          "data": {
            "text/plain": [
              "22.8"
            ]
          },
          "metadata": {},
          "execution_count": 24
        }
      ],
      "source": [
        "c = a + b\n",
        "c"
      ]
    },
    {
      "cell_type": "code",
      "execution_count": 25,
      "metadata": {
        "colab": {
          "base_uri": "https://localhost:8080/"
        },
        "id": "L2y8-IM5-b9T",
        "outputId": "8f092e03-834e-4470-f99d-1e0996919055"
      },
      "outputs": [
        {
          "output_type": "execute_result",
          "data": {
            "text/plain": [
              "str"
            ]
          },
          "metadata": {},
          "execution_count": 25
        }
      ],
      "source": [
        "a = 3\n",
        "b = 'hi'\n",
        "type(b)"
      ]
    },
    {
      "cell_type": "code",
      "execution_count": 26,
      "metadata": {
        "colab": {
          "base_uri": "https://localhost:8080/",
          "height": 106
        },
        "id": "dFxPemiA-b9U",
        "outputId": "1de7e5e7-fd7f-4d02-d72a-a223b32a19d1"
      },
      "outputs": [
        {
          "output_type": "error",
          "ename": "SyntaxError",
          "evalue": "unterminated string literal (detected at line 1) (<ipython-input-26-1c4926d53d9a>, line 1)",
          "traceback": [
            "\u001b[0;36m  File \u001b[0;32m\"<ipython-input-26-1c4926d53d9a>\"\u001b[0;36m, line \u001b[0;32m1\u001b[0m\n\u001b[0;31m    print('max it's\"Technology\"') # \\ has some special meaning to ignore the error\u001b[0m\n\u001b[0m                               ^\u001b[0m\n\u001b[0;31mSyntaxError\u001b[0m\u001b[0;31m:\u001b[0m unterminated string literal (detected at line 1)\n"
          ]
        }
      ],
      "source": [
        "print('max it's\"Technology\"') # \\ has some special meaning to ignore the error"
      ]
    },
    {
      "cell_type": "code",
      "execution_count": 27,
      "metadata": {
        "colab": {
          "base_uri": "https://localhost:8080/"
        },
        "id": "kjXzX6Iv-b9U",
        "outputId": "99d5ca3d-badd-4e31-ed30-7b5ba9663589"
      },
      "outputs": [
        {
          "output_type": "stream",
          "name": "stdout",
          "text": [
            "max it's\"Technology\"\n"
          ]
        }
      ],
      "source": [
        "print('max it\\'s\"Technology\"') #\\ has some special meaning to ignore the error"
      ]
    },
    {
      "cell_type": "code",
      "execution_count": 28,
      "metadata": {
        "colab": {
          "base_uri": "https://localhost:8080/"
        },
        "id": "xgGBi_iD-b9U",
        "outputId": "200b2c31-f6aa-472f-bd1b-2011689701bc"
      },
      "outputs": [
        {
          "output_type": "stream",
          "name": "stdout",
          "text": [
            "max it Technology\n"
          ]
        }
      ],
      "source": [
        "print('max it',  'Technology')"
      ]
    },
    {
      "cell_type": "code",
      "execution_count": 29,
      "metadata": {
        "colab": {
          "base_uri": "https://localhost:8080/"
        },
        "id": "j0fx1ojt-b9U",
        "outputId": "6c475dd2-3078-4167-a4bf-bf90f07c6e3d"
      },
      "outputs": [
        {
          "output_type": "stream",
          "name": "stdout",
          "text": [
            "max it',  'Technology\n"
          ]
        }
      ],
      "source": [
        "print(\"max it',  'Technology\")"
      ]
    },
    {
      "cell_type": "code",
      "execution_count": 30,
      "metadata": {
        "colab": {
          "base_uri": "https://localhost:8080/",
          "height": 35
        },
        "id": "UEWigM3h-b9U",
        "outputId": "c4a193b2-2acf-4c09-c73c-c630cdce9e19"
      },
      "outputs": [
        {
          "output_type": "execute_result",
          "data": {
            "text/plain": [
              "'nit nit'"
            ],
            "application/vnd.google.colaboratory.intrinsic+json": {
              "type": "string"
            }
          },
          "metadata": {},
          "execution_count": 30
        }
      ],
      "source": [
        "# print the nit 2 times\n",
        "'nit' + ' nit'"
      ]
    },
    {
      "cell_type": "code",
      "execution_count": 31,
      "metadata": {
        "colab": {
          "base_uri": "https://localhost:8080/",
          "height": 35
        },
        "id": "stpFDW7C-b9V",
        "outputId": "fef46c7a-c314-4809-bb41-a4c1373ddf9e"
      },
      "outputs": [
        {
          "output_type": "execute_result",
          "data": {
            "text/plain": [
              "'nit nit'"
            ],
            "application/vnd.google.colaboratory.intrinsic+json": {
              "type": "string"
            }
          },
          "metadata": {},
          "execution_count": 31
        }
      ],
      "source": [
        "'nit'  ' nit'"
      ]
    },
    {
      "cell_type": "code",
      "execution_count": 32,
      "metadata": {
        "colab": {
          "base_uri": "https://localhost:8080/",
          "height": 35
        },
        "id": "cew_-muc-b9V",
        "outputId": "64f05e91-6d63-4d85-f7f3-461a22e8668a"
      },
      "outputs": [
        {
          "output_type": "execute_result",
          "data": {
            "text/plain": [
              "'nitnitnitnitnit'"
            ],
            "application/vnd.google.colaboratory.intrinsic+json": {
              "type": "string"
            }
          },
          "metadata": {},
          "execution_count": 32
        }
      ],
      "source": [
        "#5 time print\n",
        "5 * 'nit'"
      ]
    },
    {
      "cell_type": "code",
      "execution_count": 33,
      "metadata": {
        "colab": {
          "base_uri": "https://localhost:8080/",
          "height": 35
        },
        "id": "_WWUbD05-b9V",
        "outputId": "eeea9b6e-1723-47e5-f630-bb874a5c60b2"
      },
      "outputs": [
        {
          "output_type": "execute_result",
          "data": {
            "text/plain": [
              "' nit nit nit nit nit'"
            ],
            "application/vnd.google.colaboratory.intrinsic+json": {
              "type": "string"
            }
          },
          "metadata": {},
          "execution_count": 33
        }
      ],
      "source": [
        "5*' nit' # soace between words"
      ]
    },
    {
      "cell_type": "code",
      "execution_count": 34,
      "metadata": {
        "colab": {
          "base_uri": "https://localhost:8080/"
        },
        "id": "7NreEpI4-b9V",
        "outputId": "068f8484-e9f8-4e24-a227-5972110c9a85"
      },
      "outputs": [
        {
          "output_type": "stream",
          "name": "stdout",
          "text": [
            "c:\n",
            "it\n"
          ]
        }
      ],
      "source": [
        "print('c:\\nit') #\\n -- new line"
      ]
    },
    {
      "cell_type": "code",
      "execution_count": 36,
      "metadata": {
        "colab": {
          "base_uri": "https://localhost:8080/",
          "height": 53
        },
        "id": "gxyXDVpe-b9V",
        "outputId": "c4d7d888-cfb0-4a98-c83c-30aae462efb1"
      },
      "outputs": [
        {
          "output_type": "stream",
          "name": "stdout",
          "text": [
            "c:\\nit\n"
          ]
        },
        {
          "output_type": "execute_result",
          "data": {
            "text/plain": [
              "'c:\\nit'"
            ],
            "application/vnd.google.colaboratory.intrinsic+json": {
              "type": "string"
            }
          },
          "metadata": {},
          "execution_count": 36
        }
      ],
      "source": [
        "print(r'c:\\nit') #raw string\n",
        "'c:\\nit'"
      ]
    },
    {
      "cell_type": "code",
      "execution_count": 37,
      "metadata": {
        "colab": {
          "base_uri": "https://localhost:8080/"
        },
        "id": "MdeHa0LP-b9V",
        "outputId": "398718b1-de18-46e1-c1d9-52d80be5d988"
      },
      "outputs": [
        {
          "output_type": "execute_result",
          "data": {
            "text/plain": [
              "2"
            ]
          },
          "metadata": {},
          "execution_count": 37
        }
      ],
      "source": [
        "2"
      ]
    },
    {
      "cell_type": "code",
      "execution_count": 38,
      "metadata": {
        "colab": {
          "base_uri": "https://localhost:8080/"
        },
        "id": "OL6CMkYr-b9W",
        "outputId": "f76085bd-b3cb-4603-af4d-35ed0c99e385"
      },
      "outputs": [
        {
          "output_type": "execute_result",
          "data": {
            "text/plain": [
              "2"
            ]
          },
          "metadata": {},
          "execution_count": 38
        }
      ],
      "source": [
        "x = 2 #x is variable/identifier/objec, 2 is the value\n",
        "x"
      ]
    },
    {
      "cell_type": "code",
      "execution_count": 39,
      "metadata": {
        "colab": {
          "base_uri": "https://localhost:8080/"
        },
        "id": "vfQ8gSSV-b9W",
        "outputId": "ed58802e-a7a6-4b67-95dd-38db15822b41"
      },
      "outputs": [
        {
          "output_type": "execute_result",
          "data": {
            "text/plain": [
              "5"
            ]
          },
          "metadata": {},
          "execution_count": 39
        }
      ],
      "source": [
        "x + 3"
      ]
    },
    {
      "cell_type": "code",
      "execution_count": 41,
      "metadata": {
        "colab": {
          "base_uri": "https://localhost:8080/"
        },
        "id": "DIfr4lgB-b9W",
        "outputId": "41d27cfc-0ebc-450c-c2f4-71fc9ae93683"
      },
      "outputs": [
        {
          "output_type": "execute_result",
          "data": {
            "text/plain": [
              "3"
            ]
          },
          "metadata": {},
          "execution_count": 41
        }
      ],
      "source": [
        "y = 3\n",
        "y"
      ]
    },
    {
      "cell_type": "code",
      "execution_count": 42,
      "metadata": {
        "colab": {
          "base_uri": "https://localhost:8080/"
        },
        "id": "39nNgy01-b9W",
        "outputId": "a581cab5-a497-410e-b464-f676490f38eb"
      },
      "outputs": [
        {
          "output_type": "execute_result",
          "data": {
            "text/plain": [
              "5"
            ]
          },
          "metadata": {},
          "execution_count": 42
        }
      ],
      "source": [
        "x + y"
      ]
    },
    {
      "cell_type": "code",
      "execution_count": 43,
      "metadata": {
        "colab": {
          "base_uri": "https://localhost:8080/"
        },
        "id": "jDVd-gyb-b9W",
        "outputId": "187f0e0c-d30a-4e98-eac9-73a5cf33c373"
      },
      "outputs": [
        {
          "output_type": "execute_result",
          "data": {
            "text/plain": [
              "9"
            ]
          },
          "metadata": {},
          "execution_count": 43
        }
      ],
      "source": [
        "x = 9\n",
        "x"
      ]
    },
    {
      "cell_type": "code",
      "execution_count": 44,
      "metadata": {
        "colab": {
          "base_uri": "https://localhost:8080/"
        },
        "id": "gOqauXIA-b9W",
        "outputId": "c5332be9-052a-4742-9949-d7fb8e0aad50"
      },
      "outputs": [
        {
          "output_type": "execute_result",
          "data": {
            "text/plain": [
              "12"
            ]
          },
          "metadata": {},
          "execution_count": 44
        }
      ],
      "source": [
        "x + y"
      ]
    },
    {
      "cell_type": "code",
      "execution_count": 47,
      "metadata": {
        "colab": {
          "base_uri": "https://localhost:8080/"
        },
        "id": "cmrK5lgq-b9W",
        "outputId": "7854f384-7a00-4d3b-fe69-539c617a4fc3"
      },
      "outputs": [
        {
          "output_type": "execute_result",
          "data": {
            "text/plain": [
              "19"
            ]
          },
          "metadata": {},
          "execution_count": 47
        }
      ],
      "source": [
        "x + 10"
      ]
    },
    {
      "cell_type": "code",
      "execution_count": 49,
      "metadata": {
        "colab": {
          "base_uri": "https://localhost:8080/"
        },
        "id": "Up44zw5T-b9W",
        "outputId": "065d8e43-c592-445a-9043-f60b20fc17ab"
      },
      "outputs": [
        {
          "output_type": "execute_result",
          "data": {
            "text/plain": [
              "25"
            ]
          },
          "metadata": {},
          "execution_count": 49
        }
      ],
      "source": [
        "_ + y # _ understand the previous result of the"
      ]
    },
    {
      "cell_type": "code",
      "execution_count": 50,
      "metadata": {
        "colab": {
          "base_uri": "https://localhost:8080/"
        },
        "id": "q-udAOXj-b9X",
        "outputId": "5feec544-2514-42a0-806d-82255452f076"
      },
      "outputs": [
        {
          "output_type": "execute_result",
          "data": {
            "text/plain": [
              "28"
            ]
          },
          "metadata": {},
          "execution_count": 50
        }
      ],
      "source": [
        "_ + y"
      ]
    },
    {
      "cell_type": "code",
      "execution_count": 51,
      "metadata": {
        "colab": {
          "base_uri": "https://localhost:8080/"
        },
        "id": "sDZiNCVI-b9X",
        "outputId": "6307fc5c-d980-4eaf-a3e7-c0257d19c423"
      },
      "outputs": [
        {
          "output_type": "execute_result",
          "data": {
            "text/plain": [
              "31"
            ]
          },
          "metadata": {},
          "execution_count": 51
        }
      ],
      "source": [
        "_ + y"
      ]
    },
    {
      "cell_type": "code",
      "execution_count": 52,
      "metadata": {
        "colab": {
          "base_uri": "https://localhost:8080/"
        },
        "id": "wqbADZFj-b9X",
        "outputId": "055d7a44-0c23-4d4e-e063-73f540fa7f85"
      },
      "outputs": [
        {
          "output_type": "execute_result",
          "data": {
            "text/plain": [
              "34"
            ]
          },
          "metadata": {},
          "execution_count": 52
        }
      ],
      "source": [
        "_ + y"
      ]
    },
    {
      "cell_type": "code",
      "execution_count": 53,
      "metadata": {
        "colab": {
          "base_uri": "https://localhost:8080/"
        },
        "id": "eahSEMUU-b9X",
        "outputId": "8a7335d2-6793-412a-ee66-d5c3d756ab19"
      },
      "outputs": [
        {
          "output_type": "execute_result",
          "data": {
            "text/plain": [
              "3"
            ]
          },
          "metadata": {},
          "execution_count": 53
        }
      ],
      "source": [
        "y"
      ]
    },
    {
      "cell_type": "code",
      "execution_count": 54,
      "metadata": {
        "colab": {
          "base_uri": "https://localhost:8080/"
        },
        "id": "WcGI6JNz-b9X",
        "outputId": "6eb537f6-6fa5-4aa8-ecaa-35aadc357944"
      },
      "outputs": [
        {
          "output_type": "execute_result",
          "data": {
            "text/plain": [
              "6"
            ]
          },
          "metadata": {},
          "execution_count": 54
        }
      ],
      "source": [
        "_ + y"
      ]
    },
    {
      "cell_type": "code",
      "execution_count": null,
      "metadata": {
        "id": "O3gEGjPw-b9X"
      },
      "outputs": [],
      "source": [
        "_ + y"
      ]
    },
    {
      "cell_type": "code",
      "execution_count": null,
      "metadata": {
        "id": "iQnfBzVE-b9Y"
      },
      "outputs": [],
      "source": [
        "_ + y"
      ]
    },
    {
      "cell_type": "code",
      "execution_count": null,
      "metadata": {
        "id": "qwXtEXfT-b9Y"
      },
      "outputs": [],
      "source": [
        "# string variable\n",
        "name = 'mit'"
      ]
    },
    {
      "cell_type": "code",
      "execution_count": null,
      "metadata": {
        "id": "xJhLT5v_-b9Y"
      },
      "outputs": [],
      "source": [
        "name"
      ]
    },
    {
      "cell_type": "code",
      "execution_count": null,
      "metadata": {
        "id": "TFXbDijb-b9Y"
      },
      "outputs": [],
      "source": [
        "name + 'technology'"
      ]
    },
    {
      "cell_type": "code",
      "execution_count": null,
      "metadata": {
        "id": "SThvBHyF-b9Y"
      },
      "outputs": [],
      "source": [
        "name + ' technology'"
      ]
    },
    {
      "cell_type": "code",
      "execution_count": null,
      "metadata": {
        "id": "ypgcMxzF-b9Y"
      },
      "outputs": [],
      "source": [
        "name 'technology'"
      ]
    },
    {
      "cell_type": "code",
      "execution_count": null,
      "metadata": {
        "id": "h-SeYktv-b9Y"
      },
      "outputs": [],
      "source": [
        "name"
      ]
    },
    {
      "cell_type": "code",
      "execution_count": null,
      "metadata": {
        "id": "lclTn2D3-b9Z"
      },
      "outputs": [],
      "source": [
        "len(name)"
      ]
    },
    {
      "cell_type": "code",
      "execution_count": null,
      "metadata": {
        "id": "r8vO3eWv-b9Z"
      },
      "outputs": [],
      "source": [
        "name[0] #python index begins with 0"
      ]
    },
    {
      "cell_type": "code",
      "execution_count": null,
      "metadata": {
        "id": "DrrQPEOE-b9Z"
      },
      "outputs": [],
      "source": [
        "name[5]"
      ]
    },
    {
      "cell_type": "code",
      "execution_count": null,
      "metadata": {
        "id": "FhcAKaaN-b9Z"
      },
      "outputs": [],
      "source": [
        "name[7]"
      ]
    },
    {
      "cell_type": "code",
      "execution_count": null,
      "metadata": {
        "id": "c03dtVjh-b9Z"
      },
      "outputs": [],
      "source": [
        "name[-1]"
      ]
    },
    {
      "cell_type": "code",
      "execution_count": null,
      "metadata": {
        "id": "djqSbH3Z-b9Z"
      },
      "outputs": [],
      "source": [
        "name[-2]"
      ]
    },
    {
      "cell_type": "code",
      "execution_count": null,
      "metadata": {
        "id": "AnUfH3Vu-b9a"
      },
      "outputs": [],
      "source": [
        "name[-6]"
      ]
    },
    {
      "cell_type": "markdown",
      "metadata": {
        "id": "Fo4drE-8-b9a"
      },
      "source": [
        "## slicing\n"
      ]
    },
    {
      "cell_type": "code",
      "execution_count": null,
      "metadata": {
        "id": "FCgwJ7fo-b9a"
      },
      "outputs": [],
      "source": [
        "name"
      ]
    },
    {
      "cell_type": "code",
      "execution_count": null,
      "metadata": {
        "id": "4plNwZAb-b9a"
      },
      "outputs": [],
      "source": [
        "name[0:1] #to print 2 character"
      ]
    },
    {
      "cell_type": "code",
      "execution_count": null,
      "metadata": {
        "id": "jr-5AK2J-b9b"
      },
      "outputs": [],
      "source": [
        "name[0:2]"
      ]
    },
    {
      "cell_type": "code",
      "execution_count": null,
      "metadata": {
        "id": "I8UIZ2_z-b9b"
      },
      "outputs": [],
      "source": [
        "name[1:4]"
      ]
    },
    {
      "cell_type": "code",
      "execution_count": null,
      "metadata": {
        "id": "Ylyxhjgg-b9b"
      },
      "outputs": [],
      "source": [
        "name[1:]"
      ]
    },
    {
      "cell_type": "code",
      "execution_count": null,
      "metadata": {
        "id": "3NDxGN0_-b9b"
      },
      "outputs": [],
      "source": [
        "name[:4]"
      ]
    },
    {
      "cell_type": "code",
      "execution_count": null,
      "metadata": {
        "id": "t-Bv006B-b9b"
      },
      "outputs": [],
      "source": [
        "name[3:9]"
      ]
    },
    {
      "cell_type": "code",
      "execution_count": null,
      "metadata": {
        "id": "UOU8wQgg-b9b"
      },
      "outputs": [],
      "source": [
        "name"
      ]
    },
    {
      "cell_type": "code",
      "execution_count": null,
      "metadata": {
        "id": "iMUEp8B9-b9c"
      },
      "outputs": [],
      "source": [
        "name1 = 'fine' # change the string fine to dine\n",
        "name1"
      ]
    },
    {
      "cell_type": "code",
      "execution_count": null,
      "metadata": {
        "id": "uIABiDbP-b9c"
      },
      "outputs": [],
      "source": [
        "name1[0:1]"
      ]
    },
    {
      "cell_type": "code",
      "execution_count": null,
      "metadata": {
        "id": "TmXEXa0m-b9c"
      },
      "outputs": [],
      "source": [
        "name1[0:1] = 'd' # i want to change 1st character of naresh (n) - t"
      ]
    },
    {
      "cell_type": "code",
      "execution_count": null,
      "metadata": {
        "id": "zr9I5GSI-b9c"
      },
      "outputs": [],
      "source": [
        "name1[0] = 'd' #strings in python are immutable"
      ]
    },
    {
      "cell_type": "code",
      "execution_count": null,
      "metadata": {
        "id": "Ucy5A1-j-b9c"
      },
      "outputs": [],
      "source": [
        "name1"
      ]
    },
    {
      "cell_type": "code",
      "execution_count": null,
      "metadata": {
        "id": "wO1n65Ug-b9c"
      },
      "outputs": [],
      "source": [
        "name1[1:]"
      ]
    },
    {
      "cell_type": "code",
      "execution_count": null,
      "metadata": {
        "id": "zmaVGLFm-b9d"
      },
      "outputs": [],
      "source": [
        "'d' + name1[1:] #i want to change fine to dine"
      ]
    },
    {
      "cell_type": "code",
      "execution_count": null,
      "metadata": {
        "id": "Y-hDndDi-b9d"
      },
      "outputs": [],
      "source": [
        "len(name1) #python inbuild function"
      ]
    },
    {
      "cell_type": "markdown",
      "metadata": {
        "id": "X0_XWrg4-b9d"
      },
      "source": [
        "## List"
      ]
    },
    {
      "cell_type": "code",
      "execution_count": null,
      "metadata": {
        "id": "jzO64L-l-b9d"
      },
      "outputs": [],
      "source": [
        "l = []"
      ]
    },
    {
      "cell_type": "code",
      "execution_count": null,
      "metadata": {
        "id": "qQwUoWbk-b9d"
      },
      "outputs": [],
      "source": [
        "# LIST LIST LIST\n",
        "nums = [10,20,30]\n",
        "nums"
      ]
    },
    {
      "cell_type": "code",
      "execution_count": null,
      "metadata": {
        "id": "bqusrcJv-b9d"
      },
      "outputs": [],
      "source": [
        "nums[0]"
      ]
    },
    {
      "cell_type": "code",
      "execution_count": null,
      "metadata": {
        "id": "nwfp0Efc-b9e"
      },
      "outputs": [],
      "source": [
        "nums[-1]"
      ]
    },
    {
      "cell_type": "code",
      "execution_count": null,
      "metadata": {
        "id": "-MDFRP2N-b9e"
      },
      "outputs": [],
      "source": [
        "nums[1:]"
      ]
    },
    {
      "cell_type": "code",
      "execution_count": null,
      "metadata": {
        "id": "qzVLaagI-b9e"
      },
      "outputs": [],
      "source": [
        "nums[:1]"
      ]
    },
    {
      "cell_type": "code",
      "execution_count": null,
      "metadata": {
        "id": "ITwcgsm7-b9e"
      },
      "outputs": [],
      "source": [
        "num1 = ['hi', 'hallo']"
      ]
    },
    {
      "cell_type": "code",
      "execution_count": null,
      "metadata": {
        "id": "f0I92pPU-b9e"
      },
      "outputs": [],
      "source": [
        "num1"
      ]
    },
    {
      "cell_type": "code",
      "execution_count": null,
      "metadata": {
        "id": "zRQkMQY_-b9e"
      },
      "outputs": [],
      "source": [
        "num2 = ['hi', 8.9, 34] # we can assign multiple variable\n",
        "num2"
      ]
    },
    {
      "cell_type": "code",
      "execution_count": null,
      "metadata": {
        "id": "yH5QnDhg-b9e"
      },
      "outputs": [],
      "source": [
        "# can we have 2 list together\n",
        "num3 = [nums, num1]"
      ]
    },
    {
      "cell_type": "code",
      "execution_count": null,
      "metadata": {
        "id": "XNnGAEcb-b9e"
      },
      "outputs": [],
      "source": [
        "num3"
      ]
    },
    {
      "cell_type": "code",
      "execution_count": null,
      "metadata": {
        "id": "CVagCpB5-b9e"
      },
      "outputs": [],
      "source": [
        "num4 = [nums, num1, num2]"
      ]
    },
    {
      "cell_type": "code",
      "execution_count": null,
      "metadata": {
        "id": "qLgc8_du-b9e"
      },
      "outputs": [],
      "source": [
        "num4"
      ]
    },
    {
      "cell_type": "code",
      "execution_count": null,
      "metadata": {
        "id": "Yk-lClki-b9e"
      },
      "outputs": [],
      "source": [
        "nums"
      ]
    },
    {
      "cell_type": "code",
      "execution_count": null,
      "metadata": {
        "id": "k8Xs-3-z-b9f"
      },
      "outputs": [],
      "source": [
        "nums.append(45)"
      ]
    },
    {
      "cell_type": "code",
      "execution_count": null,
      "metadata": {
        "id": "2WApnb24-b9f"
      },
      "outputs": [],
      "source": [
        "nums"
      ]
    },
    {
      "cell_type": "code",
      "execution_count": null,
      "metadata": {
        "id": "PVKbV32G-b9f"
      },
      "outputs": [],
      "source": [
        "nums.remove(45)"
      ]
    },
    {
      "cell_type": "code",
      "execution_count": null,
      "metadata": {
        "id": "nsoWtY7t-b9f"
      },
      "outputs": [],
      "source": [
        "nums"
      ]
    },
    {
      "cell_type": "code",
      "execution_count": null,
      "metadata": {
        "id": "ov6ply2z-b9f"
      },
      "outputs": [],
      "source": [
        "nums.pop(1)"
      ]
    },
    {
      "cell_type": "code",
      "execution_count": null,
      "metadata": {
        "id": "WksYvkZU-b9f"
      },
      "outputs": [],
      "source": [
        "nums"
      ]
    },
    {
      "cell_type": "code",
      "execution_count": null,
      "metadata": {
        "id": "cGrriCIr-b9f"
      },
      "outputs": [],
      "source": [
        "nums.pop() #if you dont assign the index element then it will consider by default last index"
      ]
    },
    {
      "cell_type": "code",
      "execution_count": null,
      "metadata": {
        "id": "S3Xm_1by-b9f"
      },
      "outputs": [],
      "source": [
        "nums"
      ]
    },
    {
      "cell_type": "code",
      "execution_count": null,
      "metadata": {
        "id": "aAX3_gzZ-b9f"
      },
      "outputs": [],
      "source": [
        "num1"
      ]
    },
    {
      "cell_type": "code",
      "execution_count": null,
      "metadata": {
        "id": "wGGr8V5k-b9f"
      },
      "outputs": [],
      "source": [
        "num1.insert(2,'nit') #insert the value as per index values i.e 2nd index we are assigning nit"
      ]
    },
    {
      "cell_type": "code",
      "execution_count": null,
      "metadata": {
        "id": "edRnanCe-b9g"
      },
      "outputs": [],
      "source": [
        "num1"
      ]
    },
    {
      "cell_type": "code",
      "execution_count": null,
      "metadata": {
        "id": "xbQly-xT-b9g"
      },
      "outputs": [],
      "source": [
        "num1.insert(0, 1)"
      ]
    },
    {
      "cell_type": "code",
      "execution_count": null,
      "metadata": {
        "id": "B96yGtP--b9g"
      },
      "outputs": [],
      "source": [
        "num1"
      ]
    },
    {
      "cell_type": "code",
      "execution_count": null,
      "metadata": {
        "id": "-NqosDn--b9g"
      },
      "outputs": [],
      "source": [
        "#if you want to delate multiple value\n",
        "num2"
      ]
    },
    {
      "cell_type": "code",
      "execution_count": null,
      "metadata": {
        "id": "bW2X2No9-b9g"
      },
      "outputs": [],
      "source": [
        "del num2[2:]"
      ]
    },
    {
      "cell_type": "code",
      "execution_count": null,
      "metadata": {
        "id": "x94oIviv-b9g"
      },
      "outputs": [],
      "source": [
        "num2"
      ]
    },
    {
      "cell_type": "code",
      "execution_count": null,
      "metadata": {
        "id": "QZwRkk-w-b9h"
      },
      "outputs": [],
      "source": [
        "# if you need to add multiple values\n",
        "num2.extend([29,15,20])"
      ]
    },
    {
      "cell_type": "code",
      "execution_count": null,
      "metadata": {
        "id": "ohbH_UtP-b9h"
      },
      "outputs": [],
      "source": [
        "num2"
      ]
    },
    {
      "cell_type": "code",
      "execution_count": null,
      "metadata": {
        "id": "GcTRC_gS-b9h"
      },
      "outputs": [],
      "source": [
        "num3"
      ]
    },
    {
      "cell_type": "code",
      "execution_count": null,
      "metadata": {
        "id": "QXXztpgG-b9h"
      },
      "outputs": [],
      "source": [
        "num3.extend(['a', 5, 6.7])"
      ]
    },
    {
      "cell_type": "code",
      "execution_count": null,
      "metadata": {
        "id": "JLW1ocvX-b9h"
      },
      "outputs": [],
      "source": [
        "num3"
      ]
    },
    {
      "cell_type": "code",
      "execution_count": null,
      "metadata": {
        "id": "ydTwqVvz-b9h"
      },
      "outputs": [],
      "source": [
        "nums"
      ]
    },
    {
      "cell_type": "code",
      "execution_count": null,
      "metadata": {
        "id": "SfVENFWJ-b9h"
      },
      "outputs": [],
      "source": [
        "min(nums) #inbuild function"
      ]
    },
    {
      "cell_type": "code",
      "execution_count": null,
      "metadata": {
        "id": "xoqccNlp-b9i"
      },
      "outputs": [],
      "source": [
        "max(nums) #inbuild function"
      ]
    },
    {
      "cell_type": "code",
      "execution_count": null,
      "metadata": {
        "id": "kY3zIbrm-b9i"
      },
      "outputs": [],
      "source": [
        "num1"
      ]
    },
    {
      "cell_type": "code",
      "execution_count": null,
      "metadata": {
        "id": "Xm3N41KO-b9i"
      },
      "outputs": [],
      "source": [
        "min(num1)"
      ]
    },
    {
      "cell_type": "code",
      "execution_count": null,
      "metadata": {
        "id": "iE_Jn5Rd-b9i"
      },
      "outputs": [],
      "source": [
        "sum(nums) #inbuild function"
      ]
    },
    {
      "cell_type": "code",
      "execution_count": null,
      "metadata": {
        "id": "vzJal8HY-b9i"
      },
      "outputs": [],
      "source": [
        "nums.sort() #sort method"
      ]
    },
    {
      "cell_type": "code",
      "execution_count": null,
      "metadata": {
        "id": "8Pdhteez-b9i"
      },
      "outputs": [],
      "source": [
        "nums"
      ]
    },
    {
      "cell_type": "code",
      "execution_count": null,
      "metadata": {
        "id": "BsJv43Ap-b9i"
      },
      "outputs": [],
      "source": [
        "l = [1,2,3]\n",
        "l"
      ]
    },
    {
      "cell_type": "code",
      "execution_count": null,
      "metadata": {
        "id": "lZOjOsct-b9j"
      },
      "outputs": [],
      "source": [
        "l[0] = 100\n",
        "l"
      ]
    },
    {
      "cell_type": "markdown",
      "metadata": {
        "id": "IwnoXSpe-b9j"
      },
      "source": [
        "## Tuple"
      ]
    },
    {
      "cell_type": "code",
      "execution_count": null,
      "metadata": {
        "id": "KERZbo1l-b9j"
      },
      "outputs": [],
      "source": [
        "# TUPLE TUPLE TUPLE\n",
        "tup = (15,25,35)\n",
        "tup"
      ]
    },
    {
      "cell_type": "code",
      "execution_count": null,
      "metadata": {
        "id": "NVQUOkcQ-b9j"
      },
      "outputs": [],
      "source": [
        "tup[0]"
      ]
    },
    {
      "cell_type": "code",
      "execution_count": null,
      "metadata": {
        "id": "vZWC4Fpx-b9j"
      },
      "outputs": [],
      "source": [
        "tup[0] = 10"
      ]
    },
    {
      "cell_type": "markdown",
      "metadata": {
        "id": "o5NGiYhe-b9j"
      },
      "source": [
        "as we are unable to change any value or parameter in tuple so iteration very faster in tuple compare to list"
      ]
    },
    {
      "cell_type": "markdown",
      "metadata": {
        "id": "jL1xXYuc-b9j"
      },
      "source": [
        "## SET"
      ]
    },
    {
      "cell_type": "code",
      "execution_count": null,
      "metadata": {
        "id": "tFWtSws--b9k"
      },
      "outputs": [],
      "source": [
        "# SET SET SET\n",
        "S = {}"
      ]
    },
    {
      "cell_type": "code",
      "execution_count": null,
      "metadata": {
        "id": "JpQyzJHp-b9k"
      },
      "outputs": [],
      "source": [
        "s1 = {21,6,34,58,5}"
      ]
    },
    {
      "cell_type": "code",
      "execution_count": null,
      "metadata": {
        "id": "zZgiEkC_-b9k"
      },
      "outputs": [],
      "source": [
        "s1"
      ]
    },
    {
      "cell_type": "code",
      "execution_count": null,
      "metadata": {
        "id": "QRZqNxUh-b9k"
      },
      "outputs": [],
      "source": [
        "s3= {50,35,53,'nit', 53}"
      ]
    },
    {
      "cell_type": "code",
      "execution_count": null,
      "metadata": {
        "id": "e2MQ-Bgk-b9k"
      },
      "outputs": [],
      "source": [
        "s3"
      ]
    },
    {
      "cell_type": "code",
      "execution_count": null,
      "metadata": {
        "id": "BF0vWJ2A-b9k"
      },
      "outputs": [],
      "source": [
        "s1[1] #as we dont have proper sequencing thats why indexing not subscriptable"
      ]
    },
    {
      "cell_type": "markdown",
      "metadata": {
        "id": "RLYW79X3-b9l"
      },
      "source": [
        "## DICTIONARY"
      ]
    },
    {
      "cell_type": "code",
      "execution_count": null,
      "metadata": {
        "id": "ghEuCOvf-b9l"
      },
      "outputs": [],
      "source": [
        "# DICTIONARY DICTIONARY DICTIONARY\n",
        "data = {1:'apple', 2:'banana',4:'orange'}\n",
        "data"
      ]
    },
    {
      "cell_type": "code",
      "execution_count": null,
      "metadata": {
        "id": "09cAq_rH-b9l"
      },
      "outputs": [],
      "source": [
        "data[4]"
      ]
    },
    {
      "cell_type": "code",
      "execution_count": null,
      "metadata": {
        "id": "rGmVgM7b-b9l"
      },
      "outputs": [],
      "source": [
        "data[3]"
      ]
    },
    {
      "cell_type": "code",
      "execution_count": null,
      "metadata": {
        "id": "IqG7nQd_-b9l"
      },
      "outputs": [],
      "source": [
        "data.get(2)"
      ]
    },
    {
      "cell_type": "code",
      "execution_count": null,
      "metadata": {
        "id": "P1H4WyZV-b9l"
      },
      "outputs": [],
      "source": [
        "data.get(3)"
      ]
    },
    {
      "cell_type": "code",
      "execution_count": null,
      "metadata": {
        "id": "bgjZ5pJn-b9l"
      },
      "outputs": [],
      "source": [
        "print(data.get(3))"
      ]
    },
    {
      "cell_type": "code",
      "execution_count": null,
      "metadata": {
        "id": "4NUPCAFR-b9m"
      },
      "outputs": [],
      "source": [
        "data.get(1,'Not Fount')"
      ]
    },
    {
      "cell_type": "code",
      "execution_count": null,
      "metadata": {
        "id": "bkMyD3GK-b9m"
      },
      "outputs": [],
      "source": [
        "data.get(3,'Not Found')"
      ]
    },
    {
      "cell_type": "code",
      "execution_count": null,
      "metadata": {
        "id": "tj3LhV8o-b9m"
      },
      "outputs": [],
      "source": [
        "data[5] = 'five'"
      ]
    },
    {
      "cell_type": "code",
      "execution_count": null,
      "metadata": {
        "id": "61jiTYrw-b9m"
      },
      "outputs": [],
      "source": [
        "data"
      ]
    },
    {
      "cell_type": "code",
      "execution_count": null,
      "metadata": {
        "id": "UUebDgNX-b9m"
      },
      "outputs": [],
      "source": [
        "del data [5]"
      ]
    },
    {
      "cell_type": "code",
      "execution_count": null,
      "metadata": {
        "id": "waUuX5HB-b9n"
      },
      "outputs": [],
      "source": [
        "data"
      ]
    },
    {
      "cell_type": "code",
      "execution_count": null,
      "metadata": {
        "id": "oBLLom0Z-b9n"
      },
      "outputs": [],
      "source": [
        "#list in the dictionary\n",
        "prog = {'python':['vscode', 'pycharm'], 'machine learning' : 'sklearn', 'datascience':['jupyter','spyder'] }"
      ]
    },
    {
      "cell_type": "code",
      "execution_count": null,
      "metadata": {
        "id": "7e-2Aa61-b9n"
      },
      "outputs": [],
      "source": [
        "prog"
      ]
    },
    {
      "cell_type": "code",
      "execution_count": null,
      "metadata": {
        "id": "EQ4nMunt-b9n"
      },
      "outputs": [],
      "source": [
        "prog['python']"
      ]
    },
    {
      "cell_type": "code",
      "execution_count": null,
      "metadata": {
        "id": "NzgHywHy-b9n"
      },
      "outputs": [],
      "source": [
        "prog['machine learning']"
      ]
    },
    {
      "cell_type": "code",
      "execution_count": null,
      "metadata": {
        "id": "IuoL_1Ap-b9o"
      },
      "outputs": [],
      "source": [
        "prog['datascience']"
      ]
    },
    {
      "cell_type": "code",
      "execution_count": null,
      "metadata": {
        "id": "EeZFKjV_-b9o"
      },
      "outputs": [],
      "source": [
        "help()"
      ]
    },
    {
      "cell_type": "markdown",
      "metadata": {
        "id": "u8aE_Lv7-b9o"
      },
      "source": [
        "## How to create environment variable"
      ]
    },
    {
      "cell_type": "markdown",
      "metadata": {
        "id": "YTZY9mE_-b9o"
      },
      "source": [
        "- STEPS TO SET UP EXECUTE PYTHON IN SYSTEM CMD (TO CREATE ENVIRONMENT VARIABLE)\n",
        "- Open cmd # python (You will get error when you execute 1st time)\n",
        "- search with environment variable - system variable:(C:\\Users\\kdata\\AppData\\Local\\Microsoft\\WindowsApps)\n",
        "- restart the cmd & type python in cmd it will work now"
      ]
    },
    {
      "cell_type": "markdown",
      "metadata": {
        "id": "hLUivnOM-b9o"
      },
      "source": [
        "## to find help"
      ]
    },
    {
      "cell_type": "markdown",
      "metadata": {
        "id": "c420jXyo-b9p"
      },
      "source": [
        "STEPS TO FIND HELP OPTION -->\n",
        "1- help() | 2- topics | 3- search as per requirments | 4- quit\n",
        "if you want help on any command then help(list) || help(tuple)"
      ]
    },
    {
      "cell_type": "code",
      "execution_count": null,
      "metadata": {
        "id": "WciK6jw0-b9p"
      },
      "outputs": [],
      "source": [
        "help()"
      ]
    },
    {
      "cell_type": "code",
      "execution_count": null,
      "metadata": {
        "id": "gn20-H0w-b9p"
      },
      "outputs": [],
      "source": [
        "help(list)"
      ]
    },
    {
      "cell_type": "code",
      "execution_count": null,
      "metadata": {
        "id": "koFTerPb-b9p"
      },
      "outputs": [],
      "source": [
        "2 + 3"
      ]
    },
    {
      "cell_type": "code",
      "execution_count": null,
      "metadata": {
        "id": "060SIDly-b9p"
      },
      "outputs": [],
      "source": [
        "help(tuple)"
      ]
    },
    {
      "cell_type": "markdown",
      "metadata": {
        "id": "HIfZu5GR-b9p"
      },
      "source": [
        "### introduce to ID()"
      ]
    },
    {
      "cell_type": "code",
      "execution_count": null,
      "metadata": {
        "id": "h-OuUO8I-b9p"
      },
      "outputs": [],
      "source": [
        "# variable address\n",
        "num = 5\n",
        "id(num)"
      ]
    },
    {
      "cell_type": "code",
      "execution_count": null,
      "metadata": {
        "id": "6EdsEel3-b9q"
      },
      "outputs": [],
      "source": [
        "name = 'nit'\n",
        "id(name) #Address will be different for both"
      ]
    },
    {
      "cell_type": "code",
      "execution_count": null,
      "metadata": {
        "id": "QJta2VxX-b9q"
      },
      "outputs": [],
      "source": [
        "a = 10\n",
        "id(a)"
      ]
    },
    {
      "cell_type": "code",
      "execution_count": null,
      "metadata": {
        "id": "juruZ40w-b9q"
      },
      "outputs": [],
      "source": [
        "b = a #thats why python is more memory efficient"
      ]
    },
    {
      "cell_type": "code",
      "execution_count": null,
      "metadata": {
        "id": "fhX_anGK-b9q"
      },
      "outputs": [],
      "source": [
        "id(b)"
      ]
    },
    {
      "cell_type": "code",
      "execution_count": null,
      "metadata": {
        "id": "wsXznlTV-b9q"
      },
      "outputs": [],
      "source": [
        "id(10)"
      ]
    },
    {
      "cell_type": "code",
      "execution_count": null,
      "metadata": {
        "id": "GD-eGa1J-b9q"
      },
      "outputs": [],
      "source": [
        "k = 10\n",
        "id(k)"
      ]
    },
    {
      "cell_type": "code",
      "execution_count": null,
      "metadata": {
        "id": "lBo4vs-y-b9r"
      },
      "outputs": [],
      "source": [
        "a = 20  # as we change the value of a then address will change\n",
        "id(a)"
      ]
    },
    {
      "cell_type": "code",
      "execution_count": null,
      "metadata": {
        "id": "vryZ6GgU-b9r"
      },
      "outputs": [],
      "source": [
        "id(b)"
      ]
    },
    {
      "cell_type": "markdown",
      "metadata": {
        "id": "fLQ1ImTd-b9r"
      },
      "source": [
        "what ever the variale we assigned the memory and we not assigned anywhere then we can use as garbage collection.||\n",
        "VARIABLE - we can change the values || CONSTANT - we cannot change the value\n",
        "-can we make VARIABLE as a CONSTANT (note - in python you cannot make variable as constant)\n"
      ]
    },
    {
      "cell_type": "code",
      "execution_count": null,
      "metadata": {
        "id": "G5zNV-Dt-b9r"
      },
      "outputs": [],
      "source": [
        "PI = 3.14  #in math this is alway constant but python we can chang\n",
        "PI"
      ]
    },
    {
      "cell_type": "code",
      "execution_count": null,
      "metadata": {
        "id": "Tlq74UJ9-b9r"
      },
      "outputs": [],
      "source": [
        "PI = 3.15\n",
        "PI"
      ]
    },
    {
      "cell_type": "code",
      "execution_count": null,
      "metadata": {
        "id": "hzfDUE3i-b9s"
      },
      "outputs": [],
      "source": [
        "type(PI)"
      ]
    },
    {
      "cell_type": "markdown",
      "metadata": {
        "id": "62Nx4co2-b9s"
      },
      "source": [
        "### DATA TYPES & DATA STRUCTURES-->\n",
        "1- NUMERIC || 2-LIST || 3-TUPLE || 4-SET || 5-STRING || 6-RANGE || 7-DICTIONARY\n",
        "![image.png](attachment:image.png)"
      ]
    },
    {
      "cell_type": "markdown",
      "metadata": {
        "id": "CU_n-4Es-b9s"
      },
      "source": [
        "1- NUMERIC :-\n",
        "INT || FLOAT || COMPLEX || BOOL\n",
        "![image.png](attachment:image.png)"
      ]
    },
    {
      "cell_type": "code",
      "execution_count": null,
      "metadata": {
        "id": "IutVPdo8-b9s"
      },
      "outputs": [],
      "source": [
        "w = 2.5\n",
        "type(w)"
      ]
    },
    {
      "cell_type": "code",
      "execution_count": null,
      "metadata": {
        "id": "30hPSrxD-b9s"
      },
      "outputs": [],
      "source": [
        "(a)"
      ]
    },
    {
      "cell_type": "code",
      "execution_count": null,
      "metadata": {
        "id": "PZDn1hEX-b9s"
      },
      "outputs": [],
      "source": [
        "w2 = 2 + 3j #so hear j is represent as root of -1\n",
        "type(w2)"
      ]
    },
    {
      "cell_type": "code",
      "execution_count": null,
      "metadata": {
        "id": "2irwVTKx-b9t"
      },
      "outputs": [],
      "source": [
        "#convert flot to integer\n",
        "a = 5.6\n",
        "b = int(a)"
      ]
    },
    {
      "cell_type": "code",
      "execution_count": null,
      "metadata": {
        "id": "PhIUWSqr-b9t"
      },
      "outputs": [],
      "source": [
        "b"
      ]
    },
    {
      "cell_type": "code",
      "execution_count": null,
      "metadata": {
        "id": "fpBmlFO9-b9t"
      },
      "outputs": [],
      "source": [
        "type(b)"
      ]
    },
    {
      "cell_type": "code",
      "execution_count": null,
      "metadata": {
        "id": "HPYoSUhi-b9t"
      },
      "outputs": [],
      "source": [
        "type(a)"
      ]
    },
    {
      "cell_type": "code",
      "execution_count": null,
      "metadata": {
        "id": "a16pHLTF-b9t"
      },
      "outputs": [],
      "source": [
        "k = float(b)"
      ]
    },
    {
      "cell_type": "code",
      "execution_count": null,
      "metadata": {
        "id": "5kRPYotr-b9u"
      },
      "outputs": [],
      "source": [
        "k"
      ]
    },
    {
      "cell_type": "code",
      "execution_count": null,
      "metadata": {
        "id": "9xfue-JY-b9u"
      },
      "outputs": [],
      "source": [
        "print(a)\n",
        "print(b)\n",
        "print(k)"
      ]
    },
    {
      "cell_type": "code",
      "execution_count": null,
      "metadata": {
        "id": "G1X-iilB-b9u"
      },
      "outputs": [],
      "source": [
        "k1 = complex(b,k)"
      ]
    },
    {
      "cell_type": "code",
      "execution_count": null,
      "metadata": {
        "id": "xzUmY1ax-b9u"
      },
      "outputs": [],
      "source": [
        "print(k1)\n",
        "type(k1)"
      ]
    },
    {
      "cell_type": "code",
      "execution_count": null,
      "metadata": {
        "id": "zXz_CJ1x-b9u"
      },
      "outputs": [],
      "source": [
        "b < k"
      ]
    },
    {
      "cell_type": "code",
      "execution_count": null,
      "metadata": {
        "id": "0bV1fEY1-b9u"
      },
      "outputs": [],
      "source": [
        "condition = b<k\n",
        "condition"
      ]
    },
    {
      "cell_type": "code",
      "execution_count": null,
      "metadata": {
        "id": "XXF3o0dl-b9v"
      },
      "outputs": [],
      "source": [
        "type(condition)"
      ]
    },
    {
      "cell_type": "code",
      "execution_count": null,
      "metadata": {
        "id": "AgeSTOtT-b9v"
      },
      "outputs": [],
      "source": [
        "int(True)"
      ]
    },
    {
      "cell_type": "code",
      "execution_count": null,
      "metadata": {
        "id": "Ag9589Li-b9v"
      },
      "outputs": [],
      "source": [
        "int(False)"
      ]
    },
    {
      "cell_type": "code",
      "execution_count": null,
      "metadata": {
        "id": "oRTb7y-y-b9v"
      },
      "outputs": [],
      "source": [
        "l = [1,2,3,4]\n",
        "print(l)\n",
        "type(l)"
      ]
    },
    {
      "cell_type": "code",
      "execution_count": null,
      "metadata": {
        "id": "h_CQrA3i-b9v"
      },
      "outputs": [],
      "source": [
        "s = {1,2,3,4}\n",
        "s"
      ]
    },
    {
      "cell_type": "code",
      "execution_count": null,
      "metadata": {
        "id": "2nNayTwR-b9v"
      },
      "outputs": [],
      "source": [
        "type(s)"
      ]
    },
    {
      "cell_type": "code",
      "execution_count": null,
      "metadata": {
        "id": "mkuInGon-b9v"
      },
      "outputs": [],
      "source": [
        "s1 = {1,2,3,4,4,3,11} #duplicates are not allowed\n",
        "s1"
      ]
    },
    {
      "cell_type": "code",
      "execution_count": null,
      "metadata": {
        "id": "5JCdFIo7-b9v"
      },
      "outputs": [],
      "source": [
        "t = (10,20,30)\n",
        "t"
      ]
    },
    {
      "cell_type": "code",
      "execution_count": null,
      "metadata": {
        "id": "ghW7-WEL-b9w"
      },
      "outputs": [],
      "source": [
        "type(t)"
      ]
    },
    {
      "cell_type": "code",
      "execution_count": null,
      "metadata": {
        "id": "-QR9caXP-b9w"
      },
      "outputs": [],
      "source": [
        "str = 'nit' #we dont have character in python\n",
        "type(str)"
      ]
    },
    {
      "cell_type": "code",
      "execution_count": null,
      "metadata": {
        "id": "uek_J9h6-b9w"
      },
      "outputs": [],
      "source": [
        "st = 'n'\n",
        "type(st)"
      ]
    },
    {
      "cell_type": "markdown",
      "metadata": {
        "id": "YDqxgpZM-b9w"
      },
      "source": [
        "### range()"
      ]
    },
    {
      "cell_type": "code",
      "execution_count": null,
      "metadata": {
        "id": "yTZOZjoS-b9w"
      },
      "outputs": [],
      "source": [
        "r = range(0,10)\n",
        "r"
      ]
    },
    {
      "cell_type": "code",
      "execution_count": null,
      "metadata": {
        "id": "ANANbPSz-b9w"
      },
      "outputs": [],
      "source": [
        "type(r)"
      ]
    },
    {
      "cell_type": "code",
      "execution_count": null,
      "metadata": {
        "id": "2cdXEBKo-b9x"
      },
      "outputs": [],
      "source": [
        "# if you want to print the range\n",
        "list(range(0,10))"
      ]
    },
    {
      "cell_type": "code",
      "execution_count": null,
      "metadata": {
        "id": "3EX_znUu-b9x"
      },
      "outputs": [],
      "source": [
        "r1 = list(r)\n",
        "r1"
      ]
    },
    {
      "cell_type": "code",
      "execution_count": null,
      "metadata": {
        "id": "s9oQymNn-b9x"
      },
      "outputs": [],
      "source": [
        "#if you want to print even number\n",
        "even_number = list(range(2,10,2))\n",
        "even_number"
      ]
    },
    {
      "cell_type": "code",
      "execution_count": null,
      "metadata": {
        "id": "zX1paEC9-b9x"
      },
      "outputs": [],
      "source": [
        "d= {1:'one', 2:'two', 3:'three'}\n",
        "d"
      ]
    },
    {
      "cell_type": "code",
      "execution_count": null,
      "metadata": {
        "id": "Vdm7vS-u-b9x"
      },
      "outputs": [],
      "source": [
        "type(d)"
      ]
    },
    {
      "cell_type": "code",
      "execution_count": null,
      "metadata": {
        "id": "woJG52GV-b9x"
      },
      "outputs": [],
      "source": [
        "# print the keys\n",
        "d.keys()"
      ]
    },
    {
      "cell_type": "code",
      "execution_count": null,
      "metadata": {
        "id": "HPv-JLTm-b9y"
      },
      "outputs": [],
      "source": [
        "d.values()"
      ]
    },
    {
      "cell_type": "code",
      "execution_count": null,
      "metadata": {
        "id": "wdR8IZIh-b9y"
      },
      "outputs": [],
      "source": [
        "# how to get particular value\n",
        "d[2]"
      ]
    },
    {
      "cell_type": "code",
      "execution_count": null,
      "metadata": {
        "id": "BbNngmko-b9y"
      },
      "outputs": [],
      "source": [
        "# other way to get value as\n",
        "d.get(2)"
      ]
    },
    {
      "cell_type": "markdown",
      "metadata": {
        "id": "ls0pk1bV-b9y"
      },
      "source": [
        "## operator\n",
        "1- ARITHMETIC OPERATOR ( + , -, *, /, %, %%, **, ^\n",
        "2- ASSIGNMEN OPERATOR (=)\n",
        "3- RELATIONAL OPERATOR\n",
        "4- LOGICAL OPERATOR\n",
        "5- UNARY OPERATOR\n",
        "![image.png](attachment:image.png)"
      ]
    },
    {
      "cell_type": "markdown",
      "metadata": {
        "id": "WnpcSbKY-b9y"
      },
      "source": [
        "## Arithmetic operator"
      ]
    },
    {
      "cell_type": "code",
      "execution_count": null,
      "metadata": {
        "id": "udzXGHK6-b9y"
      },
      "outputs": [],
      "source": [
        "x1, y1 = 10, 5"
      ]
    },
    {
      "cell_type": "code",
      "execution_count": null,
      "metadata": {
        "id": "NR4rz72r-b9z"
      },
      "outputs": [],
      "source": [
        "#x1 ^ y1"
      ]
    },
    {
      "cell_type": "code",
      "execution_count": null,
      "metadata": {
        "id": "Na9xauCE-b9z"
      },
      "outputs": [],
      "source": [
        "x1  + y1"
      ]
    },
    {
      "cell_type": "code",
      "execution_count": null,
      "metadata": {
        "id": "HBQFpo0A-b9z"
      },
      "outputs": [],
      "source": [
        "x1 - y1"
      ]
    },
    {
      "cell_type": "code",
      "execution_count": null,
      "metadata": {
        "id": "Lx4zMVyL-b9z"
      },
      "outputs": [],
      "source": [
        "x1 * y1"
      ]
    },
    {
      "cell_type": "code",
      "execution_count": null,
      "metadata": {
        "id": "Zr66fLZa-b9z"
      },
      "outputs": [],
      "source": [
        "x1 / y1"
      ]
    },
    {
      "cell_type": "code",
      "execution_count": null,
      "metadata": {
        "id": "AneSidEM-b9z"
      },
      "outputs": [],
      "source": [
        "x1 // y1"
      ]
    },
    {
      "cell_type": "code",
      "execution_count": null,
      "metadata": {
        "id": "3WGhT1wR-b90"
      },
      "outputs": [],
      "source": [
        "x1 % y1"
      ]
    },
    {
      "cell_type": "code",
      "execution_count": null,
      "metadata": {
        "id": "Nf8xSg0d-b90"
      },
      "outputs": [],
      "source": [
        "x1 ** y1"
      ]
    },
    {
      "cell_type": "code",
      "execution_count": null,
      "metadata": {
        "id": "vydld3rj-b90"
      },
      "outputs": [],
      "source": [
        "x2 = 3\n",
        "y2 = 2\n",
        "x2 ** y2"
      ]
    },
    {
      "cell_type": "markdown",
      "metadata": {
        "id": "E-BSHHpB-b90"
      },
      "source": [
        "## Assignment operator"
      ]
    },
    {
      "cell_type": "code",
      "execution_count": null,
      "metadata": {
        "id": "9N3OK95R-b90"
      },
      "outputs": [],
      "source": [
        "x = 2"
      ]
    },
    {
      "cell_type": "code",
      "execution_count": null,
      "metadata": {
        "id": "HD7Lr1Id-b90"
      },
      "outputs": [],
      "source": [
        "x = x + 2 # if you want to increment by 2"
      ]
    },
    {
      "cell_type": "code",
      "execution_count": null,
      "metadata": {
        "id": "MLPmKQwt-b90"
      },
      "outputs": [],
      "source": [
        "x"
      ]
    },
    {
      "cell_type": "code",
      "execution_count": null,
      "metadata": {
        "id": "j1LWBqnl-b91"
      },
      "outputs": [],
      "source": [
        "x += 2\n",
        "x"
      ]
    },
    {
      "cell_type": "code",
      "execution_count": null,
      "metadata": {
        "id": "nZ9nTQyu-b91"
      },
      "outputs": [],
      "source": [
        "x += 2\n",
        "x"
      ]
    },
    {
      "cell_type": "code",
      "execution_count": null,
      "metadata": {
        "id": "tgZtfc_r-b91"
      },
      "outputs": [],
      "source": [
        "x *= 2"
      ]
    },
    {
      "cell_type": "code",
      "execution_count": null,
      "metadata": {
        "id": "bCJpsQkc-b92"
      },
      "outputs": [],
      "source": [
        "x"
      ]
    },
    {
      "cell_type": "code",
      "execution_count": null,
      "metadata": {
        "id": "X5aLFsxE-b92"
      },
      "outputs": [],
      "source": [
        "x -= 2"
      ]
    },
    {
      "cell_type": "code",
      "execution_count": null,
      "metadata": {
        "id": "QvoYkuYq-b92"
      },
      "outputs": [],
      "source": [
        "x"
      ]
    },
    {
      "cell_type": "code",
      "execution_count": null,
      "metadata": {
        "id": "xow6RR6d-b92"
      },
      "outputs": [],
      "source": [
        "x /= 2\n",
        "x"
      ]
    },
    {
      "cell_type": "code",
      "execution_count": null,
      "metadata": {
        "id": "HC5VZiG6-b92"
      },
      "outputs": [],
      "source": [
        "x //= 2\n",
        "x"
      ]
    },
    {
      "cell_type": "code",
      "execution_count": null,
      "metadata": {
        "id": "gE-RKpzu-b92"
      },
      "outputs": [],
      "source": [
        "a, b = 5,6 # you can assigned variable in one line as well"
      ]
    },
    {
      "cell_type": "code",
      "execution_count": null,
      "metadata": {
        "id": "aiP9xHPd-b93"
      },
      "outputs": [],
      "source": [
        "a"
      ]
    },
    {
      "cell_type": "code",
      "execution_count": null,
      "metadata": {
        "id": "8eM3h8zW-b93"
      },
      "outputs": [],
      "source": [
        "b"
      ]
    },
    {
      "cell_type": "markdown",
      "metadata": {
        "id": "JBzpoJQD-b93"
      },
      "source": [
        "## unary operator\n",
        "- unary means 1 || binary means 2\n",
        "- Here we are applying unary minus operator(-) on the operand n; the value of m becomes -7, which indicates it as a negative value."
      ]
    },
    {
      "cell_type": "code",
      "execution_count": null,
      "metadata": {
        "id": "lxtUPbmi-b93"
      },
      "outputs": [],
      "source": [
        "n = 7 #negattion\n",
        "n"
      ]
    },
    {
      "cell_type": "code",
      "execution_count": null,
      "metadata": {
        "id": "SrsYcGDm-b93"
      },
      "outputs": [],
      "source": [
        "m = -(n)\n",
        "m"
      ]
    },
    {
      "cell_type": "code",
      "execution_count": null,
      "metadata": {
        "id": "U6kfUgQA-b94"
      },
      "outputs": [],
      "source": [
        "n"
      ]
    },
    {
      "cell_type": "code",
      "execution_count": null,
      "metadata": {
        "id": "7Bhpzbyg-b94"
      },
      "outputs": [],
      "source": [
        "-n"
      ]
    },
    {
      "cell_type": "markdown",
      "metadata": {
        "id": "czVBVl6t-b94"
      },
      "source": [
        "# Relational operator\n",
        "we are using this operator for comparing"
      ]
    },
    {
      "cell_type": "code",
      "execution_count": null,
      "metadata": {
        "id": "qmMLqwWq-b94"
      },
      "outputs": [],
      "source": [
        "a = 5\n",
        "b = 6"
      ]
    },
    {
      "cell_type": "code",
      "execution_count": null,
      "metadata": {
        "id": "uz1pgQ-a-b94"
      },
      "outputs": [],
      "source": [
        "a<b"
      ]
    },
    {
      "cell_type": "code",
      "execution_count": null,
      "metadata": {
        "id": "35L3w-OF-b94"
      },
      "outputs": [],
      "source": [
        "a>b"
      ]
    },
    {
      "cell_type": "code",
      "execution_count": null,
      "metadata": {
        "id": "nj12NtJs-b94"
      },
      "outputs": [],
      "source": [
        "# a = b # we cannot use = operatro that means it is assigning"
      ]
    },
    {
      "cell_type": "code",
      "execution_count": null,
      "metadata": {
        "id": "INMA6EoB-b94"
      },
      "outputs": [],
      "source": [
        "a == b"
      ]
    },
    {
      "cell_type": "code",
      "execution_count": null,
      "metadata": {
        "id": "z92agnUf-b95"
      },
      "outputs": [],
      "source": [
        "a != b"
      ]
    },
    {
      "cell_type": "code",
      "execution_count": null,
      "metadata": {
        "id": "r8JLKlAD-b95"
      },
      "outputs": [],
      "source": [
        "# hear if i change b = 6\n",
        "b = 5"
      ]
    },
    {
      "cell_type": "code",
      "execution_count": null,
      "metadata": {
        "id": "gWvH5Bvg-b95"
      },
      "outputs": [],
      "source": [
        "a == b"
      ]
    },
    {
      "cell_type": "code",
      "execution_count": null,
      "metadata": {
        "id": "F0ucxups-b95"
      },
      "outputs": [],
      "source": [
        "a"
      ]
    },
    {
      "cell_type": "code",
      "execution_count": null,
      "metadata": {
        "id": "8d63yjMa-b95"
      },
      "outputs": [],
      "source": [
        "b"
      ]
    },
    {
      "cell_type": "code",
      "execution_count": null,
      "metadata": {
        "id": "zVUNPU_A-b95"
      },
      "outputs": [],
      "source": [
        "a >= b"
      ]
    },
    {
      "cell_type": "code",
      "execution_count": null,
      "metadata": {
        "id": "LSO0itUb-b95"
      },
      "outputs": [],
      "source": [
        "a <= b"
      ]
    },
    {
      "cell_type": "code",
      "execution_count": null,
      "metadata": {
        "id": "iZ1H7trJ-b95"
      },
      "outputs": [],
      "source": [
        "a < b"
      ]
    },
    {
      "cell_type": "code",
      "execution_count": null,
      "metadata": {
        "id": "wT1p99Ok-b95"
      },
      "outputs": [],
      "source": [
        "a>b"
      ]
    },
    {
      "cell_type": "code",
      "execution_count": null,
      "metadata": {
        "id": "vcEdZgfm-b95"
      },
      "outputs": [],
      "source": [
        "b = 7"
      ]
    },
    {
      "cell_type": "code",
      "execution_count": null,
      "metadata": {
        "id": "-k7My4Cb-b96"
      },
      "outputs": [],
      "source": [
        "a != b"
      ]
    },
    {
      "cell_type": "markdown",
      "metadata": {
        "id": "9TQ_DSUT-b96"
      },
      "source": [
        "## LOGICAL OPERATOR\n",
        "- logical operator you need to understand about true & false table\n",
        "![image.png](attachment:image.png)\n",
        "- 3 importand part of logical operator is --> AND, OR, NOT\n",
        "\n",
        "\n"
      ]
    },
    {
      "cell_type": "markdown",
      "metadata": {
        "id": "DDqm64cg-b96"
      },
      "source": [
        "- lets understand the truth table:- in truth table you can represent (true-1 & false means- 0)\n",
        "![image.png](attachment:image.png)"
      ]
    },
    {
      "cell_type": "markdown",
      "metadata": {
        "id": "llVGM0_D-b96"
      },
      "source": [
        "![image.png](attachment:image.png)"
      ]
    },
    {
      "cell_type": "markdown",
      "metadata": {
        "id": "AZ3oTr8P-b96"
      },
      "source": [
        "![image.png](attachment:image.png)"
      ]
    },
    {
      "cell_type": "code",
      "execution_count": null,
      "metadata": {
        "id": "8oB8mHIV-b96"
      },
      "outputs": [],
      "source": [
        "a = 5\n",
        "b = 4"
      ]
    },
    {
      "cell_type": "code",
      "execution_count": null,
      "metadata": {
        "id": "mOV6FpSU-b96"
      },
      "outputs": [],
      "source": [
        "a < 8 and b < 5 #refer to the truth table"
      ]
    },
    {
      "cell_type": "code",
      "execution_count": null,
      "metadata": {
        "id": "RjEcfpiR-b97"
      },
      "outputs": [],
      "source": [
        "a < 8 and b < 2"
      ]
    },
    {
      "cell_type": "code",
      "execution_count": null,
      "metadata": {
        "id": "-qGuLPTa-b97"
      },
      "outputs": [],
      "source": [
        "a < 8 or b < 2"
      ]
    },
    {
      "cell_type": "code",
      "execution_count": null,
      "metadata": {
        "id": "J75xHeER-b97"
      },
      "outputs": [],
      "source": [
        "a>8 or b<2"
      ]
    },
    {
      "cell_type": "code",
      "execution_count": null,
      "metadata": {
        "id": "tP_Nj9xE-b97"
      },
      "outputs": [],
      "source": [
        "x = False\n",
        "x"
      ]
    },
    {
      "cell_type": "code",
      "execution_count": null,
      "metadata": {
        "id": "5J2fQYZL-b97"
      },
      "outputs": [],
      "source": [
        "not x  # you can reverse the operation"
      ]
    },
    {
      "cell_type": "code",
      "execution_count": null,
      "metadata": {
        "id": "S2XDS5g6-b98"
      },
      "outputs": [],
      "source": [
        "x = not x\n",
        "x"
      ]
    },
    {
      "cell_type": "code",
      "execution_count": null,
      "metadata": {
        "id": "wvHFo4xo-b98"
      },
      "outputs": [],
      "source": [
        "x"
      ]
    },
    {
      "cell_type": "code",
      "execution_count": null,
      "metadata": {
        "id": "BzFR07Mp-b98"
      },
      "outputs": [],
      "source": [
        "not x"
      ]
    },
    {
      "cell_type": "markdown",
      "metadata": {
        "id": "EUplERdn-b98"
      },
      "source": [
        "## Number system coverstion (bit-binary digit)\n",
        "- In the programing we are using binary system, octal system, decimal system & hexadecimal system\n",
        "- but where do we use this in cmd - you can check your ip address & lets understand how to convert from one system to other system\n",
        "- when you check ipaddress you will these format --> cmd - ipconfig\n",
        "![image.png](attachment:image.png)\n"
      ]
    },
    {
      "cell_type": "markdown",
      "metadata": {
        "id": "EkZusK1D-b98"
      },
      "source": [
        "binary : base (0-1) --> please divide 15/2 & count in reverse order\n",
        "ocatl : base (0-7)\n",
        "hexadecimal : base (0-9 & then a-f)\n",
        "![image.png](attachment:image.png)\n"
      ]
    },
    {
      "cell_type": "markdown",
      "metadata": {
        "id": "zzSURTKn-b99"
      },
      "source": [
        "![image.png](attachment:image.png)"
      ]
    },
    {
      "cell_type": "markdown",
      "metadata": {
        "id": "53lLHAY_-b99"
      },
      "source": [
        "![image.png](attachment:image.png)"
      ]
    },
    {
      "cell_type": "code",
      "execution_count": null,
      "metadata": {
        "id": "Q1pmLQJU-b99"
      },
      "outputs": [],
      "source": [
        "25"
      ]
    },
    {
      "cell_type": "code",
      "execution_count": null,
      "metadata": {
        "id": "5wbZePOg-b99"
      },
      "outputs": [],
      "source": [
        "bin(25)"
      ]
    },
    {
      "cell_type": "code",
      "execution_count": null,
      "metadata": {
        "id": "gq7OFYHD-b99"
      },
      "outputs": [],
      "source": [
        "bin(30)"
      ]
    },
    {
      "cell_type": "code",
      "execution_count": null,
      "metadata": {
        "id": "B7By5tZj-b99"
      },
      "outputs": [],
      "source": [
        "int(0b11001)"
      ]
    },
    {
      "cell_type": "code",
      "execution_count": null,
      "metadata": {
        "id": "nGpbIyDk-b99"
      },
      "outputs": [],
      "source": [
        "oct(25)"
      ]
    },
    {
      "cell_type": "code",
      "execution_count": null,
      "metadata": {
        "id": "QFxkmF2g-b9-"
      },
      "outputs": [],
      "source": [
        "0o31"
      ]
    },
    {
      "cell_type": "markdown",
      "metadata": {
        "id": "FFlCmFT3-b9-"
      },
      "source": [
        "![image.png](attachment:image.png)"
      ]
    },
    {
      "cell_type": "code",
      "execution_count": null,
      "metadata": {
        "id": "Kx9j-MpJ-b9-"
      },
      "outputs": [],
      "source": [
        "0b11001"
      ]
    },
    {
      "cell_type": "code",
      "execution_count": null,
      "metadata": {
        "id": "AqGj_RIN-b9-"
      },
      "outputs": [],
      "source": [
        "int(0b11001)"
      ]
    },
    {
      "cell_type": "code",
      "execution_count": null,
      "metadata": {
        "id": "7WD0wFtQ-b9-"
      },
      "outputs": [],
      "source": [
        "bin(7)"
      ]
    },
    {
      "cell_type": "code",
      "execution_count": null,
      "metadata": {
        "id": "V4EayMAw-b9-"
      },
      "outputs": [],
      "source": [
        "oct(25)"
      ]
    },
    {
      "cell_type": "code",
      "execution_count": null,
      "metadata": {
        "id": "G-5DyJ4o-b9-"
      },
      "outputs": [],
      "source": [
        "0o31"
      ]
    },
    {
      "cell_type": "code",
      "execution_count": null,
      "metadata": {
        "id": "Cf2olm62-b9-"
      },
      "outputs": [],
      "source": [
        "int(0o31)"
      ]
    },
    {
      "cell_type": "code",
      "execution_count": null,
      "metadata": {
        "id": "WAEivxgi-b9-"
      },
      "outputs": [],
      "source": [
        "hex(25)"
      ]
    },
    {
      "cell_type": "code",
      "execution_count": null,
      "metadata": {
        "id": "928mA6dQ-b9-"
      },
      "outputs": [],
      "source": [
        "0x19"
      ]
    },
    {
      "cell_type": "code",
      "execution_count": null,
      "metadata": {
        "id": "TUlvtEp3-b9_"
      },
      "outputs": [],
      "source": [
        "hex(16)"
      ]
    },
    {
      "cell_type": "code",
      "execution_count": null,
      "metadata": {
        "id": "HCmdnr0H-b9_"
      },
      "outputs": [],
      "source": [
        "0xa"
      ]
    },
    {
      "cell_type": "code",
      "execution_count": null,
      "metadata": {
        "id": "7skJTdTq-b9_"
      },
      "outputs": [],
      "source": [
        "0xb"
      ]
    },
    {
      "cell_type": "code",
      "execution_count": null,
      "metadata": {
        "id": "bqf8EvEv-b9_"
      },
      "outputs": [],
      "source": [
        "hex(1)"
      ]
    },
    {
      "cell_type": "markdown",
      "metadata": {
        "id": "WFTUeZcP-b9_"
      },
      "source": [
        "![image.png](attachment:image.png)"
      ]
    },
    {
      "cell_type": "code",
      "execution_count": null,
      "metadata": {
        "id": "FWf3COtN-b9_"
      },
      "outputs": [],
      "source": [
        "hex(25)"
      ]
    },
    {
      "cell_type": "markdown",
      "metadata": {
        "id": "IFTAFhfK-b9_"
      },
      "source": [
        "![image.png](attachment:image.png)"
      ]
    },
    {
      "cell_type": "code",
      "execution_count": null,
      "metadata": {
        "id": "XWZiy9Av-b9_"
      },
      "outputs": [],
      "source": [
        "0x19"
      ]
    },
    {
      "cell_type": "code",
      "execution_count": null,
      "metadata": {
        "id": "pbpGpsFg-b9_"
      },
      "outputs": [],
      "source": [
        "0x15"
      ]
    },
    {
      "cell_type": "markdown",
      "metadata": {
        "id": "BUv6YzDz-b9_"
      },
      "source": [
        "## swap 2-variable in python\n",
        "\n",
        "(a,b = 5,6) After swap we should get  ==> (a, b = 6,5 )"
      ]
    },
    {
      "cell_type": "code",
      "execution_count": null,
      "metadata": {
        "id": "2kQp1SOm-b-A"
      },
      "outputs": [],
      "source": [
        "a = 5\n",
        "b = 6"
      ]
    },
    {
      "cell_type": "code",
      "execution_count": null,
      "metadata": {
        "id": "VzdzbaGD-b-A"
      },
      "outputs": [],
      "source": [
        "a = b\n",
        "b = a"
      ]
    },
    {
      "cell_type": "code",
      "execution_count": null,
      "metadata": {
        "id": "S3q0Odsg-b-A"
      },
      "outputs": [],
      "source": [
        "print(a)\n",
        "print(b)"
      ]
    },
    {
      "cell_type": "code",
      "execution_count": null,
      "metadata": {
        "id": "ACfL8wlO-b-A"
      },
      "outputs": [],
      "source": [
        "# in above scenario we lost the value 5\n",
        "a1 = 7\n",
        "b1 = 8"
      ]
    },
    {
      "cell_type": "code",
      "execution_count": null,
      "metadata": {
        "id": "gnlypWgo-b-A"
      },
      "outputs": [],
      "source": [
        "temp = a1\n",
        "a1 = b1\n",
        "b1 = temp"
      ]
    },
    {
      "cell_type": "code",
      "execution_count": null,
      "metadata": {
        "id": "G-hAI3Rb-b-A"
      },
      "outputs": [],
      "source": [
        "print(a1)\n",
        "print(b1)"
      ]
    },
    {
      "cell_type": "markdown",
      "metadata": {
        "id": "IrMFmD74-b-B"
      },
      "source": [
        "- in the above code we are using third variable\n",
        "- in interview they might ask can we swap better way without using 3rd variable\n",
        "![image.png](attachment:image.png)"
      ]
    },
    {
      "cell_type": "code",
      "execution_count": null,
      "metadata": {
        "id": "p7FgFWSF-b-B"
      },
      "outputs": [],
      "source": [
        "a2 = 5\n",
        "b2 = 6"
      ]
    },
    {
      "cell_type": "code",
      "execution_count": null,
      "metadata": {
        "id": "tjEoesmk-b-B"
      },
      "outputs": [],
      "source": [
        "#swap variable formulas without using 3rd formul\n",
        "a2 = a2 + b2 # 5+6 = 11\n",
        "b2 = a2 - b2 # 11-6 = 5\n",
        "a2 = a2 - b2 # 11-5 = 6"
      ]
    },
    {
      "cell_type": "code",
      "execution_count": null,
      "metadata": {
        "id": "bspcm_DP-b-B"
      },
      "outputs": [],
      "source": [
        "print(a2)\n",
        "print(b2)"
      ]
    },
    {
      "cell_type": "code",
      "execution_count": null,
      "metadata": {
        "id": "ExwJvnYa-b-B"
      },
      "outputs": [],
      "source": [
        "0b110"
      ]
    },
    {
      "cell_type": "code",
      "execution_count": null,
      "metadata": {
        "id": "Ika1ADXi-b-C"
      },
      "outputs": [],
      "source": [
        "0b101"
      ]
    },
    {
      "cell_type": "code",
      "execution_count": null,
      "metadata": {
        "id": "asvlFzES-b-C"
      },
      "outputs": [],
      "source": [
        "print(0b110)\n",
        "print(0b101)"
      ]
    },
    {
      "cell_type": "code",
      "execution_count": null,
      "metadata": {
        "id": "ZCV3WxjC-b-C"
      },
      "outputs": [],
      "source": [
        "print(0b101)\n",
        "print(0b110)"
      ]
    },
    {
      "cell_type": "code",
      "execution_count": null,
      "metadata": {
        "id": "GaJwTnqY-b-C"
      },
      "outputs": [],
      "source": [
        "#but when we use a2 + b2 then we get 11 that means we will get 4 bit which is 1 bit extra\n",
        "print(bin(11))\n",
        "print(0b1011)"
      ]
    },
    {
      "cell_type": "markdown",
      "metadata": {
        "id": "6PG8bfJ3-b-C"
      },
      "source": [
        "![image.png](attachment:image.png)\n",
        "-there is other way to work using swap variable also which is XOR because it will not waste extra bit"
      ]
    },
    {
      "cell_type": "markdown",
      "metadata": {
        "id": "9f6V6Toj-b-D"
      },
      "source": [
        "![image.png](attachment:image.png)"
      ]
    },
    {
      "cell_type": "markdown",
      "metadata": {
        "id": "hXpZuJA0-b-D"
      },
      "source": [
        "![image.png](attachment:image.png)"
      ]
    },
    {
      "cell_type": "code",
      "execution_count": null,
      "metadata": {
        "id": "m1tCVMyj-b-D"
      },
      "outputs": [],
      "source": [
        "print(a2)\n",
        "print(b2)"
      ]
    },
    {
      "cell_type": "code",
      "execution_count": null,
      "metadata": {
        "id": "ASf8Hvr7-b-D"
      },
      "outputs": [],
      "source": [
        "#there is other way to work using swap variable also which is XOR because it will not waste extra bit\n",
        "a2 = a2 ^ b2\n",
        "b2 = a2 ^ b2\n",
        "a2 = a2 ^ b2"
      ]
    },
    {
      "cell_type": "code",
      "execution_count": null,
      "metadata": {
        "id": "gwAVIWI5-b-D"
      },
      "outputs": [],
      "source": [
        "print(a2)\n",
        "print(b2)"
      ]
    },
    {
      "cell_type": "code",
      "execution_count": null,
      "metadata": {
        "id": "dqsZ3FnG-b-E"
      },
      "outputs": [],
      "source": [
        "a2, b2"
      ]
    },
    {
      "cell_type": "code",
      "execution_count": null,
      "metadata": {
        "id": "mWeuX_4M-b-E"
      },
      "outputs": [],
      "source": [
        "a2 , b2 = b2, a2 # how it work is b2 6 a2 is 5 first it goes into stack & then it reverse the 2 vlaues"
      ]
    },
    {
      "cell_type": "code",
      "execution_count": null,
      "metadata": {
        "id": "DJMyUi6n-b-E"
      },
      "outputs": [],
      "source": [
        "print(a2)\n",
        "print(b2)"
      ]
    },
    {
      "cell_type": "markdown",
      "metadata": {
        "id": "tFxL5Pap-b-E"
      },
      "source": [
        "![image.png](attachment:image.png)\n",
        "\n",
        "- internally it uses the rotational concept"
      ]
    },
    {
      "cell_type": "markdown",
      "metadata": {
        "id": "5xbB2560-b-E"
      },
      "source": [
        "## BITWISE OPERATOR\n",
        "- WE HAVE 6 OPERATORS\n",
        "COMPLEMENT ( ~ ) || AND ( & )  || OR ( | ) || XOR ( ^ ) || LEFT SHIFT ( << ) || RIGHT SHIFT ( >> )\n",
        "![image.png](attachment:image.png)"
      ]
    },
    {
      "cell_type": "code",
      "execution_count": null,
      "metadata": {
        "id": "c69R51-R-b-E"
      },
      "outputs": [],
      "source": [
        "print(bin(12))\n",
        "print(bin(13))"
      ]
    },
    {
      "cell_type": "code",
      "execution_count": null,
      "metadata": {
        "id": "ywLwBjVi-b-F"
      },
      "outputs": [],
      "source": [
        "0b1101"
      ]
    },
    {
      "cell_type": "code",
      "execution_count": null,
      "metadata": {
        "id": "zzsrSzp4-b-F"
      },
      "outputs": [],
      "source": [
        "0b1100"
      ]
    },
    {
      "cell_type": "markdown",
      "metadata": {
        "id": "g7MOz1dv-b-F"
      },
      "source": [
        "# complement --> you will get this key below esc character\n",
        "12 ==> 1100 ||\n",
        "- first thing we need to understand what is mean by complement.\n",
        "- complement means it will do reverse of the binary format i.e. - ~0 it will give you 1 ~1 it will give 0\n",
        "- 12 binary format is 00001100 ( complement of ~00001100 reverse the number - 11110011 which is (-13)\n",
        "- in the virtual memory we cant store -ve number & the only way to store the -ve value by using complimentory\n",
        "- but the question is why we got -13\n",
        "- to understand this concept ( we have concept of 2's complement\n",
        "- 2's complement mean (1's complement + 1)\n",
        "- in the system we can store +Ve number but how to store -ve number\n",
        "\n",
        "- lets understand binary form of 13 - 00001101 + 1\n",
        " ![image.png](attachment:image.png)"
      ]
    },
    {
      "cell_type": "code",
      "execution_count": null,
      "metadata": {
        "id": "Nr-pcWgc-b-F"
      },
      "outputs": [],
      "source": [
        "# COMPLEMENT (~) (TILDE  OR TILD)\n",
        "~12 # why we get -13 . first we understand what is complment means (reversr of binary format)"
      ]
    },
    {
      "cell_type": "code",
      "execution_count": null,
      "metadata": {
        "id": "2idFw9MX-b-G"
      },
      "outputs": [],
      "source": [
        "~46"
      ]
    },
    {
      "cell_type": "code",
      "execution_count": null,
      "metadata": {
        "id": "-w35618d-b-H"
      },
      "outputs": [],
      "source": [
        "~54"
      ]
    },
    {
      "cell_type": "code",
      "execution_count": null,
      "metadata": {
        "id": "QHRf9iHd-b-H"
      },
      "outputs": [],
      "source": [
        "~10"
      ]
    },
    {
      "cell_type": "markdown",
      "metadata": {
        "id": "e75zDCWL-b-I"
      },
      "source": [
        "# bit wise and operator\n",
        "\n",
        "AND - LOGICAL OPERATOR ||| & - BITWISE AND OPERATOR  \n",
        "(we know that 1 & 1 is 1)\n",
        "12 - 00001100\n",
        "13 - 00001101\n",
        "when we are add both then then outut we will get as 12\n",
        "\n",
        "![image.png](attachment:image.png)\n"
      ]
    },
    {
      "cell_type": "markdown",
      "metadata": {
        "id": "6C9xLbWW-b-I"
      },
      "source": [
        "![image.png](attachment:image.png)"
      ]
    },
    {
      "cell_type": "code",
      "execution_count": null,
      "metadata": {
        "id": "EK4So3G9-b-I"
      },
      "outputs": [],
      "source": [
        "12 & 13"
      ]
    },
    {
      "cell_type": "code",
      "execution_count": null,
      "metadata": {
        "id": "PDFr6gbr-b-I"
      },
      "outputs": [],
      "source": [
        "12 | 13"
      ]
    },
    {
      "cell_type": "code",
      "execution_count": null,
      "metadata": {
        "id": "fbNBBf77-b-J"
      },
      "outputs": [],
      "source": [
        "1 & 0"
      ]
    },
    {
      "cell_type": "code",
      "execution_count": null,
      "metadata": {
        "id": "O3Y696XY-b-J"
      },
      "outputs": [],
      "source": [
        "1 | 0"
      ]
    },
    {
      "cell_type": "markdown",
      "metadata": {
        "id": "L6d_UO3i-b-J"
      },
      "source": [
        "![image.png](attachment:image.png)"
      ]
    },
    {
      "cell_type": "code",
      "execution_count": null,
      "metadata": {
        "id": "J9jA85Uu-b-J"
      },
      "outputs": [],
      "source": [
        "bin(13)"
      ]
    },
    {
      "cell_type": "code",
      "execution_count": null,
      "metadata": {
        "id": "2ZvWZk7--b-J"
      },
      "outputs": [],
      "source": [
        "print(bin(35))\n",
        "print(bin(40))"
      ]
    },
    {
      "cell_type": "code",
      "execution_count": null,
      "metadata": {
        "id": "z9eO30Pk-b-K"
      },
      "outputs": [],
      "source": [
        "35 & 40 #please do the homework conververt 35,40 to binary format"
      ]
    },
    {
      "cell_type": "code",
      "execution_count": null,
      "metadata": {
        "id": "DFs5_coq-b-K"
      },
      "outputs": [],
      "source": [
        "35 | 40"
      ]
    },
    {
      "cell_type": "code",
      "execution_count": null,
      "metadata": {
        "id": "Xb8efP6C-b-L"
      },
      "outputs": [],
      "source": [
        "25^30"
      ]
    },
    {
      "cell_type": "code",
      "execution_count": null,
      "metadata": {
        "id": "R5dbPtWb-b-L"
      },
      "outputs": [],
      "source": [
        "bin(7)"
      ]
    },
    {
      "cell_type": "code",
      "execution_count": null,
      "metadata": {
        "id": "TiWl8437-b-L"
      },
      "outputs": [],
      "source": [
        "print(bin(25))\n",
        "print(bin(30))"
      ]
    },
    {
      "cell_type": "code",
      "execution_count": null,
      "metadata": {
        "id": "nUGwUhid-b-L"
      },
      "outputs": [],
      "source": [
        "bin(25)"
      ]
    },
    {
      "cell_type": "code",
      "execution_count": null,
      "metadata": {
        "id": "vivs5Qqb-b-L"
      },
      "outputs": [],
      "source": [
        "bin(30)"
      ]
    },
    {
      "cell_type": "code",
      "execution_count": null,
      "metadata": {
        "id": "g3va9ysA-b-L"
      },
      "outputs": [],
      "source": [
        "0b00111"
      ]
    },
    {
      "cell_type": "code",
      "execution_count": null,
      "metadata": {
        "id": "gNNjxkGp-b-M"
      },
      "outputs": [],
      "source": [
        "bin(10)"
      ]
    },
    {
      "cell_type": "code",
      "execution_count": null,
      "metadata": {
        "id": "gTLBEnYx-b-M"
      },
      "outputs": [],
      "source": [
        "10<<1"
      ]
    },
    {
      "cell_type": "code",
      "execution_count": null,
      "metadata": {
        "id": "S9017_8i-b-M"
      },
      "outputs": [],
      "source": [
        "10<<2"
      ]
    },
    {
      "cell_type": "markdown",
      "metadata": {
        "id": "suVKOSr1-b-M"
      },
      "source": [
        "![image.png](attachment:image.png)"
      ]
    },
    {
      "cell_type": "code",
      "execution_count": null,
      "metadata": {
        "id": "crhZDnFe-b-M"
      },
      "outputs": [],
      "source": [
        "bin(10)"
      ]
    },
    {
      "cell_type": "code",
      "execution_count": null,
      "metadata": {
        "id": "C4gDjvFU-b-N"
      },
      "outputs": [],
      "source": [
        "10<<1"
      ]
    },
    {
      "cell_type": "code",
      "execution_count": null,
      "metadata": {
        "id": "FoU4W1oG-b-N"
      },
      "outputs": [],
      "source": [
        "# BIT WISE LEFT SHIFT OPERATOR\n",
        "# in left shift what we need to to we need shift in left hand side & need to shift 2 bits\n",
        "#bit wise left operator bydefault you will take 2 zeros ( )\n",
        "#10 binary operator is 1010 | also i can say 1010\n",
        "10<<2"
      ]
    },
    {
      "cell_type": "code",
      "execution_count": null,
      "metadata": {
        "id": "XVUg7xgj-b-N"
      },
      "outputs": [],
      "source": [
        "10<<3"
      ]
    },
    {
      "cell_type": "markdown",
      "metadata": {
        "id": "GNOxp4-g-b-N"
      },
      "source": [
        "![image.png](attachment:image.png)"
      ]
    },
    {
      "cell_type": "code",
      "execution_count": null,
      "metadata": {
        "id": "jedVUDrQ-b-N"
      },
      "outputs": [],
      "source": [
        "bin(20)"
      ]
    },
    {
      "cell_type": "code",
      "execution_count": null,
      "metadata": {
        "id": "rP7o3pc3-b-O"
      },
      "outputs": [],
      "source": [
        "20<<4 #can we do this"
      ]
    },
    {
      "cell_type": "markdown",
      "metadata": {
        "id": "mBmAHDfY-b-O"
      },
      "source": [
        "# BITWISE RIGHTSHIFT OPERATOR\n",
        "- left side we are gaining the bits\n",
        "- right side we are lossing bits\n",
        "\n",
        "![image.png](attachment:image.png)\n"
      ]
    },
    {
      "cell_type": "code",
      "execution_count": null,
      "metadata": {
        "id": "Cr5Ndj-j-b-O"
      },
      "outputs": [],
      "source": [
        "bin(10)"
      ]
    },
    {
      "cell_type": "code",
      "execution_count": null,
      "metadata": {
        "id": "lysSzVR3-b-O"
      },
      "outputs": [],
      "source": [
        "10 >> 1"
      ]
    },
    {
      "cell_type": "code",
      "execution_count": null,
      "metadata": {
        "id": "1-DZmuas-b-O"
      },
      "outputs": [],
      "source": [
        "10>>2"
      ]
    },
    {
      "cell_type": "code",
      "execution_count": null,
      "metadata": {
        "id": "pfNuhBgR-b-P"
      },
      "outputs": [],
      "source": [
        "10>>3"
      ]
    },
    {
      "cell_type": "code",
      "execution_count": null,
      "metadata": {
        "id": "VhbZwuC--b-P"
      },
      "outputs": [],
      "source": [
        "bin(20)"
      ]
    },
    {
      "cell_type": "code",
      "execution_count": null,
      "metadata": {
        "id": "hNAtdZK0-b-P"
      },
      "outputs": [],
      "source": [
        "20>>4"
      ]
    },
    {
      "cell_type": "code",
      "execution_count": null,
      "metadata": {
        "id": "SmE1_SPC-b-P"
      },
      "outputs": [],
      "source": [
        "import keyword\n",
        "keyword.kwlist"
      ]
    },
    {
      "cell_type": "markdown",
      "metadata": {
        "id": "E1E8G3UT-b-P"
      },
      "source": [
        "### import math function\n",
        "https://docs.python.org/3/library/math.html"
      ]
    },
    {
      "cell_type": "code",
      "execution_count": null,
      "metadata": {
        "id": "tm4bWusR-b-P"
      },
      "outputs": [],
      "source": [
        "x = sqrt(25) #sqrt is inbuild function"
      ]
    },
    {
      "cell_type": "code",
      "execution_count": null,
      "metadata": {
        "id": "9nmL5o6K-b-P"
      },
      "outputs": [],
      "source": [
        "#help()"
      ]
    },
    {
      "cell_type": "code",
      "execution_count": null,
      "metadata": {
        "id": "RV5ZqgVD-b-Q"
      },
      "outputs": [],
      "source": [
        "import math # math is module"
      ]
    },
    {
      "cell_type": "code",
      "execution_count": null,
      "metadata": {
        "id": "34CxB352-b-Q"
      },
      "outputs": [],
      "source": [
        "x = math.sqrt(25)\n",
        "x"
      ]
    },
    {
      "cell_type": "code",
      "execution_count": null,
      "metadata": {
        "id": "-ph6Un6f-b-Q"
      },
      "outputs": [],
      "source": [
        "x1 = math.sqrt(15)\n",
        "x1"
      ]
    },
    {
      "cell_type": "code",
      "execution_count": null,
      "metadata": {
        "id": "u2_WM3U0-b-Q"
      },
      "outputs": [],
      "source": [
        "print(math.floor(3.87)) #floor - minimum or least value"
      ]
    },
    {
      "cell_type": "code",
      "execution_count": null,
      "metadata": {
        "id": "LIIaLWbs-b-Q"
      },
      "outputs": [],
      "source": [
        "print(math.ceil(3.87)) #ceil - maximum or highest value"
      ]
    },
    {
      "cell_type": "markdown",
      "metadata": {
        "id": "9mzSXjPL-b-Q"
      },
      "source": [
        "![image.png](attachment:image.png)"
      ]
    },
    {
      "cell_type": "code",
      "execution_count": null,
      "metadata": {
        "id": "nwxOY5fs-b-Q"
      },
      "outputs": [],
      "source": [
        "print(math.pow(3,2))"
      ]
    },
    {
      "cell_type": "code",
      "execution_count": null,
      "metadata": {
        "id": "_VLX12Ln-b-R"
      },
      "outputs": [],
      "source": [
        "print(math.pi) #these are constant"
      ]
    },
    {
      "cell_type": "code",
      "execution_count": null,
      "metadata": {
        "id": "MNOwomL2-b-R"
      },
      "outputs": [],
      "source": [
        "print(math.e) # e - epsilon values"
      ]
    },
    {
      "cell_type": "code",
      "execution_count": null,
      "metadata": {
        "id": "Ce5F4NY5-b-R"
      },
      "outputs": [],
      "source": [
        "m.sqrt(25)"
      ]
    },
    {
      "cell_type": "code",
      "execution_count": null,
      "metadata": {
        "id": "HYO_WnmK-b-R"
      },
      "outputs": [],
      "source": [
        "import math as m # we need to use concept aliseing, instead of math we are using as m\n",
        "m.sqrt(10) #if you are lazy to type then you can use m or else you can use math"
      ]
    },
    {
      "cell_type": "code",
      "execution_count": null,
      "metadata": {
        "id": "sggDtv-8-b-R"
      },
      "outputs": [],
      "source": [
        "from math import sqrt, pow # math has many function if you want to import specific function then use import\n",
        "print(pow(2,3))\n",
        "print(m.sqrt(10))"
      ]
    },
    {
      "cell_type": "code",
      "execution_count": null,
      "metadata": {
        "id": "MZ9xLbaW-b-R"
      },
      "outputs": [],
      "source": [
        "from math import sqrt, pow, floor, ceil # math has many function if you want to import specific function then use import\n",
        "\n",
        "print(pow(2,3))\n",
        "print(sqrt(10))\n",
        "print(floor(2.3))\n",
        "print(ceil(2.3))"
      ]
    },
    {
      "cell_type": "code",
      "execution_count": null,
      "metadata": {
        "id": "sp_i8LE8-b-R"
      },
      "outputs": [],
      "source": [
        "from math import sqrt, pow\n",
        "\n",
        "print(pow(2,3))\n",
        "print(sqrt(10))\n",
        "print(floor(2.3))\n",
        "print(ceil(2.3))"
      ]
    },
    {
      "cell_type": "code",
      "execution_count": null,
      "metadata": {
        "id": "h_UlgtAN-b-R"
      },
      "outputs": [],
      "source": [
        "from math import *\n",
        "\n",
        "print(pow(2,3))\n",
        "print(sqrt(10))\n",
        "print(floor(2.3))\n",
        "print(ceil(2.3))"
      ]
    },
    {
      "cell_type": "code",
      "execution_count": null,
      "metadata": {
        "id": "H_DLg2nM-b-S"
      },
      "outputs": [],
      "source": [
        "from math import *\n",
        "\n",
        "print(pow(2,3))\n",
        "print(math.sqrt(10))"
      ]
    },
    {
      "cell_type": "code",
      "execution_count": null,
      "metadata": {
        "id": "rkHz4LKY-b-S"
      },
      "outputs": [],
      "source": [
        "round(pow(2,3))"
      ]
    },
    {
      "cell_type": "code",
      "execution_count": null,
      "metadata": {
        "id": "Scca3Kzm-b-S"
      },
      "outputs": [],
      "source": [
        "#help(math)"
      ]
    },
    {
      "cell_type": "markdown",
      "metadata": {
        "id": "wbtOboXr-b-S"
      },
      "source": [
        "![image.png](attachment:image.png)"
      ]
    },
    {
      "cell_type": "raw",
      "metadata": {
        "id": "xjXot3PR-b-S"
      },
      "source": [
        "# how to exeucute test file in using command line\n",
        "# pycharm run debug\n",
        "# how to install python idle\n",
        "# how to install pycharm & starts working on pycharm\n",
        "# run test1.py for run, debug\n",
        "# we are also using pycharm for loop & important deep learning & computer viso,Neural network concept"
      ]
    },
    {
      "cell_type": "markdown",
      "metadata": {
        "id": "AhD9q59m-b-S"
      },
      "source": [
        "### user input function in python || command line input\n",
        "\n",
        "- how to get input from user"
      ]
    },
    {
      "cell_type": "code",
      "execution_count": null,
      "metadata": {
        "id": "98JO1Ums-b-S"
      },
      "outputs": [],
      "source": [
        "x = input()\n",
        "x"
      ]
    },
    {
      "cell_type": "code",
      "execution_count": null,
      "metadata": {
        "id": "MsQWw8m2-b-S"
      },
      "outputs": [],
      "source": [
        "x = input()\n",
        "y = input()\n",
        "z = x + y\n",
        "print(z) # console is waiting for user to enter input\n",
        "# also if you work in idle"
      ]
    },
    {
      "cell_type": "code",
      "execution_count": null,
      "metadata": {
        "id": "R76qhvV2-b-T"
      },
      "outputs": [],
      "source": [
        "type(y)"
      ]
    },
    {
      "cell_type": "code",
      "execution_count": null,
      "metadata": {
        "id": "N_-rpZqk-b-T"
      },
      "outputs": [],
      "source": [
        "type(z)"
      ]
    },
    {
      "cell_type": "code",
      "execution_count": null,
      "metadata": {
        "id": "g5GCsjHh-b-T"
      },
      "outputs": [],
      "source": [
        "x1 = input('Enter the 1st number') #whenevery you works in input function it always give you string\n",
        "y1 = input('Enter the 2nd number') # it wont understand as arithmetic operator\n",
        "z1 = x1 + y1\n",
        "print(z1)"
      ]
    },
    {
      "cell_type": "code",
      "execution_count": null,
      "metadata": {
        "id": "QfQlG0eM-b-T"
      },
      "outputs": [],
      "source": [
        "print(type(x1))\n",
        "print(type(y1))"
      ]
    },
    {
      "cell_type": "code",
      "execution_count": null,
      "metadata": {
        "id": "EM-P4WTp-b-U"
      },
      "outputs": [],
      "source": [
        "x1 = input('Enter the 1st number') #whenevery you works in input function it always give you string\n",
        "a1 = int(x1)\n",
        "y1 = input('Enter the 2nd number') # it wont understand as arithmetic operator\n",
        "b1 = int(y1)\n",
        "z1 = a1 + b1\n",
        "print(z1)"
      ]
    },
    {
      "cell_type": "markdown",
      "metadata": {
        "id": "wlN9S47z-b-U"
      },
      "source": [
        "for the above code notice we are using many lines because fo that wasting some memory spaces as well\n"
      ]
    },
    {
      "cell_type": "code",
      "execution_count": null,
      "metadata": {
        "id": "8Rre3D5g-b-U"
      },
      "outputs": [],
      "source": [
        "x2 = int(input('Enter the 1st number'))\n",
        "y2 = int(input('Enter the 2nd number'))\n",
        "z2 = x2 + y2\n",
        "z2"
      ]
    },
    {
      "cell_type": "markdown",
      "metadata": {
        "id": "L2FfcV8T-b-U"
      },
      "source": [
        "lets take input from the user in char format, but we dont have char format in python"
      ]
    },
    {
      "cell_type": "code",
      "execution_count": null,
      "metadata": {
        "id": "VwUNHhr--b-V"
      },
      "outputs": [],
      "source": [
        "st = input('enter a string')\n",
        "print(st)\n",
        "#print(type(ch))"
      ]
    },
    {
      "cell_type": "code",
      "execution_count": null,
      "metadata": {
        "id": "Imn-TnaI-b-V"
      },
      "outputs": [],
      "source": [
        "print(st[0])"
      ]
    },
    {
      "cell_type": "code",
      "execution_count": null,
      "metadata": {
        "id": "WUAnMvZS-b-V"
      },
      "outputs": [],
      "source": [
        "print(st[0:2])"
      ]
    },
    {
      "cell_type": "code",
      "execution_count": null,
      "metadata": {
        "id": "LaKLVKsG-b-V"
      },
      "outputs": [],
      "source": [
        "print(st[1])"
      ]
    },
    {
      "cell_type": "code",
      "execution_count": null,
      "metadata": {
        "id": "hX-d0mAV-b-V"
      },
      "outputs": [],
      "source": [
        "print(st[-1])"
      ]
    },
    {
      "cell_type": "code",
      "execution_count": null,
      "metadata": {
        "id": "3autlXqi-b-W"
      },
      "outputs": [],
      "source": [
        "st = input('enter a string')[0]\n",
        "print(st)"
      ]
    },
    {
      "cell_type": "code",
      "execution_count": null,
      "metadata": {
        "id": "_D0X4vcY-b-W"
      },
      "outputs": [],
      "source": [
        "st = input('enter a string')[1]\n",
        "print(st)"
      ]
    },
    {
      "cell_type": "code",
      "execution_count": null,
      "metadata": {
        "id": "k9a-_cHH-b-W"
      },
      "outputs": [],
      "source": [
        "st = input('enter a string')[1:3]\n",
        "print(st)"
      ]
    },
    {
      "cell_type": "code",
      "execution_count": null,
      "metadata": {
        "id": "tfFfnr3t-b-W"
      },
      "outputs": [],
      "source": [
        "st = input('enter a string')\n",
        "print(st) # if you enter as 2 + 6 -1 we get output as 2 + 6-1 only cuz 2+6-1 as expression"
      ]
    },
    {
      "cell_type": "code",
      "execution_count": null,
      "metadata": {
        "id": "EWMEEH8d-b-W"
      },
      "outputs": [],
      "source": [
        "result = input('enter an expr')\n",
        "print(result)\n",
        "#print(type(result))"
      ]
    },
    {
      "cell_type": "code",
      "execution_count": null,
      "metadata": {
        "id": "cI3snEBA-b-W"
      },
      "outputs": [],
      "source": [
        "result = int(input('enter an expr'))\n",
        "print(result)"
      ]
    },
    {
      "cell_type": "markdown",
      "metadata": {
        "id": "VZAf9jmL-b-X"
      },
      "source": [
        "EVAL function using input"
      ]
    },
    {
      "cell_type": "code",
      "execution_count": null,
      "metadata": {
        "id": "JZmarYPx-b-X"
      },
      "outputs": [],
      "source": [
        "result = eval(input('enter an expr'))\n",
        "print(result)"
      ]
    },
    {
      "cell_type": "markdown",
      "metadata": {
        "id": "EBcTK-YV-b-X"
      },
      "source": [
        "if you want to pass the value in cmd can we pass the value like this\n",
        "\n",
        "![image.png](attachment:image.png)\n"
      ]
    },
    {
      "cell_type": "markdown",
      "metadata": {
        "id": "aN0FgFhe-b-X"
      },
      "source": [
        "when we run the above code in cmd then we get the value to 11 only but how to add them then we need to use very important concept called (argv) -- (argument values) what it does if you pass 1 value then 1 value it will display but if you pass 2 value then it will display 2 values\n",
        "\n",
        "argv -- it will understand based on index number & bydefault index number 0 we are use for file name , 1st index we are use for 1st argument, 2nd index we are use for 2nd argument\n",
        "![image.png](attachment:image.png)"
      ]
    },
    {
      "cell_type": "markdown",
      "metadata": {
        "id": "tGUPJFla-b-X"
      },
      "source": [
        "![image.png](attachment:image.png)"
      ]
    },
    {
      "cell_type": "markdown",
      "metadata": {
        "id": "wwUigtVL-b-X"
      },
      "source": [
        "cpu ![image.png](attachment:image.png)\n",
        "- cpu has 3 part - CU (Contol Unit) | MU(Memory Unit) | ALU (Arithmetic | Logic unit)\n",
        "\n",
        "- MEMORY UNIT -->\n",
        "so far we work in memory unit-that means we save variable in memory & call the varible from memory & trying to save the data with the help of variable\n"
      ]
    },
    {
      "cell_type": "markdown",
      "metadata": {
        "id": "v9hqUWSz-b-X"
      },
      "source": [
        "- ALU (ARITHMETIC UNIT & LOGIC UNIT) -->\n",
        "ARITHMETIC UNIT --> when it comes to Arithmetic unit it performs calculation & we done so far addition, substraction, multiplication , division.\n",
        "LOGICAL UNIT --> when i talk about logical unit which makes your computer to think means user programed so that and let your computer think. in real life also we apply many condition to reach the goal. if this not possible then we can do that for example. e.g after complet +2 which field you can go for\n",
        "if not this field else what is other files. while we talk amoung each other many situation unknowily we are using if else condition.\n",
        "\n",
        "LETS UNDERSTAND THE CONDITION TO COMPUTER TO THINK FOR THAT WE HAVE SOME SPECIAL KEYWORD -\n",
        "![image.png](attachment:image.png)"
      ]
    },
    {
      "cell_type": "code",
      "execution_count": null,
      "metadata": {
        "id": "Rd7VnHTm-b-Y"
      },
      "outputs": [],
      "source": [
        "if True: # indentiation is always 4 spaces\n",
        "    print('Data Science')"
      ]
    },
    {
      "cell_type": "code",
      "execution_count": null,
      "metadata": {
        "id": "4E4AamWS-b-Y"
      },
      "outputs": [],
      "source": [
        "if True:\n",
        "print('ds')"
      ]
    },
    {
      "cell_type": "code",
      "execution_count": null,
      "metadata": {
        "id": "JFyHfXGO-b-Y"
      },
      "outputs": [],
      "source": [
        "if False:\n",
        "    print('Data Science')\n",
        "print('bye for now')"
      ]
    },
    {
      "cell_type": "code",
      "execution_count": null,
      "metadata": {
        "id": "vRqx1cHM-b-Y"
      },
      "outputs": [],
      "source": [
        "if True: # indentiation is always 4 spaces\n",
        "    print('Data Science')\n",
        "print('bye for now')"
      ]
    },
    {
      "cell_type": "code",
      "execution_count": null,
      "metadata": {
        "id": "evBTMiyb-b-Y"
      },
      "outputs": [],
      "source": [
        "if False: # indentiation is always 4 spaces\n",
        "    print('Data Science')\n",
        "else:\n",
        "    print('bye for now')"
      ]
    },
    {
      "cell_type": "markdown",
      "metadata": {
        "id": "9GWnVTzT-b-Y"
      },
      "source": [
        "Lets do one program as if divide by 2 then reminder is 0 then it is even number\n",
        "if reminder is not 0 then it is odd number"
      ]
    },
    {
      "cell_type": "code",
      "execution_count": null,
      "metadata": {
        "id": "OVCONNKV-b-Y"
      },
      "outputs": [],
      "source": [
        "#to print only even number\n",
        "x = 4\n",
        "r = x % 2\n",
        "\n",
        "if r == 0:\n",
        "    print('Even number')"
      ]
    },
    {
      "cell_type": "code",
      "execution_count": null,
      "metadata": {
        "id": "UGmlRSWE-b-Y"
      },
      "outputs": [],
      "source": [
        "#to print only even number\n",
        "x = 5\n",
        "r = x % 2\n",
        "\n",
        "if r == 0:\n",
        "    print('Even number')"
      ]
    },
    {
      "cell_type": "code",
      "execution_count": null,
      "metadata": {
        "id": "RKsgyceU-b-Y"
      },
      "outputs": [],
      "source": [
        "x = 5\n",
        "r = x % 2\n",
        "\n",
        "if r == 0:\n",
        "    print('Even number')\n",
        "print('odd number')"
      ]
    },
    {
      "cell_type": "code",
      "execution_count": null,
      "metadata": {
        "id": "iVaDGCtQ-b-Z"
      },
      "outputs": [],
      "source": [
        "x = 6\n",
        "r = x % 2\n",
        "\n",
        "if r == 0:\n",
        "    print('Even number')\n",
        "print('odd number')"
      ]
    },
    {
      "cell_type": "code",
      "execution_count": null,
      "metadata": {
        "id": "9ZhLSSIB-b-Z"
      },
      "outputs": [],
      "source": [
        "x = 10\n",
        "r = x % 2\n",
        "\n",
        "if r == 0:\n",
        "    print('Even number')\n",
        "if r == 1:\n",
        "    print('odd number')"
      ]
    },
    {
      "cell_type": "code",
      "execution_count": null,
      "metadata": {
        "id": "xWV76c-o-b-Z"
      },
      "outputs": [],
      "source": [
        "x = 11\n",
        "r = x % 2\n",
        "\n",
        "if r == 0:\n",
        "    print('Even number')\n",
        "if r == 1:\n",
        "    print('odd number')"
      ]
    },
    {
      "cell_type": "code",
      "execution_count": null,
      "metadata": {
        "id": "fwe-2ewx-b-Z"
      },
      "outputs": [],
      "source": [
        "x = 11\n",
        "r = x % 2\n",
        "\n",
        "if r == 0:\n",
        "    print('Even number')\n",
        "else:\n",
        "    print('odd number')"
      ]
    },
    {
      "cell_type": "code",
      "execution_count": null,
      "metadata": {
        "id": "MRzMOrR4-b-Z"
      },
      "outputs": [],
      "source": [
        "x = 23\n",
        "r = x % 2\n",
        "\n",
        "if r == 0:\n",
        "    print('Even number')\n",
        "if r == 1:\n",
        "    print('odd number')"
      ]
    },
    {
      "cell_type": "code",
      "execution_count": null,
      "metadata": {
        "id": "R2VrMLsf-b-Z"
      },
      "outputs": [],
      "source": [
        "x = 17\n",
        "r = x % 2\n",
        "\n",
        "if r == 0:\n",
        "    print('Even number')\n",
        "\n",
        "if r != 0:\n",
        "    print('odd number')"
      ]
    },
    {
      "cell_type": "markdown",
      "metadata": {
        "id": "cLIPDV4J-b-Z"
      },
      "source": [
        "if we observe the code its too many line cuz many of the coder always they wanted to reduce the code lenght which is very good practise. instead of 2 if we can use if-- else"
      ]
    },
    {
      "cell_type": "code",
      "execution_count": null,
      "metadata": {
        "id": "KkKTLhut-b-Z"
      },
      "outputs": [],
      "source": [
        "x = 5\n",
        "r = x % 2\n",
        "\n",
        "if r == 0:\n",
        "    print('Even number')\n",
        "else:\n",
        "    print('Odd Number')"
      ]
    },
    {
      "cell_type": "code",
      "execution_count": null,
      "metadata": {
        "id": "Gt9sejcc-b-Z"
      },
      "outputs": [],
      "source": [
        "x = 4\n",
        "r = x % 2\n",
        "\n",
        "if r == 0:\n",
        "    print('Even number')\n",
        "else:\n",
        "    print('Odd Number')"
      ]
    },
    {
      "cell_type": "markdown",
      "metadata": {
        "id": "6s6HF90L-b-Z"
      },
      "source": [
        "NESTED IF (if we have 2 condition so we need to implment with nested if )"
      ]
    },
    {
      "cell_type": "code",
      "execution_count": null,
      "metadata": {
        "id": "IpylEzv6-b-a"
      },
      "outputs": [],
      "source": [
        "x = 3\n",
        "r = x % 2\n",
        "\n",
        "if r == 0:\n",
        "    print('Even number')\n",
        "    if x>5:\n",
        "        print('greater number')\n",
        "\n",
        "else:\n",
        "    print('Odd Number')"
      ]
    },
    {
      "cell_type": "code",
      "execution_count": null,
      "metadata": {
        "id": "w7WbZx7L-b-a"
      },
      "outputs": [],
      "source": [
        "x = 4\n",
        "r = x % 2\n",
        "\n",
        "if r == 0:\n",
        "    print('Even number')\n",
        "    if x>5:\n",
        "        print('greater number')\n",
        "\n",
        "else:\n",
        "    print('Odd Number')"
      ]
    },
    {
      "cell_type": "code",
      "execution_count": null,
      "metadata": {
        "id": "eLGdyeeh-b-a"
      },
      "outputs": [],
      "source": [
        "x = 4\n",
        "r = x % 2\n",
        "\n",
        "if r == 0:\n",
        "    print('Even number')\n",
        "    if x>5 :\n",
        "        print('greater number')\n",
        "    else:\n",
        "       print('not greater ')\n",
        "else:\n",
        "    print('odd number')"
      ]
    },
    {
      "cell_type": "code",
      "execution_count": null,
      "metadata": {
        "id": "tBPIk09Z-b-a"
      },
      "outputs": [],
      "source": [
        "x = 6\n",
        "r = x % 2\n",
        "\n",
        "if r == 0:\n",
        "    print('Even number')\n",
        "    if x>5 :\n",
        "        print('greater number')\n",
        "    else:\n",
        "        print('not greater ')\n",
        "\n",
        "else:\n",
        "    print('odd number')"
      ]
    },
    {
      "cell_type": "markdown",
      "metadata": {
        "id": "7jNxFThn-b-a"
      },
      "source": [
        "We do have concept of ( IF - ELIF- ELSE)\n",
        "e.g i want to print ( 1--> one , 2 --> two, 3--> three, 4--> four, 5- five)"
      ]
    },
    {
      "cell_type": "code",
      "execution_count": null,
      "metadata": {
        "id": "zBHO0y2D-b-a"
      },
      "outputs": [],
      "source": [
        "# when you use if it will check all condition but if we mention elif then it wont check all condition\n",
        "# when we use if condition it will check all every block of code  better debug in pycharm\n",
        "# you can debug with value 1 & d for both if & elif\n",
        "\n",
        "x = 2\n",
        "\n",
        "if x == 1:\n",
        "    print('one')\n",
        "if x == 2:\n",
        "    print('Two')\n",
        "if x == 3:\n",
        "    print('Three')\n",
        "if x == 4:\n",
        "    print('four')"
      ]
    },
    {
      "cell_type": "code",
      "execution_count": null,
      "metadata": {
        "id": "bKbS64OC-b-a"
      },
      "outputs": [],
      "source": [
        "# elif it wont check till the block once you find the output it wont go to next line\n",
        "# you can try with multiple parameter 1, 2 & 3 value in x\n",
        "\n",
        "x = 4\n",
        "\n",
        "if(x == 1):\n",
        "    print('one')\n",
        "elif(x == 2):\n",
        "    print('Two')\n",
        "elif(x == 3):\n",
        "    print('Three')\n",
        "elif(x == 4):\n",
        "    print('four')"
      ]
    },
    {
      "cell_type": "code",
      "execution_count": null,
      "metadata": {
        "id": "fZ3qJVV3-b-a"
      },
      "outputs": [],
      "source": [
        "x = 7\n",
        "\n",
        "if(x == 1):\n",
        "    print('one')\n",
        "elif(x == 2):\n",
        "    print('Two')\n",
        "elif(x == 3):\n",
        "    print('Three')\n",
        "elif(x == 4):\n",
        "    print('four')"
      ]
    },
    {
      "cell_type": "code",
      "execution_count": null,
      "metadata": {
        "id": "e3Ou48hU-b-a"
      },
      "outputs": [],
      "source": [
        "x = 7\n",
        "\n",
        "if(x == 1):\n",
        "    print('one')\n",
        "\n",
        "\n",
        "elif(x == 2):\n",
        "    print('Two')\n",
        "elif(x == 3):\n",
        "    print('Three')\n",
        "elif(x == 4):\n",
        "    print('four')\n",
        "\n",
        "else:\n",
        "    print('wrong output')"
      ]
    },
    {
      "cell_type": "code",
      "execution_count": null,
      "metadata": {
        "id": "uO2DjNaU-b-a"
      },
      "outputs": [],
      "source": [
        "x = 4\n",
        "\n",
        "if(x == 1):\n",
        "    print('one')\n",
        "elif(x == 2):\n",
        "    print('Two')\n",
        "elif(x == 3):\n",
        "    print('Three')\n",
        "elif(x == 4):\n",
        "    print('four')\n",
        "else:\n",
        "    print('wrong output')\n"
      ]
    },
    {
      "cell_type": "code",
      "execution_count": null,
      "metadata": {
        "id": "gkMbn-r_-b-b"
      },
      "outputs": [],
      "source": [
        "x = 10\n",
        "\n",
        "if(x == 1):\n",
        "    print('one')\n",
        "elif(x == 2):\n",
        "    print('Two')\n",
        "elif(x == 3):\n",
        "    print('Three')\n",
        "elif(x == 4):\n",
        "    print('four')\n",
        "\n",
        "else:\n",
        "    print('wrong output')"
      ]
    },
    {
      "cell_type": "code",
      "execution_count": null,
      "metadata": {
        "id": "ccYYETL2-b-b"
      },
      "outputs": [],
      "source": [
        "#short hand if\n",
        "a = 30\n",
        "b = 20\n",
        "if a > b: print(\"a is greater than b\")"
      ]
    },
    {
      "cell_type": "markdown",
      "metadata": {
        "id": "cB-_4VOi-b-b"
      },
      "source": [
        "LOOPS -- in programing world some time we keep on repeating , may be you want to repeat 5 statement so one way is copy & paste multiple times or other way is\n",
        "\n",
        "if you want to print the datascience 1000 times then what you will you cant copy for 1000 times , if you want to print 1000 times then you cant do manualy . that is the reason why we need to apply loop ->\n",
        "2 type of loops --  While loop & For loop"
      ]
    },
    {
      "cell_type": "code",
      "execution_count": null,
      "metadata": {
        "id": "Ay3Kw-AP-b-b"
      },
      "outputs": [],
      "source": [
        "print('data science')\n",
        "print('data science')\n",
        "print('data science')\n",
        "print('data science')\n",
        "print('data science')"
      ]
    },
    {
      "cell_type": "code",
      "execution_count": null,
      "metadata": {
        "id": "KjwL78Ta-b-b"
      },
      "outputs": [],
      "source": [
        "i = 1          # initializing\n",
        "\n",
        "while i<=5:    # condition\n",
        "    print('data science')\n",
        "    i = i + 1  # increment"
      ]
    },
    {
      "cell_type": "code",
      "execution_count": null,
      "metadata": {
        "id": "8ovIz2hf-b-b"
      },
      "outputs": [],
      "source": [
        "i = 5          # initializing\n",
        "\n",
        "while i>=1:    # condition\n",
        "    print('data science')\n",
        "    i = i - 1  # decrement"
      ]
    },
    {
      "cell_type": "code",
      "execution_count": null,
      "metadata": {
        "id": "HoN_jhdP-b-b"
      },
      "outputs": [],
      "source": [
        "i = 1         # initializing\n",
        "while i<=5:    # condition\n",
        "    print('data science : ', i)\n",
        "    i = i + 1  # increment"
      ]
    },
    {
      "cell_type": "code",
      "execution_count": null,
      "metadata": {
        "id": "mVdXzdIW-b-b"
      },
      "outputs": [],
      "source": [
        "i = 5          # initializing\n",
        "while i>=1:    # condition\n",
        "    print('data science :',i)\n",
        "    i = i - 1  # decrement"
      ]
    },
    {
      "cell_type": "markdown",
      "metadata": {
        "id": "No5uiOhQ-b-b"
      },
      "source": [
        "can we use multiple while loop || nested while loop\n",
        "to understand nested while indepth understand you can use pycharm debug with f8 option"
      ]
    },
    {
      "cell_type": "code",
      "execution_count": null,
      "metadata": {
        "id": "Y-KLLhUb-b-b"
      },
      "outputs": [],
      "source": [
        "i = 1\n",
        "\n",
        "while i<=5:\n",
        "    print('data science') # when we mention end then new line will not create\n",
        "    j = 1\n",
        "    while j<=4:\n",
        "        print('technology')\n",
        "        j = j + 1\n",
        "\n",
        "    i = i + 1\n",
        "    print()\n",
        "\n",
        "    # the output which we got is very lengty but how to make them one line lets refer to below code"
      ]
    },
    {
      "cell_type": "code",
      "execution_count": null,
      "metadata": {
        "id": "r05mVou0-b-b"
      },
      "outputs": [],
      "source": [
        "i = 1\n",
        "while i<=5:\n",
        "    print(' datascience', end = \"\") # when we mention end then new line will not create\n",
        "    j = 1\n",
        "    while j<=4:\n",
        "        print(' technology', end=\"\")\n",
        "        j = j + 1\n",
        "\n",
        "    i = i + 1\n",
        "    print()"
      ]
    },
    {
      "cell_type": "code",
      "execution_count": null,
      "metadata": {
        "id": "mk4XHrD2-b-c"
      },
      "outputs": [],
      "source": [
        "# lets use while loop usig some numbers\n",
        "i = 1\n",
        "\n",
        "while i <= 2 :\n",
        "    j = 0\n",
        "    while  j <= 2 :\n",
        "        print(i*j, end=\" \")\n",
        "        j += 1\n",
        "    print()\n",
        "    i += 1"
      ]
    },
    {
      "cell_type": "code",
      "execution_count": null,
      "metadata": {
        "id": "NXNu4YaW-b-c"
      },
      "outputs": [],
      "source": [
        "# lets use while loop usig some numbers\n",
        "i = 1\n",
        "while i <= 4 :\n",
        "    j = 0\n",
        "    while  j <= 3 :\n",
        "        print(i*j, end=\" \")\n",
        "        j += 1\n",
        "    print()\n",
        "    i += 1"
      ]
    },
    {
      "cell_type": "raw",
      "metadata": {
        "id": "Z2KIEHQ7-b-c"
      },
      "source": [
        "FOR LOOP  -\n",
        "normally while loop it work with iteration or certaion some condition but for loop it will work with sequence (list, string,int)"
      ]
    },
    {
      "cell_type": "code",
      "execution_count": null,
      "metadata": {
        "id": "WxLkSxj--b-c"
      },
      "outputs": [],
      "source": [
        "name = 'nit'\n",
        "\n",
        "for i in name:\n",
        "    print(i)"
      ]
    },
    {
      "cell_type": "code",
      "execution_count": null,
      "metadata": {
        "id": "SWFaU2KW-b-c"
      },
      "outputs": [],
      "source": [
        "name1 = [1,3.5,'hallo'] #i want print the value individualy\n",
        "\n",
        "for i in name1:\n",
        "    print(i)"
      ]
    },
    {
      "cell_type": "code",
      "execution_count": null,
      "metadata": {
        "id": "CY7C16Oy-b-c"
      },
      "outputs": [],
      "source": [
        "for i in [2, 3, 7.8, 'hi']:\n",
        "    print(i)"
      ]
    },
    {
      "cell_type": "code",
      "execution_count": null,
      "metadata": {
        "id": "fth2ojHM-b-c"
      },
      "outputs": [],
      "source": [
        "range(5)"
      ]
    },
    {
      "cell_type": "code",
      "execution_count": null,
      "metadata": {
        "id": "dlzqDhJI-b-c"
      },
      "outputs": [],
      "source": [
        "for i in range(5):\n",
        "    print(i)"
      ]
    },
    {
      "cell_type": "code",
      "execution_count": null,
      "metadata": {
        "id": "nUfkxwnV-b-d"
      },
      "outputs": [],
      "source": [
        "for i in range(2,5):\n",
        "    print(i)"
      ]
    },
    {
      "cell_type": "code",
      "execution_count": null,
      "metadata": {
        "id": "RRn6cpoL-b-d"
      },
      "outputs": [],
      "source": [
        "for i in range(1,10,3):\n",
        "    print(i)"
      ]
    },
    {
      "cell_type": "code",
      "execution_count": null,
      "metadata": {
        "id": "Jm_L_Yc--b-d"
      },
      "outputs": [],
      "source": [
        "# print the value which is divisible by 5\n",
        "for i in range(1,21):\n",
        "    print(i)"
      ]
    },
    {
      "cell_type": "code",
      "execution_count": null,
      "metadata": {
        "id": "BNUftzZ_-b-d"
      },
      "outputs": [],
      "source": [
        "# print the value which is divisible by 5\n",
        "\n",
        "for i in range(1,51):\n",
        "\n",
        "    if i%5==0 :\n",
        "        print(i)"
      ]
    },
    {
      "cell_type": "code",
      "execution_count": null,
      "metadata": {
        "id": "t25oKsNC-b-d"
      },
      "outputs": [],
      "source": [
        "# print the value which is divisible by 5 i dont want that value\n",
        "for i in range(1,51):\n",
        "\n",
        "    if i%5!=0 :\n",
        "        print(i)"
      ]
    },
    {
      "cell_type": "raw",
      "metadata": {
        "id": "JihMsk1D-b-e"
      },
      "source": [
        "# LETS DISCUSS ABOUT 3 KEYWORDS -- BREAK || CONTINUE || PASS\n",
        "BREAK STATEMNT - if you apply break statment in a loop then it will end the loop\n",
        "# Pass = skips block of code( function, class etc)\n",
        "# Continue= skips 1 step/iteration during loop\n",
        "# Break= jumps out of the function/loop"
      ]
    },
    {
      "cell_type": "code",
      "execution_count": null,
      "metadata": {
        "id": "o089lpRw-b-e"
      },
      "outputs": [],
      "source": [
        "# write the code user ask chocklet from vendor machne write the basic code\n",
        "\n",
        "x = int(input('How many choclets you want:?'))\n",
        "\n",
        "i = 1\n",
        "while i<=x:\n",
        "    print('choclet')\n",
        "    i += 1"
      ]
    },
    {
      "cell_type": "markdown",
      "metadata": {
        "id": "Mqu89OE0-b-g"
      },
      "source": [
        "- If the user says i need 10 choclet but vending machine dont have 10 choclate & machine has only 5    choclate so what you do on those scenario\n",
        "- We have 3 choice now  (eiter stop the transaction by you or you can give only 5 choclate) & may be\n",
        "   vendor machine display the result as we are out of the stock\n",
        "- Now lets try in the code"
      ]
    },
    {
      "cell_type": "code",
      "execution_count": null,
      "metadata": {
        "scrolled": true,
        "id": "7a7qypZV-b-h"
      },
      "outputs": [],
      "source": [
        "ava = 5 # the machine has only 5 choclet\n",
        "\n",
        "x = int(input('How many choclets you want:?'))\n",
        "\n",
        "i = 1\n",
        "while i<=x:\n",
        "    print('choclet')\n",
        "    i += 1\n",
        "# if you check the user wants 10 choclets  but availabe choclet is 5 but we got output as 10 choclet\n",
        "# in this code we just declare but we dint apply any condition to it"
      ]
    },
    {
      "cell_type": "code",
      "execution_count": null,
      "metadata": {
        "id": "sJ-ebVfs-b-j"
      },
      "outputs": [],
      "source": [
        "available_choclet = 5 # the machine has only 10 candis\n",
        "\n",
        "x = int(input('How many choclets user want:?'))\n",
        "\n",
        "i = 1\n",
        "while i<=x:\n",
        "\n",
        "    if i>available_choclet: # we stop the execution but which code execution not entire code , i want to come out of while loop\n",
        "        break # break is statement | means jump out of the loop\n",
        "    print('choclet')\n",
        "    i += 1\n",
        "\n",
        "print('bye for now')"
      ]
    },
    {
      "cell_type": "code",
      "execution_count": null,
      "metadata": {
        "id": "xsmGRlqT-b-k"
      },
      "outputs": [],
      "source": [
        "available_choclet = 5 # the machine has only 10 candis\n",
        "\n",
        "x = int(input('How many choclets you want:?'))\n",
        "\n",
        "i = 1\n",
        "while i<=x:\n",
        "\n",
        "    if i>available_choclet: # we stop the execution but which code execution not entire code , i want to come out of while loop\n",
        "        print('out of stock')\n",
        "        break # break is statement | means jump out of the loop\n",
        "    print('choclet')\n",
        "    i += 1\n",
        "\n",
        "print('bye for now')"
      ]
    },
    {
      "cell_type": "code",
      "execution_count": null,
      "metadata": {
        "id": "AJr7gXuP-b-l"
      },
      "outputs": [],
      "source": [
        "for i in range(1,11):\n",
        "    print(i)"
      ]
    },
    {
      "cell_type": "markdown",
      "metadata": {
        "id": "FBXqlfLA-b-l"
      },
      "source": [
        "- i dont want 11 number i want only 5 number for the range of 1 to 10"
      ]
    },
    {
      "cell_type": "code",
      "execution_count": null,
      "metadata": {
        "id": "I6ziciXK-b-m"
      },
      "outputs": [],
      "source": [
        "for i in range(1,11):\n",
        "    if i == 6:\n",
        "       break\n",
        "    print(i)"
      ]
    },
    {
      "cell_type": "raw",
      "metadata": {
        "id": "Bh6F_uDG-b-m"
      },
      "source": [
        "# in continue loop wont be terminate & exclue the assign number it give you entire output"
      ]
    },
    {
      "cell_type": "code",
      "execution_count": null,
      "metadata": {
        "id": "wAT7lOQH-b-m"
      },
      "outputs": [],
      "source": [
        "for i in range(1,11):\n",
        "    if i == 3:\n",
        "        continue\n",
        "    print(i)"
      ]
    },
    {
      "cell_type": "code",
      "execution_count": null,
      "metadata": {
        "id": "gbIOOLS2-b-m"
      },
      "outputs": [],
      "source": [
        "for i in range(1,11):\n",
        "    if i == 6:\n",
        "        continue\n",
        "    print('hello :',i)"
      ]
    },
    {
      "cell_type": "raw",
      "metadata": {
        "id": "LQf1PxVK-b-n"
      },
      "source": [
        "#PASS Statement - pass the code & it wont go ( code give you the error)"
      ]
    },
    {
      "cell_type": "code",
      "execution_count": null,
      "metadata": {
        "id": "8u_V5fIE-b-n"
      },
      "outputs": [],
      "source": [
        "for i in range(1,11):"
      ]
    },
    {
      "cell_type": "code",
      "execution_count": null,
      "metadata": {
        "id": "tpEb9LtD-b-n"
      },
      "outputs": [],
      "source": [
        "for i in range(1,11):\n",
        "    pass"
      ]
    },
    {
      "cell_type": "markdown",
      "metadata": {
        "id": "qruzDXxd-b-n"
      },
      "source": [
        "## you need to print the number from 1 to 50 but dont print the number which is divisible by 3 or 5"
      ]
    },
    {
      "cell_type": "code",
      "execution_count": null,
      "metadata": {
        "id": "Rg7cXmpR-b-n"
      },
      "outputs": [],
      "source": [
        "for i in range(1,51):\n",
        "\n",
        "    if i%3 == 0:\n",
        "\n",
        "        print(i)\n",
        "print('end')"
      ]
    },
    {
      "cell_type": "code",
      "execution_count": null,
      "metadata": {
        "scrolled": true,
        "id": "eVdE28k0-b-o"
      },
      "outputs": [],
      "source": [
        "for i in range(1,51):\n",
        "\n",
        "    if i%3 == 0:\n",
        "        continue\n",
        "    print(i)\n",
        "print('end')"
      ]
    },
    {
      "cell_type": "code",
      "execution_count": null,
      "metadata": {
        "id": "7g4YKTEE-b-o"
      },
      "outputs": [],
      "source": [
        "for i in range(1,51):\n",
        "\n",
        "    if i%3 == 0 or i%5 == 0:\n",
        "        continue\n",
        "    print(i)\n",
        "#print('end')\n",
        "# it will skip all the value which is divisible by 3 or 5"
      ]
    },
    {
      "cell_type": "code",
      "execution_count": null,
      "metadata": {
        "id": "BZms7OkE-b-o"
      },
      "outputs": [],
      "source": [
        "for i in range(1,50):\n",
        "    if i%3 == 0 and i%5 == 0:\n",
        "        continue\n",
        "    print(i)\n",
        "print('end')\n",
        "# when you apply and you wont get the value which is divisible by both 3 & 5 (15)"
      ]
    },
    {
      "cell_type": "code",
      "execution_count": null,
      "metadata": {
        "id": "NWUt4pCX-b-o"
      },
      "outputs": [],
      "source": [
        "# i dont want to print the values which are even numbers that means print only odd numbers\n",
        "\n",
        "for i in range(1,51):\n",
        "\n",
        "    if (i%2 == 0):\n",
        "        #print('even')\n",
        "        continue\n",
        "    else:\n",
        "        print(i)\n",
        "print('bye')"
      ]
    },
    {
      "cell_type": "raw",
      "metadata": {
        "id": "xNmWEiVS-b-o"
      },
      "source": [
        "# PRINTING PATTERN IN PYTHON"
      ]
    },
    {
      "cell_type": "markdown",
      "metadata": {
        "id": "x73slP6k-b-p"
      },
      "source": [
        "![image.png](attachment:image.png)"
      ]
    },
    {
      "cell_type": "code",
      "execution_count": null,
      "metadata": {
        "id": "PvULkfuJ-b-p"
      },
      "outputs": [],
      "source": [
        "print('# # # #')\n",
        "print('# # # #')\n",
        "print('# # # #')\n",
        "print('# # # #')"
      ]
    },
    {
      "cell_type": "code",
      "execution_count": null,
      "metadata": {
        "id": "PSDACF1X-b-p"
      },
      "outputs": [],
      "source": [
        "for i in range(1,5):\n",
        "    i=i+1\n",
        "    print('# # # # ')"
      ]
    },
    {
      "cell_type": "code",
      "execution_count": null,
      "metadata": {
        "id": "1VZBIUVN-b-p"
      },
      "outputs": [],
      "source": [
        "for i in range(1,5):\n",
        "    if i<=5:\n",
        "        print('# # # #')"
      ]
    },
    {
      "cell_type": "code",
      "execution_count": null,
      "metadata": {
        "id": "Ry0v6mcM-b-p"
      },
      "outputs": [],
      "source": [
        "for j in range(4):\n",
        "    print('#')"
      ]
    },
    {
      "cell_type": "code",
      "execution_count": null,
      "metadata": {
        "id": "Kf7xWcAJ-b-q"
      },
      "outputs": [],
      "source": [
        "for j in range(4):\n",
        "    print('# # # #')"
      ]
    },
    {
      "cell_type": "code",
      "execution_count": null,
      "metadata": {
        "id": "gcAD6fFS-b-q"
      },
      "outputs": [],
      "source": [
        "for j in range(4):\n",
        "    print('#', end = \" \")"
      ]
    },
    {
      "cell_type": "code",
      "execution_count": null,
      "metadata": {
        "id": "TjSd0vir-b-q"
      },
      "outputs": [],
      "source": [
        "for j in range(4):\n",
        "    print('#', end=\" \")\n",
        "\n",
        "for j in range(4):\n",
        "    print('#', end=\" \")\n"
      ]
    },
    {
      "cell_type": "code",
      "execution_count": null,
      "metadata": {
        "id": "M72-wFox-b-q"
      },
      "outputs": [],
      "source": [
        "for j in range(4):\n",
        "    print('#', end=\" \")\n",
        "\n",
        "print()\n",
        "\n",
        "for j in range(4):\n",
        "    print('#', end=\" \")"
      ]
    },
    {
      "cell_type": "code",
      "execution_count": null,
      "metadata": {
        "id": "Qt-QibSp-b-q"
      },
      "outputs": [],
      "source": [
        "for j in range(4):\n",
        "    print('#', end=\"  \")\n",
        "\n",
        "print()\n",
        "\n",
        "for j in range(4):\n",
        "    print('#', end=\"  \")\n",
        "\n",
        "print()\n",
        "\n",
        "for j in range(4):\n",
        "    print('#', end=\"  \")\n",
        "\n",
        "print()\n",
        "\n",
        "for j in range(4):\n",
        "    print('#', end=\"  \")"
      ]
    },
    {
      "cell_type": "code",
      "execution_count": null,
      "metadata": {
        "id": "zw3eLvnW-b-r"
      },
      "outputs": [],
      "source": [
        "for i in range(4):\n",
        "    for j in range(4):\n",
        "        print('#', end=\"  \")\n",
        "    print()\n",
        "    # pease use debug mode in pycharm"
      ]
    },
    {
      "cell_type": "markdown",
      "metadata": {
        "id": "Y4tRzlNt-b-r"
      },
      "source": [
        "### ![image.png](attachment:image.png)"
      ]
    },
    {
      "cell_type": "code",
      "execution_count": null,
      "metadata": {
        "id": "X2zt2lz7-b-r"
      },
      "outputs": [],
      "source": [
        "for i in range(4):\n",
        "    for j in range(i+1):\n",
        "        print('#', end = \" \")\n",
        "    print()"
      ]
    },
    {
      "cell_type": "code",
      "execution_count": null,
      "metadata": {
        "id": "O4hE8j88-b-r"
      },
      "outputs": [],
      "source": [
        "for i in range(1,5):\n",
        "    print(\"# \"*i)"
      ]
    },
    {
      "cell_type": "code",
      "execution_count": null,
      "metadata": {
        "id": "-mT1BsMJ-b-r"
      },
      "outputs": [],
      "source": [
        "for i in range(1,5):\n",
        "    for j in range(4):\n",
        "        if i>j:\n",
        "            print(\"#\",end=\" \")\n",
        "    print()"
      ]
    },
    {
      "cell_type": "code",
      "execution_count": null,
      "metadata": {
        "id": "XZFS5F4b-b-s"
      },
      "outputs": [],
      "source": [
        "list(range(5))"
      ]
    },
    {
      "cell_type": "code",
      "execution_count": null,
      "metadata": {
        "id": "3cDcDFQI-b-s"
      },
      "outputs": [],
      "source": [
        "for i in range(4):\n",
        "    for j in range(i):\n",
        "        print('#', end=\"  \")\n",
        "    print()"
      ]
    },
    {
      "cell_type": "code",
      "execution_count": null,
      "metadata": {
        "id": "7xg1UXFe-b-s"
      },
      "outputs": [],
      "source": [
        "for i in range(4):\n",
        "    for j in range(i+1):\n",
        "        print('#', end=\"  \")\n",
        "    print()"
      ]
    },
    {
      "cell_type": "markdown",
      "metadata": {
        "id": "u2raszwc-b-s"
      },
      "source": [
        "## ![image.png](attachment:image.png)"
      ]
    },
    {
      "cell_type": "code",
      "execution_count": null,
      "metadata": {
        "id": "JzJVMXew-b-s"
      },
      "outputs": [],
      "source": [
        "for i in range(4):\n",
        "    for j in range(4-i):\n",
        "        print('#', end=\"  \")\n",
        "    print()"
      ]
    },
    {
      "cell_type": "code",
      "execution_count": null,
      "metadata": {
        "id": "N1vWYpUN-b-t"
      },
      "outputs": [],
      "source": [
        "for i in range(1,5):\n",
        "    print(\"# \"*(5-i))"
      ]
    },
    {
      "cell_type": "markdown",
      "metadata": {
        "id": "JyG1xu0h-b-t"
      },
      "source": [
        "![image.png](attachment:image.png)\n",
        "- For|Else in python\n",
        "- In other language for else not supportable but in python it is supportable\n",
        "\n",
        "eg- lets print the number from 1- 20 & we dont want print number which is divisible by 5"
      ]
    },
    {
      "cell_type": "code",
      "execution_count": null,
      "metadata": {
        "id": "I2524euv-b-t"
      },
      "outputs": [],
      "source": [
        "nums = [12,15,18,21,26]\n",
        "\n",
        "for num in nums:\n",
        "    if num % 5 == 0:\n",
        "        print(num)"
      ]
    },
    {
      "cell_type": "code",
      "execution_count": null,
      "metadata": {
        "id": "OKDY8qAH-b-t"
      },
      "outputs": [],
      "source": [
        "nums = [12,14,18,21,25,30,35]\n",
        "\n",
        "for num in nums:\n",
        "    if num % 5 == 0:\n",
        "        print(num)"
      ]
    },
    {
      "cell_type": "code",
      "execution_count": null,
      "metadata": {
        "id": "JjFo5neX-b-u"
      },
      "outputs": [],
      "source": [
        "nums = [12,14,18,21,25,20]\n",
        "\n",
        "for num in nums:\n",
        "    if num % 5 == 0:\n",
        "        print(num)"
      ]
    },
    {
      "cell_type": "code",
      "execution_count": null,
      "metadata": {
        "id": "JcyHLUkS-b-u"
      },
      "outputs": [],
      "source": [
        "nums = [12,14,18,21,20,25]\n",
        "\n",
        "for num in nums:\n",
        "    if num % 5 == 0:\n",
        "        print(num)\n",
        "        break"
      ]
    },
    {
      "cell_type": "code",
      "execution_count": null,
      "metadata": {
        "id": "J6O2zPEN-b-u"
      },
      "outputs": [],
      "source": [
        "nums = [12,14,18,21,20,25]\n",
        "\n",
        "for num in nums:\n",
        "    if num % 5 == 0:\n",
        "        print(num)\n",
        "        break"
      ]
    },
    {
      "cell_type": "code",
      "execution_count": null,
      "metadata": {
        "id": "VSO4dxYg-b-u"
      },
      "outputs": [],
      "source": [
        "nums = [10,14,18,21,5,10]\n",
        "\n",
        "for num in nums:\n",
        "    if num % 5 == 0:\n",
        "        print(num)\n",
        "        break #it will print only 1 number then it break"
      ]
    },
    {
      "cell_type": "code",
      "execution_count": null,
      "metadata": {
        "id": "s2RVx-IU-b-v"
      },
      "outputs": [],
      "source": [
        "nums = [7,14,18,21,23,27] #hear there is no number which is divisible by 5 we got output as blank\n",
        "\n",
        "for num in nums:\n",
        "    if num % 5 == 0:\n",
        "        print(num)\n",
        "        break"
      ]
    },
    {
      "cell_type": "code",
      "execution_count": null,
      "metadata": {
        "id": "zaIwr80f-b-v"
      },
      "outputs": [],
      "source": [
        "nums = [7,14,18,21,23,27] #hear there is no number which is divisible by 5 we got output as blank\n",
        "\n",
        "for num in nums:\n",
        "    if num % 5 == 0:\n",
        "        print(num)\n",
        "        break\n",
        "    else:\n",
        "        print('Number Not Found') #every iteration it cheking condition"
      ]
    },
    {
      "cell_type": "code",
      "execution_count": null,
      "metadata": {
        "id": "whaL2ETD-b-v"
      },
      "outputs": [],
      "source": [
        "nums = [7,14] #hear there is no number which is divisible by 5 we got output as blank\n",
        "for num in nums:\n",
        "    if num % 5 == 0:\n",
        "        print(num)\n",
        "        break\n",
        "    else:\n",
        "        print('Number Not Found') #every iteration it cheking condition"
      ]
    },
    {
      "cell_type": "code",
      "execution_count": null,
      "metadata": {
        "id": "kjobL2bA-b-v"
      },
      "outputs": [],
      "source": [
        "nums = [7,14,18,21,23,27] #hear there is no number which is divisible by 5 we got output as blank\n",
        "\n",
        "for num in nums:\n",
        "    if num % 5 == 0:\n",
        "        print(num)\n",
        "        break\n",
        "else:\n",
        "        print('Number Not Found') # hear else we dont write in if block but we can write in for block only"
      ]
    },
    {
      "cell_type": "code",
      "execution_count": null,
      "metadata": {
        "id": "b_CkbLyD-b-v"
      },
      "outputs": [],
      "source": [
        "nums = [10,14,18,21,20,27] #hear there is no number which is divisible by 5 we got output as blank\n",
        "\n",
        "for num in nums:\n",
        "    if num % 5 == 0:\n",
        "        print(num)\n",
        "        break\n",
        "else:\n",
        "        print('Not Found')"
      ]
    },
    {
      "cell_type": "code",
      "execution_count": null,
      "metadata": {
        "id": "GnTyIgOK-b-w"
      },
      "outputs": [],
      "source": [
        "nums = [10,14,18,21,20,27,30] #hear there is no number which is divisible by 5 we got output as blank\n",
        "\n",
        "for num in nums:\n",
        "    if num % 5 == 0:\n",
        "        print(num)\n",
        "        #break\n",
        "else:\n",
        "        print('Not Found')"
      ]
    },
    {
      "cell_type": "code",
      "execution_count": null,
      "metadata": {
        "id": "L_Q70J5W-b-w"
      },
      "outputs": [],
      "source": [
        "nums = [10,14,18,21,20,27] #hear there is no number which is divisible by 5 we got output as blank\n",
        "for num in nums:\n",
        "    if num % 5 == 0:\n",
        "        print(num)\n",
        "        break\n",
        "else:\n",
        "        print('Not Found')"
      ]
    },
    {
      "cell_type": "markdown",
      "metadata": {
        "id": "BNsr-cDM-b-w"
      },
      "source": [
        "- prime number - how to check given number is prime number or not\n",
        "![image.png](attachment:image.png)"
      ]
    },
    {
      "cell_type": "code",
      "execution_count": null,
      "metadata": {
        "id": "I4gRKOnf-b-w"
      },
      "outputs": [],
      "source": [
        "num = 14\n",
        "\n",
        "for i in range(2,num):\n",
        "    if num % i == 0:\n",
        "        print('Not prime Number')\n",
        "        break\n",
        "else:\n",
        "    print('Prime Number')"
      ]
    },
    {
      "cell_type": "code",
      "execution_count": null,
      "metadata": {
        "id": "Jpjy3f0K-b-w"
      },
      "outputs": [],
      "source": [
        "num = 13\n",
        "for i in range(2,num):\n",
        "    if num % i == 0:\n",
        "        print('Not prime Number')\n",
        "        break\n",
        "else:\n",
        "    print('Prime Number')"
      ]
    },
    {
      "cell_type": "markdown",
      "metadata": {
        "id": "Bx9cvpLF-b-x"
      },
      "source": [
        "![image.png](attachment:image.png)"
      ]
    },
    {
      "cell_type": "code",
      "execution_count": null,
      "metadata": {
        "id": "TPMoI86S-b-x"
      },
      "outputs": [],
      "source": [
        "from array import *\n",
        "arr = array('i',[])\n",
        "\n",
        "n = int(input('Enter the length of the array'))\n",
        "\n",
        "for i in range(5):\n",
        "    x = int(input('Enter the next value'))\n",
        "    arr.append(x)\n",
        "print(arr)"
      ]
    },
    {
      "cell_type": "code",
      "execution_count": null,
      "metadata": {
        "id": "hyrDg3dd-b-x"
      },
      "outputs": [],
      "source": [
        "from array import *\n",
        "arr = array('i',[])\n",
        "\n",
        "n = int(input('Enter the length of the array'))\n",
        "\n",
        "for i in range(5):\n",
        "    x = int(input('Enter the next value'))\n",
        "    arr.append(x)\n",
        "print(arr)"
      ]
    },
    {
      "cell_type": "code",
      "execution_count": null,
      "metadata": {
        "id": "kJnjaBzj-b-x"
      },
      "outputs": [],
      "source": [
        "from array import *\n",
        "arr = array('i',[])\n",
        "\n",
        "n = input('Enter the length of the array')\n",
        "\n",
        "for i in range(5):\n",
        "    x = input('Enter the next value')\n",
        "    arr.append(x)\n",
        "print(arr)"
      ]
    },
    {
      "cell_type": "raw",
      "metadata": {
        "id": "HnKGZG9J-b-y"
      },
      "source": [
        "# Way of creating array using numpy"
      ]
    },
    {
      "cell_type": "code",
      "execution_count": null,
      "metadata": {
        "id": "lqdcyKer-b-y"
      },
      "outputs": [],
      "source": [
        "from numpy import *\n",
        "arr = array([1,2,3,4,5])\n",
        "print(arr)\n",
        "type(arr)"
      ]
    },
    {
      "cell_type": "code",
      "execution_count": null,
      "metadata": {
        "id": "OH-d_TP_-b-y"
      },
      "outputs": [],
      "source": [
        "print(arr.dtype)"
      ]
    },
    {
      "cell_type": "code",
      "execution_count": null,
      "metadata": {
        "id": "ETrU7l5d-b-y"
      },
      "outputs": [],
      "source": [
        "arr = array([1,2,3,4,5.9])\n",
        "print(arr)"
      ]
    },
    {
      "cell_type": "code",
      "execution_count": null,
      "metadata": {
        "id": "jmv1nTAl-b-z"
      },
      "outputs": [],
      "source": [
        "print(arr.dtype)"
      ]
    },
    {
      "cell_type": "code",
      "execution_count": null,
      "metadata": {
        "id": "KGH6k5CM-b-z"
      },
      "outputs": [],
      "source": [
        "arr2 = array([1,2,3,4,5.9],float)\n",
        "arr2"
      ]
    },
    {
      "cell_type": "code",
      "execution_count": null,
      "metadata": {
        "id": "M0JbNMHa-b-z"
      },
      "outputs": [],
      "source": [
        "arr3 = array([1,2,3,4,5.6],int)\n",
        "arr3"
      ]
    },
    {
      "cell_type": "code",
      "execution_count": null,
      "metadata": {
        "id": "U0PnuqJL-b-z"
      },
      "outputs": [],
      "source": [
        "import numpy as np"
      ]
    },
    {
      "cell_type": "code",
      "execution_count": null,
      "metadata": {
        "id": "WpdQIN8q-b-z"
      },
      "outputs": [],
      "source": [
        "arr4 = np.linspace(0, 16, 10) # break the code between 10 spaces between 0 to 16 but why decimal becuase we break into parts thats why it is floats\n",
        "arr4"
      ]
    },
    {
      "cell_type": "code",
      "execution_count": null,
      "metadata": {
        "id": "x0FgwpO4-b-0"
      },
      "outputs": [],
      "source": [
        "arr5 = np.arange(0,10,2) # arange - as range\n",
        "arr5"
      ]
    },
    {
      "cell_type": "code",
      "execution_count": null,
      "metadata": {
        "id": "RjaJfWvN-b-0"
      },
      "outputs": [],
      "source": [
        "arr6 = np.zeros(5)\n",
        "arr6"
      ]
    },
    {
      "cell_type": "code",
      "execution_count": null,
      "metadata": {
        "id": "ivBCVKG4-b-0"
      },
      "outputs": [],
      "source": [
        "arr7 = np.ones(5)\n",
        "arr7"
      ]
    },
    {
      "cell_type": "code",
      "execution_count": null,
      "metadata": {
        "id": "P-OK7lld-b-0"
      },
      "outputs": [],
      "source": [
        "import tkinter as tk\n",
        "# Function to be called when the button is clicked\n",
        "def on_button_click():\n",
        "    label.config(text=\"Button clicked!\")\n",
        "\n",
        "# Create the main application window\n",
        "root = tk.Tk()\n",
        "root.title(\"Simple Tkinter App\")\n",
        "\n",
        "# Create a label widget\n",
        "label = tk.Label(root, text=\"Hello, Tkinter!\")\n",
        "label.pack(pady=20)\n",
        "\n",
        "# Create a button widget\n",
        "button = tk.Button(root, text=\"Click Me\", command=on_button_click)\n",
        "button.pack(pady=20)\n",
        "\n",
        "# Run the application\n",
        "root.mainloop()"
      ]
    },
    {
      "cell_type": "code",
      "execution_count": null,
      "metadata": {
        "id": "HCZtVV1P-b-0"
      },
      "outputs": [],
      "source": [
        "import tkinter as tk\n",
        "from tkinter import messagebox\n",
        "\n",
        "# Function to be called when the button is clicked\n",
        "def on_button_click():\n",
        "    user_input = entry.get()\n",
        "    messagebox.showinfo(\"Information\", f\"You entered: {user_input}\")\n",
        "\n",
        "# Create the main application window\n",
        "root = tk.Tk()\n",
        "root.title(\"Simple Tkinter App\")\n",
        "\n",
        "# Create a label widget\n",
        "label = tk.Label(root, text=\"Enter something:\")\n",
        "label.pack(pady=10)\n",
        "\n",
        "# Create a text entry widget\n",
        "entry = tk.Entry(root, width=30)\n",
        "entry.pack(pady=10)\n",
        "\n",
        "# Create a button widget\n",
        "button = tk.Button(root, text=\"Submit\", command=on_button_click)\n",
        "button.pack(pady=10)\n",
        "\n",
        "# Run the application\n",
        "root.mainloop()\n"
      ]
    }
  ],
  "metadata": {
    "kernelspec": {
      "display_name": "Python 3 (ipykernel)",
      "language": "python",
      "name": "python3"
    },
    "language_info": {
      "codemirror_mode": {
        "name": "ipython",
        "version": 3
      },
      "file_extension": ".py",
      "mimetype": "text/x-python",
      "name": "python",
      "nbconvert_exporter": "python",
      "pygments_lexer": "ipython3",
      "version": "3.11.7"
    },
    "colab": {
      "provenance": [],
      "include_colab_link": true
    }
  },
  "nbformat": 4,
  "nbformat_minor": 0
}