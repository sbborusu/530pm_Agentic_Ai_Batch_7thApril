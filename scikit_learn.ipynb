{
  "nbformat": 4,
  "nbformat_minor": 0,
  "metadata": {
    "colab": {
      "provenance": [],
      "toc_visible": true,
      "collapsed_sections": [
        "6s3N8-hGLDqz"
      ],
      "authorship_tag": "ABX9TyNzTOcLsxVFGgICY3vmn8GH",
      "include_colab_link": true
    },
    "kernelspec": {
      "name": "python3",
      "display_name": "Python 3"
    },
    "language_info": {
      "name": "python"
    }
  },
  "cells": [
    {
      "cell_type": "markdown",
      "metadata": {
        "id": "view-in-github",
        "colab_type": "text"
      },
      "source": [
        "<a href=\"https://colab.research.google.com/github/sbborusu/530pm_Agentic_Ai_Batch_7thApril/blob/main/scikit_learn.ipynb\" target=\"_parent\"><img src=\"https://colab.research.google.com/assets/colab-badge.svg\" alt=\"Open In Colab\"/></a>"
      ]
    },
    {
      "cell_type": "markdown",
      "source": [
        "# Scikit Introduction\n",
        "\n",
        "1. Primarily designed for machine learning rather than pure statistical analysis.\n",
        "2. scikit-learn and sklearn refer to the same library.\n",
        "3. scikit-learn is the official name of the popular Python machine learning library.\n",
        "4. sklearn is simply the alias used when importing the library in Python (import sklearn)\n",
        "5. So, while you install it using pip install scikit-learn, you use import sklearn in your code.\n",
        "\n",
        "\n",
        "\n"
      ],
      "metadata": {
        "id": "6s3N8-hGLDqz"
      }
    },
    {
      "cell_type": "code",
      "source": [
        "# pip install scikit-learn"
      ],
      "metadata": {
        "colab": {
          "base_uri": "https://localhost:8080/"
        },
        "id": "j9qOeL5xLcgX",
        "outputId": "d544b7db-2e97-4a76-887a-415d2a877483"
      },
      "execution_count": null,
      "outputs": [
        {
          "output_type": "stream",
          "name": "stdout",
          "text": [
            "Requirement already satisfied: scikit-learn in /usr/local/lib/python3.11/dist-packages (1.6.1)\n",
            "Requirement already satisfied: numpy>=1.19.5 in /usr/local/lib/python3.11/dist-packages (from scikit-learn) (2.0.2)\n",
            "Requirement already satisfied: scipy>=1.6.0 in /usr/local/lib/python3.11/dist-packages (from scikit-learn) (1.15.3)\n",
            "Requirement already satisfied: joblib>=1.2.0 in /usr/local/lib/python3.11/dist-packages (from scikit-learn) (1.5.1)\n",
            "Requirement already satisfied: threadpoolctl>=3.1.0 in /usr/local/lib/python3.11/dist-packages (from scikit-learn) (3.6.0)\n"
          ]
        }
      ]
    },
    {
      "cell_type": "markdown",
      "source": [
        "# Impute using SimpleImputer\n",
        "\n",
        "1. SimpleImputer module in scikit-learn allows you to fill missing values using statistical strategies Mean, Median, Mode, constant.\n",
        "\n"
      ],
      "metadata": {
        "id": "w-xbOOWY1-y2"
      }
    },
    {
      "cell_type": "code",
      "source": [
        "import pandas as pd\n",
        "import numpy as np\n",
        "from sklearn.impute import SimpleImputer\n",
        "\n",
        "# Sample dataset with missing values (NaN)\n",
        "data = np.array([[7, 2, np.nan],\n",
        "                 [4, np.nan, 6],\n",
        "                 [np.nan, 3, 8],\n",
        "                 [5, 6, 9]])\n",
        "\n",
        "# Convert to DataFrame for better visualization\n",
        "df = pd.DataFrame(data, columns=['Feature1', 'Feature2', 'Feature3'])\n",
        "# print(\"Original Data:\\n\", df)\n",
        "\n",
        "# Creates an imputer to fill missing values with the mean. Only Intializes the object 'Simple Imputer' ie., sets up the imputer with the specified strategy—it does not perform the imputation immediately.\n",
        "imputer = SimpleImputer(strategy='mean')\n",
        "\n",
        "# Instead of calling fit() and then transform() separately, fit_transform() does both in a single step.\n",
        "# 1. Calculates the mean (or other chosen strategy) for each column with missing values.\n",
        "# 2. Replaces missing values with the computed mean.\n",
        "\n",
        "data_imputed = imputer.fit_transform(df) # imputes the entire dataframe and copies to a different dataframe. returns an nd-array\n",
        "\n",
        "# impute specific column in a dataframe and put it back in the same dataframe\n",
        "#df.iloc[:, 0:1] = imputer.fit_transform(df.iloc[:,0:1])\n",
        "# (or)\n",
        "#df['Feature2'] = imputer.fit_transform(df[['Feature2']])\n",
        "#print(df)\n",
        "\n",
        "# Convert back to DataFrame\n",
        "imputed_df = pd.DataFrame(data_imputed, columns=df.columns)\n",
        "print(\"\\nData After Imputation:\\n\", imputed_df)\n",
        "\n",
        "\n"
      ],
      "metadata": {
        "colab": {
          "base_uri": "https://localhost:8080/"
        },
        "id": "UfArh_n4Lgo1",
        "outputId": "90e89554-751a-4013-884c-21cd310796e7"
      },
      "execution_count": null,
      "outputs": [
        {
          "output_type": "stream",
          "name": "stdout",
          "text": [
            "\n",
            "Data After Imputation:\n",
            "    Feature1  Feature2  Feature3\n",
            "0  7.000000  2.000000  7.666667\n",
            "1  4.000000  3.666667  6.000000\n",
            "2  5.333333  3.000000  8.000000\n",
            "3  5.000000  6.000000  9.000000\n"
          ]
        }
      ]
    },
    {
      "cell_type": "markdown",
      "source": [
        "# Categorical to Numerical data conversion"
      ],
      "metadata": {
        "id": "zl1kWJHm2NEX"
      }
    },
    {
      "cell_type": "code",
      "source": [
        "# Label Encoding Technique\n",
        "\n",
        "import pandas as pd\n",
        "from sklearn.preprocessing import LabelEncoder\n",
        "\n",
        "# Sample dataset\n",
        "data = pd.DataFrame({'State': ['California', 'Texas', 'Georgia', 'Texas', 'California']})\n",
        "\n",
        "label = LabelEncoder()\n",
        "\n",
        "#In the case of LabelEncoder, fit_transform() performs two steps in one:\n",
        "#- fit(): It learns the unique categories in the column and assigns each a numerical label.\n",
        "#- transform(): It converts the categorical values into their corresponding numeric labels.\n",
        "\n",
        "data['State'] = label.fit_transform(data['State'])"
      ],
      "metadata": {
        "id": "JFGVF8n_N6Js",
        "colab": {
          "base_uri": "https://localhost:8080/"
        },
        "outputId": "68fe9457-681e-4e95-8af2-6fbbc550f378"
      },
      "execution_count": null,
      "outputs": [
        {
          "output_type": "stream",
          "name": "stdout",
          "text": [
            "   State\n",
            "0      0\n",
            "1      2\n",
            "2      1\n",
            "3      2\n",
            "4      0\n"
          ]
        }
      ]
    },
    {
      "cell_type": "markdown",
      "source": [
        "# Split the variables for training and testing."
      ],
      "metadata": {
        "id": "KVdXp0XVyUem"
      }
    },
    {
      "cell_type": "code",
      "source": [
        "from sklearn.model_selection import train_test_split\n",
        "\n",
        "# Sample data\n",
        "X = [[25, 50000], [30, 60000], [35, 70000], [40, 80000], [45, 90000]]\n",
        "y = [0, 1, 0, 1, 1]  # 0 = not purchased, 1 = purchased\n",
        "\n",
        "X_train, X_test, y_train, y_test = train_test_split(X, y, test_size=0.2, random_state=42) #random_state ensures same data is used as split each time we run this code. 42 or any other\n",
        "# integer between 0 and 99 can be used. No special meaning to the integer value being used, but its a common and peculiar habbit in ML for programmers to use 42.\n",
        "\n",
        "print(\"X_train:\", X_train)\n",
        "print(\"X_test:\", X_test)\n",
        "print(\"y_train:\", y_train)\n",
        "print(\"y_test:\", y_test)\n",
        "\n",
        "\n"
      ],
      "metadata": {
        "id": "aYRlO6uS3yGs",
        "colab": {
          "base_uri": "https://localhost:8080/"
        },
        "outputId": "15b905fd-b647-4b0e-ebda-db79357a502c"
      },
      "execution_count": 2,
      "outputs": [
        {
          "output_type": "stream",
          "name": "stdout",
          "text": [
            "X_train: [[45, 90000], [35, 70000], [25, 50000], [40, 80000]]\n",
            "X_test: [[30, 60000]]\n",
            "y_train: [1, 0, 0, 1]\n",
            "y_test: [1]\n"
          ]
        }
      ]
    },
    {
      "cell_type": "code",
      "source": [],
      "metadata": {
        "id": "ZCr7Kbg026BZ"
      },
      "execution_count": null,
      "outputs": []
    }
  ]
}