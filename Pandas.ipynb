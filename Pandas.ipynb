{
  "nbformat": 4,
  "nbformat_minor": 0,
  "metadata": {
    "colab": {
      "provenance": [],
      "authorship_tag": "ABX9TyMeRiRWgz52SFaFifm9FR7G",
      "include_colab_link": true
    },
    "kernelspec": {
      "name": "python3",
      "display_name": "Python 3"
    },
    "language_info": {
      "name": "python"
    }
  },
  "cells": [
    {
      "cell_type": "markdown",
      "metadata": {
        "id": "view-in-github",
        "colab_type": "text"
      },
      "source": [
        "<a href=\"https://colab.research.google.com/github/sbborusu/530pm_Agentic_Ai_Batch_7thApril/blob/main/Pandas.ipynb\" target=\"_parent\"><img src=\"https://colab.research.google.com/assets/colab-badge.svg\" alt=\"Open In Colab\"/></a>"
      ]
    },
    {
      "cell_type": "code",
      "source": [
        "import pandas as pd\n",
        "data = {'cars' : ['BMW', 'Ford', 'Volvo'],\n",
        "        'models': ['X5', 'Mustang', 'XC90']}\n",
        "df = pd.DataFrame(data)\n",
        "print(df)\n",
        "print(type(df))"
      ],
      "metadata": {
        "colab": {
          "base_uri": "https://localhost:8080/"
        },
        "id": "yoeBnEf31x8p",
        "outputId": "5f9fc508-6a6e-4768-b139-05280e48bea7"
      },
      "execution_count": 11,
      "outputs": [
        {
          "output_type": "stream",
          "name": "stdout",
          "text": [
            "    cars   models\n",
            "0    BMW       X5\n",
            "1   Ford  Mustang\n",
            "2  Volvo     XC90\n",
            "<class 'pandas.core.frame.DataFrame'>\n"
          ]
        }
      ]
    },
    {
      "cell_type": "code",
      "execution_count": 13,
      "metadata": {
        "colab": {
          "base_uri": "https://localhost:8080/"
        },
        "id": "HFDUv4GEvADq",
        "outputId": "92ab9004-862f-4651-dea0-8ae3a07d5f5b"
      },
      "outputs": [
        {
          "output_type": "stream",
          "name": "stdout",
          "text": [
            "<class 'pandas.core.frame.DataFrame'>\n",
            "     Duration  Pulse  Maxpulse  Calories\n",
            "0          60    110       130     409.1\n",
            "1          60    117       145     479.0\n",
            "2          60    103       135     340.0\n",
            "3          45    109       175     282.4\n",
            "4          45    117       148     406.0\n",
            "..        ...    ...       ...       ...\n",
            "164        60    105       140     290.8\n",
            "165        60    110       145     300.4\n",
            "166        60    115       145     310.2\n",
            "167        75    120       150     320.4\n",
            "168        75    125       150     330.4\n",
            "\n",
            "[169 rows x 4 columns]\n"
          ]
        }
      ],
      "source": [
        "import pandas as pd\n",
        "# df = pd.read_csv('w3data.csv')\n",
        "df = pd.read_csv(r'/content/w3data.csv')\n",
        "print(type(df))\n",
        "print(df)"
      ]
    },
    {
      "cell_type": "code",
      "source": [
        "print(type(df.to_string()))\n",
        "#print(df.to_string())\n"
      ],
      "metadata": {
        "colab": {
          "base_uri": "https://localhost:8080/"
        },
        "id": "aHZbUXopxVuC",
        "outputId": "2a3ef153-c921-44fc-e563-e619fa38af7b"
      },
      "execution_count": 8,
      "outputs": [
        {
          "output_type": "stream",
          "name": "stdout",
          "text": [
            "<class 'str'>\n"
          ]
        }
      ]
    },
    {
      "cell_type": "code",
      "source": [],
      "metadata": {
        "id": "N9JgYw4dzhvE"
      },
      "execution_count": null,
      "outputs": []
    }
  ]
}