{
  "nbformat": 4,
  "nbformat_minor": 0,
  "metadata": {
    "colab": {
      "provenance": [],
      "authorship_tag": "ABX9TyNzBPkM9iO1wTJpM3/izGyZ",
      "include_colab_link": true
    },
    "kernelspec": {
      "name": "python3",
      "display_name": "Python 3"
    },
    "language_info": {
      "name": "python"
    }
  },
  "cells": [
    {
      "cell_type": "markdown",
      "metadata": {
        "id": "view-in-github",
        "colab_type": "text"
      },
      "source": [
        "<a href=\"https://colab.research.google.com/github/sbborusu/530pm_Agentic_Ai_Batch_7thApril/blob/main/Pandas.ipynb\" target=\"_parent\"><img src=\"https://colab.research.google.com/assets/colab-badge.svg\" alt=\"Open In Colab\"/></a>"
      ]
    },
    {
      "cell_type": "code",
      "source": [
        "import pandas as pd\n",
        "data = {'cars' : ['BMW', 'Ford', 'Volvo'],\n",
        "        'models': ['X5', 'Mustang', 'XC90']}\n",
        "df = pd.DataFrame(data)\n",
        "print(df)\n",
        "print(type(df))"
      ],
      "metadata": {
        "colab": {
          "base_uri": "https://localhost:8080/"
        },
        "id": "yoeBnEf31x8p",
        "outputId": "39d8d301-bce5-4d42-9320-3e17ffabc6d3"
      },
      "execution_count": 15,
      "outputs": [
        {
          "output_type": "stream",
          "name": "stdout",
          "text": [
            "    cars   models\n",
            "0    BMW       X5\n",
            "1   Ford  Mustang\n",
            "2  Volvo     XC90\n",
            "<class 'pandas.core.frame.DataFrame'>\n"
          ]
        }
      ]
    },
    {
      "cell_type": "code",
      "source": [
        "print(df['cars']) # Gets the complete column based on column name\n",
        "print(df.loc[1])  # Gets the complete row (s) based on row number\n",
        "print(df.loc[0:2])\n",
        "print(type(df.loc[0:2])) # Gets the range of rows\n",
        "print(df.loc[[0,2]]) # Gets the specified rows, in this case row 0 and 2"
      ],
      "metadata": {
        "colab": {
          "base_uri": "https://localhost:8080/"
        },
        "id": "uEYRfJrp78fT",
        "outputId": "b84f5e89-3a86-403d-ced1-9464d0944d81"
      },
      "execution_count": 29,
      "outputs": [
        {
          "output_type": "stream",
          "name": "stdout",
          "text": [
            "0      BMW\n",
            "1     Ford\n",
            "2    Volvo\n",
            "Name: cars, dtype: object\n",
            "cars         Ford\n",
            "models    Mustang\n",
            "Name: 1, dtype: object\n",
            "    cars   models\n",
            "0    BMW       X5\n",
            "1   Ford  Mustang\n",
            "2  Volvo     XC90\n",
            "<class 'pandas.core.frame.DataFrame'>\n",
            "    cars models\n",
            "0    BMW     X5\n",
            "2  Volvo   XC90\n"
          ]
        }
      ]
    },
    {
      "cell_type": "code",
      "execution_count": 13,
      "metadata": {
        "colab": {
          "base_uri": "https://localhost:8080/"
        },
        "id": "HFDUv4GEvADq",
        "outputId": "92ab9004-862f-4651-dea0-8ae3a07d5f5b"
      },
      "outputs": [
        {
          "output_type": "stream",
          "name": "stdout",
          "text": [
            "<class 'pandas.core.frame.DataFrame'>\n",
            "     Duration  Pulse  Maxpulse  Calories\n",
            "0          60    110       130     409.1\n",
            "1          60    117       145     479.0\n",
            "2          60    103       135     340.0\n",
            "3          45    109       175     282.4\n",
            "4          45    117       148     406.0\n",
            "..        ...    ...       ...       ...\n",
            "164        60    105       140     290.8\n",
            "165        60    110       145     300.4\n",
            "166        60    115       145     310.2\n",
            "167        75    120       150     320.4\n",
            "168        75    125       150     330.4\n",
            "\n",
            "[169 rows x 4 columns]\n"
          ]
        }
      ],
      "source": [
        "import pandas as pd\n",
        "# df = pd.read_csv('w3data.csv')\n",
        "df = pd.read_csv(r'/content/w3data.csv')\n",
        "print(type(df))\n",
        "print(df)"
      ]
    },
    {
      "cell_type": "code",
      "source": [
        "print(type(df.to_string()))\n",
        "#print(df.to_string())\n"
      ],
      "metadata": {
        "colab": {
          "base_uri": "https://localhost:8080/"
        },
        "id": "aHZbUXopxVuC",
        "outputId": "2a3ef153-c921-44fc-e563-e619fa38af7b"
      },
      "execution_count": 8,
      "outputs": [
        {
          "output_type": "stream",
          "name": "stdout",
          "text": [
            "<class 'str'>\n"
          ]
        }
      ]
    },
    {
      "cell_type": "code",
      "source": [],
      "metadata": {
        "id": "N9JgYw4dzhvE"
      },
      "execution_count": null,
      "outputs": []
    }
  ]
}