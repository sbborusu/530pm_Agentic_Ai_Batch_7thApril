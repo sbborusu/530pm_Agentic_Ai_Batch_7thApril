{
  "nbformat": 4,
  "nbformat_minor": 0,
  "metadata": {
    "colab": {
      "provenance": [],
      "authorship_tag": "ABX9TyPUJjwhbOJpccx8p/nueVjA",
      "include_colab_link": true
    },
    "kernelspec": {
      "name": "python3",
      "display_name": "Python 3"
    },
    "language_info": {
      "name": "python"
    }
  },
  "cells": [
    {
      "cell_type": "markdown",
      "metadata": {
        "id": "view-in-github",
        "colab_type": "text"
      },
      "source": [
        "<a href=\"https://colab.research.google.com/github/sbborusu/530pm_Agentic_Ai_Batch_7thApril/blob/main/Machine_Learning_Preprocessing_Pipeline.ipynb\" target=\"_parent\"><img src=\"https://colab.research.google.com/assets/colab-badge.svg\" alt=\"Open In Colab\"/></a>"
      ]
    },
    {
      "cell_type": "markdown",
      "source": [
        "# Gather Data"
      ],
      "metadata": {
        "id": "m7OUzo1Q6gQA"
      }
    },
    {
      "cell_type": "code",
      "execution_count": null,
      "metadata": {
        "id": "6OxN7qEGwdsT"
      },
      "outputs": [],
      "source": [
        "import numpy as np\n",
        "import matplotlib.pyplot as plt\n",
        "import pandas as pd\n",
        "\n",
        "dataset = pd.read_csv(r'/content/Data (1).csv')\n"
      ]
    },
    {
      "cell_type": "markdown",
      "source": [
        "# Split the data set into x and y variables"
      ],
      "metadata": {
        "id": "hg2rjtL18EfK"
      }
    },
    {
      "cell_type": "code",
      "source": [
        "x = dataset.iloc[:, :-1].values\n",
        "y = dataset.iloc[:, 3].values"
      ],
      "metadata": {
        "id": "wctfSxM3xRqW"
      },
      "execution_count": null,
      "outputs": []
    },
    {
      "cell_type": "code",
      "source": [
        "x"
      ],
      "metadata": {
        "colab": {
          "base_uri": "https://localhost:8080/"
        },
        "id": "6N3_sg0bxldp",
        "outputId": "6dcf70b1-903e-4bb7-fb6f-13c14165703a"
      },
      "execution_count": null,
      "outputs": [
        {
          "output_type": "execute_result",
          "data": {
            "text/plain": [
              "array([['Mumbai', 44.0, 72000.0],\n",
              "       ['Bangalore', 27.0, 48000.0],\n",
              "       ['Hyderabad', 30.0, 54000.0],\n",
              "       ['Bangalore', 38.0, 61000.0],\n",
              "       ['Hyderabad', 40.0, nan],\n",
              "       ['Mumbai', 35.0, 58000.0],\n",
              "       ['Bangalore', nan, 52000.0],\n",
              "       ['Mumbai', 48.0, 79000.0],\n",
              "       ['Hyderabad', 50.0, 83000.0],\n",
              "       ['Mumbai', 37.0, 67000.0]], dtype=object)"
            ]
          },
          "metadata": {},
          "execution_count": 37
        }
      ]
    },
    {
      "cell_type": "code",
      "source": [
        "y"
      ],
      "metadata": {
        "colab": {
          "base_uri": "https://localhost:8080/"
        },
        "id": "R8GYZ7NZxo2X",
        "outputId": "b254f0d9-9232-4489-b4d1-0db79c60db3b"
      },
      "execution_count": null,
      "outputs": [
        {
          "output_type": "execute_result",
          "data": {
            "text/plain": [
              "array(['No', 'Yes', 'No', 'No', 'Yes', 'Yes', 'No', 'Yes', 'No', 'Yes'],\n",
              "      dtype=object)"
            ]
          },
          "metadata": {},
          "execution_count": 38
        }
      ]
    },
    {
      "cell_type": "markdown",
      "source": [
        "# Perform imputation i.e., null value treatment\n",
        "\n",
        "\n"
      ],
      "metadata": {
        "id": "ZeXfPM2w6TOU"
      }
    },
    {
      "cell_type": "code",
      "source": [
        "# Instead of fillna to impute, we can use SimpleImputer to treat/impute missing values.\n",
        "from sklearn.impute import SimpleImputer\n",
        "imputer = SimpleImputer() # by default the strategy is mean and 'most_frequent' is mode. This strategy is hyper parameter tuning\n",
        "# or fine tuning.\n",
        "imputer = imputer.fit(x[:, 1:3])\n",
        "x[:, 1:3] = imputer.transform(x[:, 1:3])\n"
      ],
      "metadata": {
        "id": "6GJD30e1z4Km"
      },
      "execution_count": null,
      "outputs": []
    },
    {
      "cell_type": "markdown",
      "source": [
        "# Convert categorical data to numerical"
      ],
      "metadata": {
        "id": "9dZGtub59OLu"
      }
    },
    {
      "cell_type": "code",
      "source": [
        "# Convert categorical data into numerical\n",
        "from sklearn.preprocessing import LabelEncoder\n",
        "labelencoder_x = LabelEncoder()\n",
        "x[:,0] = labelencoder_x.fit_transform(x[:,0])"
      ],
      "metadata": {
        "id": "UdgwtliS0gUJ"
      },
      "execution_count": null,
      "outputs": []
    },
    {
      "cell_type": "code",
      "source": [
        "labelencoder_y = LabelEncoder()\n",
        "y = labelencoder_y.fit_transform(y)"
      ],
      "metadata": {
        "colab": {
          "base_uri": "https://localhost:8080/"
        },
        "id": "uoHx2Kkn4r96",
        "outputId": "52ff4b52-efa3-405c-ffc0-41fe87cf3785"
      },
      "execution_count": null,
      "outputs": [
        {
          "output_type": "execute_result",
          "data": {
            "text/plain": [
              "array([0, 1, 0, 0, 1, 1, 0, 1, 0, 1])"
            ]
          },
          "metadata": {},
          "execution_count": 43
        }
      ]
    },
    {
      "cell_type": "markdown",
      "source": [
        "# Split data into x-train, x-test, y-train, y-test"
      ],
      "metadata": {
        "id": "eS0qCYQH9X-E"
      }
    },
    {
      "cell_type": "code",
      "source": [
        "from sklearn.model_selection import train_test_split\n",
        "x_train, x_test, y_train, y_test = train_test_split(x, y, train_size=0.8, test_size = 0.2, random_state = 0) # random_state will make sure same data split is\n",
        "# picked up during multiple runs\n",
        "print(x_train)\n",
        "print(\"\")\n",
        "print(x_test)\n",
        "print(\"\")\n",
        "print(y_train)\n",
        "print(\"\")\n",
        "print(y_test)"
      ],
      "metadata": {
        "colab": {
          "base_uri": "https://localhost:8080/"
        },
        "id": "11pvADbj5wwQ",
        "outputId": "8c66fe6e-4ae0-4d22-fc58-f1f52db129d4"
      },
      "execution_count": null,
      "outputs": [
        {
          "output_type": "stream",
          "name": "stdout",
          "text": [
            "[[1 40.0 63777.77777777778]\n",
            " [2 37.0 67000.0]\n",
            " [0 27.0 48000.0]\n",
            " [0 38.77777777777778 52000.0]\n",
            " [2 48.0 79000.0]\n",
            " [0 38.0 61000.0]\n",
            " [2 44.0 72000.0]\n",
            " [2 35.0 58000.0]]\n",
            "\n",
            "[[1 30.0 54000.0]\n",
            " [1 50.0 83000.0]]\n",
            "\n",
            "[1 1 1 0 1 0 0 1]\n",
            "\n",
            "[0 0]\n"
          ]
        }
      ]
    },
    {
      "cell_type": "code",
      "source": [],
      "metadata": {
        "id": "JOvWqcPA6z-1"
      },
      "execution_count": null,
      "outputs": []
    }
  ]
}