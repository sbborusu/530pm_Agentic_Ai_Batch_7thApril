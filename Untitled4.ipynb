{
  "nbformat": 4,
  "nbformat_minor": 0,
  "metadata": {
    "colab": {
      "provenance": [],
      "authorship_tag": "ABX9TyOdM7EoOf8JoWngCAx7moV2",
      "include_colab_link": true
    },
    "kernelspec": {
      "name": "python3",
      "display_name": "Python 3"
    },
    "language_info": {
      "name": "python"
    }
  },
  "cells": [
    {
      "cell_type": "markdown",
      "metadata": {
        "id": "view-in-github",
        "colab_type": "text"
      },
      "source": [
        "<a href=\"https://colab.research.google.com/github/sbborusu/530pm_Agentic_Ai_Batch_7thApril/blob/main/Untitled4.ipynb\" target=\"_parent\"><img src=\"https://colab.research.google.com/assets/colab-badge.svg\" alt=\"Open In Colab\"/></a>"
      ]
    },
    {
      "cell_type": "code",
      "execution_count": null,
      "metadata": {
        "colab": {
          "base_uri": "https://localhost:8080/"
        },
        "id": "-z6c1MvBdDMx",
        "outputId": "a4dad85d-4656-47e7-83b2-13f2d6049e94"
      },
      "outputs": [
        {
          "output_type": "stream",
          "name": "stdout",
          "text": [
            "[ 0  1  2  3  4  5  6  7  8  9 10 11 12 13 14 15 16 17 18 19 20 21 22 23\n",
            " 24 25 26 27 28 29 30 31 32 33 34 35 36 37 38 39 40 41 42 43 44 45 46 47\n",
            " 48 49 50 51 52 53 54 55 56 57 58 59 60 61 62 63 64 65 66 67 68 69 70 71\n",
            " 72 73 74 75 76 77 78 79 80 81 82 83 84 85 86 87 88 89 90 91 92 93 94 95\n",
            " 96 97 98 99]\n"
          ]
        }
      ],
      "source": [
        "import numpy as np\n",
        "# create an array of items from 0 to 100\n",
        "print(np.arange(0, 100))"
      ]
    },
    {
      "cell_type": "code",
      "source": [
        "import numpy as np\n",
        "#check if the input is a single value or array of values and convert a single value to 1-d array. If its already a 1d array simply accept it as array.\n",
        "print(np.array([100, 200]))"
      ],
      "metadata": {
        "colab": {
          "base_uri": "https://localhost:8080/"
        },
        "id": "lIi959xfM1AX",
        "outputId": "1f33d078-9f75-44b8-fdc3-2e8544640612"
      },
      "execution_count": null,
      "outputs": [
        {
          "output_type": "stream",
          "name": "stdout",
          "text": [
            "[100 200]\n"
          ]
        }
      ]
    },
    {
      "cell_type": "code",
      "source": [
        "# sigmoid function\n",
        "z = -1000000\n",
        "den = 1 + np.exp(-z)\n",
        "print('den', den)"
      ],
      "metadata": {
        "id": "thJrbOzGdTmC",
        "colab": {
          "base_uri": "https://localhost:8080/"
        },
        "outputId": "dbb89b40-1d8c-414c-c061-1745e53d723f"
      },
      "execution_count": null,
      "outputs": [
        {
          "output_type": "stream",
          "name": "stdout",
          "text": [
            "den inf\n"
          ]
        },
        {
          "output_type": "stream",
          "name": "stderr",
          "text": [
            "/tmp/ipython-input-1160422114.py:3: RuntimeWarning: overflow encountered in exp\n",
            "  den = 1 + np.exp(-z)\n"
          ]
        }
      ]
    },
    {
      "cell_type": "code",
      "source": [
        "import numpy as np\n",
        "a = np.array([[1, 2], [3,4]])\n",
        "print(a)\n",
        "at = a.T\n",
        "print(at)\n",
        "print(at.T)"
      ],
      "metadata": {
        "id": "_u_uId26RnXE",
        "colab": {
          "base_uri": "https://localhost:8080/"
        },
        "outputId": "3f7e0163-6d16-4fe7-f8ad-2aa7f2e64469"
      },
      "execution_count": 2,
      "outputs": [
        {
          "output_type": "stream",
          "name": "stdout",
          "text": [
            "[[1 2]\n",
            " [3 4]]\n",
            "[[1 3]\n",
            " [2 4]]\n",
            "[[1 2]\n",
            " [3 4]]\n"
          ]
        }
      ]
    },
    {
      "cell_type": "code",
      "source": [],
      "metadata": {
        "id": "EL_b1EjxCGAT"
      },
      "execution_count": null,
      "outputs": []
    }
  ]
}