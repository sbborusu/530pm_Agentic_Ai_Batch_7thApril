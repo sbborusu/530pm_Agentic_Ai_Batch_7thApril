{
  "nbformat": 4,
  "nbformat_minor": 0,
  "metadata": {
    "colab": {
      "provenance": [],
      "collapsed_sections": [
        "0RvWvj2USZyI",
        "oG4zTtYZSoSb"
      ],
      "authorship_tag": "ABX9TyPFmbqipKe6wgISzMMMUPxq",
      "include_colab_link": true
    },
    "kernelspec": {
      "name": "python3",
      "display_name": "Python 3"
    },
    "language_info": {
      "name": "python"
    }
  },
  "cells": [
    {
      "cell_type": "markdown",
      "metadata": {
        "id": "view-in-github",
        "colab_type": "text"
      },
      "source": [
        "<a href=\"https://colab.research.google.com/github/sbborusu/530pm_Agentic_Ai_Batch_7thApril/blob/main/String_Tasks1.ipynb\" target=\"_parent\"><img src=\"https://colab.research.google.com/assets/colab-badge.svg\" alt=\"Open In Colab\"/></a>"
      ]
    },
    {
      "cell_type": "markdown",
      "source": [
        "# Single line comment"
      ],
      "metadata": {
        "id": "0RvWvj2USZyI"
      }
    },
    {
      "cell_type": "code",
      "execution_count": null,
      "metadata": {
        "colab": {
          "base_uri": "https://localhost:8080/"
        },
        "id": "aGfZ1BjzP9L3",
        "outputId": "1d03a420-8955-4d93-eb5d-b7fced1a6641"
      },
      "outputs": [
        {
          "output_type": "stream",
          "name": "stdout",
          "text": [
            "P\n"
          ]
        }
      ],
      "source": [
        "letter = 'P'\n",
        "print(letter)"
      ]
    },
    {
      "cell_type": "code",
      "source": [
        "print(len(letter))"
      ],
      "metadata": {
        "colab": {
          "base_uri": "https://localhost:8080/"
        },
        "id": "-_2b3wCvQKPf",
        "outputId": "e40facb0-3d13-43fe-b88b-f1eef6d4acb6"
      },
      "execution_count": null,
      "outputs": [
        {
          "output_type": "stream",
          "name": "stdout",
          "text": [
            "1\n"
          ]
        }
      ]
    },
    {
      "cell_type": "code",
      "source": [
        "greeting = \"Hello, World!\"\n",
        "print(greeting)\n",
        "print(len(greeting))"
      ],
      "metadata": {
        "colab": {
          "base_uri": "https://localhost:8080/"
        },
        "id": "X9bToVc2Qdxd",
        "outputId": "08ecc6da-0d5c-4b5c-de4d-6a806b40013c"
      },
      "execution_count": null,
      "outputs": [
        {
          "output_type": "stream",
          "name": "stdout",
          "text": [
            "Hello, World!\n",
            "13\n"
          ]
        }
      ]
    },
    {
      "cell_type": "code",
      "source": [
        "sentence = 'I hope you are enjoying 30 days of Python challenge'\n",
        "print(sentence)"
      ],
      "metadata": {
        "colab": {
          "base_uri": "https://localhost:8080/"
        },
        "id": "7pPtSc-BQq1n",
        "outputId": "ef239a05-b04e-4016-d0e9-7b37660e1a02"
      },
      "execution_count": null,
      "outputs": [
        {
          "output_type": "stream",
          "name": "stdout",
          "text": [
            "I hope you are enjoying 30 days of Python challenge\n"
          ]
        }
      ]
    },
    {
      "cell_type": "markdown",
      "source": [
        "# Multiline string"
      ],
      "metadata": {
        "id": "oG4zTtYZSoSb"
      }
    },
    {
      "cell_type": "code",
      "source": [
        "mulitline_string = ''' I am a teacher and enjoy teaching.\n",
        "I didn't find anything as rewarding as empowering people.\n",
        "That is why I created 30 days of Python.'''\n",
        "print(mulitline_string)\n"
      ],
      "metadata": {
        "colab": {
          "base_uri": "https://localhost:8080/"
        },
        "id": "xv1tvh4RRLy1",
        "outputId": "a6aa0925-7712-42c6-d8e3-7bc16f6fe108"
      },
      "execution_count": null,
      "outputs": [
        {
          "output_type": "stream",
          "name": "stdout",
          "text": [
            " I am a teacher and enjoy teaching.\n",
            "I didn't find anything as rewarding as empowering people.\n",
            "That is why I created 30 days of Python.\n"
          ]
        }
      ]
    },
    {
      "cell_type": "code",
      "source": [
        "mulitline_string = \"\"\"I am a teacher and enjoy teaching.\n",
        "I didn't find anything as rewarding as empowering people.\n",
        "That is why I created 30 days of Python.\"\"\"\n",
        "print(mulitline_string)"
      ],
      "metadata": {
        "colab": {
          "base_uri": "https://localhost:8080/"
        },
        "id": "-etXpJE6RmYy",
        "outputId": "c220c293-1736-4389-b712-533746f53881"
      },
      "execution_count": null,
      "outputs": [
        {
          "output_type": "stream",
          "name": "stdout",
          "text": [
            "I am a teacher and enjoy teaching.\n",
            "I didn't find anything as rewarding as empowering people.\n",
            "That is why I created 30 days of Python.\n"
          ]
        }
      ]
    },
    {
      "cell_type": "markdown",
      "source": [
        "# String concatenation"
      ],
      "metadata": {
        "id": "VPjgl2m2Syx5"
      }
    },
    {
      "cell_type": "code",
      "source": [
        "first_name = \"Sindhur\"\n",
        "last_name = \"Borusu\"\n",
        "space = \" \"\n",
        "full_name = first_name + space + last_name\n",
        "print(full_name)\n",
        "print(len(first_name))\n",
        "print(len(last_name))\n",
        "print(len(full_name) > len(last_name))\n",
        "print(len(full_name))"
      ],
      "metadata": {
        "colab": {
          "base_uri": "https://localhost:8080/"
        },
        "id": "5mu9Sy9YS4XE",
        "outputId": "c2c58df3-f17c-4cfa-ff67-0cfc1ea9f96e"
      },
      "execution_count": null,
      "outputs": [
        {
          "output_type": "stream",
          "name": "stdout",
          "text": [
            "Sindhur Borusu\n",
            "7\n",
            "6\n",
            "True\n",
            "14\n"
          ]
        }
      ]
    },
    {
      "cell_type": "markdown",
      "source": [
        "#### Unpacking characters"
      ],
      "metadata": {
        "id": "ufowveezXGhm"
      }
    },
    {
      "cell_type": "code",
      "source": [
        "language = 'Python'\n",
        "a,b,c,d,e,f = language #unpacking sequence of characters into variables\n",
        "print(a)\n",
        "print(b)\n",
        "print(c)\n",
        "print(d)\n",
        "print(e)\n",
        "print(f)"
      ],
      "metadata": {
        "colab": {
          "base_uri": "https://localhost:8080/"
        },
        "id": "Z8ekh5rlXKdh",
        "outputId": "07008527-ddc2-4ff2-dad7-3b8982f309af"
      },
      "execution_count": null,
      "outputs": [
        {
          "output_type": "stream",
          "name": "stdout",
          "text": [
            "P\n",
            "y\n",
            "t\n",
            "h\n",
            "o\n",
            "n\n"
          ]
        }
      ]
    },
    {
      "cell_type": "markdown",
      "source": [
        "# Accessing characters in strings by index"
      ],
      "metadata": {
        "id": "VbB6Y9f6POpn"
      }
    },
    {
      "cell_type": "code",
      "source": [
        "language = \"Python\"\n",
        "first_letter = language[0]\n",
        "print(first_letter)\n",
        "second_letter = language[1]\n",
        "print(second_letter)\n",
        "third_letter = language[2]\n",
        "print(third_letter)\n",
        "last_index = len(language) - 1\n",
        "print(language[last_index])"
      ],
      "metadata": {
        "colab": {
          "base_uri": "https://localhost:8080/"
        },
        "id": "BzojbttcPRwc",
        "outputId": "5a953124-e0ff-4b54-f224-9c0cb7f808c0"
      },
      "execution_count": null,
      "outputs": [
        {
          "output_type": "stream",
          "name": "stdout",
          "text": [
            "P\n",
            "y\n",
            "t\n",
            "n\n"
          ]
        }
      ]
    },
    {
      "cell_type": "markdown",
      "source": [
        "# If we want to start from right end we can use negative indexing. -1 is the last index"
      ],
      "metadata": {
        "id": "lu5Abm3gQCFT"
      }
    },
    {
      "cell_type": "code",
      "source": [
        "language = \"Python\"\n",
        "last_character = language[-1]\n",
        "print(last_character)\n",
        "second_last = language[-2]\n",
        "print(second_last)"
      ],
      "metadata": {
        "colab": {
          "base_uri": "https://localhost:8080/"
        },
        "id": "IhS_VMiHPfom",
        "outputId": "63f56c4e-f320-4661-f69b-77e3757fe3e9"
      },
      "execution_count": null,
      "outputs": [
        {
          "output_type": "stream",
          "name": "stdout",
          "text": [
            "n\n",
            "o\n"
          ]
        }
      ]
    },
    {
      "cell_type": "markdown",
      "source": [
        "# Slicing"
      ],
      "metadata": {
        "id": "7VbDDgPOSBN5"
      }
    },
    {
      "cell_type": "code",
      "source": [
        "language = 'Python'\n",
        "first_three = language[0:3]\n",
        "print(first_three)\n",
        "last_three = language[3:6]\n",
        "print(last_three)\n"
      ],
      "metadata": {
        "colab": {
          "base_uri": "https://localhost:8080/"
        },
        "id": "WSemU7F1QTHb",
        "outputId": "5cd332bd-e94d-455f-9789-0cc8216a0dcd"
      },
      "execution_count": null,
      "outputs": [
        {
          "output_type": "stream",
          "name": "stdout",
          "text": [
            "Pyt\n",
            "hon\n"
          ]
        }
      ]
    },
    {
      "cell_type": "markdown",
      "source": [
        "# Skipping character while splitting Python strings"
      ],
      "metadata": {
        "id": "4hyCPqDhTbyN"
      }
    },
    {
      "cell_type": "code",
      "source": [],
      "metadata": {
        "id": "-1jFxiSzSN4G"
      },
      "execution_count": null,
      "outputs": []
    },
    {
      "cell_type": "code",
      "source": [
        "language = 'Python'\n",
        "pto = language[0:6:2] #\n",
        "print(pto) # pto"
      ],
      "metadata": {
        "colab": {
          "base_uri": "https://localhost:8080/"
        },
        "id": "F9ppn76lTelU",
        "outputId": "0c1d4489-e302-4c72-e155-b48050b8a43b"
      },
      "execution_count": null,
      "outputs": [
        {
          "output_type": "stream",
          "name": "stdout",
          "text": [
            "Pto\n"
          ]
        }
      ]
    },
    {
      "cell_type": "code",
      "source": [
        "print('I hope every one enjoying the python challenge.\\nDo you ?') # line break\n",
        "print('Days\\tTopics\\tExercises')\n",
        "print('Day 1\\t3\\t5')\n",
        "print('Day 2\\t3\\t5')\n",
        "print('Day 3\\t3\\t5')\n",
        "print('Day 4\\t3\\t5')\n",
        "print('This is a back slash  symbol (\\\\)') # To write a back slash\n",
        "print('In every programming language it starts with \\\"Hello, World!\\\"')"
      ],
      "metadata": {
        "colab": {
          "base_uri": "https://localhost:8080/"
        },
        "id": "9wurV9eyThIo",
        "outputId": "f8874b8c-5c0c-4af1-e602-473968f0681e"
      },
      "execution_count": null,
      "outputs": [
        {
          "output_type": "stream",
          "name": "stdout",
          "text": [
            "I hope every one enjoying the python challenge.\n",
            "Do you ?\n",
            "Days\tTopics\tExercises\n",
            "Day 1\t3\t5\n",
            "Day 2\t3\t5\n",
            "Day 3\t3\t5\n",
            "Day 4\t3\t5\n",
            "This is a back slash  symbol (\\)\n",
            "In every programming language it starts with \"Hello, World!\"\n"
          ]
        }
      ]
    },
    {
      "cell_type": "code",
      "source": [
        "# capitalize(): Converts the first character the string to Capital Letter\n",
        "\n",
        "challenge = 'thirty days of python'\n",
        "print(challenge.capitalize()) # 'Thirty days of python'"
      ],
      "metadata": {
        "colab": {
          "base_uri": "https://localhost:8080/"
        },
        "id": "8_lFMb7-UkAb",
        "outputId": "ee6a991b-8d84-440b-c8b1-65b5c1a107a7"
      },
      "execution_count": null,
      "outputs": [
        {
          "output_type": "stream",
          "name": "stdout",
          "text": [
            "Thirty days of python\n"
          ]
        }
      ]
    },
    {
      "cell_type": "code",
      "source": [
        "# count(): returns occurrences of substring in string, count(substring, start=.., end=..)\n",
        "\n",
        "challenge = 'thirty days of python'\n",
        "print(challenge.count('y')) # 3\n",
        "print(challenge.count('y', 7, 14)) # 1\n",
        "print(challenge.count('th')) # 2`"
      ],
      "metadata": {
        "colab": {
          "base_uri": "https://localhost:8080/"
        },
        "id": "e4h9UB93UwNN",
        "outputId": "ff22d451-0809-4b74-84e8-ec303bb78b3d"
      },
      "execution_count": null,
      "outputs": [
        {
          "output_type": "stream",
          "name": "stdout",
          "text": [
            "3\n",
            "1\n",
            "2\n"
          ]
        }
      ]
    },
    {
      "cell_type": "code",
      "source": [
        "# endswith(): Checks if a string ends with a specified ending\n",
        "\n",
        "challenge = 'thirty days of python'\n",
        "print(challenge.endswith('on'))   # True\n",
        "print(challenge.endswith('tion')) # False"
      ],
      "metadata": {
        "colab": {
          "base_uri": "https://localhost:8080/"
        },
        "id": "j1t_MI9_VHZL",
        "outputId": "cea4ab21-a537-4357-a653-fb66a4d57d35"
      },
      "execution_count": null,
      "outputs": [
        {
          "output_type": "stream",
          "name": "stdout",
          "text": [
            "True\n",
            "False\n"
          ]
        }
      ]
    },
    {
      "cell_type": "code",
      "source": [
        "challenge = 'thirty\\tdays\\tof\\tpython'\n",
        "print(challenge.expandtabs())\n",
        "print(challenge.expandtabs(2))"
      ],
      "metadata": {
        "colab": {
          "base_uri": "https://localhost:8080/"
        },
        "id": "osVMyhSHWcTZ",
        "outputId": "15d781b2-2da2-4000-968c-e67139cd863a"
      },
      "execution_count": null,
      "outputs": [
        {
          "output_type": "stream",
          "name": "stdout",
          "text": [
            "thirty  days    of      python\n",
            "thirty  days  of  python\n"
          ]
        }
      ]
    },
    {
      "cell_type": "code",
      "source": [
        "# find(): Returns the index of first occurrence of substring\n",
        "\n",
        "challenge = 'thirty days of python'\n",
        "print(challenge.find('y'))  # 5\n",
        "print(challenge.find('th')) # 0"
      ],
      "metadata": {
        "colab": {
          "base_uri": "https://localhost:8080/"
        },
        "id": "7SONhx2JW7E3",
        "outputId": "283d5c8b-bda4-4c4e-d515-78b4384e3cbb"
      },
      "execution_count": null,
      "outputs": [
        {
          "output_type": "stream",
          "name": "stdout",
          "text": [
            "5\n",
            "0\n"
          ]
        }
      ]
    },
    {
      "cell_type": "code",
      "source": [
        "# format()\tformats string into nicer output\n",
        "first_name = 'Asabeneh'\n",
        "last_name = 'Yetayeh'\n",
        "job = 'teacher'\n",
        "country = 'Finland'\n",
        "sentence = 'I am {} {}. I am a {}. I live in {}.'.format(first_name, last_name, job, country)\n",
        "print(sentence) # I am Asabeneh Yetayeh. I am a teacher. I live in Finland."
      ],
      "metadata": {
        "colab": {
          "base_uri": "https://localhost:8080/"
        },
        "id": "UfIeKwhGXiYB",
        "outputId": "9bf61e73-aa90-44fb-f007-b86da1d10b59"
      },
      "execution_count": null,
      "outputs": [
        {
          "output_type": "stream",
          "name": "stdout",
          "text": [
            "I am Asabeneh Yetayeh. I am a teacher. I live in Finland.\n"
          ]
        }
      ]
    },
    {
      "cell_type": "code",
      "source": [
        "# find(): Returns the index of first occurrence of substring\n",
        "\n",
        "challenge = 'thirty days of python'\n",
        "print(challenge.find('y'))  # 5\n",
        "print(challenge.find('th')) # 0"
      ],
      "metadata": {
        "colab": {
          "base_uri": "https://localhost:8080/"
        },
        "id": "1Q65b5JWX5iw",
        "outputId": "4aeba837-7a25-484c-c4f5-1a566ab8ccd5"
      },
      "execution_count": null,
      "outputs": [
        {
          "output_type": "stream",
          "name": "stdout",
          "text": [
            "5\n",
            "0\n"
          ]
        }
      ]
    },
    {
      "cell_type": "code",
      "source": [
        "radius = 10\n",
        "pi = 3.14\n",
        "area = pi * radius ** 2\n",
        "result = 'The area of circle with {} is {}'.format(str(radius), str(area))\n",
        "print(result) # The area of circle with 10 is 314.0"
      ],
      "metadata": {
        "colab": {
          "base_uri": "https://localhost:8080/"
        },
        "id": "bgFZggXOYIlj",
        "outputId": "2867fee4-48f7-451a-cb97-e9a67e474d97"
      },
      "execution_count": null,
      "outputs": [
        {
          "output_type": "stream",
          "name": "stdout",
          "text": [
            "The area of circle with 10 is 314.0\n"
          ]
        }
      ]
    },
    {
      "cell_type": "code",
      "source": [
        "# isalnum(): Checks alphanumeric character\n",
        "\n",
        "challenge = 'ThirtyDaysPython'\n",
        "print(challenge.isalnum()) # True\n",
        "\n",
        "challenge = '30DaysPython'\n",
        "print(challenge.isalnum()) # True\n",
        "\n",
        "challenge = 'thirty days of python'\n",
        "print(challenge.isalnum()) # False\n",
        "\n",
        "challenge = 'thirty days of python 2019'\n",
        "print(challenge.isalnum()) # False"
      ],
      "metadata": {
        "colab": {
          "base_uri": "https://localhost:8080/"
        },
        "id": "wOFw0wi4YlpW",
        "outputId": "0fb38067-4fcb-4444-fa01-26eea9baf4bb"
      },
      "execution_count": null,
      "outputs": [
        {
          "output_type": "stream",
          "name": "stdout",
          "text": [
            "True\n",
            "True\n",
            "False\n",
            "False\n"
          ]
        }
      ]
    },
    {
      "cell_type": "code",
      "source": [
        "# isalpha(): Checks if all characters are alphabets\n",
        "\n",
        "challenge = 'thirtydaysofpython'\n",
        "print(challenge.isalpha()) # True\n",
        "challenge1 = 'thirty days of python'\n",
        "print(challenge1.isalpha()) # True\n",
        "num = '123'\n",
        "print(num.isalpha())      # False"
      ],
      "metadata": {
        "colab": {
          "base_uri": "https://localhost:8080/"
        },
        "id": "3EKbn1mlafQV",
        "outputId": "062089a2-d356-4717-a6a4-912d78ba87c8"
      },
      "execution_count": null,
      "outputs": [
        {
          "output_type": "stream",
          "name": "stdout",
          "text": [
            "True\n",
            "False\n",
            "False\n"
          ]
        }
      ]
    },
    {
      "cell_type": "code",
      "source": [
        "# isdigit(): Checks Digit Characters\n",
        "\n",
        "challenge = 'Thirty'\n",
        "print(challenge.isdigit()) # False\n",
        "challenge = '30'\n",
        "print(challenge.isdigit())   # True"
      ],
      "metadata": {
        "colab": {
          "base_uri": "https://localhost:8080/"
        },
        "id": "3bcmwrLJbCD4",
        "outputId": "cbf6b426-2285-4db0-c8e4-b817e2041eb9"
      },
      "execution_count": null,
      "outputs": [
        {
          "output_type": "stream",
          "name": "stdout",
          "text": [
            "False\n",
            "True\n"
          ]
        }
      ]
    },
    {
      "cell_type": "code",
      "source": [
        "# isdecimal():Checks decimal characters\n",
        "\n",
        "num = '10'\n",
        "print(num.isdecimal()) # True\n",
        "print(num)\n",
        "num = '10.5'\n",
        "print(num.isdecimal()) # False"
      ],
      "metadata": {
        "colab": {
          "base_uri": "https://localhost:8080/"
        },
        "id": "_ctAGVpbb_-9",
        "outputId": "edec50d4-4918-4ba4-e055-23ff66b689fc"
      },
      "execution_count": null,
      "outputs": [
        {
          "output_type": "stream",
          "name": "stdout",
          "text": [
            "True\n",
            "10\n",
            "False\n"
          ]
        }
      ]
    },
    {
      "cell_type": "code",
      "source": [
        "# isidentifier():Checks for valid identifier means it check if a string is a valid variable name\n",
        "\n",
        "challenge = '30DaysOfPython'\n",
        "print(challenge.isidentifier()) # False, because it starts with a number\n",
        "challenge = 'thirty_days_of_python'\n",
        "print(challenge.isidentifier()) # True"
      ],
      "metadata": {
        "colab": {
          "base_uri": "https://localhost:8080/"
        },
        "id": "M12jBtVocGcH",
        "outputId": "df75d91a-2d99-4ca2-91a5-8194d75595b4"
      },
      "execution_count": null,
      "outputs": [
        {
          "output_type": "stream",
          "name": "stdout",
          "text": [
            "False\n",
            "True\n"
          ]
        }
      ]
    },
    {
      "cell_type": "code",
      "source": [
        "# islower():Checks if all alphabets in a string are lowercase\n",
        "\n",
        "challenge = 'thirty days of python'\n",
        "print(challenge.islower()) # True\n",
        "challenge = 'Thirty days of python'\n",
        "print(challenge.islower()) # False"
      ],
      "metadata": {
        "colab": {
          "base_uri": "https://localhost:8080/"
        },
        "id": "FMEvHHb_dMWu",
        "outputId": "41100b9b-01aa-4862-de50-b1f502daa650"
      },
      "execution_count": null,
      "outputs": [
        {
          "output_type": "stream",
          "name": "stdout",
          "text": [
            "True\n",
            "False\n"
          ]
        }
      ]
    },
    {
      "cell_type": "code",
      "source": [
        "# isupper(): returns if all characters are uppercase characters\n",
        "\n",
        "challenge = 'thirty days of python'\n",
        "print(challenge.isupper()) #  False\n",
        "challenge = 'THIRTY DAYS OF PYTHON'\n",
        "print(challenge.isupper()) # True"
      ],
      "metadata": {
        "colab": {
          "base_uri": "https://localhost:8080/"
        },
        "id": "FOogNaWVd6Bj",
        "outputId": "703aca6c-f87c-498f-8cf4-e5fb0746094e"
      },
      "execution_count": null,
      "outputs": [
        {
          "output_type": "stream",
          "name": "stdout",
          "text": [
            "False\n",
            "True\n"
          ]
        }
      ]
    },
    {
      "cell_type": "code",
      "source": [
        "# isnumeric():Checks numeric characters\n",
        "\n",
        "num = '10'\n",
        "print(num.isnumeric())      # True\n",
        "print('ten'.isnumeric())    # False"
      ],
      "metadata": {
        "colab": {
          "base_uri": "https://localhost:8080/"
        },
        "id": "0xRJb9rDd9LT",
        "outputId": "14a414cc-d411-4d4e-e97b-2c69d822a136"
      },
      "execution_count": null,
      "outputs": [
        {
          "output_type": "stream",
          "name": "stdout",
          "text": [
            "True\n",
            "False\n"
          ]
        }
      ]
    },
    {
      "cell_type": "code",
      "source": [
        "# join(): Returns a concatenated string\n",
        "\n",
        "web_tech = ['HTML', 'CSS', 'JavaScript', 'React']\n",
        "result = '#, '.join(web_tech)\n",
        "print(result) # 'HTML# CSS# JavaScript# React'"
      ],
      "metadata": {
        "colab": {
          "base_uri": "https://localhost:8080/"
        },
        "id": "PZ_RkevCeFEu",
        "outputId": "4a28ac1b-d337-4262-f861-dd5f6cf715ab"
      },
      "execution_count": null,
      "outputs": [
        {
          "output_type": "stream",
          "name": "stdout",
          "text": [
            "HTML#, CSS#, JavaScript#, React\n"
          ]
        }
      ]
    },
    {
      "cell_type": "code",
      "source": [
        "# strip(): Removes both leading and trailing characters\n",
        "\n",
        "challenge = ' thirty days of python '\n",
        "print(challenge.strip())\n",
        "challenge = 'thirty days of python'\n",
        "print(challenge.strip('t'))\n",
        "string3 = \"  .?!mixed characters?!.  \"\n",
        "print(string3.strip(\" .?!\")) # Output: mixed characters"
      ],
      "metadata": {
        "colab": {
          "base_uri": "https://localhost:8080/"
        },
        "id": "utUC0-Kned3k",
        "outputId": "9a03883a-ed2e-4f33-e141-685798351fba"
      },
      "execution_count": null,
      "outputs": [
        {
          "output_type": "stream",
          "name": "stdout",
          "text": [
            "thirty days of python\n",
            "hirty days of python\n",
            "mixed characters\n"
          ]
        }
      ]
    },
    {
      "cell_type": "code",
      "source": [
        "# replace(): Replaces substring inside\n",
        "\n",
        "challenge = 'thirty days of python'\n",
        "print(challenge.replace('python', 'coding')) # 'thirty days of coding'"
      ],
      "metadata": {
        "colab": {
          "base_uri": "https://localhost:8080/"
        },
        "id": "z5DflOs_eibU",
        "outputId": "7e6f9f87-52be-4d60-b6ce-a9ec1d1fbeef"
      },
      "execution_count": null,
      "outputs": [
        {
          "output_type": "stream",
          "name": "stdout",
          "text": [
            "thirty days of coding\n"
          ]
        }
      ]
    },
    {
      "cell_type": "code",
      "source": [
        "# split():Splits String from Left\n",
        "\n",
        "challenge = 'thirty days of python'\n",
        "print(challenge.split()) # ['thirty', 'days', 'of', 'python']\n",
        "string = \"a,b,c,d,e\"\n",
        "list_of_strings = string.split(\",\", 3)\n",
        "print(list_of_strings)  # Output: ['a', 'b', 'c,d,e']"
      ],
      "metadata": {
        "colab": {
          "base_uri": "https://localhost:8080/"
        },
        "id": "oGxzFk2-foaC",
        "outputId": "c4f73b86-5e2d-4fdf-b6e4-3f9dbff89306"
      },
      "execution_count": null,
      "outputs": [
        {
          "output_type": "stream",
          "name": "stdout",
          "text": [
            "['thirty', 'days', 'of', 'python']\n",
            "['a', 'b', 'c', 'd,e']\n"
          ]
        }
      ]
    },
    {
      "cell_type": "code",
      "source": [
        "# title(): Returns a Title Cased String\n",
        "\n",
        "challenge = 'thirty days of python'\n",
        "print(challenge.title()) # Thirty Days Of Python"
      ],
      "metadata": {
        "colab": {
          "base_uri": "https://localhost:8080/"
        },
        "id": "9gdfPhw1f7yF",
        "outputId": "807df48b-17c6-4fb0-ff61-c123cdc28d7e"
      },
      "execution_count": null,
      "outputs": [
        {
          "output_type": "stream",
          "name": "stdout",
          "text": [
            "Thirty Days Of Python\n"
          ]
        }
      ]
    },
    {
      "cell_type": "code",
      "source": [
        "challenge = 'thirty days of python'\n",
        "print(challenge.swapcase())   # THIRTY DAYS OF PYTHON\n",
        "challenge = 'Thirty Days Of Python'\n",
        "print(challenge.swapcase())  # tHIRTY dAYS oF pYTHON"
      ],
      "metadata": {
        "colab": {
          "base_uri": "https://localhost:8080/"
        },
        "id": "hU-8JAdJgiQR",
        "outputId": "117f27e4-8985-4cdc-d931-906708c51183"
      },
      "execution_count": null,
      "outputs": [
        {
          "output_type": "stream",
          "name": "stdout",
          "text": [
            "THIRTY DAYS OF PYTHON\n",
            "tHIRTY dAYS oF pYTHON\n"
          ]
        }
      ]
    },
    {
      "cell_type": "code",
      "source": [
        "challenge = 'thirty days of python'\n",
        "print(challenge.startswith('thirty')) # True\n",
        "challenge = '30 days of python'\n",
        "print(challenge.startswith('thirty')) # False"
      ],
      "metadata": {
        "colab": {
          "base_uri": "https://localhost:8080/"
        },
        "id": "1ZPk37dnhHZL",
        "outputId": "caccf908-c703-4bfd-bfeb-c3a072a52623"
      },
      "execution_count": null,
      "outputs": [
        {
          "output_type": "stream",
          "name": "stdout",
          "text": [
            "True\n",
            "False\n"
          ]
        }
      ]
    },
    {
      "cell_type": "code",
      "source": [
        "a = 5\n",
        "id(a)"
      ],
      "metadata": {
        "id": "kfbGZGqZhSk9",
        "colab": {
          "base_uri": "https://localhost:8080/"
        },
        "outputId": "de5f0bc3-8cee-441d-b973-709030117638"
      },
      "execution_count": null,
      "outputs": [
        {
          "output_type": "execute_result",
          "data": {
            "text/plain": [
              "10750984"
            ]
          },
          "metadata": {},
          "execution_count": 1
        }
      ]
    },
    {
      "cell_type": "code",
      "source": [
        "import sys\n",
        "sys.version"
      ],
      "metadata": {
        "colab": {
          "base_uri": "https://localhost:8080/",
          "height": 35
        },
        "id": "FRifZ41wbiUM",
        "outputId": "59a30601-6bff-4bb6-bdbe-e86e4242e04d"
      },
      "execution_count": null,
      "outputs": [
        {
          "output_type": "execute_result",
          "data": {
            "text/plain": [
              "'3.11.12 (main, Apr  9 2025, 08:55:54) [GCC 11.4.0]'"
            ],
            "application/vnd.google.colaboratory.intrinsic+json": {
              "type": "string"
            }
          },
          "metadata": {},
          "execution_count": 2
        }
      ]
    },
    {
      "cell_type": "code",
      "source": [
        "in('ten')"
      ],
      "metadata": {
        "id": "Fn6zAp4G1LK8"
      },
      "execution_count": null,
      "outputs": []
    },
    {
      "cell_type": "code",
      "source": [
        "import keyword\n",
        "keyword.kwlist"
      ],
      "metadata": {
        "id": "639IYX7dgq95",
        "outputId": "7036fd9e-fa0c-4707-a599-73b1aeec05a3",
        "colab": {
          "base_uri": "https://localhost:8080/"
        }
      },
      "execution_count": null,
      "outputs": [
        {
          "output_type": "execute_result",
          "data": {
            "text/plain": [
              "['False',\n",
              " 'None',\n",
              " 'True',\n",
              " 'and',\n",
              " 'as',\n",
              " 'assert',\n",
              " 'async',\n",
              " 'await',\n",
              " 'break',\n",
              " 'class',\n",
              " 'continue',\n",
              " 'def',\n",
              " 'del',\n",
              " 'elif',\n",
              " 'else',\n",
              " 'except',\n",
              " 'finally',\n",
              " 'for',\n",
              " 'from',\n",
              " 'global',\n",
              " 'if',\n",
              " 'import',\n",
              " 'in',\n",
              " 'is',\n",
              " 'lambda',\n",
              " 'nonlocal',\n",
              " 'not',\n",
              " 'or',\n",
              " 'pass',\n",
              " 'raise',\n",
              " 'return',\n",
              " 'try',\n",
              " 'while',\n",
              " 'with',\n",
              " 'yield']"
            ]
          },
          "metadata": {},
          "execution_count": 3
        }
      ]
    }
  ]
}