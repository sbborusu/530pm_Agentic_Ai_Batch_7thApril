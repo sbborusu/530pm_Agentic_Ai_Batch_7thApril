{
  "nbformat": 4,
  "nbformat_minor": 0,
  "metadata": {
    "colab": {
      "provenance": [],
      "authorship_tag": "ABX9TyP/3fj6QLl2HkpS2uR3tdsI",
      "include_colab_link": true
    },
    "kernelspec": {
      "name": "python3",
      "display_name": "Python 3"
    },
    "language_info": {
      "name": "python"
    }
  },
  "cells": [
    {
      "cell_type": "markdown",
      "metadata": {
        "id": "view-in-github",
        "colab_type": "text"
      },
      "source": [
        "<a href=\"https://colab.research.google.com/github/sbborusu/530pm_Agentic_Ai_Batch_7thApril/blob/main/Practice.ipynb\" target=\"_parent\"><img src=\"https://colab.research.google.com/assets/colab-badge.svg\" alt=\"Open In Colab\"/></a>"
      ]
    },
    {
      "cell_type": "code",
      "execution_count": null,
      "metadata": {
        "colab": {
          "base_uri": "https://localhost:8080/"
        },
        "id": "6k1ZZRwx_052",
        "outputId": "9e7a5213-2ecc-4ebe-aba4-4a05f4b03e3f"
      },
      "outputs": [
        {
          "output_type": "stream",
          "name": "stdout",
          "text": [
            "10\n",
            "10\n",
            "10 20\n",
            "(1+2j)\n",
            "(1+2j) 20 True\n",
            "Hello Dear 20\n"
          ]
        }
      ],
      "source": [
        "print(10)\n",
        "print('10')\n",
        "print(10,20)\n",
        "print(1+2j)\n",
        "print(1+2j,20,True)\n",
        "print('Hello Dear',20)"
      ]
    },
    {
      "cell_type": "code",
      "source": [
        "a='20'\n",
        "b='30'\n",
        "print(a+b)"
      ],
      "metadata": {
        "colab": {
          "base_uri": "https://localhost:8080/"
        },
        "id": "wVLhxZWW_4-4",
        "outputId": "4972e285-d85c-4500-a4e6-038a89974b94"
      },
      "execution_count": null,
      "outputs": [
        {
          "output_type": "stream",
          "name": "stdout",
          "text": [
            "2030\n"
          ]
        }
      ]
    },
    {
      "cell_type": "markdown",
      "source": [
        "# format function"
      ],
      "metadata": {
        "id": "NdRfKR-DRNRy"
      }
    },
    {
      "cell_type": "code",
      "source": [
        "a=20\n",
        "b=30\n",
        "c=a+b\n",
        "print('Sum of {} and {} is {}'.format(a,b,c))"
      ],
      "metadata": {
        "colab": {
          "base_uri": "https://localhost:8080/"
        },
        "id": "8xF4mDsTA0XW",
        "outputId": "c81190ba-a400-4f99-f0ee-a57674a1ce3d"
      },
      "execution_count": null,
      "outputs": [
        {
          "output_type": "stream",
          "name": "stdout",
          "text": [
            "Sum of 20 and 30 is 50\n"
          ]
        }
      ]
    },
    {
      "cell_type": "code",
      "source": [
        "a=20\n",
        "b=30\n",
        "c=a+b\n",
        "print(f'Sum of {a} and {b} is {c}') #preferred over format method"
      ],
      "metadata": {
        "colab": {
          "base_uri": "https://localhost:8080/"
        },
        "id": "-ta41e-MM52x",
        "outputId": "4ee34ec4-45a0-4fb7-be10-aecc3d13efa4"
      },
      "execution_count": null,
      "outputs": [
        {
          "output_type": "stream",
          "name": "stdout",
          "text": [
            "Sum of 20 and 30 is 50\n"
          ]
        }
      ]
    },
    {
      "cell_type": "code",
      "source": [
        "num1=100\n",
        "num2=25\n",
        "num3=332\n",
        "avg=(num1+num2+num3/3)\n",
        "print(avg)\n",
        "avg1=round(num1+num2+num3/3, 2)\n",
        "print(avg1)"
      ],
      "metadata": {
        "colab": {
          "base_uri": "https://localhost:8080/"
        },
        "id": "roB3RWP-BC5f",
        "outputId": "14a00b38-2640-4b86-8506-f67bdb4aecca"
      },
      "execution_count": null,
      "outputs": [
        {
          "output_type": "stream",
          "name": "stdout",
          "text": [
            "235.66666666666669\n",
            "235.67\n"
          ]
        }
      ]
    },
    {
      "cell_type": "markdown",
      "source": [
        "# end in print()"
      ],
      "metadata": {
        "id": "fB3aZKBmPz3l"
      }
    },
    {
      "cell_type": "code",
      "source": [
        "print('Hello')\n",
        "print('World!')\n",
        "print('Hello', end=' @') #By default, print() adds a newline character (\\n) at the end, causing subsequent output to appear on a new line. The end parameter allows you to change this behavior by he character or string added at the end of the output.\n",
        "print('World!')"
      ],
      "metadata": {
        "colab": {
          "base_uri": "https://localhost:8080/"
        },
        "id": "TBE0Jnm3Ob1l",
        "outputId": "c0d28613-5182-41ab-8852-9bd046f24911"
      },
      "execution_count": null,
      "outputs": [
        {
          "output_type": "stream",
          "name": "stdout",
          "text": [
            "Hello\n",
            "World!\n",
            "Hello @World!\n"
          ]
        }
      ]
    },
    {
      "cell_type": "markdown",
      "source": [
        "# Separator (sep in print())"
      ],
      "metadata": {
        "id": "Mxh-KZywRkFB"
      }
    },
    {
      "cell_type": "code",
      "source": [
        "print('hello','hai','boss')\n",
        "print('hello','hai','boss',sep='$') #The separator between the arguments to print() function in Python is space by default (softspace feature) , which can be modified and can be made to any character, integer or string as per our choice."
      ],
      "metadata": {
        "colab": {
          "base_uri": "https://localhost:8080/"
        },
        "id": "8iBYygk2QDPU",
        "outputId": "cf1a598f-fd91-40d1-9e58-0682226b0d1b"
      },
      "execution_count": null,
      "outputs": [
        {
          "output_type": "stream",
          "name": "stdout",
          "text": [
            "hello hai boss\n",
            "hello$hai$boss\n"
          ]
        }
      ]
    },
    {
      "cell_type": "markdown",
      "source": [
        "# Complex data types"
      ],
      "metadata": {
        "id": "g48uhEZOT2EO"
      }
    },
    {
      "cell_type": "code",
      "source": [
        "c1 = (1 + 5j)\n",
        "c2 = (2 + 3j)\n",
        "c3 = c1 + c2\n",
        "print(c3)"
      ],
      "metadata": {
        "colab": {
          "base_uri": "https://localhost:8080/"
        },
        "id": "R0XHuIIvSAo3",
        "outputId": "03792ab7-9f6b-4eb3-9e8d-0532456a96ac"
      },
      "execution_count": null,
      "outputs": [
        {
          "output_type": "stream",
          "name": "stdout",
          "text": [
            "(3+8j)\n"
          ]
        }
      ]
    },
    {
      "cell_type": "code",
      "source": [
        "c1 = (1 + 5j)\n",
        "c2 = (2 + 3j)\n",
        "c3 = c1 - c2\n",
        "print(c3)"
      ],
      "metadata": {
        "colab": {
          "base_uri": "https://localhost:8080/"
        },
        "id": "20I3OngjT_zB",
        "outputId": "a6e7f2d2-9574-4fc1-b8f1-b8943a89f9c9"
      },
      "execution_count": null,
      "outputs": [
        {
          "output_type": "stream",
          "name": "stdout",
          "text": [
            "(-1+2j)\n"
          ]
        }
      ]
    },
    {
      "cell_type": "code",
      "source": [
        "c1 = (1 + 5j)\n",
        "c2 = (2 + 3j)\n",
        "c3 = c1 * c2\n",
        "print(c3)"
      ],
      "metadata": {
        "colab": {
          "base_uri": "https://localhost:8080/"
        },
        "id": "mEU9eQufUbHd",
        "outputId": "f2183e5c-adca-494b-88ec-c737e01abb60"
      },
      "execution_count": null,
      "outputs": [
        {
          "output_type": "stream",
          "name": "stdout",
          "text": [
            "(-13+13j)\n"
          ]
        }
      ]
    },
    {
      "cell_type": "code",
      "source": [
        "c1 = (1 + 1j)\n",
        "c2 = (1 - 1j)\n",
        "c3 = c1 * c2\n",
        "print(c3)"
      ],
      "metadata": {
        "id": "2P6hpCMIVZxy",
        "colab": {
          "base_uri": "https://localhost:8080/"
        },
        "outputId": "9963544a-029f-4888-e4f8-f62574f072b2"
      },
      "execution_count": null,
      "outputs": [
        {
          "output_type": "stream",
          "name": "stdout",
          "text": [
            "(2+0j)\n"
          ]
        }
      ]
    },
    {
      "cell_type": "code",
      "source": [
        "c1 = (2 + 2j)\n",
        "c2 = (2 - 2j)\n",
        "c3 = c1 * c2\n",
        "print(c3)"
      ],
      "metadata": {
        "colab": {
          "base_uri": "https://localhost:8080/"
        },
        "id": "V6dgBRd9eW3B",
        "outputId": "17aad06d-166f-46a6-9f4c-730608edc6e2"
      },
      "execution_count": null,
      "outputs": [
        {
          "output_type": "stream",
          "name": "stdout",
          "text": [
            "(8+0j)\n"
          ]
        }
      ]
    },
    {
      "cell_type": "code",
      "source": [
        "c1 = (1 + 5j)\n",
        "c2 = (2 + 3j)\n",
        "c3 = c1 / c2\n",
        "print(c3)"
      ],
      "metadata": {
        "colab": {
          "base_uri": "https://localhost:8080/"
        },
        "id": "4a5DKr5wcUOd",
        "outputId": "6039ef71-455c-45e3-84b8-7b8cb2697af0"
      },
      "execution_count": null,
      "outputs": [
        {
          "output_type": "stream",
          "name": "stdout",
          "text": [
            "(1.307692307692308+0.5384615384615384j)\n"
          ]
        }
      ]
    },
    {
      "cell_type": "markdown",
      "source": [
        "# List"
      ],
      "metadata": {
        "id": "_6E6F-YH8QV4"
      }
    },
    {
      "cell_type": "code",
      "source": [
        "mylist = [\"apple\", \"banana\", \"cherry\"]\n",
        "print(type(mylist))"
      ],
      "metadata": {
        "id": "8BJCCXeidDo3",
        "colab": {
          "base_uri": "https://localhost:8080/"
        },
        "outputId": "c0559775-850a-4a91-e406-77ad26ae8c22"
      },
      "execution_count": 1,
      "outputs": [
        {
          "output_type": "stream",
          "name": "stdout",
          "text": [
            "<class 'list'>\n"
          ]
        }
      ]
    },
    {
      "cell_type": "code",
      "source": [
        "thislist = [\"apple\", \"banana\", \"cherry\"]\n",
        "if \"apple\" in thislist:\n",
        "  print(\"Yes, 'apple' is in the fruits list\")"
      ],
      "metadata": {
        "colab": {
          "base_uri": "https://localhost:8080/"
        },
        "id": "rxfSiOBx8yYU",
        "outputId": "863813b6-cbcd-47c1-a5fc-87ec728f7af8"
      },
      "execution_count": 2,
      "outputs": [
        {
          "output_type": "stream",
          "name": "stdout",
          "text": [
            "Yes, 'apple' is in the fruits list\n"
          ]
        }
      ]
    },
    {
      "cell_type": "code",
      "source": [
        "thislist = [\"apple\", \"banana\", \"cherry\", \"orange\", \"kiwi\", \"mango\"]\n",
        "thislist[1:3] = [\"blackcurrant\", \"watermelon\", \"Guava\", \"Grape\"]\n",
        "print(thislist)"
      ],
      "metadata": {
        "colab": {
          "base_uri": "https://localhost:8080/"
        },
        "id": "LPSoKWp5-jFy",
        "outputId": "22f44842-265b-40e3-f207-b04efe3852a8"
      },
      "execution_count": 6,
      "outputs": [
        {
          "output_type": "stream",
          "name": "stdout",
          "text": [
            "['apple', 'blackcurrant', 'watermelon', 'Guava', 'Grape', 'orange', 'kiwi', 'mango']\n"
          ]
        }
      ]
    },
    {
      "cell_type": "code",
      "source": [
        "thislist1 = [\"apple\", \"banana\", \"cherry\", \"orange\", \"kiwi\", \"mango\"]\n",
        "thislist1[1:4] = [\"blackcurrant\"]\n",
        "print(thislist1)"
      ],
      "metadata": {
        "colab": {
          "base_uri": "https://localhost:8080/"
        },
        "id": "OKFIgtVU_To6",
        "outputId": "5355774c-44bd-4966-b3de-810808048981"
      },
      "execution_count": 10,
      "outputs": [
        {
          "output_type": "stream",
          "name": "stdout",
          "text": [
            "['apple', 'blackcurrant', 'kiwi', 'mango']\n"
          ]
        }
      ]
    },
    {
      "cell_type": "code",
      "source": [],
      "metadata": {
        "id": "w36yP6P7B8IS"
      },
      "execution_count": null,
      "outputs": []
    }
  ]
}