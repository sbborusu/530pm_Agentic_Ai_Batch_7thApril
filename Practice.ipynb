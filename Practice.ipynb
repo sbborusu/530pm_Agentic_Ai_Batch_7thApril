{
  "nbformat": 4,
  "nbformat_minor": 0,
  "metadata": {
    "colab": {
      "provenance": [],
      "authorship_tag": "ABX9TyNhEPwgjF2GQYfdf7+8ZQH5",
      "include_colab_link": true
    },
    "kernelspec": {
      "name": "python3",
      "display_name": "Python 3"
    },
    "language_info": {
      "name": "python"
    }
  },
  "cells": [
    {
      "cell_type": "markdown",
      "metadata": {
        "id": "view-in-github",
        "colab_type": "text"
      },
      "source": [
        "<a href=\"https://colab.research.google.com/github/sbborusu/530pm_Agentic_Ai_Batch_7thApril/blob/main/Practice.ipynb\" target=\"_parent\"><img src=\"https://colab.research.google.com/assets/colab-badge.svg\" alt=\"Open In Colab\"/></a>"
      ]
    },
    {
      "cell_type": "code",
      "execution_count": null,
      "metadata": {
        "colab": {
          "base_uri": "https://localhost:8080/"
        },
        "id": "6k1ZZRwx_052",
        "outputId": "9e7a5213-2ecc-4ebe-aba4-4a05f4b03e3f"
      },
      "outputs": [
        {
          "output_type": "stream",
          "name": "stdout",
          "text": [
            "10\n",
            "10\n",
            "10 20\n",
            "(1+2j)\n",
            "(1+2j) 20 True\n",
            "Hello Dear 20\n"
          ]
        }
      ],
      "source": [
        "print(10)\n",
        "print('10')\n",
        "print(10,20)\n",
        "print(1+2j)\n",
        "print(1+2j,20,True)\n",
        "print('Hello Dear',20)"
      ]
    },
    {
      "cell_type": "code",
      "source": [
        "a='20'\n",
        "b='30'\n",
        "print(a+b)"
      ],
      "metadata": {
        "colab": {
          "base_uri": "https://localhost:8080/"
        },
        "id": "wVLhxZWW_4-4",
        "outputId": "4972e285-d85c-4500-a4e6-038a89974b94"
      },
      "execution_count": null,
      "outputs": [
        {
          "output_type": "stream",
          "name": "stdout",
          "text": [
            "2030\n"
          ]
        }
      ]
    },
    {
      "cell_type": "markdown",
      "source": [
        "# format function"
      ],
      "metadata": {
        "id": "NdRfKR-DRNRy"
      }
    },
    {
      "cell_type": "code",
      "source": [
        "a=20\n",
        "b=30\n",
        "c=a+b\n",
        "print('Sum of {} and {} is {}'.format(a,b,c))"
      ],
      "metadata": {
        "colab": {
          "base_uri": "https://localhost:8080/"
        },
        "id": "8xF4mDsTA0XW",
        "outputId": "c81190ba-a400-4f99-f0ee-a57674a1ce3d"
      },
      "execution_count": null,
      "outputs": [
        {
          "output_type": "stream",
          "name": "stdout",
          "text": [
            "Sum of 20 and 30 is 50\n"
          ]
        }
      ]
    },
    {
      "cell_type": "code",
      "source": [
        "a=20\n",
        "b=30\n",
        "c=a+b\n",
        "print(f'Sum of {a} and {b} is {c}') #preferred over format method"
      ],
      "metadata": {
        "colab": {
          "base_uri": "https://localhost:8080/"
        },
        "id": "-ta41e-MM52x",
        "outputId": "4ee34ec4-45a0-4fb7-be10-aecc3d13efa4"
      },
      "execution_count": null,
      "outputs": [
        {
          "output_type": "stream",
          "name": "stdout",
          "text": [
            "Sum of 20 and 30 is 50\n"
          ]
        }
      ]
    },
    {
      "cell_type": "code",
      "source": [
        "num1=100\n",
        "num2=25\n",
        "num3=332\n",
        "avg=(num1+num2+num3/3)\n",
        "print(avg)\n",
        "avg1=round(num1+num2+num3/3, 2)\n",
        "print(avg1)"
      ],
      "metadata": {
        "colab": {
          "base_uri": "https://localhost:8080/"
        },
        "id": "roB3RWP-BC5f",
        "outputId": "14a00b38-2640-4b86-8506-f67bdb4aecca"
      },
      "execution_count": null,
      "outputs": [
        {
          "output_type": "stream",
          "name": "stdout",
          "text": [
            "235.66666666666669\n",
            "235.67\n"
          ]
        }
      ]
    },
    {
      "cell_type": "markdown",
      "source": [
        "# end in print()"
      ],
      "metadata": {
        "id": "fB3aZKBmPz3l"
      }
    },
    {
      "cell_type": "code",
      "source": [
        "print('Hello')\n",
        "print('World!')\n",
        "print('Hello', end=' @') #By default, print() adds a newline character (\\n) at the end, causing subsequent output to appear on a new line. The end parameter allows you to change this behavior by he character or string added at the end of the output.\n",
        "print('World!')"
      ],
      "metadata": {
        "colab": {
          "base_uri": "https://localhost:8080/"
        },
        "id": "TBE0Jnm3Ob1l",
        "outputId": "c0d28613-5182-41ab-8852-9bd046f24911"
      },
      "execution_count": null,
      "outputs": [
        {
          "output_type": "stream",
          "name": "stdout",
          "text": [
            "Hello\n",
            "World!\n",
            "Hello @World!\n"
          ]
        }
      ]
    },
    {
      "cell_type": "markdown",
      "source": [
        "# Separator (sep in print())"
      ],
      "metadata": {
        "id": "Mxh-KZywRkFB"
      }
    },
    {
      "cell_type": "code",
      "source": [
        "print('hello','hai','boss')\n",
        "print('hello','hai','boss',sep='$') #The separator between the arguments to print() function in Python is space by default (softspace feature) , which can be modified and can be made to any character, integer or string as per our choice."
      ],
      "metadata": {
        "colab": {
          "base_uri": "https://localhost:8080/"
        },
        "id": "8iBYygk2QDPU",
        "outputId": "cf1a598f-fd91-40d1-9e58-0682226b0d1b"
      },
      "execution_count": null,
      "outputs": [
        {
          "output_type": "stream",
          "name": "stdout",
          "text": [
            "hello hai boss\n",
            "hello$hai$boss\n"
          ]
        }
      ]
    },
    {
      "cell_type": "markdown",
      "source": [
        "# Complex data types"
      ],
      "metadata": {
        "id": "g48uhEZOT2EO"
      }
    },
    {
      "cell_type": "code",
      "source": [
        "c1 = (1 + 5j)\n",
        "c2 = (2 + 3j)\n",
        "c3 = c1 + c2\n",
        "print(c3)"
      ],
      "metadata": {
        "colab": {
          "base_uri": "https://localhost:8080/"
        },
        "id": "R0XHuIIvSAo3",
        "outputId": "03792ab7-9f6b-4eb3-9e8d-0532456a96ac"
      },
      "execution_count": null,
      "outputs": [
        {
          "output_type": "stream",
          "name": "stdout",
          "text": [
            "(3+8j)\n"
          ]
        }
      ]
    },
    {
      "cell_type": "code",
      "source": [
        "c1 = (1 + 5j)\n",
        "c2 = (2 + 3j)\n",
        "c3 = c1 - c2\n",
        "print(c3)"
      ],
      "metadata": {
        "colab": {
          "base_uri": "https://localhost:8080/"
        },
        "id": "20I3OngjT_zB",
        "outputId": "a6e7f2d2-9574-4fc1-b8f1-b8943a89f9c9"
      },
      "execution_count": null,
      "outputs": [
        {
          "output_type": "stream",
          "name": "stdout",
          "text": [
            "(-1+2j)\n"
          ]
        }
      ]
    },
    {
      "cell_type": "code",
      "source": [
        "c1 = (1 + 5j)\n",
        "c2 = (2 + 3j)\n",
        "c3 = c1 * c2\n",
        "print(c3)"
      ],
      "metadata": {
        "colab": {
          "base_uri": "https://localhost:8080/"
        },
        "id": "mEU9eQufUbHd",
        "outputId": "f2183e5c-adca-494b-88ec-c737e01abb60"
      },
      "execution_count": null,
      "outputs": [
        {
          "output_type": "stream",
          "name": "stdout",
          "text": [
            "(-13+13j)\n"
          ]
        }
      ]
    },
    {
      "cell_type": "code",
      "source": [
        "c1 = (1 + 1j)\n",
        "c2 = (1 - 1j)\n",
        "c3 = c1 * c2\n",
        "print(c3)"
      ],
      "metadata": {
        "id": "2P6hpCMIVZxy",
        "colab": {
          "base_uri": "https://localhost:8080/"
        },
        "outputId": "9963544a-029f-4888-e4f8-f62574f072b2"
      },
      "execution_count": null,
      "outputs": [
        {
          "output_type": "stream",
          "name": "stdout",
          "text": [
            "(2+0j)\n"
          ]
        }
      ]
    },
    {
      "cell_type": "code",
      "source": [
        "c1 = (2 + 2j)\n",
        "c2 = (2 - 2j)\n",
        "c3 = c1 * c2\n",
        "print(c3)"
      ],
      "metadata": {
        "colab": {
          "base_uri": "https://localhost:8080/"
        },
        "id": "V6dgBRd9eW3B",
        "outputId": "17aad06d-166f-46a6-9f4c-730608edc6e2"
      },
      "execution_count": null,
      "outputs": [
        {
          "output_type": "stream",
          "name": "stdout",
          "text": [
            "(8+0j)\n"
          ]
        }
      ]
    },
    {
      "cell_type": "code",
      "source": [
        "c1 = (1 + 5j)\n",
        "c2 = (2 + 3j)\n",
        "c3 = c1 / c2\n",
        "print(c3)"
      ],
      "metadata": {
        "colab": {
          "base_uri": "https://localhost:8080/"
        },
        "id": "4a5DKr5wcUOd",
        "outputId": "6039ef71-455c-45e3-84b8-7b8cb2697af0"
      },
      "execution_count": null,
      "outputs": [
        {
          "output_type": "stream",
          "name": "stdout",
          "text": [
            "(1.307692307692308+0.5384615384615384j)\n"
          ]
        }
      ]
    },
    {
      "cell_type": "markdown",
      "source": [
        "# List"
      ],
      "metadata": {
        "id": "_6E6F-YH8QV4"
      }
    },
    {
      "cell_type": "code",
      "source": [
        "mylist = [\"apple\", \"banana\", \"cherry\"]\n",
        "print(type(mylist))"
      ],
      "metadata": {
        "id": "8BJCCXeidDo3",
        "colab": {
          "base_uri": "https://localhost:8080/"
        },
        "outputId": "c0559775-850a-4a91-e406-77ad26ae8c22"
      },
      "execution_count": null,
      "outputs": [
        {
          "output_type": "stream",
          "name": "stdout",
          "text": [
            "<class 'list'>\n"
          ]
        }
      ]
    },
    {
      "cell_type": "code",
      "source": [
        "thislist = [\"apple\", \"banana\", \"cherry\"]\n",
        "if \"apple\" in thislist:\n",
        "  print(\"Yes, 'apple' is in the fruits list\")"
      ],
      "metadata": {
        "colab": {
          "base_uri": "https://localhost:8080/"
        },
        "id": "rxfSiOBx8yYU",
        "outputId": "863813b6-cbcd-47c1-a5fc-87ec728f7af8"
      },
      "execution_count": null,
      "outputs": [
        {
          "output_type": "stream",
          "name": "stdout",
          "text": [
            "Yes, 'apple' is in the fruits list\n"
          ]
        }
      ]
    },
    {
      "cell_type": "code",
      "source": [
        "thislist = [\"apple\", \"banana\", \"cherry\", \"orange\", \"kiwi\", \"mango\"]\n",
        "thislist[1:3] = [\"blackcurrant\", \"watermelon\", \"Guava\", \"Grape\"]\n",
        "print(thislist)"
      ],
      "metadata": {
        "colab": {
          "base_uri": "https://localhost:8080/"
        },
        "id": "LPSoKWp5-jFy",
        "outputId": "22f44842-265b-40e3-f207-b04efe3852a8"
      },
      "execution_count": null,
      "outputs": [
        {
          "output_type": "stream",
          "name": "stdout",
          "text": [
            "['apple', 'blackcurrant', 'watermelon', 'Guava', 'Grape', 'orange', 'kiwi', 'mango']\n"
          ]
        }
      ]
    },
    {
      "cell_type": "code",
      "source": [
        "thislist1 = [\"apple\", \"banana\", \"cherry\", \"orange\", \"kiwi\", \"mango\"]\n",
        "thislist1[1:4] = [\"blackcurrant\"]\n",
        "print(thislist1)"
      ],
      "metadata": {
        "colab": {
          "base_uri": "https://localhost:8080/"
        },
        "id": "OKFIgtVU_To6",
        "outputId": "5355774c-44bd-4966-b3de-810808048981"
      },
      "execution_count": null,
      "outputs": [
        {
          "output_type": "stream",
          "name": "stdout",
          "text": [
            "['apple', 'blackcurrant', 'kiwi', 'mango']\n"
          ]
        }
      ]
    },
    {
      "cell_type": "code",
      "source": [
        "thislist = [\"apple\", \"banana\", \"cherry\"]\n",
        "thislist.insert(2, \"watermelon\")\n",
        "print(thislist)"
      ],
      "metadata": {
        "colab": {
          "base_uri": "https://localhost:8080/"
        },
        "id": "w36yP6P7B8IS",
        "outputId": "34787dd7-599e-4202-a2cb-afbaef67d390"
      },
      "execution_count": null,
      "outputs": [
        {
          "output_type": "stream",
          "name": "stdout",
          "text": [
            "['apple', 'banana', 'watermelon', 'cherry']\n"
          ]
        }
      ]
    },
    {
      "cell_type": "code",
      "source": [
        "c = 3 + 4j\n",
        "print(abs(c))"
      ],
      "metadata": {
        "id": "Fc2Gr1qUCz0J",
        "colab": {
          "base_uri": "https://localhost:8080/"
        },
        "outputId": "57491332-0046-44e3-f4f2-abce9677faf1"
      },
      "execution_count": null,
      "outputs": [
        {
          "output_type": "stream",
          "name": "stdout",
          "text": [
            "5.0\n"
          ]
        }
      ]
    },
    {
      "cell_type": "code",
      "source": [
        "lst = list([1,2,3]) # Use constructor to define list this way.\n",
        "lst\n",
        "lst1 = list(((1,2,3), (4,5,6)))\n",
        "lst3 = list({1,2,3})\n",
        "print(lst1)\n",
        "print(len(lst1))\n",
        "print(type(lst))\n",
        "print(type(lst1))\n",
        "print(type(lst1[0]))\n",
        "print(type(lst3))"
      ],
      "metadata": {
        "colab": {
          "base_uri": "https://localhost:8080/"
        },
        "id": "Qwk-852xPfi5",
        "outputId": "9d41c511-42e3-4ea4-857a-70d9e3964f08"
      },
      "execution_count": 21,
      "outputs": [
        {
          "output_type": "stream",
          "name": "stdout",
          "text": [
            "[(1, 2, 3), (4, 5, 6)]\n",
            "2\n",
            "<class 'list'>\n",
            "<class 'list'>\n",
            "<class 'tuple'>\n",
            "<class 'list'>\n"
          ]
        }
      ]
    },
    {
      "cell_type": "code",
      "source": [
        "l1=[1,2,3,0]\n",
        "print(any(l1))\n",
        "print(all(l1))\n",
        "l2=(True,True,False)\n",
        "print(any(l2))\n",
        "print(all(l2))\n",
        "l3={'Sindhur', 'Borusu', ''}\n",
        "print(any(l3))\n",
        "print(all(l3))\n",
        "l4={'Sindhur', 'Borusu', ' '}\n",
        "print(any(l4))\n",
        "print(all(l4))\n",
        "l5={1:'nit', 0:'tech'}\n",
        "print(l5)\n",
        "print(any(l5)) # keys will be considered\n",
        "print(all(l5))\n",
        "l6={'1':'nit', '0':'tech'}\n",
        "print(l6)\n",
        "print(any(l6)) # keys will be considered\n",
        "print(all(l6))"
      ],
      "metadata": {
        "colab": {
          "base_uri": "https://localhost:8080/"
        },
        "id": "jO3-9yBIIa3k",
        "outputId": "0fed0a73-2fc8-45bc-a93f-c0e2c25dd84a"
      },
      "execution_count": 92,
      "outputs": [
        {
          "output_type": "stream",
          "name": "stdout",
          "text": [
            "True\n",
            "False\n",
            "True\n",
            "False\n",
            "True\n",
            "False\n",
            "True\n",
            "True\n",
            "{1: 'nit', 0: 'tech'}\n",
            "True\n",
            "False\n",
            "{'1': 'nit', '0': 'tech'}\n",
            "True\n",
            "True\n"
          ]
        }
      ]
    },
    {
      "cell_type": "markdown",
      "source": [
        "#Tuple"
      ],
      "metadata": {
        "id": "31o5wfXER3re"
      }
    },
    {
      "cell_type": "code",
      "source": [
        "tup1 = (1,2,3)\n",
        "print(len(tup1))\n",
        "tup2 = tuple([1,2,3])\n",
        "print(len(tup2))\n",
        "print(tup2)\n",
        "tup3 = tuple((1,2,3))\n",
        "print(len(tup3))\n",
        "print(tup3)\n",
        "print(type(tup1))\n",
        "print(type(tup2))\n",
        "print(type(tup3))"
      ],
      "metadata": {
        "colab": {
          "base_uri": "https://localhost:8080/"
        },
        "id": "5kEjQYtTR8wh",
        "outputId": "57dd648c-85c5-4992-f4de-e2aa02907152"
      },
      "execution_count": 60,
      "outputs": [
        {
          "output_type": "stream",
          "name": "stdout",
          "text": [
            "3\n",
            "3\n",
            "(1, 2, 3)\n",
            "3\n",
            "(1, 2, 3)\n",
            "<class 'tuple'>\n",
            "<class 'tuple'>\n",
            "<class 'tuple'>\n"
          ]
        }
      ]
    },
    {
      "cell_type": "markdown",
      "source": [
        "# Set"
      ],
      "metadata": {
        "id": "3cpoRv2ROyLN"
      }
    },
    {
      "cell_type": "code",
      "source": [
        "st = {1,2,3}\n",
        "print(st)\n",
        "print(type(st))"
      ],
      "metadata": {
        "colab": {
          "base_uri": "https://localhost:8080/"
        },
        "id": "pL84ozeyO_fH",
        "outputId": "9590b708-c99e-414c-9c7a-42c0cadf141a"
      },
      "execution_count": 4,
      "outputs": [
        {
          "output_type": "stream",
          "name": "stdout",
          "text": [
            "{1, 2, 3}\n",
            "<class 'set'>\n"
          ]
        }
      ]
    },
    {
      "cell_type": "code",
      "source": [
        "st1 = set({1,2,3}) # Use constructor to define set this way.\n",
        "st2 = set((1,2,3))\n",
        "st3 = set([1,2,3])\n",
        "print(type(st1))\n",
        "print(len(st1))\n",
        "print(type(st2))\n",
        "print(st2)\n",
        "print(len(st2))\n",
        "print(type(st3))\n",
        "print(st3)\n",
        "print(len(st3))"
      ],
      "metadata": {
        "colab": {
          "base_uri": "https://localhost:8080/"
        },
        "id": "i0X_UVY5QCWD",
        "outputId": "4da05dc5-d335-476a-e553-729c2619c08d"
      },
      "execution_count": 7,
      "outputs": [
        {
          "output_type": "stream",
          "name": "stdout",
          "text": [
            "<class 'set'>\n",
            "3\n",
            "<class 'set'>\n",
            "{1, 2, 3}\n",
            "3\n",
            "<class 'set'>\n",
            "{1, 2, 3}\n",
            "3\n"
          ]
        }
      ]
    },
    {
      "cell_type": "code",
      "source": [
        "s3 = {2,3,1,4}\n",
        "print(s3)\n",
        "s4 = {'sindhur', (1+2j), 3, 4}\n",
        "print(s4)"
      ],
      "metadata": {
        "colab": {
          "base_uri": "https://localhost:8080/"
        },
        "id": "gQZHiUDWRuDF",
        "outputId": "fd9a4231-b33d-4e35-e6ce-e4246db05114"
      },
      "execution_count": 55,
      "outputs": [
        {
          "output_type": "stream",
          "name": "stdout",
          "text": [
            "{1, 2, 3, 4}\n",
            "{3, 'sindhur', 4, (1+2j)}\n"
          ]
        }
      ]
    },
    {
      "cell_type": "code",
      "source": [
        "s3.pop(3)"
      ],
      "metadata": {
        "colab": {
          "base_uri": "https://localhost:8080/",
          "height": 146
        },
        "id": "SNHOygeU1LYw",
        "outputId": "6732cdf3-a397-4794-af12-9bc7f8348c05"
      },
      "execution_count": 53,
      "outputs": [
        {
          "output_type": "error",
          "ename": "TypeError",
          "evalue": "set.pop() takes no arguments (1 given)",
          "traceback": [
            "\u001b[0;31m---------------------------------------------------------------------------\u001b[0m",
            "\u001b[0;31mTypeError\u001b[0m                                 Traceback (most recent call last)",
            "\u001b[0;32m<ipython-input-53-62bac015a640>\u001b[0m in \u001b[0;36m<cell line: 0>\u001b[0;34m()\u001b[0m\n\u001b[0;32m----> 1\u001b[0;31m \u001b[0ms3\u001b[0m\u001b[0;34m.\u001b[0m\u001b[0mpop\u001b[0m\u001b[0;34m(\u001b[0m\u001b[0;36m3\u001b[0m\u001b[0;34m)\u001b[0m\u001b[0;34m\u001b[0m\u001b[0;34m\u001b[0m\u001b[0m\n\u001b[0m",
            "\u001b[0;31mTypeError\u001b[0m: set.pop() takes no arguments (1 given)"
          ]
        }
      ]
    },
    {
      "cell_type": "code",
      "source": [
        "s3.pop() #removes the element randomly from the set as opposed to list.pop that removes the last element in the list.\n",
        "s3"
      ],
      "metadata": {
        "colab": {
          "base_uri": "https://localhost:8080/"
        },
        "id": "Nf21U4u87C1y",
        "outputId": "baa094e2-772a-4e24-f2cc-d2bd50025001"
      },
      "execution_count": 56,
      "outputs": [
        {
          "output_type": "execute_result",
          "data": {
            "text/plain": [
              "{2, 3, 4}"
            ]
          },
          "metadata": {},
          "execution_count": 56
        }
      ]
    },
    {
      "cell_type": "code",
      "source": [
        "for i in s3:\n",
        "  print(i)"
      ],
      "metadata": {
        "colab": {
          "base_uri": "https://localhost:8080/"
        },
        "id": "xDLv4Txo7IZj",
        "outputId": "1e450de1-5860-47ad-f018-7d94b26063a5"
      },
      "execution_count": 57,
      "outputs": [
        {
          "output_type": "stream",
          "name": "stdout",
          "text": [
            "2\n",
            "3\n",
            "4\n"
          ]
        }
      ]
    },
    {
      "cell_type": "code",
      "source": [
        "for i in enumerate(s3):\n",
        "  print(i)"
      ],
      "metadata": {
        "colab": {
          "base_uri": "https://localhost:8080/"
        },
        "id": "Ln3N8oHJ9auW",
        "outputId": "ded706b4-b966-41a8-9f78-d3515afe6453"
      },
      "execution_count": 58,
      "outputs": [
        {
          "output_type": "stream",
          "name": "stdout",
          "text": [
            "(0, 2)\n",
            "(1, 3)\n",
            "(2, 4)\n"
          ]
        }
      ]
    },
    {
      "cell_type": "markdown",
      "source": [
        "## Union"
      ],
      "metadata": {
        "id": "1F7DPAbZ-g6W"
      }
    },
    {
      "cell_type": "code",
      "source": [
        "u1 = {1,2,3,4}\n",
        "u2 = {3,4,5,6}\n",
        "u3 = u1 | u2\n",
        "u4 = u1.union(u2)\n",
        "print(u3)\n",
        "print(u4)"
      ],
      "metadata": {
        "colab": {
          "base_uri": "https://localhost:8080/"
        },
        "id": "GLyEV9Ho9gvW",
        "outputId": "a28b0db0-a4a3-4f39-fd98-9631b51342a1"
      },
      "execution_count": 67,
      "outputs": [
        {
          "output_type": "stream",
          "name": "stdout",
          "text": [
            "{1, 2, 3, 4, 5, 6}\n",
            "{1, 2, 3, 4, 5, 6}\n"
          ]
        }
      ]
    },
    {
      "cell_type": "markdown",
      "source": [
        "## Intersection"
      ],
      "metadata": {
        "id": "H6znh8NG_3_Y"
      }
    },
    {
      "cell_type": "code",
      "source": [
        "i1 = {1,2,3,4}\n",
        "i2 = {3,4,5,6}\n",
        "i0 = {3,1,6}\n",
        "i3 = i1 & i2 & i0\n",
        "i4 = i1.intersection(i2,i0) # original set i1 is not updated\n",
        "print(i1)\n",
        "print(i3)\n",
        "print(i4)"
      ],
      "metadata": {
        "colab": {
          "base_uri": "https://localhost:8080/"
        },
        "id": "Np7-p5QM_77p",
        "outputId": "cacc3f78-3648-42a0-d79a-25c501510dec"
      },
      "execution_count": 73,
      "outputs": [
        {
          "output_type": "stream",
          "name": "stdout",
          "text": [
            "{1, 2, 3, 4}\n",
            "{3}\n",
            "{3}\n"
          ]
        }
      ]
    },
    {
      "cell_type": "code",
      "source": [
        "i4 = {1,2,3,4}\n",
        "i5 = {4,5,6,7}\n",
        "i6 = {4,6,7,9}\n",
        "i4.intersection_update(i5,i6) # original set i4 is updated\n",
        "i4 &= i5 & i6\n",
        "print(i4)\n",
        "print(i4)"
      ],
      "metadata": {
        "colab": {
          "base_uri": "https://localhost:8080/"
        },
        "id": "roXnyfVLANVA",
        "outputId": "a690b86c-c875-4854-c78b-7239b4bb90ab"
      },
      "execution_count": 77,
      "outputs": [
        {
          "output_type": "stream",
          "name": "stdout",
          "text": [
            "{4}\n",
            "{4}\n"
          ]
        }
      ]
    },
    {
      "cell_type": "code",
      "source": [
        "set1 = {1, 2, 3}\n",
        "set2 = {3, 4, 5}\n",
        "set3 = {6, 4, 8}\n",
        "set1.update(set2,set3) # Merge multiple sets, lists, tuple, dict to a set\n",
        "print(set1)"
      ],
      "metadata": {
        "colab": {
          "base_uri": "https://localhost:8080/"
        },
        "id": "mX4zfrvaGjSX",
        "outputId": "a7e626d2-a173-4938-d9fa-3a605951b4fa"
      },
      "execution_count": 78,
      "outputs": [
        {
          "output_type": "stream",
          "name": "stdout",
          "text": [
            "{1, 2, 3, 4, 5, 6, 8}\n"
          ]
        }
      ]
    },
    {
      "cell_type": "markdown",
      "source": [
        "## difference"
      ],
      "metadata": {
        "id": "vFDtYtzoLNwV"
      }
    },
    {
      "cell_type": "code",
      "source": [
        "a = {1,2,3,4,5}\n",
        "b = {3,4,5,6}\n",
        "print(a - b)\n",
        "print(a)\n",
        "print(b)\n",
        "print(a.difference(b))\n",
        "# a.difference_update(b) # original set a is updated\n",
        "a -= b\n",
        "print(a)"
      ],
      "metadata": {
        "colab": {
          "base_uri": "https://localhost:8080/"
        },
        "id": "84P-tKrkHp9y",
        "outputId": "30928884-29d5-47aa-f08d-12978785e3a5"
      },
      "execution_count": 109,
      "outputs": [
        {
          "output_type": "stream",
          "name": "stdout",
          "text": [
            "{1, 2}\n",
            "{1, 2, 3, 4, 5}\n",
            "{3, 4, 5, 6}\n",
            "{1, 2}\n",
            "{1, 2}\n"
          ]
        }
      ]
    },
    {
      "cell_type": "code",
      "source": [
        "a = {1,2,3,4,5}\n",
        "b = {3,4,5,6}\n",
        "print(a.symmetric_difference(b)) # Return a set that contains all items from both sets, except items that are present in both sets. This can be considered opposite to intersection.\n",
        "print(a ^ b)\n",
        "print(a)\n",
        "print(b)\n",
        "# a.symmetric_difference_update(b) # original set a is updated\n",
        "a ^= b\n",
        "print(a)"
      ],
      "metadata": {
        "colab": {
          "base_uri": "https://localhost:8080/"
        },
        "id": "oxDfcJmNLZMB",
        "outputId": "cf34a28a-fdc5-4485-90ac-d945bd184b28"
      },
      "execution_count": 110,
      "outputs": [
        {
          "output_type": "stream",
          "name": "stdout",
          "text": [
            "{1, 2, 6}\n",
            "{1, 2, 6}\n",
            "{1, 2, 3, 4, 5}\n",
            "{3, 4, 5, 6}\n",
            "{1, 2, 6}\n"
          ]
        }
      ]
    },
    {
      "cell_type": "code",
      "source": [],
      "metadata": {
        "id": "DInPlq7jOhp6"
      },
      "execution_count": null,
      "outputs": []
    }
  ]
}