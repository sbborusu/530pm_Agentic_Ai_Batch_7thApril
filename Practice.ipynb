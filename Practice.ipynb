{
  "nbformat": 4,
  "nbformat_minor": 0,
  "metadata": {
    "colab": {
      "provenance": [],
      "authorship_tag": "ABX9TyPv8GU3zCtmFTG4HHVPUZx/",
      "include_colab_link": true
    },
    "kernelspec": {
      "name": "python3",
      "display_name": "Python 3"
    },
    "language_info": {
      "name": "python"
    }
  },
  "cells": [
    {
      "cell_type": "markdown",
      "metadata": {
        "id": "view-in-github",
        "colab_type": "text"
      },
      "source": [
        "<a href=\"https://colab.research.google.com/github/sbborusu/530pm_Agentic_Ai_Batch_7thApril/blob/main/Practice.ipynb\" target=\"_parent\"><img src=\"https://colab.research.google.com/assets/colab-badge.svg\" alt=\"Open In Colab\"/></a>"
      ]
    },
    {
      "cell_type": "code",
      "execution_count": 9,
      "metadata": {
        "colab": {
          "base_uri": "https://localhost:8080/"
        },
        "id": "6k1ZZRwx_052",
        "outputId": "9e7a5213-2ecc-4ebe-aba4-4a05f4b03e3f"
      },
      "outputs": [
        {
          "output_type": "stream",
          "name": "stdout",
          "text": [
            "10\n",
            "10\n",
            "10 20\n",
            "(1+2j)\n",
            "(1+2j) 20 True\n",
            "Hello Dear 20\n"
          ]
        }
      ],
      "source": [
        "print(10)\n",
        "print('10')\n",
        "print(10,20)\n",
        "print(1+2j)\n",
        "print(1+2j,20,True)\n",
        "print('Hello Dear',20)"
      ]
    },
    {
      "cell_type": "code",
      "source": [
        "a='20'\n",
        "b='30'\n",
        "print(a+b)"
      ],
      "metadata": {
        "colab": {
          "base_uri": "https://localhost:8080/"
        },
        "id": "wVLhxZWW_4-4",
        "outputId": "4972e285-d85c-4500-a4e6-038a89974b94"
      },
      "execution_count": 10,
      "outputs": [
        {
          "output_type": "stream",
          "name": "stdout",
          "text": [
            "2030\n"
          ]
        }
      ]
    },
    {
      "cell_type": "code",
      "source": [
        "a=20\n",
        "b=30\n",
        "c=a+b\n",
        "print('Sum of {} and {} is {}'.format(a,b,c))"
      ],
      "metadata": {
        "colab": {
          "base_uri": "https://localhost:8080/"
        },
        "id": "8xF4mDsTA0XW",
        "outputId": "c81190ba-a400-4f99-f0ee-a57674a1ce3d"
      },
      "execution_count": 11,
      "outputs": [
        {
          "output_type": "stream",
          "name": "stdout",
          "text": [
            "Sum of 20 and 30 is 50\n"
          ]
        }
      ]
    },
    {
      "cell_type": "code",
      "source": [
        "a=20\n",
        "b=30\n",
        "c=a+b\n",
        "print(f'Sum of {a} and {b} is {c}') #preferred over format method"
      ],
      "metadata": {
        "colab": {
          "base_uri": "https://localhost:8080/"
        },
        "id": "-ta41e-MM52x",
        "outputId": "4ee34ec4-45a0-4fb7-be10-aecc3d13efa4"
      },
      "execution_count": 31,
      "outputs": [
        {
          "output_type": "stream",
          "name": "stdout",
          "text": [
            "Sum of 20 and 30 is 50\n"
          ]
        }
      ]
    },
    {
      "cell_type": "code",
      "source": [
        "num1=100\n",
        "num2=25\n",
        "num3=332\n",
        "avg=(num1+num2+num3/3)\n",
        "print(avg)\n",
        "avg1=round(num1+num2+num3/3, 2)\n",
        "print(avg1)"
      ],
      "metadata": {
        "colab": {
          "base_uri": "https://localhost:8080/"
        },
        "id": "roB3RWP-BC5f",
        "outputId": "14a00b38-2640-4b86-8506-f67bdb4aecca"
      },
      "execution_count": 29,
      "outputs": [
        {
          "output_type": "stream",
          "name": "stdout",
          "text": [
            "235.66666666666669\n",
            "235.67\n"
          ]
        }
      ]
    },
    {
      "cell_type": "code",
      "source": [],
      "metadata": {
        "id": "TBE0Jnm3Ob1l"
      },
      "execution_count": null,
      "outputs": []
    }
  ]
}