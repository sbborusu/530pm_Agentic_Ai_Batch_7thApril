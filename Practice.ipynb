{
  "nbformat": 4,
  "nbformat_minor": 0,
  "metadata": {
    "colab": {
      "provenance": [],
      "authorship_tag": "ABX9TyMB2WOEyMJ7rjdsso92T83e",
      "include_colab_link": true
    },
    "kernelspec": {
      "name": "python3",
      "display_name": "Python 3"
    },
    "language_info": {
      "name": "python"
    }
  },
  "cells": [
    {
      "cell_type": "markdown",
      "metadata": {
        "id": "view-in-github",
        "colab_type": "text"
      },
      "source": [
        "<a href=\"https://colab.research.google.com/github/sbborusu/530pm_Agentic_Ai_Batch_7thApril/blob/main/Practice.ipynb\" target=\"_parent\"><img src=\"https://colab.research.google.com/assets/colab-badge.svg\" alt=\"Open In Colab\"/></a>"
      ]
    },
    {
      "cell_type": "code",
      "execution_count": null,
      "metadata": {
        "colab": {
          "base_uri": "https://localhost:8080/"
        },
        "id": "6k1ZZRwx_052",
        "outputId": "9e7a5213-2ecc-4ebe-aba4-4a05f4b03e3f"
      },
      "outputs": [
        {
          "output_type": "stream",
          "name": "stdout",
          "text": [
            "10\n",
            "10\n",
            "10 20\n",
            "(1+2j)\n",
            "(1+2j) 20 True\n",
            "Hello Dear 20\n"
          ]
        }
      ],
      "source": [
        "print(10)\n",
        "print('10')\n",
        "print(10,20)\n",
        "print(1+2j)\n",
        "print(1+2j,20,True)\n",
        "print('Hello Dear',20)"
      ]
    },
    {
      "cell_type": "code",
      "source": [
        "a='20'\n",
        "b='30'\n",
        "print(a+b)"
      ],
      "metadata": {
        "colab": {
          "base_uri": "https://localhost:8080/"
        },
        "id": "wVLhxZWW_4-4",
        "outputId": "4972e285-d85c-4500-a4e6-038a89974b94"
      },
      "execution_count": null,
      "outputs": [
        {
          "output_type": "stream",
          "name": "stdout",
          "text": [
            "2030\n"
          ]
        }
      ]
    },
    {
      "cell_type": "markdown",
      "source": [
        "# format function"
      ],
      "metadata": {
        "id": "NdRfKR-DRNRy"
      }
    },
    {
      "cell_type": "code",
      "source": [
        "a=20\n",
        "b=30\n",
        "c=a+b\n",
        "print('Sum of {} and {} is {}'.format(a,b,c))"
      ],
      "metadata": {
        "colab": {
          "base_uri": "https://localhost:8080/"
        },
        "id": "8xF4mDsTA0XW",
        "outputId": "c81190ba-a400-4f99-f0ee-a57674a1ce3d"
      },
      "execution_count": null,
      "outputs": [
        {
          "output_type": "stream",
          "name": "stdout",
          "text": [
            "Sum of 20 and 30 is 50\n"
          ]
        }
      ]
    },
    {
      "cell_type": "code",
      "source": [
        "a=20\n",
        "b=30\n",
        "c=a+b\n",
        "print(f'Sum of {a} and {b} is {c}') #preferred over format method"
      ],
      "metadata": {
        "colab": {
          "base_uri": "https://localhost:8080/"
        },
        "id": "-ta41e-MM52x",
        "outputId": "4ee34ec4-45a0-4fb7-be10-aecc3d13efa4"
      },
      "execution_count": null,
      "outputs": [
        {
          "output_type": "stream",
          "name": "stdout",
          "text": [
            "Sum of 20 and 30 is 50\n"
          ]
        }
      ]
    },
    {
      "cell_type": "code",
      "source": [
        "num1=100\n",
        "num2=25\n",
        "num3=332\n",
        "avg=(num1+num2+num3/3)\n",
        "print(avg)\n",
        "avg1=round(num1+num2+num3/3, 2)\n",
        "print(avg1)"
      ],
      "metadata": {
        "colab": {
          "base_uri": "https://localhost:8080/"
        },
        "id": "roB3RWP-BC5f",
        "outputId": "14a00b38-2640-4b86-8506-f67bdb4aecca"
      },
      "execution_count": null,
      "outputs": [
        {
          "output_type": "stream",
          "name": "stdout",
          "text": [
            "235.66666666666669\n",
            "235.67\n"
          ]
        }
      ]
    },
    {
      "cell_type": "markdown",
      "source": [
        "# end in print()"
      ],
      "metadata": {
        "id": "fB3aZKBmPz3l"
      }
    },
    {
      "cell_type": "code",
      "source": [
        "print('Hello')\n",
        "print('World!')\n",
        "print('Hello', end=' @') #By default, print() adds a newline character (\\n) at the end, causing subsequent output to appear on a new line. The end parameter allows you to change this behavior by he character or string added at the end of the output.\n",
        "print('World!')"
      ],
      "metadata": {
        "colab": {
          "base_uri": "https://localhost:8080/"
        },
        "id": "TBE0Jnm3Ob1l",
        "outputId": "c0d28613-5182-41ab-8852-9bd046f24911"
      },
      "execution_count": null,
      "outputs": [
        {
          "output_type": "stream",
          "name": "stdout",
          "text": [
            "Hello\n",
            "World!\n",
            "Hello @World!\n"
          ]
        }
      ]
    },
    {
      "cell_type": "markdown",
      "source": [
        "# Separator (sep in print())"
      ],
      "metadata": {
        "id": "Mxh-KZywRkFB"
      }
    },
    {
      "cell_type": "code",
      "source": [
        "print('hello','hai','boss')\n",
        "print('hello','hai','boss',sep='$') #The separator between the arguments to print() function in Python is space by default (softspace feature) , which can be modified and can be made to any character, integer or string as per our choice."
      ],
      "metadata": {
        "colab": {
          "base_uri": "https://localhost:8080/"
        },
        "id": "8iBYygk2QDPU",
        "outputId": "cf1a598f-fd91-40d1-9e58-0682226b0d1b"
      },
      "execution_count": null,
      "outputs": [
        {
          "output_type": "stream",
          "name": "stdout",
          "text": [
            "hello hai boss\n",
            "hello$hai$boss\n"
          ]
        }
      ]
    },
    {
      "cell_type": "markdown",
      "source": [
        "# Complex data types"
      ],
      "metadata": {
        "id": "g48uhEZOT2EO"
      }
    },
    {
      "cell_type": "code",
      "source": [
        "c1 = (1 + 5j)\n",
        "c2 = (2 + 3j)\n",
        "c3 = c1 + c2\n",
        "print(c3)"
      ],
      "metadata": {
        "colab": {
          "base_uri": "https://localhost:8080/"
        },
        "id": "R0XHuIIvSAo3",
        "outputId": "03792ab7-9f6b-4eb3-9e8d-0532456a96ac"
      },
      "execution_count": null,
      "outputs": [
        {
          "output_type": "stream",
          "name": "stdout",
          "text": [
            "(3+8j)\n"
          ]
        }
      ]
    },
    {
      "cell_type": "code",
      "source": [
        "c1 = (1 + 5j)\n",
        "c2 = (2 + 3j)\n",
        "c3 = c1 - c2\n",
        "print(c3)"
      ],
      "metadata": {
        "colab": {
          "base_uri": "https://localhost:8080/"
        },
        "id": "20I3OngjT_zB",
        "outputId": "a6e7f2d2-9574-4fc1-b8f1-b8943a89f9c9"
      },
      "execution_count": null,
      "outputs": [
        {
          "output_type": "stream",
          "name": "stdout",
          "text": [
            "(-1+2j)\n"
          ]
        }
      ]
    },
    {
      "cell_type": "code",
      "source": [
        "c1 = (1 + 5j)\n",
        "c2 = (2 + 3j)\n",
        "c3 = c1 * c2\n",
        "print(c3)"
      ],
      "metadata": {
        "colab": {
          "base_uri": "https://localhost:8080/"
        },
        "id": "mEU9eQufUbHd",
        "outputId": "f2183e5c-adca-494b-88ec-c737e01abb60"
      },
      "execution_count": null,
      "outputs": [
        {
          "output_type": "stream",
          "name": "stdout",
          "text": [
            "(-13+13j)\n"
          ]
        }
      ]
    },
    {
      "cell_type": "code",
      "source": [
        "c1 = (1 + 1j)\n",
        "c2 = (1 - 1j)\n",
        "c3 = c1 * c2\n",
        "print(c3)"
      ],
      "metadata": {
        "id": "2P6hpCMIVZxy",
        "colab": {
          "base_uri": "https://localhost:8080/"
        },
        "outputId": "9963544a-029f-4888-e4f8-f62574f072b2"
      },
      "execution_count": null,
      "outputs": [
        {
          "output_type": "stream",
          "name": "stdout",
          "text": [
            "(2+0j)\n"
          ]
        }
      ]
    },
    {
      "cell_type": "code",
      "source": [
        "c1 = (2 + 2j)\n",
        "c2 = (2 - 2j)\n",
        "c3 = c1 * c2\n",
        "print(c3)"
      ],
      "metadata": {
        "colab": {
          "base_uri": "https://localhost:8080/"
        },
        "id": "V6dgBRd9eW3B",
        "outputId": "17aad06d-166f-46a6-9f4c-730608edc6e2"
      },
      "execution_count": null,
      "outputs": [
        {
          "output_type": "stream",
          "name": "stdout",
          "text": [
            "(8+0j)\n"
          ]
        }
      ]
    },
    {
      "cell_type": "code",
      "source": [
        "c1 = (1 + 5j)\n",
        "c2 = (2 + 3j)\n",
        "c3 = c1 / c2\n",
        "print(c3)"
      ],
      "metadata": {
        "colab": {
          "base_uri": "https://localhost:8080/"
        },
        "id": "4a5DKr5wcUOd",
        "outputId": "6039ef71-455c-45e3-84b8-7b8cb2697af0"
      },
      "execution_count": null,
      "outputs": [
        {
          "output_type": "stream",
          "name": "stdout",
          "text": [
            "(1.307692307692308+0.5384615384615384j)\n"
          ]
        }
      ]
    },
    {
      "cell_type": "markdown",
      "source": [
        "# List"
      ],
      "metadata": {
        "id": "_6E6F-YH8QV4"
      }
    },
    {
      "cell_type": "code",
      "source": [
        "mylist = [\"apple\", \"banana\", \"cherry\"]\n",
        "print(type(mylist))"
      ],
      "metadata": {
        "id": "8BJCCXeidDo3",
        "colab": {
          "base_uri": "https://localhost:8080/"
        },
        "outputId": "c0559775-850a-4a91-e406-77ad26ae8c22"
      },
      "execution_count": null,
      "outputs": [
        {
          "output_type": "stream",
          "name": "stdout",
          "text": [
            "<class 'list'>\n"
          ]
        }
      ]
    },
    {
      "cell_type": "code",
      "source": [
        "thislist = [\"apple\", \"banana\", \"cherry\"]\n",
        "if \"apple\" in thislist:\n",
        "  print(\"Yes, 'apple' is in the fruits list\")"
      ],
      "metadata": {
        "colab": {
          "base_uri": "https://localhost:8080/"
        },
        "id": "rxfSiOBx8yYU",
        "outputId": "863813b6-cbcd-47c1-a5fc-87ec728f7af8"
      },
      "execution_count": null,
      "outputs": [
        {
          "output_type": "stream",
          "name": "stdout",
          "text": [
            "Yes, 'apple' is in the fruits list\n"
          ]
        }
      ]
    },
    {
      "cell_type": "code",
      "source": [
        "thislist = [\"apple\", \"banana\", \"cherry\", \"orange\", \"kiwi\", \"mango\"]\n",
        "thislist[1:3] = [\"blackcurrant\", \"watermelon\", \"Guava\", \"Grape\"]\n",
        "print(thislist)"
      ],
      "metadata": {
        "colab": {
          "base_uri": "https://localhost:8080/"
        },
        "id": "LPSoKWp5-jFy",
        "outputId": "22f44842-265b-40e3-f207-b04efe3852a8"
      },
      "execution_count": null,
      "outputs": [
        {
          "output_type": "stream",
          "name": "stdout",
          "text": [
            "['apple', 'blackcurrant', 'watermelon', 'Guava', 'Grape', 'orange', 'kiwi', 'mango']\n"
          ]
        }
      ]
    },
    {
      "cell_type": "code",
      "source": [
        "thislist1 = [\"apple\", \"banana\", \"cherry\", \"orange\", \"kiwi\", \"mango\"]\n",
        "thislist1[1:4] = [\"blackcurrant\"]\n",
        "print(thislist1)"
      ],
      "metadata": {
        "colab": {
          "base_uri": "https://localhost:8080/"
        },
        "id": "OKFIgtVU_To6",
        "outputId": "5355774c-44bd-4966-b3de-810808048981"
      },
      "execution_count": null,
      "outputs": [
        {
          "output_type": "stream",
          "name": "stdout",
          "text": [
            "['apple', 'blackcurrant', 'kiwi', 'mango']\n"
          ]
        }
      ]
    },
    {
      "cell_type": "code",
      "source": [
        "thislist = [\"apple\", \"banana\", \"cherry\"]\n",
        "thislist.insert(2, \"watermelon\")\n",
        "print(thislist)"
      ],
      "metadata": {
        "colab": {
          "base_uri": "https://localhost:8080/"
        },
        "id": "w36yP6P7B8IS",
        "outputId": "34787dd7-599e-4202-a2cb-afbaef67d390"
      },
      "execution_count": null,
      "outputs": [
        {
          "output_type": "stream",
          "name": "stdout",
          "text": [
            "['apple', 'banana', 'watermelon', 'cherry']\n"
          ]
        }
      ]
    },
    {
      "cell_type": "code",
      "source": [
        "c = 3 + 4j\n",
        "print(abs(c))"
      ],
      "metadata": {
        "id": "Fc2Gr1qUCz0J",
        "colab": {
          "base_uri": "https://localhost:8080/"
        },
        "outputId": "57491332-0046-44e3-f4f2-abce9677faf1"
      },
      "execution_count": null,
      "outputs": [
        {
          "output_type": "stream",
          "name": "stdout",
          "text": [
            "5.0\n"
          ]
        }
      ]
    },
    {
      "cell_type": "code",
      "source": [
        "lst = list([1,2,3]) # Use constructor to define list this way.\n",
        "lst\n",
        "lst1 = list(((1,2,3), (4,5,6)))\n",
        "lst3 = list({1,2,3})\n",
        "print(lst1)\n",
        "print(len(lst1))\n",
        "print(type(lst))\n",
        "print(type(lst1))\n",
        "print(type(lst1[0]))\n",
        "print(type(lst3))"
      ],
      "metadata": {
        "colab": {
          "base_uri": "https://localhost:8080/"
        },
        "id": "Qwk-852xPfi5",
        "outputId": "9d41c511-42e3-4ea4-857a-70d9e3964f08"
      },
      "execution_count": null,
      "outputs": [
        {
          "output_type": "stream",
          "name": "stdout",
          "text": [
            "[(1, 2, 3), (4, 5, 6)]\n",
            "2\n",
            "<class 'list'>\n",
            "<class 'list'>\n",
            "<class 'tuple'>\n",
            "<class 'list'>\n"
          ]
        }
      ]
    },
    {
      "cell_type": "code",
      "source": [
        "l1=[1,2,3,0]\n",
        "print(any(l1))\n",
        "print(all(l1))\n",
        "l2=(True,True,False)\n",
        "print(any(l2))\n",
        "print(all(l2))\n",
        "l3={'Sindhur', 'Borusu', ''}\n",
        "print(any(l3))\n",
        "print(all(l3))\n",
        "l4={'Sindhur', 'Borusu', ' '}\n",
        "print(any(l4))\n",
        "print(all(l4))\n",
        "l5={1:'nit', 0:'tech'}\n",
        "print(l5)\n",
        "print(any(l5)) # keys will be considered\n",
        "print(all(l5))\n",
        "l6={'1':'nit', '0':'tech'}\n",
        "print(l6)\n",
        "print(any(l6)) # keys will be considered\n",
        "print(all(l6))"
      ],
      "metadata": {
        "colab": {
          "base_uri": "https://localhost:8080/"
        },
        "id": "jO3-9yBIIa3k",
        "outputId": "0fed0a73-2fc8-45bc-a93f-c0e2c25dd84a"
      },
      "execution_count": null,
      "outputs": [
        {
          "output_type": "stream",
          "name": "stdout",
          "text": [
            "True\n",
            "False\n",
            "True\n",
            "False\n",
            "True\n",
            "False\n",
            "True\n",
            "True\n",
            "{1: 'nit', 0: 'tech'}\n",
            "True\n",
            "False\n",
            "{'1': 'nit', '0': 'tech'}\n",
            "True\n",
            "True\n"
          ]
        }
      ]
    },
    {
      "cell_type": "markdown",
      "source": [
        "#Tuple"
      ],
      "metadata": {
        "id": "31o5wfXER3re"
      }
    },
    {
      "cell_type": "code",
      "source": [
        "tup1 = (1,2,3)\n",
        "print(len(tup1))\n",
        "tup2 = tuple([1,2,3])\n",
        "print(len(tup2))\n",
        "print(tup2)\n",
        "tup3 = tuple((1,2,3))\n",
        "print(len(tup3))\n",
        "print(tup3)\n",
        "print(type(tup1))\n",
        "print(type(tup2))\n",
        "print(type(tup3))"
      ],
      "metadata": {
        "colab": {
          "base_uri": "https://localhost:8080/"
        },
        "id": "5kEjQYtTR8wh",
        "outputId": "57dd648c-85c5-4992-f4de-e2aa02907152"
      },
      "execution_count": null,
      "outputs": [
        {
          "output_type": "stream",
          "name": "stdout",
          "text": [
            "3\n",
            "3\n",
            "(1, 2, 3)\n",
            "3\n",
            "(1, 2, 3)\n",
            "<class 'tuple'>\n",
            "<class 'tuple'>\n",
            "<class 'tuple'>\n"
          ]
        }
      ]
    },
    {
      "cell_type": "markdown",
      "source": [
        "# Set"
      ],
      "metadata": {
        "id": "3cpoRv2ROyLN"
      }
    },
    {
      "cell_type": "code",
      "source": [
        "st = {1,2,3}\n",
        "print(st)\n",
        "print(type(st))"
      ],
      "metadata": {
        "colab": {
          "base_uri": "https://localhost:8080/"
        },
        "id": "pL84ozeyO_fH",
        "outputId": "9590b708-c99e-414c-9c7a-42c0cadf141a"
      },
      "execution_count": null,
      "outputs": [
        {
          "output_type": "stream",
          "name": "stdout",
          "text": [
            "{1, 2, 3}\n",
            "<class 'set'>\n"
          ]
        }
      ]
    },
    {
      "cell_type": "code",
      "source": [
        "st1 = set({1,2,3}) # Use constructor to define set this way.\n",
        "st2 = set((1,2,3))\n",
        "st3 = set([1,2,3])\n",
        "print(type(st1))\n",
        "print(len(st1))\n",
        "print(type(st2))\n",
        "print(st2)\n",
        "print(len(st2))\n",
        "print(type(st3))\n",
        "print(st3)\n",
        "print(len(st3))"
      ],
      "metadata": {
        "colab": {
          "base_uri": "https://localhost:8080/"
        },
        "id": "i0X_UVY5QCWD",
        "outputId": "4da05dc5-d335-476a-e553-729c2619c08d"
      },
      "execution_count": null,
      "outputs": [
        {
          "output_type": "stream",
          "name": "stdout",
          "text": [
            "<class 'set'>\n",
            "3\n",
            "<class 'set'>\n",
            "{1, 2, 3}\n",
            "3\n",
            "<class 'set'>\n",
            "{1, 2, 3}\n",
            "3\n"
          ]
        }
      ]
    },
    {
      "cell_type": "code",
      "source": [
        "s3 = {2,3,1,4}\n",
        "print(s3)\n",
        "s4 = {'sindhur', (1+2j), 3, 4}\n",
        "print(s4)"
      ],
      "metadata": {
        "colab": {
          "base_uri": "https://localhost:8080/"
        },
        "id": "gQZHiUDWRuDF",
        "outputId": "fd9a4231-b33d-4e35-e6ce-e4246db05114"
      },
      "execution_count": null,
      "outputs": [
        {
          "output_type": "stream",
          "name": "stdout",
          "text": [
            "{1, 2, 3, 4}\n",
            "{3, 'sindhur', 4, (1+2j)}\n"
          ]
        }
      ]
    },
    {
      "cell_type": "code",
      "source": [
        "s3.pop(3)"
      ],
      "metadata": {
        "colab": {
          "base_uri": "https://localhost:8080/",
          "height": 146
        },
        "id": "SNHOygeU1LYw",
        "outputId": "6732cdf3-a397-4794-af12-9bc7f8348c05"
      },
      "execution_count": null,
      "outputs": [
        {
          "output_type": "error",
          "ename": "TypeError",
          "evalue": "set.pop() takes no arguments (1 given)",
          "traceback": [
            "\u001b[0;31m---------------------------------------------------------------------------\u001b[0m",
            "\u001b[0;31mTypeError\u001b[0m                                 Traceback (most recent call last)",
            "\u001b[0;32m<ipython-input-53-62bac015a640>\u001b[0m in \u001b[0;36m<cell line: 0>\u001b[0;34m()\u001b[0m\n\u001b[0;32m----> 1\u001b[0;31m \u001b[0ms3\u001b[0m\u001b[0;34m.\u001b[0m\u001b[0mpop\u001b[0m\u001b[0;34m(\u001b[0m\u001b[0;36m3\u001b[0m\u001b[0;34m)\u001b[0m\u001b[0;34m\u001b[0m\u001b[0;34m\u001b[0m\u001b[0m\n\u001b[0m",
            "\u001b[0;31mTypeError\u001b[0m: set.pop() takes no arguments (1 given)"
          ]
        }
      ]
    },
    {
      "cell_type": "code",
      "source": [
        "s3.pop() #removes the element randomly from the set as opposed to list.pop that removes the last element in the list.\n",
        "s3"
      ],
      "metadata": {
        "colab": {
          "base_uri": "https://localhost:8080/"
        },
        "id": "Nf21U4u87C1y",
        "outputId": "baa094e2-772a-4e24-f2cc-d2bd50025001"
      },
      "execution_count": null,
      "outputs": [
        {
          "output_type": "execute_result",
          "data": {
            "text/plain": [
              "{2, 3, 4}"
            ]
          },
          "metadata": {},
          "execution_count": 56
        }
      ]
    },
    {
      "cell_type": "code",
      "source": [
        "for i in s3:\n",
        "  print(i)"
      ],
      "metadata": {
        "colab": {
          "base_uri": "https://localhost:8080/"
        },
        "id": "xDLv4Txo7IZj",
        "outputId": "1e450de1-5860-47ad-f018-7d94b26063a5"
      },
      "execution_count": null,
      "outputs": [
        {
          "output_type": "stream",
          "name": "stdout",
          "text": [
            "2\n",
            "3\n",
            "4\n"
          ]
        }
      ]
    },
    {
      "cell_type": "code",
      "source": [
        "for i in enumerate(s3):\n",
        "  print(i)"
      ],
      "metadata": {
        "colab": {
          "base_uri": "https://localhost:8080/"
        },
        "id": "Ln3N8oHJ9auW",
        "outputId": "ded706b4-b966-41a8-9f78-d3515afe6453"
      },
      "execution_count": null,
      "outputs": [
        {
          "output_type": "stream",
          "name": "stdout",
          "text": [
            "(0, 2)\n",
            "(1, 3)\n",
            "(2, 4)\n"
          ]
        }
      ]
    },
    {
      "cell_type": "markdown",
      "source": [
        "## Union"
      ],
      "metadata": {
        "id": "1F7DPAbZ-g6W"
      }
    },
    {
      "cell_type": "code",
      "source": [
        "u1 = {1,2,3,4}\n",
        "u2 = {3,4,5,6}\n",
        "u3 = u1 | u2\n",
        "u4 = u1.union(u2)\n",
        "print(u3)\n",
        "print(u4)"
      ],
      "metadata": {
        "colab": {
          "base_uri": "https://localhost:8080/"
        },
        "id": "GLyEV9Ho9gvW",
        "outputId": "a28b0db0-a4a3-4f39-fd98-9631b51342a1"
      },
      "execution_count": null,
      "outputs": [
        {
          "output_type": "stream",
          "name": "stdout",
          "text": [
            "{1, 2, 3, 4, 5, 6}\n",
            "{1, 2, 3, 4, 5, 6}\n"
          ]
        }
      ]
    },
    {
      "cell_type": "markdown",
      "source": [
        "## Intersection"
      ],
      "metadata": {
        "id": "H6znh8NG_3_Y"
      }
    },
    {
      "cell_type": "code",
      "source": [
        "i1 = {1,2,3,4}\n",
        "i2 = {3,4,5,6}\n",
        "i0 = {3,1,6}\n",
        "i3 = i1 & i2 & i0\n",
        "i4 = i1.intersection(i2,i0) # original set i1 is not updated\n",
        "print(i1)\n",
        "print(i3)\n",
        "print(i4)"
      ],
      "metadata": {
        "colab": {
          "base_uri": "https://localhost:8080/"
        },
        "id": "Np7-p5QM_77p",
        "outputId": "cacc3f78-3648-42a0-d79a-25c501510dec"
      },
      "execution_count": null,
      "outputs": [
        {
          "output_type": "stream",
          "name": "stdout",
          "text": [
            "{1, 2, 3, 4}\n",
            "{3}\n",
            "{3}\n"
          ]
        }
      ]
    },
    {
      "cell_type": "code",
      "source": [
        "i4 = {1,2,3,4}\n",
        "i5 = {4,5,6,7}\n",
        "i6 = {4,6,7,9}\n",
        "i4.intersection_update(i5,i6) # original set i4 is updated\n",
        "i4 &= i5 & i6\n",
        "print(i4)\n",
        "print(i4)"
      ],
      "metadata": {
        "colab": {
          "base_uri": "https://localhost:8080/"
        },
        "id": "roXnyfVLANVA",
        "outputId": "a690b86c-c875-4854-c78b-7239b4bb90ab"
      },
      "execution_count": null,
      "outputs": [
        {
          "output_type": "stream",
          "name": "stdout",
          "text": [
            "{4}\n",
            "{4}\n"
          ]
        }
      ]
    },
    {
      "cell_type": "code",
      "source": [
        "set1 = {1, 2, 3}\n",
        "set2 = {3, 4, 5}\n",
        "set3 = {6, 4, 8}\n",
        "set1.update(set2,set3) # Merge multiple sets, lists, tuple, dict to a set\n",
        "print(set1)"
      ],
      "metadata": {
        "colab": {
          "base_uri": "https://localhost:8080/"
        },
        "id": "mX4zfrvaGjSX",
        "outputId": "a7e626d2-a173-4938-d9fa-3a605951b4fa"
      },
      "execution_count": null,
      "outputs": [
        {
          "output_type": "stream",
          "name": "stdout",
          "text": [
            "{1, 2, 3, 4, 5, 6, 8}\n"
          ]
        }
      ]
    },
    {
      "cell_type": "markdown",
      "source": [
        "## difference"
      ],
      "metadata": {
        "id": "vFDtYtzoLNwV"
      }
    },
    {
      "cell_type": "code",
      "source": [
        "a = {1,2,3,4,5}\n",
        "b = {3,4,5,6}\n",
        "print(a - b)\n",
        "print(a)\n",
        "print(b)\n",
        "print(a.difference(b))\n",
        "# a.difference_update(b) # original set a is updated\n",
        "a -= b\n",
        "print(a)"
      ],
      "metadata": {
        "colab": {
          "base_uri": "https://localhost:8080/"
        },
        "id": "84P-tKrkHp9y",
        "outputId": "30928884-29d5-47aa-f08d-12978785e3a5"
      },
      "execution_count": null,
      "outputs": [
        {
          "output_type": "stream",
          "name": "stdout",
          "text": [
            "{1, 2}\n",
            "{1, 2, 3, 4, 5}\n",
            "{3, 4, 5, 6}\n",
            "{1, 2}\n",
            "{1, 2}\n"
          ]
        }
      ]
    },
    {
      "cell_type": "code",
      "source": [
        "a = {1,2,3,4,5}\n",
        "b = {3,4,5,6}\n",
        "print(a.symmetric_difference(b)) # Return a set that contains all items from both sets, except items that are present in both sets. This can be considered opposite to intersection.\n",
        "print(a ^ b)\n",
        "print(a)\n",
        "print(b)\n",
        "# a.symmetric_difference_update(b) # original set a is updated\n",
        "a ^= b\n",
        "print(a)"
      ],
      "metadata": {
        "colab": {
          "base_uri": "https://localhost:8080/"
        },
        "id": "oxDfcJmNLZMB",
        "outputId": "cf34a28a-fdc5-4485-90ac-d945bd184b28"
      },
      "execution_count": null,
      "outputs": [
        {
          "output_type": "stream",
          "name": "stdout",
          "text": [
            "{1, 2, 6}\n",
            "{1, 2, 6}\n",
            "{1, 2, 3, 4, 5}\n",
            "{3, 4, 5, 6}\n",
            "{1, 2, 6}\n"
          ]
        }
      ]
    },
    {
      "cell_type": "markdown",
      "source": [
        "# Misc"
      ],
      "metadata": {
        "id": "BaLs7A2neYVL"
      }
    },
    {
      "cell_type": "code",
      "source": [
        "x = 0\n",
        "x"
      ],
      "metadata": {
        "colab": {
          "base_uri": "https://localhost:8080/"
        },
        "id": "sX2cu8pCgtZ8",
        "outputId": "d9d3dd16-df16-4fb7-9f2b-432de4ab7e2c"
      },
      "execution_count": null,
      "outputs": [
        {
          "output_type": "execute_result",
          "data": {
            "text/plain": [
              "0"
            ]
          },
          "metadata": {},
          "execution_count": 40
        }
      ]
    },
    {
      "cell_type": "code",
      "source": [
        "_ + 1"
      ],
      "metadata": {
        "colab": {
          "base_uri": "https://localhost:8080/"
        },
        "id": "G6UXLh4Og3x2",
        "outputId": "3ba1dc37-f87b-4fab-9f70-2952ae71c56e"
      },
      "execution_count": null,
      "outputs": [
        {
          "output_type": "execute_result",
          "data": {
            "text/plain": [
              "1"
            ]
          },
          "metadata": {},
          "execution_count": 41
        }
      ]
    },
    {
      "cell_type": "code",
      "source": [
        "x = 10\n",
        "y = 20\n",
        "y"
      ],
      "metadata": {
        "id": "DInPlq7jOhp6",
        "colab": {
          "base_uri": "https://localhost:8080/"
        },
        "outputId": "773918cc-0ebc-495d-acec-024b4b6f0f98"
      },
      "execution_count": null,
      "outputs": [
        {
          "output_type": "execute_result",
          "data": {
            "text/plain": [
              "20"
            ]
          },
          "metadata": {},
          "execution_count": 20
        }
      ]
    },
    {
      "cell_type": "code",
      "source": [
        "x = x + y\n",
        "x"
      ],
      "metadata": {
        "colab": {
          "base_uri": "https://localhost:8080/"
        },
        "id": "wCRQhB5fehv7",
        "outputId": "263a51a5-f907-4deb-8ace-1830ca3cf42c"
      },
      "execution_count": null,
      "outputs": [
        {
          "output_type": "execute_result",
          "data": {
            "text/plain": [
              "30"
            ]
          },
          "metadata": {},
          "execution_count": 2
        }
      ]
    },
    {
      "cell_type": "code",
      "source": [
        "_ + x"
      ],
      "metadata": {
        "colab": {
          "base_uri": "https://localhost:8080/"
        },
        "id": "8mLJOzt4emET",
        "outputId": "e4bdc880-2cf1-400e-ac59-79edfcfa722a"
      },
      "execution_count": null,
      "outputs": [
        {
          "output_type": "execute_result",
          "data": {
            "text/plain": [
              "60"
            ]
          },
          "metadata": {},
          "execution_count": 3
        }
      ]
    },
    {
      "cell_type": "code",
      "source": [
        "_ + x"
      ],
      "metadata": {
        "colab": {
          "base_uri": "https://localhost:8080/"
        },
        "id": "Dnd2HPU8eqfd",
        "outputId": "e2605fe9-c2b0-4a22-b9e0-4d5e3ede3b10"
      },
      "execution_count": null,
      "outputs": [
        {
          "output_type": "execute_result",
          "data": {
            "text/plain": [
              "90"
            ]
          },
          "metadata": {},
          "execution_count": 4
        }
      ]
    },
    {
      "cell_type": "code",
      "source": [
        "x = 10\n",
        "_ + 10"
      ],
      "metadata": {
        "colab": {
          "base_uri": "https://localhost:8080/"
        },
        "id": "L-8Brg4Yeui9",
        "outputId": "07ba3d8f-7afb-4592-b657-b5a8c8158ef6"
      },
      "execution_count": null,
      "outputs": [
        {
          "output_type": "execute_result",
          "data": {
            "text/plain": [
              "100"
            ]
          },
          "metadata": {},
          "execution_count": 5
        }
      ]
    },
    {
      "cell_type": "code",
      "source": [
        "x = 10"
      ],
      "metadata": {
        "id": "SUUR03oNe1Pu"
      },
      "execution_count": null,
      "outputs": []
    },
    {
      "cell_type": "code",
      "source": [
        "_ + 5"
      ],
      "metadata": {
        "colab": {
          "base_uri": "https://localhost:8080/"
        },
        "id": "oL-wH0tYe8ZB",
        "outputId": "999aef92-78ec-47fe-9157-89449b49ce58"
      },
      "execution_count": null,
      "outputs": [
        {
          "output_type": "execute_result",
          "data": {
            "text/plain": [
              "105"
            ]
          },
          "metadata": {},
          "execution_count": 7
        }
      ]
    },
    {
      "cell_type": "code",
      "source": [
        "print(x)"
      ],
      "metadata": {
        "colab": {
          "base_uri": "https://localhost:8080/"
        },
        "id": "6yWdVEBve-gR",
        "outputId": "a5865c91-e63c-48b4-b5ea-8c621765e51e"
      },
      "execution_count": null,
      "outputs": [
        {
          "output_type": "stream",
          "name": "stdout",
          "text": [
            "10\n"
          ]
        }
      ]
    },
    {
      "cell_type": "code",
      "source": [
        "_ + 10"
      ],
      "metadata": {
        "colab": {
          "base_uri": "https://localhost:8080/"
        },
        "id": "3DTBjEz2fDNe",
        "outputId": "79674f78-b5fe-49e2-9bc9-394f05639215"
      },
      "execution_count": null,
      "outputs": [
        {
          "output_type": "execute_result",
          "data": {
            "text/plain": [
              "115"
            ]
          },
          "metadata": {},
          "execution_count": 9
        }
      ]
    },
    {
      "cell_type": "code",
      "source": [
        "x = _ + x"
      ],
      "metadata": {
        "id": "p1dFMRjDfGh2"
      },
      "execution_count": null,
      "outputs": []
    },
    {
      "cell_type": "code",
      "source": [
        "x"
      ],
      "metadata": {
        "colab": {
          "base_uri": "https://localhost:8080/"
        },
        "id": "BNC4QiP5fOvC",
        "outputId": "a55c6c15-27e6-4be1-a3a4-72f3506223f0"
      },
      "execution_count": null,
      "outputs": [
        {
          "output_type": "execute_result",
          "data": {
            "text/plain": [
              "125"
            ]
          },
          "metadata": {},
          "execution_count": 11
        }
      ]
    },
    {
      "cell_type": "code",
      "source": [
        "_ + x"
      ],
      "metadata": {
        "colab": {
          "base_uri": "https://localhost:8080/"
        },
        "id": "a2JE_DVLfRCZ",
        "outputId": "158814a5-c4dd-432c-fded-ab2d342e733f"
      },
      "execution_count": null,
      "outputs": [
        {
          "output_type": "execute_result",
          "data": {
            "text/plain": [
              "250"
            ]
          },
          "metadata": {},
          "execution_count": 12
        }
      ]
    },
    {
      "cell_type": "code",
      "source": [
        "x = _ + x\n",
        "print(x)"
      ],
      "metadata": {
        "colab": {
          "base_uri": "https://localhost:8080/"
        },
        "id": "UGSboixjfTkM",
        "outputId": "f0387a7b-c107-4756-b085-5a454d5049a9"
      },
      "execution_count": null,
      "outputs": [
        {
          "output_type": "stream",
          "name": "stdout",
          "text": [
            "1000\n"
          ]
        }
      ]
    },
    {
      "cell_type": "code",
      "source": [
        "_ + x"
      ],
      "metadata": {
        "colab": {
          "base_uri": "https://localhost:8080/"
        },
        "id": "__OCA-QSfXuR",
        "outputId": "2ded0887-c740-467f-8adf-515afab49fdd"
      },
      "execution_count": null,
      "outputs": [
        {
          "output_type": "execute_result",
          "data": {
            "text/plain": [
              "1625"
            ]
          },
          "metadata": {},
          "execution_count": 16
        }
      ]
    },
    {
      "cell_type": "code",
      "source": [
        "x = _ + 10\n",
        "print(x)"
      ],
      "metadata": {
        "colab": {
          "base_uri": "https://localhost:8080/"
        },
        "id": "OjcqOOQhfbpB",
        "outputId": "7e31819e-212c-4446-f8d4-17d4499caba2"
      },
      "execution_count": null,
      "outputs": [
        {
          "output_type": "stream",
          "name": "stdout",
          "text": [
            "1635\n"
          ]
        }
      ]
    },
    {
      "cell_type": "code",
      "source": [
        "_ + 10"
      ],
      "metadata": {
        "colab": {
          "base_uri": "https://localhost:8080/"
        },
        "id": "qZr9fImifqhL",
        "outputId": "be709ea3-ab0d-4d7c-e4f6-d73f56f0d705"
      },
      "execution_count": null,
      "outputs": [
        {
          "output_type": "execute_result",
          "data": {
            "text/plain": [
              "1635"
            ]
          },
          "metadata": {},
          "execution_count": 18
        }
      ]
    },
    {
      "cell_type": "code",
      "source": [
        "name = 'Fine'\n",
        "name = 'D' + name[1:4]\n",
        "name"
      ],
      "metadata": {
        "colab": {
          "base_uri": "https://localhost:8080/",
          "height": 36
        },
        "id": "QiFlnjrOftKc",
        "outputId": "bcfe5cbc-b9e0-4b81-bbf1-218c2a9ae069"
      },
      "execution_count": null,
      "outputs": [
        {
          "output_type": "execute_result",
          "data": {
            "text/plain": [
              "'Dine'"
            ],
            "application/vnd.google.colaboratory.intrinsic+json": {
              "type": "string"
            }
          },
          "metadata": {},
          "execution_count": 45
        }
      ]
    },
    {
      "cell_type": "code",
      "source": [
        "x = 10\n",
        "y = 20\n",
        "x, y = y, x\n",
        "print(x)\n",
        "print(y)"
      ],
      "metadata": {
        "colab": {
          "base_uri": "https://localhost:8080/"
        },
        "id": "Qq9GI7Cvj_KL",
        "outputId": "69185264-790d-4639-960a-29f5877a46e4"
      },
      "execution_count": null,
      "outputs": [
        {
          "output_type": "stream",
          "name": "stdout",
          "text": [
            "20\n",
            "10\n"
          ]
        }
      ]
    },
    {
      "cell_type": "code",
      "source": [
        "x = 10\n",
        "isinstance(x,int)"
      ],
      "metadata": {
        "colab": {
          "base_uri": "https://localhost:8080/"
        },
        "id": "JhAqvMu50C2u",
        "outputId": "31e46a07-5eac-4dd8-a392-fe7c71fbe8b7"
      },
      "execution_count": null,
      "outputs": [
        {
          "output_type": "execute_result",
          "data": {
            "text/plain": [
              "True"
            ]
          },
          "metadata": {},
          "execution_count": 9
        }
      ]
    },
    {
      "cell_type": "code",
      "source": [
        "string_list = [\"Hello\", \"World\"]\n",
        "result = \" \".join(string_list)\n",
        "print(result)  # Output: Hello World"
      ],
      "metadata": {
        "colab": {
          "base_uri": "https://localhost:8080/"
        },
        "id": "vQG5kxii1FVQ",
        "outputId": "e3c2af3b-14f1-4310-e5b3-722cee86151b"
      },
      "execution_count": null,
      "outputs": [
        {
          "output_type": "stream",
          "name": "stdout",
          "text": [
            "Hello World\n"
          ]
        }
      ]
    },
    {
      "cell_type": "code",
      "source": [
        "import sys\n",
        "sys.version"
      ],
      "metadata": {
        "colab": {
          "base_uri": "https://localhost:8080/",
          "height": 36
        },
        "id": "xsAKhuWo4giJ",
        "outputId": "4ffde491-8fe4-4848-e879-ec2ca7b5bf49"
      },
      "execution_count": null,
      "outputs": [
        {
          "output_type": "execute_result",
          "data": {
            "text/plain": [
              "'3.11.12 (main, Apr  9 2025, 08:55:54) [GCC 11.4.0]'"
            ],
            "application/vnd.google.colaboratory.intrinsic+json": {
              "type": "string"
            }
          },
          "metadata": {},
          "execution_count": 19
        }
      ]
    },
    {
      "cell_type": "code",
      "source": [
        "import keyword\n",
        "keyword.kwlist"
      ],
      "metadata": {
        "colab": {
          "base_uri": "https://localhost:8080/"
        },
        "id": "Ve3JJfwA5fdy",
        "outputId": "7e5557b4-0119-4344-c6b1-bfdc967acfe9"
      },
      "execution_count": null,
      "outputs": [
        {
          "output_type": "execute_result",
          "data": {
            "text/plain": [
              "['False',\n",
              " 'None',\n",
              " 'True',\n",
              " 'and',\n",
              " 'as',\n",
              " 'assert',\n",
              " 'async',\n",
              " 'await',\n",
              " 'break',\n",
              " 'class',\n",
              " 'continue',\n",
              " 'def',\n",
              " 'del',\n",
              " 'elif',\n",
              " 'else',\n",
              " 'except',\n",
              " 'finally',\n",
              " 'for',\n",
              " 'from',\n",
              " 'global',\n",
              " 'if',\n",
              " 'import',\n",
              " 'in',\n",
              " 'is',\n",
              " 'lambda',\n",
              " 'nonlocal',\n",
              " 'not',\n",
              " 'or',\n",
              " 'pass',\n",
              " 'raise',\n",
              " 'return',\n",
              " 'try',\n",
              " 'while',\n",
              " 'with',\n",
              " 'yield']"
            ]
          },
          "metadata": {},
          "execution_count": 20
        }
      ]
    },
    {
      "cell_type": "code",
      "source": [
        "string = 'Sindhur'\n",
        "char = 'Borusu'"
      ],
      "metadata": {
        "id": "QJ7XW28R6Aos"
      },
      "execution_count": null,
      "outputs": []
    },
    {
      "cell_type": "code",
      "source": [
        "dic = {1: 'A', 2: 'B', 3: 'C'}\n",
        "print(dic[1])\n",
        "dic[1] = 'a'\n",
        "print(dic)\n",
        "dic[4] = 'D'\n",
        "print(dic)"
      ],
      "metadata": {
        "colab": {
          "base_uri": "https://localhost:8080/"
        },
        "id": "nIhhpXp76LYt",
        "outputId": "8843548b-d77c-4989-ae7d-e7a87bd39951"
      },
      "execution_count": null,
      "outputs": [
        {
          "output_type": "stream",
          "name": "stdout",
          "text": [
            "A\n",
            "{1: 'a', 2: 'B', 3: 'C'}\n",
            "{1: 'a', 2: 'B', 3: 'C', 4: 'D'}\n"
          ]
        }
      ]
    },
    {
      "cell_type": "code",
      "source": [
        "var = 2\n",
        "print(2 == 2.0)"
      ],
      "metadata": {
        "id": "VKh5Idet62eG",
        "colab": {
          "base_uri": "https://localhost:8080/"
        },
        "outputId": "79692fd4-e520-4a04-9d58-9e5c160f044c"
      },
      "execution_count": 2,
      "outputs": [
        {
          "output_type": "stream",
          "name": "stdout",
          "text": [
            "True\n"
          ]
        }
      ]
    },
    {
      "cell_type": "code",
      "source": [
        "a = 'Python' + \".py\"\n",
        "a"
      ],
      "metadata": {
        "colab": {
          "base_uri": "https://localhost:8080/",
          "height": 36
        },
        "id": "Tfw6a24UkKV3",
        "outputId": "531c5f55-0d00-427a-df03-e569e8b7f6f1"
      },
      "execution_count": 3,
      "outputs": [
        {
          "output_type": "execute_result",
          "data": {
            "text/plain": [
              "'Python.py'"
            ],
            "application/vnd.google.colaboratory.intrinsic+json": {
              "type": "string"
            }
          },
          "metadata": {},
          "execution_count": 3
        }
      ]
    },
    {
      "cell_type": "code",
      "source": [
        "print(str(True), end=\" \")\n",
        "int('4.5')"
      ],
      "metadata": {
        "colab": {
          "base_uri": "https://localhost:8080/",
          "height": 182
        },
        "id": "edKdPkPsmrWK",
        "outputId": "ca291de0-6fa4-49ea-eb59-8f332a00f179"
      },
      "execution_count": 8,
      "outputs": [
        {
          "output_type": "stream",
          "name": "stdout",
          "text": [
            "True "
          ]
        },
        {
          "output_type": "error",
          "ename": "ValueError",
          "evalue": "invalid literal for int() with base 10: '4.5'",
          "traceback": [
            "\u001b[0;31m---------------------------------------------------------------------------\u001b[0m",
            "\u001b[0;31mValueError\u001b[0m                                Traceback (most recent call last)",
            "\u001b[0;32m<ipython-input-8-6c0df8687e42>\u001b[0m in \u001b[0;36m<cell line: 0>\u001b[0;34m()\u001b[0m\n\u001b[1;32m      1\u001b[0m \u001b[0mprint\u001b[0m\u001b[0;34m(\u001b[0m\u001b[0mstr\u001b[0m\u001b[0;34m(\u001b[0m\u001b[0;32mTrue\u001b[0m\u001b[0;34m)\u001b[0m\u001b[0;34m,\u001b[0m \u001b[0mend\u001b[0m\u001b[0;34m=\u001b[0m\u001b[0;34m\" \"\u001b[0m\u001b[0;34m)\u001b[0m\u001b[0;34m\u001b[0m\u001b[0;34m\u001b[0m\u001b[0m\n\u001b[0;32m----> 2\u001b[0;31m \u001b[0mint\u001b[0m\u001b[0;34m(\u001b[0m\u001b[0;34m'4.5'\u001b[0m\u001b[0;34m)\u001b[0m\u001b[0;34m\u001b[0m\u001b[0;34m\u001b[0m\u001b[0m\n\u001b[0m",
            "\u001b[0;31mValueError\u001b[0m: invalid literal for int() with base 10: '4.5'"
          ]
        }
      ]
    },
    {
      "cell_type": "code",
      "source": [
        "type(str(True))\n"
      ],
      "metadata": {
        "colab": {
          "base_uri": "https://localhost:8080/"
        },
        "id": "0stqJWVvnIEf",
        "outputId": "e3fc1427-1549-46d6-ea97-dc41f82a3738"
      },
      "execution_count": 12,
      "outputs": [
        {
          "output_type": "execute_result",
          "data": {
            "text/plain": [
              "str"
            ]
          },
          "metadata": {},
          "execution_count": 12
        }
      ]
    },
    {
      "cell_type": "code",
      "source": [
        "str1 = 'Ault\\'Kelly'\n",
        "print(str1)\n",
        "str2 = '''Ault'Kelly'''\n",
        "print(str2)\n",
        "str3 = \"\"\"Ault'Kelly\"\"\"\n",
        "print(str3)"
      ],
      "metadata": {
        "colab": {
          "base_uri": "https://localhost:8080/"
        },
        "id": "8kaOt-IjnvIt",
        "outputId": "c44ef0df-a10f-46b2-e96a-b73129ff8e46"
      },
      "execution_count": 19,
      "outputs": [
        {
          "output_type": "stream",
          "name": "stdout",
          "text": [
            "Ault'Kelly\n",
            "Ault'Kelly\n",
            "Ault'Kelly\n"
          ]
        }
      ]
    },
    {
      "cell_type": "code",
      "source": [
        "aTuple = (1, 'Jhon', 1+3j)\n",
        "print(type(aTuple[2:3])) # Slicing always returns a tuple\n",
        "print(type(aTuple[2]))"
      ],
      "metadata": {
        "colab": {
          "base_uri": "https://localhost:8080/"
        },
        "id": "E9UV4TEeo1pO",
        "outputId": "804996c9-fdb9-4548-bb39-c8dc9f3b77b6"
      },
      "execution_count": 23,
      "outputs": [
        {
          "output_type": "stream",
          "name": "stdout",
          "text": [
            "<class 'tuple'>\n",
            "<class 'complex'>\n"
          ]
        }
      ]
    },
    {
      "cell_type": "code",
      "source": [
        "print(bool(0), bool(3.14159), bool(-3), bool(1.0+1j))"
      ],
      "metadata": {
        "colab": {
          "base_uri": "https://localhost:8080/"
        },
        "id": "hykahQxppbI1",
        "outputId": "6ab3e5f8-bd5b-4955-c11b-6d84db98c2a5"
      },
      "execution_count": 24,
      "outputs": [
        {
          "output_type": "stream",
          "name": "stdout",
          "text": [
            "False True True True\n"
          ]
        }
      ]
    },
    {
      "cell_type": "code",
      "source": [
        "def func1():\n",
        " x = 50\n",
        " return x\n",
        "func1()\n",
        "print(x)"
      ],
      "metadata": {
        "colab": {
          "base_uri": "https://localhost:8080/",
          "height": 182
        },
        "id": "JvKaKW7lqaBv",
        "outputId": "3ab3a885-f023-4815-ec3c-cdd9ee14997e"
      },
      "execution_count": 26,
      "outputs": [
        {
          "output_type": "error",
          "ename": "NameError",
          "evalue": "name 'x' is not defined",
          "traceback": [
            "\u001b[0;31m---------------------------------------------------------------------------\u001b[0m",
            "\u001b[0;31mNameError\u001b[0m                                 Traceback (most recent call last)",
            "\u001b[0;32m<ipython-input-26-a62ff7de1543>\u001b[0m in \u001b[0;36m<cell line: 0>\u001b[0;34m()\u001b[0m\n\u001b[1;32m      3\u001b[0m  \u001b[0;32mreturn\u001b[0m \u001b[0mx\u001b[0m\u001b[0;34m\u001b[0m\u001b[0;34m\u001b[0m\u001b[0m\n\u001b[1;32m      4\u001b[0m \u001b[0mfunc1\u001b[0m\u001b[0;34m(\u001b[0m\u001b[0;34m)\u001b[0m\u001b[0;34m\u001b[0m\u001b[0;34m\u001b[0m\u001b[0m\n\u001b[0;32m----> 5\u001b[0;31m \u001b[0mprint\u001b[0m\u001b[0;34m(\u001b[0m\u001b[0mx\u001b[0m\u001b[0;34m)\u001b[0m\u001b[0;34m\u001b[0m\u001b[0;34m\u001b[0m\u001b[0m\n\u001b[0m",
            "\u001b[0;31mNameError\u001b[0m: name 'x' is not defined"
          ]
        }
      ]
    },
    {
      "cell_type": "code",
      "source": [
        "str1 = '''str'''\n",
        "print(str1)\n",
        "str1 = 'str1'\n",
        "print(str1)\n",
        "str1 = \"str1\"\n",
        "print(str1)"
      ],
      "metadata": {
        "colab": {
          "base_uri": "https://localhost:8080/"
        },
        "id": "_8aeTVlhqjrj",
        "outputId": "bc7f17f0-3770-4d97-ada2-1aa2942c0d12"
      },
      "execution_count": 30,
      "outputs": [
        {
          "output_type": "stream",
          "name": "stdout",
          "text": [
            "str\n",
            "str1\n",
            "str1\n"
          ]
        }
      ]
    },
    {
      "cell_type": "code",
      "source": [
        "range(5)"
      ],
      "metadata": {
        "colab": {
          "base_uri": "https://localhost:8080/"
        },
        "id": "cuxNUzzvrFYi",
        "outputId": "cd40656b-4eea-421c-cae0-1a010a0cf7e3"
      },
      "execution_count": 32,
      "outputs": [
        {
          "output_type": "execute_result",
          "data": {
            "text/plain": [
              "range(0, 5)"
            ]
          },
          "metadata": {},
          "execution_count": 32
        }
      ]
    },
    {
      "cell_type": "code",
      "source": [
        "print(type(10))"
      ],
      "metadata": {
        "colab": {
          "base_uri": "https://localhost:8080/"
        },
        "id": "65IZpt1GsESI",
        "outputId": "a51b498f-3379-426b-a2e5-62ee37235dc7"
      },
      "execution_count": 33,
      "outputs": [
        {
          "output_type": "stream",
          "name": "stdout",
          "text": [
            "<class 'int'>\n"
          ]
        }
      ]
    },
    {
      "cell_type": "code",
      "source": [
        "x = 3.14\n",
        "print(type(x))"
      ],
      "metadata": {
        "colab": {
          "base_uri": "https://localhost:8080/"
        },
        "id": "Eh_-FvQksc4q",
        "outputId": "04e24a49-6189-4722-eb22-ceeabf2e1345"
      },
      "execution_count": 34,
      "outputs": [
        {
          "output_type": "stream",
          "name": "stdout",
          "text": [
            "<class 'float'>\n"
          ]
        }
      ]
    },
    {
      "cell_type": "code",
      "source": [
        "x = 10\n",
        "y = \"20\"\n",
        "print(x + int(y))"
      ],
      "metadata": {
        "colab": {
          "base_uri": "https://localhost:8080/"
        },
        "id": "rydps0D_s0Q4",
        "outputId": "a8ff0c9b-f34b-4b97-bb8d-1a781ae20a10"
      },
      "execution_count": 35,
      "outputs": [
        {
          "output_type": "stream",
          "name": "stdout",
          "text": [
            "30\n"
          ]
        }
      ]
    },
    {
      "cell_type": "code",
      "source": [
        "x = {\"apple\", \"banana\", \"cherry\"}\n",
        "print(type(x))\n"
      ],
      "metadata": {
        "colab": {
          "base_uri": "https://localhost:8080/"
        },
        "id": "9jdbhhrotK-r",
        "outputId": "701a85c2-fe49-46be-8eb0-c8a01af81bd1"
      },
      "execution_count": 36,
      "outputs": [
        {
          "output_type": "stream",
          "name": "stdout",
          "text": [
            "<class 'set'>\n"
          ]
        }
      ]
    },
    {
      "cell_type": "code",
      "source": [
        "x = 10\n",
        "y = \"20\"\n",
        "print(str(x) + y)"
      ],
      "metadata": {
        "colab": {
          "base_uri": "https://localhost:8080/"
        },
        "id": "GGqNiqDVta_X",
        "outputId": "814e609a-4137-43ae-ab00-3116d7044a5a"
      },
      "execution_count": 37,
      "outputs": [
        {
          "output_type": "stream",
          "name": "stdout",
          "text": [
            "1020\n"
          ]
        }
      ]
    },
    {
      "cell_type": "code",
      "source": [
        "x = [1, 2, 3]\n",
        "y = x.copy()\n",
        "x.append(4)\n",
        "print(y)"
      ],
      "metadata": {
        "colab": {
          "base_uri": "https://localhost:8080/"
        },
        "id": "UiEfGR7fu7gX",
        "outputId": "3692d155-0830-4a7f-859a-362a4aae1350"
      },
      "execution_count": 38,
      "outputs": [
        {
          "output_type": "stream",
          "name": "stdout",
          "text": [
            "[1, 2, 3]\n"
          ]
        }
      ]
    },
    {
      "cell_type": "code",
      "source": [
        "x = [1, 2, 3]\n",
        "y = x\n",
        "x.append(4)\n",
        "print(y)"
      ],
      "metadata": {
        "colab": {
          "base_uri": "https://localhost:8080/"
        },
        "id": "r4CYy46hvDuq",
        "outputId": "58a15306-c501-446b-ae56-7ce21683972e"
      },
      "execution_count": 39,
      "outputs": [
        {
          "output_type": "stream",
          "name": "stdout",
          "text": [
            "[1, 2, 3, 4]\n"
          ]
        }
      ]
    },
    {
      "cell_type": "code",
      "source": [
        "x = {\"a\": 1, \"b\": 2}\n",
        "y = {\"b\": 3, \"c\": 4}\n",
        "z = {**x, **y}\n",
        "print(z)"
      ],
      "metadata": {
        "colab": {
          "base_uri": "https://localhost:8080/"
        },
        "id": "4wN_TmDpvFn1",
        "outputId": "072870d1-4ab5-4165-8073-9244005f8e52"
      },
      "execution_count": 40,
      "outputs": [
        {
          "output_type": "stream",
          "name": "stdout",
          "text": [
            "{'a': 1, 'b': 3, 'c': 4}\n"
          ]
        }
      ]
    },
    {
      "cell_type": "code",
      "source": [
        "x = {1, 2, 3}\n",
        "x.clear()\n",
        "print(x)"
      ],
      "metadata": {
        "colab": {
          "base_uri": "https://localhost:8080/"
        },
        "id": "i3T2eRJE_Su_",
        "outputId": "3a7bf28e-a4b7-4527-f367-051243b12a0d"
      },
      "execution_count": 41,
      "outputs": [
        {
          "output_type": "stream",
          "name": "stdout",
          "text": [
            "set()\n"
          ]
        }
      ]
    },
    {
      "cell_type": "code",
      "source": [
        "x = \"hello\"\n",
        "y = x.replace(\"l\", \"L\",1)\n",
        "print(y)"
      ],
      "metadata": {
        "colab": {
          "base_uri": "https://localhost:8080/"
        },
        "id": "uQgclRf9_dk1",
        "outputId": "8142b6f8-319e-4dae-d61c-a56628a0ebd5"
      },
      "execution_count": 46,
      "outputs": [
        {
          "output_type": "stream",
          "name": "stdout",
          "text": [
            "heLlo\n"
          ]
        }
      ]
    },
    {
      "cell_type": "code",
      "source": [
        "x = (1, 2, [3, 4])\n",
        "x[2][0] = 5\n",
        "print(x)\n",
        "print(type(x))"
      ],
      "metadata": {
        "colab": {
          "base_uri": "https://localhost:8080/"
        },
        "id": "XD_IErBJ_5bs",
        "outputId": "f32008ca-6354-4942-8849-1bce6b9b3148"
      },
      "execution_count": 50,
      "outputs": [
        {
          "output_type": "stream",
          "name": "stdout",
          "text": [
            "(1, 2, [5, 4])\n",
            "<class 'tuple'>\n"
          ]
        }
      ]
    },
    {
      "cell_type": "code",
      "source": [
        "x = {\"name\": \"John\", \"age\": 30}\n",
        "print(x.get('address'))\n",
        "print(x[\"address\"])"
      ],
      "metadata": {
        "colab": {
          "base_uri": "https://localhost:8080/",
          "height": 200
        },
        "id": "IOwZ0D6AAP6k",
        "outputId": "f2b88b3f-ad26-4370-ffd2-90028fe08f6e"
      },
      "execution_count": 54,
      "outputs": [
        {
          "output_type": "stream",
          "name": "stdout",
          "text": [
            "None\n"
          ]
        },
        {
          "output_type": "error",
          "ename": "KeyError",
          "evalue": "'address'",
          "traceback": [
            "\u001b[0;31m---------------------------------------------------------------------------\u001b[0m",
            "\u001b[0;31mKeyError\u001b[0m                                  Traceback (most recent call last)",
            "\u001b[0;32m<ipython-input-54-17cff43d4700>\u001b[0m in \u001b[0;36m<cell line: 0>\u001b[0;34m()\u001b[0m\n\u001b[1;32m      1\u001b[0m \u001b[0mx\u001b[0m \u001b[0;34m=\u001b[0m \u001b[0;34m{\u001b[0m\u001b[0;34m\"name\"\u001b[0m\u001b[0;34m:\u001b[0m \u001b[0;34m\"John\"\u001b[0m\u001b[0;34m,\u001b[0m \u001b[0;34m\"age\"\u001b[0m\u001b[0;34m:\u001b[0m \u001b[0;36m30\u001b[0m\u001b[0;34m}\u001b[0m\u001b[0;34m\u001b[0m\u001b[0;34m\u001b[0m\u001b[0m\n\u001b[1;32m      2\u001b[0m \u001b[0mprint\u001b[0m\u001b[0;34m(\u001b[0m\u001b[0mx\u001b[0m\u001b[0;34m.\u001b[0m\u001b[0mget\u001b[0m\u001b[0;34m(\u001b[0m\u001b[0;34m'address'\u001b[0m\u001b[0;34m)\u001b[0m\u001b[0;34m)\u001b[0m\u001b[0;34m\u001b[0m\u001b[0;34m\u001b[0m\u001b[0m\n\u001b[0;32m----> 3\u001b[0;31m \u001b[0mprint\u001b[0m\u001b[0;34m(\u001b[0m\u001b[0mx\u001b[0m\u001b[0;34m[\u001b[0m\u001b[0;34m\"address\"\u001b[0m\u001b[0;34m]\u001b[0m\u001b[0;34m)\u001b[0m\u001b[0;34m\u001b[0m\u001b[0;34m\u001b[0m\u001b[0m\n\u001b[0m",
            "\u001b[0;31mKeyError\u001b[0m: 'address'"
          ]
        }
      ]
    },
    {
      "cell_type": "code",
      "source": [],
      "metadata": {
        "id": "oAxvAhu8AxYU"
      },
      "execution_count": null,
      "outputs": []
    }
  ]
}