{
  "nbformat": 4,
  "nbformat_minor": 0,
  "metadata": {
    "colab": {
      "provenance": [],
      "authorship_tag": "ABX9TyMwEVSjDNDYzDCRx5wPsXC/",
      "include_colab_link": true
    },
    "kernelspec": {
      "name": "python3",
      "display_name": "Python 3"
    },
    "language_info": {
      "name": "python"
    }
  },
  "cells": [
    {
      "cell_type": "markdown",
      "metadata": {
        "id": "view-in-github",
        "colab_type": "text"
      },
      "source": [
        "<a href=\"https://colab.research.google.com/github/sbborusu/530pm_Agentic_Ai_Batch_7thApril/blob/main/Machine_Learning.ipynb\" target=\"_parent\"><img src=\"https://colab.research.google.com/assets/colab-badge.svg\" alt=\"Open In Colab\"/></a>"
      ]
    },
    {
      "cell_type": "code",
      "execution_count": 25,
      "metadata": {
        "id": "6OxN7qEGwdsT"
      },
      "outputs": [],
      "source": [
        "import numpy as np\n",
        "import matplotlib.pyplot as plt\n",
        "import pandas as pd\n",
        "\n",
        "dataset = pd.read_csv(r'/content/Data (1).csv')\n"
      ]
    },
    {
      "cell_type": "code",
      "source": [
        "x = dataset.iloc[:, :-1].values\n",
        "y = dataset.iloc[:, 3].values"
      ],
      "metadata": {
        "id": "wctfSxM3xRqW"
      },
      "execution_count": 26,
      "outputs": []
    },
    {
      "cell_type": "code",
      "source": [
        "x"
      ],
      "metadata": {
        "colab": {
          "base_uri": "https://localhost:8080/"
        },
        "id": "6N3_sg0bxldp",
        "outputId": "c3104691-1ab9-442c-9ca1-1bd88b0ea03d"
      },
      "execution_count": 27,
      "outputs": [
        {
          "output_type": "execute_result",
          "data": {
            "text/plain": [
              "array([['Mumbai', 44.0, 72000.0],\n",
              "       ['Bangalore', 27.0, 48000.0],\n",
              "       ['Hyderabad', 30.0, 54000.0],\n",
              "       ['Bangalore', 38.0, 61000.0],\n",
              "       ['Hyderabad', 40.0, nan],\n",
              "       ['Mumbai', 35.0, 58000.0],\n",
              "       ['Bangalore', nan, 52000.0],\n",
              "       ['Mumbai', 48.0, 79000.0],\n",
              "       ['Hyderabad', 50.0, 83000.0],\n",
              "       ['Mumbai', 37.0, 67000.0]], dtype=object)"
            ]
          },
          "metadata": {},
          "execution_count": 27
        }
      ]
    },
    {
      "cell_type": "code",
      "source": [
        "y"
      ],
      "metadata": {
        "colab": {
          "base_uri": "https://localhost:8080/"
        },
        "id": "R8GYZ7NZxo2X",
        "outputId": "0da628b6-f0cb-4538-b1a5-5751eabb3ac8"
      },
      "execution_count": 28,
      "outputs": [
        {
          "output_type": "execute_result",
          "data": {
            "text/plain": [
              "array(['No', 'Yes', 'No', 'No', 'Yes', 'Yes', 'No', 'Yes', 'No', 'Yes'],\n",
              "      dtype=object)"
            ]
          },
          "metadata": {},
          "execution_count": 28
        }
      ]
    },
    {
      "cell_type": "code",
      "source": [
        "from sklearn.impute import SimpleImputer"
      ],
      "metadata": {
        "id": "Nf-gQkFqxy7g"
      },
      "execution_count": 29,
      "outputs": []
    },
    {
      "cell_type": "code",
      "source": [
        "# Instead of fillna to impute, we can use SimpleImputer to treat/impute missing values.\n",
        "\n",
        "imputer = SimpleImputer() # by default the strategy is mean and 'most_frequent' is mode. This strategy is hyper parameter tuning\n",
        "# or fine tuning.\n",
        "imputer = imputer.fit(x[:, 1:3])\n",
        "x[:, 1:3] = imputer.transform(x[:, 1:3])\n",
        "x"
      ],
      "metadata": {
        "colab": {
          "base_uri": "https://localhost:8080/"
        },
        "id": "6GJD30e1z4Km",
        "outputId": "bbd4e5cc-6513-4cfc-8bf1-1904c0f006ae"
      },
      "execution_count": 30,
      "outputs": [
        {
          "output_type": "execute_result",
          "data": {
            "text/plain": [
              "array([['Mumbai', 44.0, 72000.0],\n",
              "       ['Bangalore', 27.0, 48000.0],\n",
              "       ['Hyderabad', 30.0, 54000.0],\n",
              "       ['Bangalore', 38.0, 61000.0],\n",
              "       ['Hyderabad', 40.0, 63777.77777777778],\n",
              "       ['Mumbai', 35.0, 58000.0],\n",
              "       ['Bangalore', 38.77777777777778, 52000.0],\n",
              "       ['Mumbai', 48.0, 79000.0],\n",
              "       ['Hyderabad', 50.0, 83000.0],\n",
              "       ['Mumbai', 37.0, 67000.0]], dtype=object)"
            ]
          },
          "metadata": {},
          "execution_count": 30
        }
      ]
    },
    {
      "cell_type": "code",
      "source": [],
      "metadata": {
        "id": "UdgwtliS0gUJ"
      },
      "execution_count": 30,
      "outputs": []
    }
  ]
}