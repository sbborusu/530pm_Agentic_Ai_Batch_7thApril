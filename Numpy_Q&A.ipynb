{
  "nbformat": 4,
  "nbformat_minor": 0,
  "metadata": {
    "colab": {
      "provenance": [],
      "collapsed_sections": [
        "r3wxdY_qHFOE"
      ],
      "authorship_tag": "ABX9TyPyT9Agf1rrRL2dZq8IG94Q",
      "include_colab_link": true
    },
    "kernelspec": {
      "name": "python3",
      "display_name": "Python 3"
    },
    "language_info": {
      "name": "python"
    }
  },
  "cells": [
    {
      "cell_type": "markdown",
      "metadata": {
        "id": "view-in-github",
        "colab_type": "text"
      },
      "source": [
        "<a href=\"https://colab.research.google.com/github/sbborusu/530pm_Agentic_Ai_Batch_7thApril/blob/main/Numpy_Q%26A.ipynb\" target=\"_parent\"><img src=\"https://colab.research.google.com/assets/colab-badge.svg\" alt=\"Open In Colab\"/></a>"
      ]
    },
    {
      "cell_type": "code",
      "execution_count": 1,
      "metadata": {
        "colab": {
          "base_uri": "https://localhost:8080/"
        },
        "id": "YsxVhH59h6de",
        "outputId": "4200a4aa-eeeb-4f86-e57e-198ebf10a471"
      },
      "outputs": [
        {
          "output_type": "stream",
          "name": "stdout",
          "text": [
            "32\n",
            "32\n",
            "[[19 22]\n",
            " [43 50]]\n",
            "[[19 22]\n",
            " [43 50]]\n"
          ]
        }
      ],
      "source": [
        "import numpy as np\n",
        "a1 = np.array([1,2,3])\n",
        "a2 = np.array([4,5,6])\n",
        "'''The dot product (also known as the scalar product) of two arrays (or vectors)\n",
        "is a mathematical operation that takes two equal-length sequences of numbers and returns a single number.\n",
        "'''\n",
        "\n",
        "print(np.dot(a1,a2)) # dot product\n",
        "print(a1 @ a2) # dot product\n",
        "\n",
        "b1 = np.array([[1,2], [3,4]])\n",
        "b2 = np.array([[5,6], [7,8]])\n",
        "\n",
        "print(np.dot(b1,b2)) # dot product\n",
        "print(b1 @ b2) # dot product"
      ]
    },
    {
      "cell_type": "code",
      "source": [
        "l1 = [1,2,3]\n",
        "l2 = [4,5,6]\n",
        "print(l1 * l2)"
      ],
      "metadata": {
        "colab": {
          "base_uri": "https://localhost:8080/",
          "height": 176
        },
        "id": "lHl-oIFwi33E",
        "outputId": "b23a556f-8a57-4af5-fc63-f07257377fbf"
      },
      "execution_count": 2,
      "outputs": [
        {
          "output_type": "error",
          "ename": "TypeError",
          "evalue": "can't multiply sequence by non-int of type 'list'",
          "traceback": [
            "\u001b[0;31m---------------------------------------------------------------------------\u001b[0m",
            "\u001b[0;31mTypeError\u001b[0m                                 Traceback (most recent call last)",
            "\u001b[0;32m<ipython-input-2-48c8a7be3739>\u001b[0m in \u001b[0;36m<cell line: 0>\u001b[0;34m()\u001b[0m\n\u001b[1;32m      1\u001b[0m \u001b[0ml1\u001b[0m \u001b[0;34m=\u001b[0m \u001b[0;34m[\u001b[0m\u001b[0;36m1\u001b[0m\u001b[0;34m,\u001b[0m\u001b[0;36m2\u001b[0m\u001b[0;34m,\u001b[0m\u001b[0;36m3\u001b[0m\u001b[0;34m]\u001b[0m\u001b[0;34m\u001b[0m\u001b[0;34m\u001b[0m\u001b[0m\n\u001b[1;32m      2\u001b[0m \u001b[0ml2\u001b[0m \u001b[0;34m=\u001b[0m \u001b[0;34m[\u001b[0m\u001b[0;36m4\u001b[0m\u001b[0;34m,\u001b[0m\u001b[0;36m5\u001b[0m\u001b[0;34m,\u001b[0m\u001b[0;36m6\u001b[0m\u001b[0;34m]\u001b[0m\u001b[0;34m\u001b[0m\u001b[0;34m\u001b[0m\u001b[0m\n\u001b[0;32m----> 3\u001b[0;31m \u001b[0mprint\u001b[0m\u001b[0;34m(\u001b[0m\u001b[0ml1\u001b[0m \u001b[0;34m*\u001b[0m \u001b[0ml2\u001b[0m\u001b[0;34m)\u001b[0m\u001b[0;34m\u001b[0m\u001b[0;34m\u001b[0m\u001b[0m\n\u001b[0m",
            "\u001b[0;31mTypeError\u001b[0m: can't multiply sequence by non-int of type 'list'"
          ]
        }
      ]
    },
    {
      "cell_type": "markdown",
      "source": [
        "#Boolean indexing or Filtering or Masking"
      ],
      "metadata": {
        "id": "r3wxdY_qHFOE"
      }
    },
    {
      "cell_type": "code",
      "source": [
        "import numpy as np\n",
        "\n",
        "# Create a NumPy array\n",
        "arr = np.array([1, 2, 3, 4, 5, 6])\n",
        "\n",
        "# Apply a condition to create a boolean array\n",
        "condition = arr > 3\n",
        "\n",
        "print(condition)  # Output: [False False False  True  True  True]\n",
        "\n",
        "# Use the boolean array to index the original array\n",
        "filtered_arr = arr[condition]\n",
        "\n",
        "print(filtered_arr)  # Output: [4 5 6]\n"
      ],
      "metadata": {
        "id": "iiXrYrycjLP4"
      },
      "execution_count": null,
      "outputs": []
    },
    {
      "cell_type": "markdown",
      "source": [
        "# Shallow copy vs deep copy"
      ],
      "metadata": {
        "id": "Sarx90shI_h7"
      }
    },
    {
      "cell_type": "code",
      "source": [
        "\n",
        "import numpy as np\n",
        "\n",
        "# Create an original array\n",
        "original_array = np.array([1, 2, 3, 4, 5])\n",
        "\n",
        "# Create a shallow copy using the view() method\n",
        "shallow_copy = original_array.view()\n",
        "\n",
        "# Modify the shallow copy\n",
        "shallow_copy[0] = 99\n",
        "\n",
        "print(\"Original Array:\", original_array) # Output: [99  2  3  4  5]\n",
        "print(\"Shallow Copy:\", shallow_copy) # Output: [99  2  3  4  5]\n"
      ],
      "metadata": {
        "id": "DOgq39AuIWSU"
      },
      "execution_count": null,
      "outputs": []
    },
    {
      "cell_type": "code",
      "source": [
        "import numpy as np\n",
        "\n",
        "# Create an original array\n",
        "original_array = np.array([1, 2, 3, 4, 5])\n",
        "\n",
        "# Create a deep copy using the copy() method\n",
        "deep_copy = original_array.copy()\n",
        "\n",
        "# Modify the deep copy\n",
        "deep_copy[0] = 99\n",
        "\n",
        "print(\"Original Array:\", original_array)  # Output: [1 2 3 4 5]\n",
        "print(\"Deep Copy:\", deep_copy)            # Output: [99  2  3  4  5]"
      ],
      "metadata": {
        "id": "6k9kcwjuI-oc"
      },
      "execution_count": null,
      "outputs": []
    },
    {
      "cell_type": "markdown",
      "source": [
        "#Reshaping arrays"
      ],
      "metadata": {
        "id": "vAn00ee3J-O-"
      }
    },
    {
      "cell_type": "code",
      "source": [
        "import numpy as np\n",
        "array_2d = np.array([[1,2,3], [4,5,6]])\n",
        "print(array_2d)\n",
        "array_1d = array_2d.flatten()\n",
        "print(array_1d)\n",
        "array_2d_1 = array_2d.reshape((1,-1))\n",
        "print(array_2d_1)\n",
        "print(array_2d_1.ndim)\n",
        "array_3d_1 = array_2d.reshape((1,2,3))\n",
        "print(array_3d_1)\n",
        "print(array_3d_1.ndim)"
      ],
      "metadata": {
        "id": "DWWzNqB2JR96"
      },
      "execution_count": null,
      "outputs": []
    },
    {
      "cell_type": "markdown",
      "source": [
        "# Element-wise operations"
      ],
      "metadata": {
        "id": "hiEkRi6aRUW0"
      }
    },
    {
      "cell_type": "code",
      "source": [
        "import numpy as np\n",
        "# Create two NumPy arrays\n",
        "array1 = np.array([1, 2, 3, 4, 5])\n",
        "array2 = np.array([6, 7, 8, 9, 10])\n",
        "# Perform element-wise operations\n",
        "result_addition = array1 + array2\n",
        "print(result_addition)\n",
        "result_subtract = array1 - array2\n",
        "print(result_subtract)\n",
        "result_multiply = array1 * array2\n",
        "print(result_multiply)\n",
        "result_divide = array1 / array2\n",
        "print(result_divide)\n",
        "result_power = np.power(array1, 2)\n",
        "print(result_power)"
      ],
      "metadata": {
        "id": "99ors96dKMFZ"
      },
      "execution_count": null,
      "outputs": []
    },
    {
      "cell_type": "markdown",
      "source": [
        "# Variance"
      ],
      "metadata": {
        "id": "Pk6j_sN-hN60"
      }
    },
    {
      "cell_type": "code",
      "source": [
        "import numpy as np\n",
        "arr_1 = np.array([1,2,3,4])\n",
        "print(np.mean(arr_1))\n",
        "print(np.var(arr_1))\n",
        "\n",
        "arr_2 = np.array([[1,2],[3,4]])\n",
        "print(np.mean(arr_2, axis=0))\n",
        "print(np.var(arr_2, axis=0))"
      ],
      "metadata": {
        "id": "Khet0cwFRhNy",
        "colab": {
          "base_uri": "https://localhost:8080/"
        },
        "outputId": "580b47e1-3a48-4af5-a3b9-9c5243714403"
      },
      "execution_count": 15,
      "outputs": [
        {
          "output_type": "stream",
          "name": "stdout",
          "text": [
            "2.5\n",
            "1.25\n",
            "[2. 3.]\n",
            "[1. 1.]\n"
          ]
        }
      ]
    },
    {
      "cell_type": "code",
      "source": [
        "import numpy as np\n",
        "arr_1 = np.array([1,2,3,4])\n",
        "print(np.min(arr_1))\n",
        "print(np.max(arr_1))\n",
        "\n",
        "arr_2 = np.array([[1,2],[3,4]])\n",
        "print(np.min(arr_2))\n",
        "print(np.max(arr_2))"
      ],
      "metadata": {
        "colab": {
          "base_uri": "https://localhost:8080/"
        },
        "id": "HsuHTThLYLN7",
        "outputId": "d36bd217-fe4c-41d9-d253-c2c1c994cb8f"
      },
      "execution_count": 1,
      "outputs": [
        {
          "output_type": "stream",
          "name": "stdout",
          "text": [
            "1\n",
            "4\n",
            "1\n",
            "4\n"
          ]
        }
      ]
    },
    {
      "cell_type": "code",
      "source": [
        "import numpy as np\n",
        "arra1 = np.array([[1,2], [3,4]])\n",
        "arra2 = np.array([[5,6], [7,8]])\n",
        "print(arra1)\n",
        "print(arra1 + arra2)\n",
        "\n",
        "arra3 = np.array(['Sindhur', 'Borusu'])\n",
        "arra4 = np.array([1, 'Naga'])\n",
        "\n",
        "print(arra3 + arra4)\n",
        "\n",
        "print(np.concat((arra1, arra2)))\n",
        "print(np.concat((arra3, arra4)))\n",
        "\n",
        "print(np.concatenate((arra1, arra2), axis=1))\n",
        "print(np.concatenate((arra1, arra2), axis=0))\n",
        "print(np.concatenate((arra3, arra4)))\n",
        "\n",
        "\n",
        "array1 = np.array([1, 2, 3])\n",
        "array2 = np.array([4, 5, 6])\n",
        "concatenated_array = np.vstack((array1, array2))\n",
        "print(concatenated_array)\n",
        "\n",
        "concatenated_array = np.hstack((array1, array2))\n",
        "print(concatenated_array)"
      ],
      "metadata": {
        "colab": {
          "base_uri": "https://localhost:8080/"
        },
        "id": "jSIBFUNkY6gR",
        "outputId": "9a756b8c-7620-4996-9086-558bd82804f1"
      },
      "execution_count": 21,
      "outputs": [
        {
          "output_type": "stream",
          "name": "stdout",
          "text": [
            "[[1 2]\n",
            " [3 4]]\n",
            "[[ 6  8]\n",
            " [10 12]]\n",
            "['Sindhur1' 'BorusuNaga']\n",
            "[[1 2]\n",
            " [3 4]\n",
            " [5 6]\n",
            " [7 8]]\n",
            "['Sindhur' 'Borusu' '1' 'Naga']\n",
            "[[1 2 5 6]\n",
            " [3 4 7 8]]\n",
            "[[1 2]\n",
            " [3 4]\n",
            " [5 6]\n",
            " [7 8]]\n",
            "['Sindhur' 'Borusu' '1' 'Naga']\n",
            "[[1 2 3]\n",
            " [4 5 6]]\n",
            "[1 2 3 4 5 6]\n"
          ]
        }
      ]
    },
    {
      "cell_type": "code",
      "source": [
        "import numpy as np\n",
        "# Generate random numbers following a normal distribution\n",
        "mean = 0\n",
        "std_dev = 1\n",
        "size = 10\n",
        "random_numbers = np.random.normal(loc=mean, scale=std_dev, size=size)\n",
        "print(random_numbers)"
      ],
      "metadata": {
        "colab": {
          "base_uri": "https://localhost:8080/"
        },
        "id": "UusYgWCXZGx6",
        "outputId": "d56c8ae2-591d-4377-c501-ee18a3ca27e7"
      },
      "execution_count": 3,
      "outputs": [
        {
          "output_type": "stream",
          "name": "stdout",
          "text": [
            "[ 0.63103919 -0.37406638  0.55212464  1.22643533  0.27317755  0.33762816\n",
            "  0.87380709  1.38113285 -0.77012284 -0.00781944]\n"
          ]
        }
      ]
    },
    {
      "cell_type": "code",
      "source": [
        "\n",
        "import matplotlib.pyplot as plt\n",
        "\n",
        "data1 = np.random.normal(loc=0.0, scale=1.0, size=1000)\n",
        "data2 = np.random.normal(loc=5.0, scale=1.0, size=1000)\n",
        "data3 = np.random.normal(loc=0.0, scale=2.0, size=1000)\n",
        "\n",
        "plt.hist(data1, bins=30, alpha=0.5, label='loc=0.0, scale=1.0')\n",
        "plt.hist(data2, bins=30, alpha=0.5, label='loc=5.0, scale=1.0')\n",
        "plt.hist(data3, bins=30, alpha=0.5, label='loc=0.0, scale=2.0')\n",
        "plt.legend()\n",
        "plt.show()\n"
      ],
      "metadata": {
        "colab": {
          "base_uri": "https://localhost:8080/",
          "height": 430
        },
        "id": "L3fMj2GfeaCR",
        "outputId": "0208ce7e-3694-4647-e079-619d19473581"
      },
      "execution_count": 4,
      "outputs": [
        {
          "output_type": "display_data",
          "data": {
            "text/plain": [
              "<Figure size 640x480 with 1 Axes>"
            ],
            "image/png": "[encoded data removed]"
          },
          "metadata": {}
        }
      ]
    },
    {
      "cell_type": "code",
      "source": [
        "import numpy as np\n",
        "# Create a square matrix\n",
        "matrix = np.array([[1, 2],\n",
        "[3, 4]])\n",
        "# Compute the inverse of the matrix\n",
        "inverse_matrix = np.linalg.inv(matrix)\n",
        "print(inverse_matrix)"
      ],
      "metadata": {
        "colab": {
          "base_uri": "https://localhost:8080/"
        },
        "id": "mZbfSAC1hUSC",
        "outputId": "68b0ce74-a7d8-4a8e-b1c7-18957e65a678"
      },
      "execution_count": 6,
      "outputs": [
        {
          "output_type": "stream",
          "name": "stdout",
          "text": [
            "[[-2.   1. ]\n",
            " [ 1.5 -0.5]]\n"
          ]
        }
      ]
    },
    {
      "cell_type": "code",
      "source": [],
      "metadata": {
        "id": "NLLYdG1bh1ib"
      },
      "execution_count": null,
      "outputs": []
    }
  ]
}