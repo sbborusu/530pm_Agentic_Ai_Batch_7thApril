{
  "nbformat": 4,
  "nbformat_minor": 0,
  "metadata": {
    "colab": {
      "provenance": [],
      "authorship_tag": "ABX9TyNnjaKlT1OHbGVTSP5AjwfJ",
      "include_colab_link": true
    },
    "kernelspec": {
      "name": "python3",
      "display_name": "Python 3"
    },
    "language_info": {
      "name": "python"
    }
  },
  "cells": [
    {
      "cell_type": "markdown",
      "metadata": {
        "id": "view-in-github",
        "colab_type": "text"
      },
      "source": [
        "<a href=\"https://colab.research.google.com/github/sbborusu/530pm_Agentic_Ai_Batch_7thApril/blob/main/Hypothesis_Testing.ipynb\" target=\"_parent\"><img src=\"https://colab.research.google.com/assets/colab-badge.svg\" alt=\"Open In Colab\"/></a>"
      ]
    },
    {
      "cell_type": "code",
      "execution_count": null,
      "metadata": {
        "id": "cA0rl0uvCFgH"
      },
      "outputs": [],
      "source": [
        "import numpy as np\n",
        "import scipy.stats as stats\n",
        "\n",
        "np.random.seed(42) # Ensure random values generated in each run remain consistent.\n",
        "\n",
        "\n",
        "# Step 1: Define hypothesis\n",
        "# H0: New recipe is not better (mean rating <= old)\n",
        "# H1: New recipe is better (mean rating > old)\n",
        "\n",
        "\n",
        "# Step 2: Create sample data\n",
        "# Ratings from 30 customers for old and new cookie recipes\n",
        "# Old recipe: mean ~7.2\n",
        "# New recipe: mean ~7.8\n",
        "\n",
        "old_ratings = np.random.normal(loc=7.2, scale=0.5, size=30) # Generate 30 random numbers from a normal distribution whose mean is 7.2 and standard deviation is 0.5\n",
        "new_ratings = np.random.normal(loc=7.8, scale=0.5, size=30) # Generate 30 random numbers from a normal distribution whose mean is 7.2 and standard deviation is 0.5\n",
        "\n",
        "# Step 3: Set significance level\n",
        "alpha = 0.05\n",
        "\n",
        "\n",
        "\n",
        "\n",
        "\n"
      ]
    },
    {
      "cell_type": "code",
      "source": [],
      "metadata": {
        "id": "0JhXeKmuCp-K"
      },
      "execution_count": null,
      "outputs": []
    }
  ]
}