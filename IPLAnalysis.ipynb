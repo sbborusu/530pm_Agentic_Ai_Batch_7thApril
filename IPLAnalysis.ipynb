{
  "nbformat": 4,
  "nbformat_minor": 0,
  "metadata": {
    "colab": {
      "provenance": [],
      "authorship_tag": "ABX9TyPyW8PfctruZDRhXdGfGBVB",
      "include_colab_link": true
    },
    "kernelspec": {
      "name": "python3",
      "display_name": "Python 3"
    },
    "language_info": {
      "name": "python"
    }
  },
  "cells": [
    {
      "cell_type": "markdown",
      "metadata": {
        "id": "view-in-github",
        "colab_type": "text"
      },
      "source": [
        "<a href=\"https://colab.research.google.com/github/sbborusu/530pm_Agentic_Ai_Batch_7thApril/blob/main/IPLAnalysis.ipynb\" target=\"_parent\"><img src=\"https://colab.research.google.com/assets/colab-badge.svg\" alt=\"Open In Colab\"/></a>"
      ]
    },
    {
      "cell_type": "code",
      "execution_count": 1,
      "metadata": {
        "id": "grNn20bIFpNo"
      },
      "outputs": [],
      "source": [
        "#Import numpy\n",
        "import numpy as np\n",
        "\n",
        "#Seasons\n",
        "Seasons = [\"2015\",\"2016\",\"2017\",\"2018\",\"2019\",\"2020\",\"2021\",\"2022\",\"2023\",\"2024\"]\n",
        "Sdict = {\"2015\":0,\"2016\":1,\"2017\":2,\"2018\":3,\"2019\":4,\"2020\":5,\"2021\":6,\"2022\":7,\"2023\":8,\"2024\":9}\n",
        "\n",
        "#Players\n",
        "Players = [\"Sachin\",\"Rahul\",\"Smith\",\"Sami\",\"Pollard\",\"Morris\",\"Samson\",\"Dhoni\",\"Kohli\",\"Sky\"]\n",
        "Pdict = {\"Sachin\":0,\"Rahul\":1,\"Smith\":2,\"Sami\":3,\"Pollard\":4,\"Morris\":5,\"Samson\":6,\"Dhoni\":7,\"Kohli\":8,\"Sky\":9}\n",
        "\n",
        "#Salaries\n",
        "Sachin_Salary = [15946875,17718750,19490625,21262500,23034375,24806250,25244493,27849149,30453805,23500000]\n",
        "Rahul_Salary = [12000000,12744189,13488377,14232567,14976754,16324500,18038573,19752645,21466718,23180790]\n",
        "Smith_Salary = [4621800,5828090,13041250,14410581,15779912,14500000,16022500,17545000,19067500,20644400]\n",
        "Sami_Salary = [3713640,4694041,13041250,14410581,15779912,17149243,18518574,19450000,22407474,22458000]\n",
        "Pollard_Salary = [4493160,4806720,6061274,13758000,15202590,16647180,18091770,19536360,20513178,21436271]\n",
        "Morris_Salary = [3348000,4235220,12455000,14410581,15779912,14500000,16022500,17545000,19067500,20644400]\n",
        "Samson_Salary = [3144240,3380160,3615960,4574189,13520500,14940153,16359805,17779458,18668431,20068563]\n",
        "Dhoni_Salary = [0,0,4171200,4484040,4796880,6053663,15506632,16669630,17832627,18995624]\n",
        "Kohli_Salary = [0,0,0,4822800,5184480,5546160,6993708,16402500,17632688,18862875]\n",
        "Sky_Salary = [3031920,3841443,13041250,14410581,15779912,14200000,15691000,17182000,18673000,15000000]\n",
        "#Matrix\n",
        "Salary = np.array([Sachin_Salary, Rahul_Salary, Smith_Salary, Sami_Salary, Pollard_Salary, Morris_Salary, Samson_Salary, Dhoni_Salary, Kohli_Salary, Sky_Salary])\n",
        "\n",
        "#Games\n",
        "Sachin_G = [80,77,82,82,73,82,58,78,6,35]\n",
        "Rahul_G = [82,57,82,79,76,72,60,72,79,80]\n",
        "Smith_G = [79,78,75,81,76,79,62,76,77,69]\n",
        "Sami_G = [80,65,77,66,69,77,55,67,77,40]\n",
        "Pollard_G = [82,82,82,79,82,78,54,76,71,41]\n",
        "Morris_G = [70,69,67,77,70,77,57,74,79,44]\n",
        "Samson_G = [78,64,80,78,45,80,60,70,62,82]\n",
        "Dhoni_G = [35,35,80,74,82,78,66,81,81,27]\n",
        "Kohli_G = [40,40,40,81,78,81,39,0,10,51]\n",
        "Sky_G = [75,51,51,79,77,76,49,69,54,62]\n",
        "#Matrix\n",
        "Games = np.array([Sachin_G, Rahul_G, Smith_G, Sami_G, Pollard_G, Morris_G, Samson_G, Dhoni_G, Kohli_G, Sky_G])\n",
        "\n",
        "#Points\n",
        "Sachin_PTS = [2832,2430,2323,2201,1970,2078,1616,2133,83,782]\n",
        "Rahul_PTS = [1653,1426,1779,1688,1619,1312,1129,1170,1245,1154]\n",
        "Smith_PTS = [2478,2132,2250,2304,2258,2111,1683,2036,2089,1743]\n",
        "Sami_PTS = [2122,1881,1978,1504,1943,1970,1245,1920,2112,966]\n",
        "Pollard_PTS = [1292,1443,1695,1624,1503,1784,1113,1296,1297,646]\n",
        "Morris_PTS = [1572,1561,1496,1746,1678,1438,1025,1232,1281,928]\n",
        "Samson_PTS = [1258,1104,1684,1781,841,1268,1189,1186,1185,1564]\n",
        "Dhoni_PTS = [903,903,1624,1871,2472,2161,1850,2280,2593,686]\n",
        "Kohli_PTS = [597,597,597,1361,1619,2026,852,0,159,904]\n",
        "Sky_PTS = [2040,1397,1254,2386,2045,1941,1082,1463,1028,1331]\n",
        "#Matrix\n",
        "Points = np.array([Sachin_PTS, Rahul_PTS, Smith_PTS, Sami_PTS, Pollard_PTS, Morris_PTS, Samson_PTS, Dhoni_PTS, Kohli_PTS, Sky_PTS])"
      ]
    },
    {
      "cell_type": "code",
      "source": [
        "Salary"
      ],
      "metadata": {
        "colab": {
          "base_uri": "https://localhost:8080/"
        },
        "id": "ribfbbpGFzwg",
        "outputId": "3998d65a-e91e-40c9-e8c6-0da4374243fb"
      },
      "execution_count": 3,
      "outputs": [
        {
          "output_type": "execute_result",
          "data": {
            "text/plain": [
              "array([[15946875, 17718750, 19490625, 21262500, 23034375, 24806250,\n",
              "        25244493, 27849149, 30453805, 23500000],\n",
              "       [12000000, 12744189, 13488377, 14232567, 14976754, 16324500,\n",
              "        18038573, 19752645, 21466718, 23180790],\n",
              "       [ 4621800,  5828090, 13041250, 14410581, 15779912, 14500000,\n",
              "        16022500, 17545000, 19067500, 20644400],\n",
              "       [ 3713640,  4694041, 13041250, 14410581, 15779912, 17149243,\n",
              "        18518574, 19450000, 22407474, 22458000],\n",
              "       [ 4493160,  4806720,  6061274, 13758000, 15202590, 16647180,\n",
              "        18091770, 19536360, 20513178, 21436271],\n",
              "       [ 3348000,  4235220, 12455000, 14410581, 15779912, 14500000,\n",
              "        16022500, 17545000, 19067500, 20644400],\n",
              "       [ 3144240,  3380160,  3615960,  4574189, 13520500, 14940153,\n",
              "        16359805, 17779458, 18668431, 20068563],\n",
              "       [       0,        0,  4171200,  4484040,  4796880,  6053663,\n",
              "        15506632, 16669630, 17832627, 18995624],\n",
              "       [       0,        0,        0,  4822800,  5184480,  5546160,\n",
              "         6993708, 16402500, 17632688, 18862875],\n",
              "       [ 3031920,  3841443, 13041250, 14410581, 15779912, 14200000,\n",
              "        15691000, 17182000, 18673000, 15000000]])"
            ]
          },
          "metadata": {},
          "execution_count": 3
        }
      ]
    },
    {
      "cell_type": "code",
      "source": [
        "Games"
      ],
      "metadata": {
        "colab": {
          "base_uri": "https://localhost:8080/"
        },
        "id": "Zs9JcOONF36z",
        "outputId": "736549f3-20a3-4b01-8d0b-0cca6ef99cad"
      },
      "execution_count": 4,
      "outputs": [
        {
          "output_type": "execute_result",
          "data": {
            "text/plain": [
              "array([[80, 77, 82, 82, 73, 82, 58, 78,  6, 35],\n",
              "       [82, 57, 82, 79, 76, 72, 60, 72, 79, 80],\n",
              "       [79, 78, 75, 81, 76, 79, 62, 76, 77, 69],\n",
              "       [80, 65, 77, 66, 69, 77, 55, 67, 77, 40],\n",
              "       [82, 82, 82, 79, 82, 78, 54, 76, 71, 41],\n",
              "       [70, 69, 67, 77, 70, 77, 57, 74, 79, 44],\n",
              "       [78, 64, 80, 78, 45, 80, 60, 70, 62, 82],\n",
              "       [35, 35, 80, 74, 82, 78, 66, 81, 81, 27],\n",
              "       [40, 40, 40, 81, 78, 81, 39,  0, 10, 51],\n",
              "       [75, 51, 51, 79, 77, 76, 49, 69, 54, 62]])"
            ]
          },
          "metadata": {},
          "execution_count": 4
        }
      ]
    },
    {
      "cell_type": "code",
      "source": [
        "Points"
      ],
      "metadata": {
        "colab": {
          "base_uri": "https://localhost:8080/"
        },
        "id": "GzO3GJSEGD5d",
        "outputId": "865774f0-5529-4df9-d850-80c67898add9"
      },
      "execution_count": 5,
      "outputs": [
        {
          "output_type": "execute_result",
          "data": {
            "text/plain": [
              "array([[2832, 2430, 2323, 2201, 1970, 2078, 1616, 2133,   83,  782],\n",
              "       [1653, 1426, 1779, 1688, 1619, 1312, 1129, 1170, 1245, 1154],\n",
              "       [2478, 2132, 2250, 2304, 2258, 2111, 1683, 2036, 2089, 1743],\n",
              "       [2122, 1881, 1978, 1504, 1943, 1970, 1245, 1920, 2112,  966],\n",
              "       [1292, 1443, 1695, 1624, 1503, 1784, 1113, 1296, 1297,  646],\n",
              "       [1572, 1561, 1496, 1746, 1678, 1438, 1025, 1232, 1281,  928],\n",
              "       [1258, 1104, 1684, 1781,  841, 1268, 1189, 1186, 1185, 1564],\n",
              "       [ 903,  903, 1624, 1871, 2472, 2161, 1850, 2280, 2593,  686],\n",
              "       [ 597,  597,  597, 1361, 1619, 2026,  852,    0,  159,  904],\n",
              "       [2040, 1397, 1254, 2386, 2045, 1941, 1082, 1463, 1028, 1331]])"
            ]
          },
          "metadata": {},
          "execution_count": 5
        }
      ]
    },
    {
      "cell_type": "code",
      "source": [
        "Games[5]"
      ],
      "metadata": {
        "colab": {
          "base_uri": "https://localhost:8080/"
        },
        "id": "f_dSnG6lGE8C",
        "outputId": "5fb9e010-9a3a-4599-d8ac-9e7abd2c7cd8"
      },
      "execution_count": 6,
      "outputs": [
        {
          "output_type": "execute_result",
          "data": {
            "text/plain": [
              "array([70, 69, 67, 77, 70, 77, 57, 74, 79, 44])"
            ]
          },
          "metadata": {},
          "execution_count": 6
        }
      ]
    },
    {
      "cell_type": "code",
      "source": [
        "Games[0:5]"
      ],
      "metadata": {
        "colab": {
          "base_uri": "https://localhost:8080/"
        },
        "id": "mvWRYv7ZGJqJ",
        "outputId": "c668b521-6f39-4c4a-d812-6c7e6c30499f"
      },
      "execution_count": 7,
      "outputs": [
        {
          "output_type": "execute_result",
          "data": {
            "text/plain": [
              "array([[80, 77, 82, 82, 73, 82, 58, 78,  6, 35],\n",
              "       [82, 57, 82, 79, 76, 72, 60, 72, 79, 80],\n",
              "       [79, 78, 75, 81, 76, 79, 62, 76, 77, 69],\n",
              "       [80, 65, 77, 66, 69, 77, 55, 67, 77, 40],\n",
              "       [82, 82, 82, 79, 82, 78, 54, 76, 71, 41]])"
            ]
          },
          "metadata": {},
          "execution_count": 7
        }
      ]
    },
    {
      "cell_type": "code",
      "source": [
        "Salary"
      ],
      "metadata": {
        "colab": {
          "base_uri": "https://localhost:8080/"
        },
        "id": "FpEKTgQ-GRnJ",
        "outputId": "23307469-0851-46f4-dcd5-a1325e19e0c2"
      },
      "execution_count": 8,
      "outputs": [
        {
          "output_type": "execute_result",
          "data": {
            "text/plain": [
              "array([[15946875, 17718750, 19490625, 21262500, 23034375, 24806250,\n",
              "        25244493, 27849149, 30453805, 23500000],\n",
              "       [12000000, 12744189, 13488377, 14232567, 14976754, 16324500,\n",
              "        18038573, 19752645, 21466718, 23180790],\n",
              "       [ 4621800,  5828090, 13041250, 14410581, 15779912, 14500000,\n",
              "        16022500, 17545000, 19067500, 20644400],\n",
              "       [ 3713640,  4694041, 13041250, 14410581, 15779912, 17149243,\n",
              "        18518574, 19450000, 22407474, 22458000],\n",
              "       [ 4493160,  4806720,  6061274, 13758000, 15202590, 16647180,\n",
              "        18091770, 19536360, 20513178, 21436271],\n",
              "       [ 3348000,  4235220, 12455000, 14410581, 15779912, 14500000,\n",
              "        16022500, 17545000, 19067500, 20644400],\n",
              "       [ 3144240,  3380160,  3615960,  4574189, 13520500, 14940153,\n",
              "        16359805, 17779458, 18668431, 20068563],\n",
              "       [       0,        0,  4171200,  4484040,  4796880,  6053663,\n",
              "        15506632, 16669630, 17832627, 18995624],\n",
              "       [       0,        0,        0,  4822800,  5184480,  5546160,\n",
              "         6993708, 16402500, 17632688, 18862875],\n",
              "       [ 3031920,  3841443, 13041250, 14410581, 15779912, 14200000,\n",
              "        15691000, 17182000, 18673000, 15000000]])"
            ]
          },
          "metadata": {},
          "execution_count": 8
        }
      ]
    },
    {
      "cell_type": "code",
      "source": [
        "Salary/Games"
      ],
      "metadata": {
        "colab": {
          "base_uri": "https://localhost:8080/"
        },
        "id": "A-8vv9XoGeWq",
        "outputId": "0dd452d1-c5e9-4a24-cb1f-79a86590e19a"
      },
      "execution_count": 9,
      "outputs": [
        {
          "output_type": "stream",
          "name": "stderr",
          "text": [
            "<ipython-input-9-f32b113131f8>:1: RuntimeWarning: divide by zero encountered in divide\n",
            "  Salary/Games\n"
          ]
        },
        {
          "output_type": "execute_result",
          "data": {
            "text/plain": [
              "array([[ 199335.9375    ,  230113.63636364,  237690.54878049,\n",
              "         259298.7804878 ,  315539.38356164,  302515.24390244,\n",
              "         435249.87931034,  357040.37179487, 5075634.16666667,\n",
              "         671428.57142857],\n",
              "       [ 146341.46341463,  223582.26315789,  164492.40243902,\n",
              "         180159.07594937,  197062.55263158,  226729.16666667,\n",
              "         300642.88333333,  274342.29166667,  271730.60759494,\n",
              "         289759.875     ],\n",
              "       [  58503.79746835,   74719.1025641 ,  173883.33333333,\n",
              "         177908.40740741,  207630.42105263,  183544.30379747,\n",
              "         258427.41935484,  230855.26315789,  247629.87012987,\n",
              "         299194.20289855],\n",
              "       [  46420.5       ,   72216.01538462,  169366.88311688,\n",
              "         218342.13636364,  228694.37681159,  222717.44155844,\n",
              "         336701.34545455,  290298.50746269,  291006.15584416,\n",
              "         561450.        ],\n",
              "       [  54794.63414634,   58618.53658537,   73917.97560976,\n",
              "         174151.89873418,  185397.43902439,  213425.38461538,\n",
              "         335032.77777778,  257057.36842105,  288918.        ,\n",
              "         522835.87804878],\n",
              "       [  47828.57142857,   61380.        ,  185895.52238806,\n",
              "         187150.4025974 ,  225427.31428571,  188311.68831169,\n",
              "         281096.49122807,  237094.59459459,  241360.75949367,\n",
              "         469190.90909091],\n",
              "       [  40310.76923077,   52815.        ,   45199.5       ,\n",
              "          58643.44871795,  300455.55555556,  186751.9125    ,\n",
              "         272663.41666667,  253992.25714286,  301103.72580645,\n",
              "         244738.57317073],\n",
              "       [      0.        ,       0.        ,   52140.        ,\n",
              "          60595.13513514,   58498.53658537,   77611.06410256,\n",
              "         234948.96969697,  205797.90123457,  220155.88888889,\n",
              "         703541.62962963],\n",
              "       [      0.        ,       0.        ,       0.        ,\n",
              "          59540.74074074,   66467.69230769,   68471.11111111,\n",
              "         179325.84615385,              inf, 1763268.8       ,\n",
              "         369860.29411765],\n",
              "       [  40425.6       ,   75322.41176471,  255710.78431373,\n",
              "         182412.41772152,  204933.92207792,  186842.10526316,\n",
              "         320224.48979592,  249014.49275362,  345796.2962963 ,\n",
              "         241935.48387097]])"
            ]
          },
          "metadata": {},
          "execution_count": 9
        }
      ]
    },
    {
      "cell_type": "code",
      "source": [
        "Salary//Games"
      ],
      "metadata": {
        "colab": {
          "base_uri": "https://localhost:8080/"
        },
        "id": "GybO0kmfGrWi",
        "outputId": "fe1a3263-9335-4e4e-e4d8-dc5c66d5a2fd"
      },
      "execution_count": 10,
      "outputs": [
        {
          "output_type": "stream",
          "name": "stderr",
          "text": [
            "<ipython-input-10-749069b824af>:1: RuntimeWarning: divide by zero encountered in floor_divide\n",
            "  Salary//Games\n"
          ]
        },
        {
          "output_type": "execute_result",
          "data": {
            "text/plain": [
              "array([[ 199335,  230113,  237690,  259298,  315539,  302515,  435249,\n",
              "         357040, 5075634,  671428],\n",
              "       [ 146341,  223582,  164492,  180159,  197062,  226729,  300642,\n",
              "         274342,  271730,  289759],\n",
              "       [  58503,   74719,  173883,  177908,  207630,  183544,  258427,\n",
              "         230855,  247629,  299194],\n",
              "       [  46420,   72216,  169366,  218342,  228694,  222717,  336701,\n",
              "         290298,  291006,  561450],\n",
              "       [  54794,   58618,   73917,  174151,  185397,  213425,  335032,\n",
              "         257057,  288918,  522835],\n",
              "       [  47828,   61380,  185895,  187150,  225427,  188311,  281096,\n",
              "         237094,  241360,  469190],\n",
              "       [  40310,   52815,   45199,   58643,  300455,  186751,  272663,\n",
              "         253992,  301103,  244738],\n",
              "       [      0,       0,   52140,   60595,   58498,   77611,  234948,\n",
              "         205797,  220155,  703541],\n",
              "       [      0,       0,       0,   59540,   66467,   68471,  179325,\n",
              "              0, 1763268,  369860],\n",
              "       [  40425,   75322,  255710,  182412,  204933,  186842,  320224,\n",
              "         249014,  345796,  241935]])"
            ]
          },
          "metadata": {},
          "execution_count": 10
        }
      ]
    },
    {
      "cell_type": "code",
      "source": [
        "np.round(Salary/Games)"
      ],
      "metadata": {
        "colab": {
          "base_uri": "https://localhost:8080/"
        },
        "id": "UTVs3wjfG5jF",
        "outputId": "d0c69746-8982-4ba1-c2e2-f6abe807b288"
      },
      "execution_count": 11,
      "outputs": [
        {
          "output_type": "stream",
          "name": "stderr",
          "text": [
            "<ipython-input-11-c0cc7840a886>:1: RuntimeWarning: divide by zero encountered in divide\n",
            "  np.round(Salary/Games)\n"
          ]
        },
        {
          "output_type": "execute_result",
          "data": {
            "text/plain": [
              "array([[ 199336.,  230114.,  237691.,  259299.,  315539.,  302515.,\n",
              "         435250.,  357040., 5075634.,  671429.],\n",
              "       [ 146341.,  223582.,  164492.,  180159.,  197063.,  226729.,\n",
              "         300643.,  274342.,  271731.,  289760.],\n",
              "       [  58504.,   74719.,  173883.,  177908.,  207630.,  183544.,\n",
              "         258427.,  230855.,  247630.,  299194.],\n",
              "       [  46420.,   72216.,  169367.,  218342.,  228694.,  222717.,\n",
              "         336701.,  290299.,  291006.,  561450.],\n",
              "       [  54795.,   58619.,   73918.,  174152.,  185397.,  213425.,\n",
              "         335033.,  257057.,  288918.,  522836.],\n",
              "       [  47829.,   61380.,  185896.,  187150.,  225427.,  188312.,\n",
              "         281096.,  237095.,  241361.,  469191.],\n",
              "       [  40311.,   52815.,   45200.,   58643.,  300456.,  186752.,\n",
              "         272663.,  253992.,  301104.,  244739.],\n",
              "       [      0.,       0.,   52140.,   60595.,   58499.,   77611.,\n",
              "         234949.,  205798.,  220156.,  703542.],\n",
              "       [      0.,       0.,       0.,   59541.,   66468.,   68471.,\n",
              "         179326.,      inf, 1763269.,  369860.],\n",
              "       [  40426.,   75322.,  255711.,  182412.,  204934.,  186842.,\n",
              "         320224.,  249014.,  345796.,  241935.]])"
            ]
          },
          "metadata": {},
          "execution_count": 11
        }
      ]
    },
    {
      "cell_type": "code",
      "source": [
        "import warnings\n",
        "warnings.filterwarnings('ignore')"
      ],
      "metadata": {
        "id": "Kif9Et1ZG-TC"
      },
      "execution_count": 12,
      "outputs": []
    },
    {
      "cell_type": "code",
      "source": [
        "import matplotlib.pyplot as plt"
      ],
      "metadata": {
        "id": "U5adDvkeHSBd"
      },
      "execution_count": 14,
      "outputs": []
    },
    {
      "cell_type": "code",
      "source": [
        "np.round(Salary/Games)"
      ],
      "metadata": {
        "colab": {
          "base_uri": "https://localhost:8080/"
        },
        "id": "gG7MCOYkHygF",
        "outputId": "99e6dc20-9967-4a5c-bb4b-2e7536fbd91f"
      },
      "execution_count": 15,
      "outputs": [
        {
          "output_type": "execute_result",
          "data": {
            "text/plain": [
              "array([[ 199336.,  230114.,  237691.,  259299.,  315539.,  302515.,\n",
              "         435250.,  357040., 5075634.,  671429.],\n",
              "       [ 146341.,  223582.,  164492.,  180159.,  197063.,  226729.,\n",
              "         300643.,  274342.,  271731.,  289760.],\n",
              "       [  58504.,   74719.,  173883.,  177908.,  207630.,  183544.,\n",
              "         258427.,  230855.,  247630.,  299194.],\n",
              "       [  46420.,   72216.,  169367.,  218342.,  228694.,  222717.,\n",
              "         336701.,  290299.,  291006.,  561450.],\n",
              "       [  54795.,   58619.,   73918.,  174152.,  185397.,  213425.,\n",
              "         335033.,  257057.,  288918.,  522836.],\n",
              "       [  47829.,   61380.,  185896.,  187150.,  225427.,  188312.,\n",
              "         281096.,  237095.,  241361.,  469191.],\n",
              "       [  40311.,   52815.,   45200.,   58643.,  300456.,  186752.,\n",
              "         272663.,  253992.,  301104.,  244739.],\n",
              "       [      0.,       0.,   52140.,   60595.,   58499.,   77611.,\n",
              "         234949.,  205798.,  220156.,  703542.],\n",
              "       [      0.,       0.,       0.,   59541.,   66468.,   68471.,\n",
              "         179326.,      inf, 1763269.,  369860.],\n",
              "       [  40426.,   75322.,  255711.,  182412.,  204934.,  186842.,\n",
              "         320224.,  249014.,  345796.,  241935.]])"
            ]
          },
          "metadata": {},
          "execution_count": 15
        }
      ]
    },
    {
      "cell_type": "code",
      "source": [
        "Salary"
      ],
      "metadata": {
        "colab": {
          "base_uri": "https://localhost:8080/"
        },
        "id": "NOSE02VVH5AK",
        "outputId": "11cae332-2510-432f-ddc7-c57cfab77798"
      },
      "execution_count": 16,
      "outputs": [
        {
          "output_type": "execute_result",
          "data": {
            "text/plain": [
              "array([[15946875, 17718750, 19490625, 21262500, 23034375, 24806250,\n",
              "        25244493, 27849149, 30453805, 23500000],\n",
              "       [12000000, 12744189, 13488377, 14232567, 14976754, 16324500,\n",
              "        18038573, 19752645, 21466718, 23180790],\n",
              "       [ 4621800,  5828090, 13041250, 14410581, 15779912, 14500000,\n",
              "        16022500, 17545000, 19067500, 20644400],\n",
              "       [ 3713640,  4694041, 13041250, 14410581, 15779912, 17149243,\n",
              "        18518574, 19450000, 22407474, 22458000],\n",
              "       [ 4493160,  4806720,  6061274, 13758000, 15202590, 16647180,\n",
              "        18091770, 19536360, 20513178, 21436271],\n",
              "       [ 3348000,  4235220, 12455000, 14410581, 15779912, 14500000,\n",
              "        16022500, 17545000, 19067500, 20644400],\n",
              "       [ 3144240,  3380160,  3615960,  4574189, 13520500, 14940153,\n",
              "        16359805, 17779458, 18668431, 20068563],\n",
              "       [       0,        0,  4171200,  4484040,  4796880,  6053663,\n",
              "        15506632, 16669630, 17832627, 18995624],\n",
              "       [       0,        0,        0,  4822800,  5184480,  5546160,\n",
              "         6993708, 16402500, 17632688, 18862875],\n",
              "       [ 3031920,  3841443, 13041250, 14410581, 15779912, 14200000,\n",
              "        15691000, 17182000, 18673000, 15000000]])"
            ]
          },
          "metadata": {},
          "execution_count": 16
        }
      ]
    },
    {
      "cell_type": "code",
      "source": [
        "Salary[0]"
      ],
      "metadata": {
        "colab": {
          "base_uri": "https://localhost:8080/"
        },
        "id": "Epm9F3V2INfb",
        "outputId": "63f6c4c5-1955-450b-c3a7-8a59a29631ab"
      },
      "execution_count": 18,
      "outputs": [
        {
          "output_type": "execute_result",
          "data": {
            "text/plain": [
              "array([15946875, 17718750, 19490625, 21262500, 23034375, 24806250,\n",
              "       25244493, 27849149, 30453805, 23500000])"
            ]
          },
          "metadata": {},
          "execution_count": 18
        }
      ]
    },
    {
      "cell_type": "code",
      "source": [
        "plt.plot(Salary[0])\n",
        "plt.show"
      ],
      "metadata": {
        "colab": {
          "base_uri": "https://localhost:8080/",
          "height": 614
        },
        "id": "Sz1QgsXvH9QH",
        "outputId": "dad82c08-66be-4c16-ba74-d5ed4c232ef9"
      },
      "execution_count": 17,
      "outputs": [
        {
          "output_type": "execute_result",
          "data": {
            "text/plain": [
              "<function matplotlib.pyplot.show(close=None, block=None)>"
            ],
            "text/html": [
              "<div style=\"max-width:800px; border: 1px solid var(--colab-border-color);\"><style>\n",
              "      pre.function-repr-contents {\n",
              "        overflow-x: auto;\n",
              "        padding: 8px 12px;\n",
              "        max-height: 500px;\n",
              "      }\n",
              "\n",
              "      pre.function-repr-contents.function-repr-contents-collapsed {\n",
              "        cursor: pointer;\n",
              "        max-height: 100px;\n",
              "      }\n",
              "    </style>\n",
              "    <pre style=\"white-space: initial; background:\n",
              "         var(--colab-secondary-surface-color); padding: 8px 12px;\n",
              "         border-bottom: 1px solid var(--colab-border-color);\"><b>matplotlib.pyplot.show</b><br/>def show(*args, **kwargs) -&gt; None</pre><pre class=\"function-repr-contents function-repr-contents-collapsed\" style=\"\"><a class=\"filepath\" style=\"display:none\" href=\"#\">/usr/local/lib/python3.11/dist-packages/matplotlib/pyplot.py</a>Display all open figures.\n",
              "\n",
              "Parameters\n",
              "----------\n",
              "block : bool, optional\n",
              "    Whether to wait for all figures to be closed before returning.\n",
              "\n",
              "    If `True` block and run the GUI main loop until all figure windows\n",
              "    are closed.\n",
              "\n",
              "    If `False` ensure that all figure windows are displayed and return\n",
              "    immediately.  In this case, you are responsible for ensuring\n",
              "    that the event loop is running to have responsive figures.\n",
              "\n",
              "    Defaults to True in non-interactive mode and to False in interactive\n",
              "    mode (see `.pyplot.isinteractive`).\n",
              "\n",
              "See Also\n",
              "--------\n",
              "ion : Enable interactive mode, which shows / updates the figure after\n",
              "      every plotting command, so that calling ``show()`` is not necessary.\n",
              "ioff : Disable interactive mode.\n",
              "savefig : Save the figure to an image file instead of showing it on screen.\n",
              "\n",
              "Notes\n",
              "-----\n",
              "**Saving figures to file and showing a window at the same time**\n",
              "\n",
              "If you want an image file as well as a user interface window, use\n",
              "`.pyplot.savefig` before `.pyplot.show`. At the end of (a blocking)\n",
              "``show()`` the figure is closed and thus unregistered from pyplot. Calling\n",
              "`.pyplot.savefig` afterwards would save a new and thus empty figure. This\n",
              "limitation of command order does not apply if the show is non-blocking or\n",
              "if you keep a reference to the figure and use `.Figure.savefig`.\n",
              "\n",
              "**Auto-show in jupyter notebooks**\n",
              "\n",
              "The jupyter backends (activated via ``%matplotlib inline``,\n",
              "``%matplotlib notebook``, or ``%matplotlib widget``), call ``show()`` at\n",
              "the end of every cell by default. Thus, you usually don&#x27;t have to call it\n",
              "explicitly there.</pre>\n",
              "      <script>\n",
              "      if (google.colab.kernel.accessAllowed && google.colab.files && google.colab.files.view) {\n",
              "        for (const element of document.querySelectorAll('.filepath')) {\n",
              "          element.style.display = 'block'\n",
              "          element.onclick = (event) => {\n",
              "            event.preventDefault();\n",
              "            event.stopPropagation();\n",
              "            google.colab.files.view(element.textContent, 569);\n",
              "          };\n",
              "        }\n",
              "      }\n",
              "      for (const element of document.querySelectorAll('.function-repr-contents')) {\n",
              "        element.onclick = (event) => {\n",
              "          event.preventDefault();\n",
              "          event.stopPropagation();\n",
              "          element.classList.toggle('function-repr-contents-collapsed');\n",
              "        };\n",
              "      }\n",
              "      </script>\n",
              "      </div>"
            ]
          },
          "metadata": {},
          "execution_count": 17
        },
        {
          "output_type": "display_data",
          "data": {
            "text/plain": [
              "<Figure size 640x480 with 1 Axes>"
            ],
            "image/png": "[encoded data removed]"
          },
          "metadata": {}
        }
      ]
    },
    {
      "cell_type": "code",
      "source": [],
      "metadata": {
        "id": "At95s_WkIFdM"
      },
      "execution_count": null,
      "outputs": []
    }
  ]
}