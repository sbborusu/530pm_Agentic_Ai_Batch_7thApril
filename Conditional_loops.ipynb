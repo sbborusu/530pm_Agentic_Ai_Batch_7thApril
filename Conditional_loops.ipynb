{
  "nbformat": 4,
  "nbformat_minor": 0,
  "metadata": {
    "colab": {
      "provenance": [],
      "authorship_tag": "ABX9TyPfZSNdl+rmYOP+m/AmgEVj",
      "include_colab_link": true
    },
    "kernelspec": {
      "name": "python3",
      "display_name": "Python 3"
    },
    "language_info": {
      "name": "python"
    }
  },
  "cells": [
    {
      "cell_type": "markdown",
      "metadata": {
        "id": "view-in-github",
        "colab_type": "text"
      },
      "source": [
        "<a href=\"https://colab.research.google.com/github/sbborusu/530pm_Agentic_Ai_Batch_7thApril/blob/main/Conditional_loops.ipynb\" target=\"_parent\"><img src=\"https://colab.research.google.com/assets/colab-badge.svg\" alt=\"Open In Colab\"/></a>"
      ]
    },
    {
      "cell_type": "code",
      "execution_count": 2,
      "metadata": {
        "colab": {
          "base_uri": "https://localhost:8080/"
        },
        "id": "-qNiIE8u4pbc",
        "outputId": "1254da1f-a83d-4bcd-feaf-519466c522ae"
      },
      "outputs": [
        {
          "output_type": "stream",
          "name": "stdout",
          "text": [
            "Data Science\n"
          ]
        }
      ],
      "source": [
        "if True:\n",
        "  print('Data Science')"
      ]
    },
    {
      "cell_type": "code",
      "source": [
        "if False:\n",
        "  print('Data Science')\n",
        "print('bye for now')"
      ],
      "metadata": {
        "colab": {
          "base_uri": "https://localhost:8080/"
        },
        "id": "UMLU1B0e6GFo",
        "outputId": "7e0c7b4b-8f68-4212-ca40-bf99a158e5a6"
      },
      "execution_count": 3,
      "outputs": [
        {
          "output_type": "stream",
          "name": "stdout",
          "text": [
            "bye for now\n"
          ]
        }
      ]
    },
    {
      "cell_type": "code",
      "source": [
        "if True:\n",
        "  print('data science')\n",
        "print('bye for now')"
      ],
      "metadata": {
        "colab": {
          "base_uri": "https://localhost:8080/"
        },
        "id": "wyOMy9JC6QU0",
        "outputId": "458d23c6-8007-4e8d-fd44-35c182b04940"
      },
      "execution_count": 4,
      "outputs": [
        {
          "output_type": "stream",
          "name": "stdout",
          "text": [
            "data science\n",
            "bye for now\n"
          ]
        }
      ]
    },
    {
      "cell_type": "code",
      "source": [
        "if True:\n",
        "  print('data science')\n",
        "else:\n",
        "  print('bye for now')"
      ],
      "metadata": {
        "colab": {
          "base_uri": "https://localhost:8080/"
        },
        "id": "c0WRiYiG6abZ",
        "outputId": "9cf59355-f8a0-4a0f-9b0a-382ef6f5238c"
      },
      "execution_count": 5,
      "outputs": [
        {
          "output_type": "stream",
          "name": "stdout",
          "text": [
            "data science\n"
          ]
        }
      ]
    },
    {
      "cell_type": "code",
      "source": [
        "x = 4\n",
        "r = x % 2\n",
        "if r == 0:\n",
        "  print('Even Number')"
      ],
      "metadata": {
        "colab": {
          "base_uri": "https://localhost:8080/"
        },
        "id": "GioVvsoj6s8I",
        "outputId": "5fbb967a-d69e-42d7-d4e8-39e70e2924fa"
      },
      "execution_count": 6,
      "outputs": [
        {
          "output_type": "stream",
          "name": "stdout",
          "text": [
            "Even Number\n"
          ]
        }
      ]
    },
    {
      "cell_type": "code",
      "source": [
        "x = 5\n",
        "r = x % 2\n",
        "if r == 0:\n",
        "  print('Even Number')\n",
        "if r == 1:\n",
        "  print('Odd Number')"
      ],
      "metadata": {
        "colab": {
          "base_uri": "https://localhost:8080/"
        },
        "id": "ywjYqr0_69tH",
        "outputId": "c2b61698-d464-49c8-b250-8cf4ac00c1e2"
      },
      "execution_count": 7,
      "outputs": [
        {
          "output_type": "stream",
          "name": "stdout",
          "text": [
            "Odd Number\n"
          ]
        }
      ]
    },
    {
      "cell_type": "code",
      "source": [
        "x = 5\n",
        "r = x % 2\n",
        "if r == 0:\n",
        "  print('Even Number')\n",
        "elif r == 1:\n",
        "  print('Odd Number')"
      ],
      "metadata": {
        "colab": {
          "base_uri": "https://localhost:8080/"
        },
        "id": "Bz3nEPF67K-K",
        "outputId": "dfb1c0e6-1c5f-4c95-8b86-a8348106b4b6"
      },
      "execution_count": 8,
      "outputs": [
        {
          "output_type": "stream",
          "name": "stdout",
          "text": [
            "Odd Number\n"
          ]
        }
      ]
    },
    {
      "cell_type": "markdown",
      "source": [
        "# Loops"
      ],
      "metadata": {
        "id": "lVpacbveCzJ7"
      }
    },
    {
      "cell_type": "code",
      "source": [
        "print('data science')\n",
        "print('data science')\n",
        "print('data science')\n",
        "print('data science')\n",
        "print('data science')"
      ],
      "metadata": {
        "id": "EYkX14t49m-S",
        "colab": {
          "base_uri": "https://localhost:8080/"
        },
        "outputId": "54f1c47c-12bb-4151-e43d-bb8769df74c3"
      },
      "execution_count": 9,
      "outputs": [
        {
          "output_type": "stream",
          "name": "stdout",
          "text": [
            "data science\n",
            "data science\n",
            "data science\n",
            "data science\n",
            "data science\n"
          ]
        }
      ]
    },
    {
      "cell_type": "code",
      "source": [
        "i = 1\n",
        "while i<=5:\n",
        "  print('data science')\n",
        "  i += 1"
      ],
      "metadata": {
        "colab": {
          "base_uri": "https://localhost:8080/"
        },
        "id": "XHn4RiGBC9Jo",
        "outputId": "fcf6bf34-afb2-4d89-8605-983840f06637"
      },
      "execution_count": 11,
      "outputs": [
        {
          "output_type": "stream",
          "name": "stdout",
          "text": [
            "data science\n",
            "data science\n",
            "data science\n",
            "data science\n",
            "data science\n"
          ]
        }
      ]
    },
    {
      "cell_type": "code",
      "source": [
        "i = 5\n",
        "while i>=1:\n",
        "  print('data science')\n",
        "  i -= 1"
      ],
      "metadata": {
        "colab": {
          "base_uri": "https://localhost:8080/"
        },
        "id": "zXxRnkGMDOQ7",
        "outputId": "2af7f73e-ed64-4ec0-82b9-cf968f32e5d5"
      },
      "execution_count": 12,
      "outputs": [
        {
          "output_type": "stream",
          "name": "stdout",
          "text": [
            "data science\n",
            "data science\n",
            "data science\n",
            "data science\n",
            "data science\n"
          ]
        }
      ]
    },
    {
      "cell_type": "code",
      "source": [],
      "metadata": {
        "id": "AGCC0byODcgX"
      },
      "execution_count": 18,
      "outputs": []
    },
    {
      "cell_type": "code",
      "source": [],
      "metadata": {
        "id": "VwxlRp8Cg4Fu"
      },
      "execution_count": 17,
      "outputs": []
    }
  ]
}