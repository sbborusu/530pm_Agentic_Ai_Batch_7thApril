{
  "nbformat": 4,
  "nbformat_minor": 0,
  "metadata": {
    "colab": {
      "provenance": [],
      "authorship_tag": "ABX9TyPEmAE2PDPXOt7Z1fhfiAtA",
      "include_colab_link": true
    },
    "kernelspec": {
      "name": "python3",
      "display_name": "Python 3"
    },
    "language_info": {
      "name": "python"
    }
  },
  "cells": [
    {
      "cell_type": "markdown",
      "metadata": {
        "id": "view-in-github",
        "colab_type": "text"
      },
      "source": [
        "<a href=\"https://colab.research.google.com/github/sbborusu/530pm_Agentic_Ai_Batch_7thApril/blob/main/Conditional_loops.ipynb\" target=\"_parent\"><img src=\"https://colab.research.google.com/assets/colab-badge.svg\" alt=\"Open In Colab\"/></a>"
      ]
    },
    {
      "cell_type": "code",
      "execution_count": 1,
      "metadata": {
        "colab": {
          "base_uri": "https://localhost:8080/"
        },
        "id": "-qNiIE8u4pbc",
        "outputId": "0238ab56-5d14-40f5-c822-bab0b6520494"
      },
      "outputs": [
        {
          "output_type": "stream",
          "name": "stdout",
          "text": [
            "Data Science\n"
          ]
        }
      ],
      "source": [
        "if True:\n",
        "  print('Data Science')"
      ]
    },
    {
      "cell_type": "code",
      "source": [
        "if False:\n",
        "  print('Data Science')\n",
        "print('bye for now')"
      ],
      "metadata": {
        "colab": {
          "base_uri": "https://localhost:8080/"
        },
        "id": "UMLU1B0e6GFo",
        "outputId": "f37a2929-6f3c-48fe-f1c7-d36a9795e4dc"
      },
      "execution_count": 2,
      "outputs": [
        {
          "output_type": "stream",
          "name": "stdout",
          "text": [
            "bye for now\n"
          ]
        }
      ]
    },
    {
      "cell_type": "code",
      "source": [
        "if True:\n",
        "  print('data science')\n",
        "print('bye for now')"
      ],
      "metadata": {
        "colab": {
          "base_uri": "https://localhost:8080/"
        },
        "id": "wyOMy9JC6QU0",
        "outputId": "2351412d-7c39-4f84-e5d4-56514edb8125"
      },
      "execution_count": 3,
      "outputs": [
        {
          "output_type": "stream",
          "name": "stdout",
          "text": [
            "data science\n",
            "bye for now\n"
          ]
        }
      ]
    },
    {
      "cell_type": "code",
      "source": [
        "if True:\n",
        "  print('data science')\n",
        "else:\n",
        "  print('bye for now')"
      ],
      "metadata": {
        "colab": {
          "base_uri": "https://localhost:8080/"
        },
        "id": "c0WRiYiG6abZ",
        "outputId": "acc10449-c60b-4a13-e08d-e7331a3c5464"
      },
      "execution_count": 4,
      "outputs": [
        {
          "output_type": "stream",
          "name": "stdout",
          "text": [
            "data science\n"
          ]
        }
      ]
    },
    {
      "cell_type": "code",
      "source": [
        "x = 4\n",
        "r = x % 2\n",
        "if r == 0:\n",
        "  print('Even Number')"
      ],
      "metadata": {
        "colab": {
          "base_uri": "https://localhost:8080/"
        },
        "id": "GioVvsoj6s8I",
        "outputId": "83006e2b-40ea-445b-a738-313b7c1e4d9d"
      },
      "execution_count": 5,
      "outputs": [
        {
          "output_type": "stream",
          "name": "stdout",
          "text": [
            "Even Number\n"
          ]
        }
      ]
    },
    {
      "cell_type": "code",
      "source": [
        "x = 5\n",
        "r = x % 2\n",
        "if r == 0:\n",
        "  print('Even Number')\n",
        "if r == 1:\n",
        "  print('Odd Number')"
      ],
      "metadata": {
        "colab": {
          "base_uri": "https://localhost:8080/"
        },
        "id": "ywjYqr0_69tH",
        "outputId": "17507751-d591-4fc8-a334-56d17792058f"
      },
      "execution_count": 14,
      "outputs": [
        {
          "output_type": "stream",
          "name": "stdout",
          "text": [
            "Odd Number\n"
          ]
        }
      ]
    },
    {
      "cell_type": "code",
      "source": [
        "x = 5\n",
        "r = x % 2\n",
        "if r == 0:\n",
        "  print('Even Number')\n",
        "elif r == 1:\n",
        "  print('Odd Number')"
      ],
      "metadata": {
        "colab": {
          "base_uri": "https://localhost:8080/"
        },
        "id": "Bz3nEPF67K-K",
        "outputId": "53bd5c56-278c-4da4-e87a-ac89186c3c2d"
      },
      "execution_count": 15,
      "outputs": [
        {
          "output_type": "stream",
          "name": "stdout",
          "text": [
            "Odd Number\n"
          ]
        }
      ]
    },
    {
      "cell_type": "code",
      "source": [],
      "metadata": {
        "id": "EYkX14t49m-S"
      },
      "execution_count": null,
      "outputs": []
    }
  ]
}