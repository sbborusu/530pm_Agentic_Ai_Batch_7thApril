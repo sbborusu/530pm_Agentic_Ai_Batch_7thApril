{
  "cells": [
    {
      "cell_type": "markdown",
      "metadata": {
        "id": "view-in-github",
        "colab_type": "text"
      },
      "source": [
        "<a href=\"https://colab.research.google.com/github/sbborusu/530pm_Agentic_Ai_Batch_7thApril/blob/main/datatyps%2C_variable.ipynb\" target=\"_parent\"><img src=\"https://colab.research.google.com/assets/colab-badge.svg\" alt=\"Open In Colab\"/></a>"
      ]
    },
    {
      "cell_type": "markdown",
      "id": "10e03b25-05a3-4ac9-bf02-d08e45e2d8a6",
      "metadata": {
        "id": "10e03b25-05a3-4ac9-bf02-d08e45e2d8a6"
      },
      "source": [
        "# Python datatypes -->\n",
        "        - Integer datatypes\n",
        "        - float datatypes\n",
        "        - Bool datatypes\n",
        "        - string datatypes\n",
        "        - complex datatypes"
      ]
    },
    {
      "cell_type": "code",
      "execution_count": null,
      "id": "255b55ee-138f-446e-bc05-4efee898ab43",
      "metadata": {
        "colab": {
          "base_uri": "https://localhost:8080/"
        },
        "id": "255b55ee-138f-446e-bc05-4efee898ab43",
        "outputId": "f12fe105-0e4e-4a3d-c733-cc7ad454623e"
      },
      "outputs": [
        {
          "output_type": "stream",
          "name": "stdout",
          "text": [
            "45\n",
            "<class 'int'>\n"
          ]
        }
      ],
      "source": [
        "i = 45\n",
        "print(i)\n",
        "print(type(i))"
      ]
    },
    {
      "cell_type": "code",
      "execution_count": null,
      "id": "1470acfc-61de-4a9a-8bc6-8a65145bce1a",
      "metadata": {
        "colab": {
          "base_uri": "https://localhost:8080/",
          "height": 141
        },
        "id": "1470acfc-61de-4a9a-8bc6-8a65145bce1a",
        "outputId": "3698fc82-710c-4e6c-9ed3-dcf17306bad3"
      },
      "outputs": [
        {
          "output_type": "error",
          "ename": "TypeError",
          "evalue": "cannot unpack non-iterable int object",
          "traceback": [
            "\u001b[0;31m---------------------------------------------------------------------------\u001b[0m",
            "\u001b[0;31mTypeError\u001b[0m                                 Traceback (most recent call last)",
            "\u001b[0;32m<ipython-input-18-b833d4695b3e>\u001b[0m in \u001b[0;36m<cell line: 0>\u001b[0;34m()\u001b[0m\n\u001b[0;32m----> 1\u001b[0;31m \u001b[0mi1\u001b[0m\u001b[0;34m,\u001b[0m \u001b[0mi2\u001b[0m \u001b[0;34m=\u001b[0m \u001b[0;36m10\u001b[0m\u001b[0;34m\u001b[0m\u001b[0;34m\u001b[0m\u001b[0m\n\u001b[0m",
            "\u001b[0;31mTypeError\u001b[0m: cannot unpack non-iterable int object"
          ]
        }
      ],
      "source": [
        "i1, i2 = 10"
      ]
    },
    {
      "cell_type": "code",
      "execution_count": null,
      "id": "39920125-b25e-4ff1-8a50-824a4fecf64b",
      "metadata": {
        "colab": {
          "base_uri": "https://localhost:8080/"
        },
        "id": "39920125-b25e-4ff1-8a50-824a4fecf64b",
        "outputId": "33aad877-95cb-4a3d-da3a-66b5b50bf3f1"
      },
      "outputs": [
        {
          "output_type": "stream",
          "name": "stdout",
          "text": [
            "10\n",
            "20\n",
            "30\n",
            "-10\n",
            "200\n",
            "0.5\n"
          ]
        }
      ],
      "source": [
        "i1, i2 = 10, 20\n",
        "\n",
        "print(i1)\n",
        "print(i2)\n",
        "\n",
        "print(i1 + i2)\n",
        "print(i1 - i2)\n",
        "print(i1 * i2)\n",
        "print(i1 / i2)"
      ]
    },
    {
      "cell_type": "markdown",
      "id": "1860d592-7080-4800-92d2-426cdba4a338",
      "metadata": {
        "id": "1860d592-7080-4800-92d2-426cdba4a338"
      },
      "source": [
        "# float"
      ]
    },
    {
      "cell_type": "code",
      "execution_count": null,
      "id": "50102fe0-31b5-4164-a106-445414046111",
      "metadata": {
        "colab": {
          "base_uri": "https://localhost:8080/"
        },
        "id": "50102fe0-31b5-4164-a106-445414046111",
        "outputId": "b209464d-ec34-4546-87ef-79bdb336c083"
      },
      "outputs": [
        {
          "output_type": "execute_result",
          "data": {
            "text/plain": [
              "110.56"
            ]
          },
          "metadata": {},
          "execution_count": 20
        }
      ],
      "source": [
        "petrol = 110.56\n",
        "petrol"
      ]
    },
    {
      "cell_type": "code",
      "execution_count": null,
      "id": "81d72589-8ec4-4a05-b86c-f3c32a9bc6ce",
      "metadata": {
        "colab": {
          "base_uri": "https://localhost:8080/"
        },
        "id": "81d72589-8ec4-4a05-b86c-f3c32a9bc6ce",
        "outputId": "c5ceb267-8d2d-405a-c561-f6f06f50273f"
      },
      "outputs": [
        {
          "output_type": "execute_result",
          "data": {
            "text/plain": [
              "float"
            ]
          },
          "metadata": {},
          "execution_count": 21
        }
      ],
      "source": [
        "type(petrol)"
      ]
    },
    {
      "cell_type": "markdown",
      "id": "82959a1b-4995-4168-b41b-ba8687652527",
      "metadata": {
        "id": "82959a1b-4995-4168-b41b-ba8687652527"
      },
      "source": [
        "# string (non techical - text, but technical we called this as string)"
      ]
    },
    {
      "cell_type": "code",
      "execution_count": null,
      "id": "d4e7e5d9-f09f-47da-8eb5-a42688bef76b",
      "metadata": {
        "colab": {
          "base_uri": "https://localhost:8080/",
          "height": 159
        },
        "id": "d4e7e5d9-f09f-47da-8eb5-a42688bef76b",
        "outputId": "fc20504d-86b9-4af0-8a56-434aec7a628e"
      },
      "outputs": [
        {
          "output_type": "error",
          "ename": "NameError",
          "evalue": "name 'nareshit' is not defined",
          "traceback": [
            "\u001b[0;31m---------------------------------------------------------------------------\u001b[0m",
            "\u001b[0;31mNameError\u001b[0m                                 Traceback (most recent call last)",
            "\u001b[0;32m<ipython-input-22-826a779f2b26>\u001b[0m in \u001b[0;36m<cell line: 0>\u001b[0;34m()\u001b[0m\n\u001b[0;32m----> 1\u001b[0;31m \u001b[0ms\u001b[0m \u001b[0;34m=\u001b[0m \u001b[0mnareshit\u001b[0m\u001b[0;34m\u001b[0m\u001b[0;34m\u001b[0m\u001b[0m\n\u001b[0m\u001b[1;32m      2\u001b[0m \u001b[0ms\u001b[0m\u001b[0;34m\u001b[0m\u001b[0;34m\u001b[0m\u001b[0m\n",
            "\u001b[0;31mNameError\u001b[0m: name 'nareshit' is not defined"
          ]
        }
      ],
      "source": [
        "s = nareshit\n",
        "s"
      ]
    },
    {
      "cell_type": "code",
      "execution_count": null,
      "id": "dd2b8e8c-ea18-42c5-888b-7f555927092e",
      "metadata": {
        "colab": {
          "base_uri": "https://localhost:8080/",
          "height": 35
        },
        "id": "dd2b8e8c-ea18-42c5-888b-7f555927092e",
        "outputId": "03c54ee6-a8fd-496f-bcaa-863f78e86ecd"
      },
      "outputs": [
        {
          "output_type": "execute_result",
          "data": {
            "text/plain": [
              "'nareshit'"
            ],
            "application/vnd.google.colaboratory.intrinsic+json": {
              "type": "string"
            }
          },
          "metadata": {},
          "execution_count": 23
        }
      ],
      "source": [
        "s = 'nareshit'\n",
        "s"
      ]
    },
    {
      "cell_type": "code",
      "execution_count": null,
      "id": "43aba7b3-e72d-4e1d-87da-66b1eb0cba2a",
      "metadata": {
        "colab": {
          "base_uri": "https://localhost:8080/"
        },
        "id": "43aba7b3-e72d-4e1d-87da-66b1eb0cba2a",
        "outputId": "bfdade86-2925-4a35-cfc8-d0191e31f266"
      },
      "outputs": [
        {
          "output_type": "execute_result",
          "data": {
            "text/plain": [
              "str"
            ]
          },
          "metadata": {},
          "execution_count": 24
        }
      ],
      "source": [
        "type(s)"
      ]
    },
    {
      "cell_type": "code",
      "execution_count": null,
      "id": "2595a6e8-907f-410a-ae73-df07f993c315",
      "metadata": {
        "colab": {
          "base_uri": "https://localhost:8080/",
          "height": 35
        },
        "id": "2595a6e8-907f-410a-ae73-df07f993c315",
        "outputId": "fa8f3c0a-bc9d-4780-f899-3d83c950cffa"
      },
      "outputs": [
        {
          "output_type": "execute_result",
          "data": {
            "text/plain": [
              "'nareshit'"
            ],
            "application/vnd.google.colaboratory.intrinsic+json": {
              "type": "string"
            }
          },
          "metadata": {},
          "execution_count": 25
        }
      ],
      "source": [
        "s1 = \"nareshit\"\n",
        "s1"
      ]
    },
    {
      "cell_type": "code",
      "execution_count": null,
      "id": "871c934f-782b-4853-81a0-17d63893f9c8",
      "metadata": {
        "colab": {
          "base_uri": "https://localhost:8080/"
        },
        "id": "871c934f-782b-4853-81a0-17d63893f9c8",
        "outputId": "253fa8b6-3834-4f33-9952-19637e1d3761"
      },
      "outputs": [
        {
          "output_type": "stream",
          "name": "stdout",
          "text": [
            "naresh it technology\n",
            "        datascience, ai student -- 6 month i will change your brian\n"
          ]
        }
      ],
      "source": [
        "s2 = '''naresh it technology\n",
        "        datascience, ai student -- 6 month i will change your brian'''\n",
        "print(s2)"
      ]
    },
    {
      "cell_type": "code",
      "execution_count": null,
      "id": "1091f73e-3ad4-458b-9049-1dedcbd18bfd",
      "metadata": {
        "colab": {
          "base_uri": "https://localhost:8080/",
          "height": 35
        },
        "id": "1091f73e-3ad4-458b-9049-1dedcbd18bfd",
        "outputId": "239d2204-4026-4f76-8fd0-e55b16e99e4a"
      },
      "outputs": [
        {
          "output_type": "execute_result",
          "data": {
            "text/plain": [
              "'nareshit'"
            ],
            "application/vnd.google.colaboratory.intrinsic+json": {
              "type": "string"
            }
          },
          "metadata": {},
          "execution_count": 29
        }
      ],
      "source": [
        "s"
      ]
    },
    {
      "cell_type": "code",
      "execution_count": null,
      "id": "f30a5d20-eb58-413e-8c7a-a80e7c0082c5",
      "metadata": {
        "colab": {
          "base_uri": "https://localhost:8080/"
        },
        "id": "f30a5d20-eb58-413e-8c7a-a80e7c0082c5",
        "outputId": "8d360f69-44a0-4f56-a8d8-f34e32ea514b"
      },
      "outputs": [
        {
          "output_type": "stream",
          "name": "stdout",
          "text": [
            "n\n",
            "t\n",
            "e\n"
          ]
        }
      ],
      "source": [
        "print(s[0])\n",
        "print(s[-1])\n",
        "print(s[3])"
      ]
    },
    {
      "cell_type": "code",
      "execution_count": null,
      "id": "78acb957-3b7c-4254-af18-2783b2165c4a",
      "metadata": {
        "colab": {
          "base_uri": "https://localhost:8080/",
          "height": 35
        },
        "id": "78acb957-3b7c-4254-af18-2783b2165c4a",
        "outputId": "29ab8516-48cc-49e3-a89e-e77309022450"
      },
      "outputs": [
        {
          "output_type": "execute_result",
          "data": {
            "text/plain": [
              "'nareshit'"
            ],
            "application/vnd.google.colaboratory.intrinsic+json": {
              "type": "string"
            }
          },
          "metadata": {},
          "execution_count": 31
        }
      ],
      "source": [
        "s"
      ]
    },
    {
      "cell_type": "code",
      "execution_count": null,
      "id": "e5b345f4-f528-4e53-a409-590aa22d3ec1",
      "metadata": {
        "colab": {
          "base_uri": "https://localhost:8080/",
          "height": 35
        },
        "id": "e5b345f4-f528-4e53-a409-590aa22d3ec1",
        "outputId": "b1e6a00a-4d02-467f-ce35-41074c3d0750"
      },
      "outputs": [
        {
          "output_type": "execute_result",
          "data": {
            "text/plain": [
              "'nareshit'"
            ],
            "application/vnd.google.colaboratory.intrinsic+json": {
              "type": "string"
            }
          },
          "metadata": {},
          "execution_count": 32
        }
      ],
      "source": [
        "s[:]"
      ]
    },
    {
      "cell_type": "code",
      "execution_count": null,
      "id": "33cc585e-7ef4-4f5a-99d6-e41431a08a6e",
      "metadata": {
        "id": "33cc585e-7ef4-4f5a-99d6-e41431a08a6e"
      },
      "outputs": [],
      "source": [
        "s[2:5]"
      ]
    },
    {
      "cell_type": "markdown",
      "id": "1905e5d8-3b9b-4319-916f-3663fc1384d4",
      "metadata": {
        "id": "1905e5d8-3b9b-4319-916f-3663fc1384d4"
      },
      "source": [
        "# 17th"
      ]
    },
    {
      "cell_type": "code",
      "execution_count": 33,
      "id": "e04fd5ef-ac19-4ad4-99b7-661fb1308daf",
      "metadata": {
        "id": "e04fd5ef-ac19-4ad4-99b7-661fb1308daf",
        "colab": {
          "base_uri": "https://localhost:8080/",
          "height": 141
        },
        "outputId": "5c8109a7-a337-44e6-8cf7-d6d34f1cf845"
      },
      "outputs": [
        {
          "output_type": "error",
          "ename": "NameError",
          "evalue": "name 'true' is not defined",
          "traceback": [
            "\u001b[0;31m---------------------------------------------------------------------------\u001b[0m",
            "\u001b[0;31mNameError\u001b[0m                                 Traceback (most recent call last)",
            "\u001b[0;32m<ipython-input-33-724ba28f4a9a>\u001b[0m in \u001b[0;36m<cell line: 0>\u001b[0;34m()\u001b[0m\n\u001b[0;32m----> 1\u001b[0;31m \u001b[0mtrue\u001b[0m\u001b[0;34m\u001b[0m\u001b[0;34m\u001b[0m\u001b[0m\n\u001b[0m",
            "\u001b[0;31mNameError\u001b[0m: name 'true' is not defined"
          ]
        }
      ],
      "source": [
        "true"
      ]
    },
    {
      "cell_type": "code",
      "execution_count": 34,
      "id": "4faed3d6-f04e-4e27-ae9d-7921efda427d",
      "metadata": {
        "id": "4faed3d6-f04e-4e27-ae9d-7921efda427d",
        "colab": {
          "base_uri": "https://localhost:8080/"
        },
        "outputId": "4f97c345-1261-4239-9dc5-bcb6008da4c3"
      },
      "outputs": [
        {
          "output_type": "execute_result",
          "data": {
            "text/plain": [
              "True"
            ]
          },
          "metadata": {},
          "execution_count": 34
        }
      ],
      "source": [
        "True"
      ]
    },
    {
      "cell_type": "code",
      "execution_count": 35,
      "id": "ac08b6ba-9a95-43db-a154-5a167fef92bf",
      "metadata": {
        "id": "ac08b6ba-9a95-43db-a154-5a167fef92bf",
        "colab": {
          "base_uri": "https://localhost:8080/",
          "height": 141
        },
        "outputId": "2ee4cd85-f627-4a2f-cfcf-32e497d149da"
      },
      "outputs": [
        {
          "output_type": "error",
          "ename": "NameError",
          "evalue": "name 'false' is not defined",
          "traceback": [
            "\u001b[0;31m---------------------------------------------------------------------------\u001b[0m",
            "\u001b[0;31mNameError\u001b[0m                                 Traceback (most recent call last)",
            "\u001b[0;32m<ipython-input-35-b73d74fcede9>\u001b[0m in \u001b[0;36m<cell line: 0>\u001b[0;34m()\u001b[0m\n\u001b[0;32m----> 1\u001b[0;31m \u001b[0mfalse\u001b[0m\u001b[0;34m\u001b[0m\u001b[0;34m\u001b[0m\u001b[0m\n\u001b[0m",
            "\u001b[0;31mNameError\u001b[0m: name 'false' is not defined"
          ]
        }
      ],
      "source": [
        "false"
      ]
    },
    {
      "cell_type": "code",
      "execution_count": 36,
      "id": "106edd73-a215-4529-8cf0-8afa0779f888",
      "metadata": {
        "id": "106edd73-a215-4529-8cf0-8afa0779f888",
        "colab": {
          "base_uri": "https://localhost:8080/"
        },
        "outputId": "09e68513-07a8-4f90-a9e1-38440b9d310f"
      },
      "outputs": [
        {
          "output_type": "execute_result",
          "data": {
            "text/plain": [
              "False"
            ]
          },
          "metadata": {},
          "execution_count": 36
        }
      ],
      "source": [
        "False"
      ]
    },
    {
      "cell_type": "code",
      "execution_count": 37,
      "id": "ad6ecf9d-1b97-4318-b9e9-177ff03ad0b5",
      "metadata": {
        "id": "ad6ecf9d-1b97-4318-b9e9-177ff03ad0b5"
      },
      "outputs": [],
      "source": [
        "b = True\n",
        "b1 = False"
      ]
    },
    {
      "cell_type": "code",
      "execution_count": 38,
      "id": "4b4fb3da-c93e-4d79-86b7-0094201cd26e",
      "metadata": {
        "id": "4b4fb3da-c93e-4d79-86b7-0094201cd26e",
        "colab": {
          "base_uri": "https://localhost:8080/"
        },
        "outputId": "a26c4499-04f1-4ce6-db64-eb87291eb988"
      },
      "outputs": [
        {
          "output_type": "execute_result",
          "data": {
            "text/plain": [
              "True"
            ]
          },
          "metadata": {},
          "execution_count": 38
        }
      ],
      "source": [
        "b"
      ]
    },
    {
      "cell_type": "code",
      "execution_count": 39,
      "id": "9bda465e-72fe-4441-95b1-8f9570ff71e7",
      "metadata": {
        "id": "9bda465e-72fe-4441-95b1-8f9570ff71e7",
        "colab": {
          "base_uri": "https://localhost:8080/"
        },
        "outputId": "a49e2d71-4ad2-48b9-ff9b-04fb4f890b74"
      },
      "outputs": [
        {
          "output_type": "execute_result",
          "data": {
            "text/plain": [
              "False"
            ]
          },
          "metadata": {},
          "execution_count": 39
        }
      ],
      "source": [
        "b1"
      ]
    },
    {
      "cell_type": "code",
      "execution_count": 40,
      "id": "3b6b616e-febb-43b3-ac2b-188c6479a637",
      "metadata": {
        "id": "3b6b616e-febb-43b3-ac2b-188c6479a637",
        "colab": {
          "base_uri": "https://localhost:8080/"
        },
        "outputId": "0ac35b47-db36-4155-e2b6-184117c303fc"
      },
      "outputs": [
        {
          "output_type": "execute_result",
          "data": {
            "text/plain": [
              "1"
            ]
          },
          "metadata": {},
          "execution_count": 40
        }
      ],
      "source": [
        "b + b1"
      ]
    },
    {
      "cell_type": "code",
      "execution_count": 41,
      "id": "68275a11-85e4-4b3d-8eab-2d46b975994a",
      "metadata": {
        "id": "68275a11-85e4-4b3d-8eab-2d46b975994a",
        "colab": {
          "base_uri": "https://localhost:8080/"
        },
        "outputId": "64733d65-3447-4390-aca4-01500cccb05e"
      },
      "outputs": [
        {
          "output_type": "stream",
          "name": "stdout",
          "text": [
            "1\n",
            "0\n",
            "0.0\n",
            "0\n"
          ]
        }
      ],
      "source": [
        "print(b-b1)\n",
        "print(b*b1)\n",
        "print(b1/b) # float division\n",
        "print(b1//b) # int division"
      ]
    },
    {
      "cell_type": "code",
      "execution_count": 42,
      "id": "7af508fa-534b-42b0-8c7a-2bdc48590817",
      "metadata": {
        "id": "7af508fa-534b-42b0-8c7a-2bdc48590817",
        "colab": {
          "base_uri": "https://localhost:8080/"
        },
        "outputId": "5156e06a-67bb-47bf-c550-c2c8828ca145"
      },
      "outputs": [
        {
          "output_type": "execute_result",
          "data": {
            "text/plain": [
              "bool"
            ]
          },
          "metadata": {},
          "execution_count": 42
        }
      ],
      "source": [
        "type(b1)"
      ]
    },
    {
      "cell_type": "markdown",
      "id": "8d8ade4b-0a64-4332-a732-6cd0bf515513",
      "metadata": {
        "id": "8d8ade4b-0a64-4332-a732-6cd0bf515513"
      },
      "source": [
        "# complex -- dataype we can use more math operation -- nasa, isro, robo\n",
        "\n",
        "a + bj\n",
        "- a - real part\n",
        "- bj - imaginary part\n",
        "- j - square root of -1\n"
      ]
    },
    {
      "cell_type": "code",
      "execution_count": null,
      "id": "8bcb6ee0-03d3-49fb-97a4-634743e539d5",
      "metadata": {
        "id": "8bcb6ee0-03d3-49fb-97a4-634743e539d5"
      },
      "outputs": [],
      "source": [
        "c1 = 10 + 20j\n",
        "c1"
      ]
    },
    {
      "cell_type": "code",
      "execution_count": null,
      "id": "138c3978-060f-4a96-b790-694fbf85e687",
      "metadata": {
        "id": "138c3978-060f-4a96-b790-694fbf85e687"
      },
      "outputs": [],
      "source": [
        "type(c1)"
      ]
    },
    {
      "cell_type": "code",
      "execution_count": null,
      "id": "bfe8b9c6-ab39-467e-b6e8-6b09dafed3ca",
      "metadata": {
        "id": "bfe8b9c6-ab39-467e-b6e8-6b09dafed3ca"
      },
      "outputs": [],
      "source": [
        "c1"
      ]
    },
    {
      "cell_type": "code",
      "execution_count": null,
      "id": "346553de-aeb3-467d-a3e9-7f9fcb096eba",
      "metadata": {
        "id": "346553de-aeb3-467d-a3e9-7f9fcb096eba"
      },
      "outputs": [],
      "source": [
        "c1.real"
      ]
    },
    {
      "cell_type": "code",
      "execution_count": null,
      "id": "46103418-9854-4931-8fbb-b67fcddea809",
      "metadata": {
        "id": "46103418-9854-4931-8fbb-b67fcddea809"
      },
      "outputs": [],
      "source": [
        "c1.imag"
      ]
    },
    {
      "cell_type": "code",
      "execution_count": null,
      "id": "b8df7c94-0326-4204-ab9d-5ae2a75a526c",
      "metadata": {
        "id": "b8df7c94-0326-4204-ab9d-5ae2a75a526c"
      },
      "outputs": [],
      "source": [
        "c2 = 3 + 5J\n",
        "c2"
      ]
    },
    {
      "cell_type": "code",
      "execution_count": null,
      "id": "d3aafb6d-d93f-4d65-8ad3-aa26eee43f29",
      "metadata": {
        "id": "d3aafb6d-d93f-4d65-8ad3-aa26eee43f29"
      },
      "outputs": [],
      "source": [
        "print(c1)\n",
        "print(c2)"
      ]
    },
    {
      "cell_type": "code",
      "execution_count": null,
      "id": "5e4bed31-33c2-4a7c-8906-6c71e887d6ba",
      "metadata": {
        "id": "5e4bed31-33c2-4a7c-8906-6c71e887d6ba"
      },
      "outputs": [],
      "source": [
        "c1 + c2"
      ]
    },
    {
      "cell_type": "markdown",
      "id": "7c37e269-8c7f-4db0-8335-ed1085b141f1",
      "metadata": {
        "id": "7c37e269-8c7f-4db0-8335-ed1085b141f1"
      },
      "source": [
        "# python data types"
      ]
    },
    {
      "cell_type": "markdown",
      "id": "6dbe3b23-2b6d-4bd0-989c-fd3e501a89ec",
      "metadata": {
        "id": "6dbe3b23-2b6d-4bd0-989c-fd3e501a89ec"
      },
      "source": [
        "# TYPE CASTING OR TYPE CONVERSION"
      ]
    },
    {
      "cell_type": "code",
      "execution_count": null,
      "id": "493475dc-e69c-43d3-baec-7a90ed8e4e84",
      "metadata": {
        "id": "493475dc-e69c-43d3-baec-7a90ed8e4e84"
      },
      "outputs": [],
      "source": [
        "int(3.4) #float to int"
      ]
    },
    {
      "cell_type": "code",
      "execution_count": null,
      "id": "a8fa9c74-496f-402f-87fd-2c31c7d8cd07",
      "metadata": {
        "id": "a8fa9c74-496f-402f-87fd-2c31c7d8cd07"
      },
      "outputs": [],
      "source": [
        "int(3.4, 5.7)"
      ]
    },
    {
      "cell_type": "code",
      "execution_count": null,
      "id": "01358226-b48b-4639-ba17-1f159b5910ab",
      "metadata": {
        "id": "01358226-b48b-4639-ba17-1f159b5910ab"
      },
      "outputs": [],
      "source": [
        "int(True) #bool to int"
      ]
    },
    {
      "cell_type": "code",
      "execution_count": null,
      "id": "e6b0e738-3632-4aad-8c51-aab49a5e694f",
      "metadata": {
        "id": "e6b0e738-3632-4aad-8c51-aab49a5e694f"
      },
      "outputs": [],
      "source": [
        "int(True, False)"
      ]
    },
    {
      "cell_type": "code",
      "execution_count": null,
      "id": "c7e3a5d4-90c1-4ad0-b575-055ab6daea82",
      "metadata": {
        "id": "c7e3a5d4-90c1-4ad0-b575-055ab6daea82"
      },
      "outputs": [],
      "source": [
        "int(False)"
      ]
    },
    {
      "cell_type": "code",
      "execution_count": null,
      "id": "2ab0b771-cfe8-4818-8931-2ac8bf604b09",
      "metadata": {
        "id": "2ab0b771-cfe8-4818-8931-2ac8bf604b09"
      },
      "outputs": [],
      "source": [
        "print(int(3.4))\n",
        "print(int(True))\n",
        "print(int('10'))"
      ]
    },
    {
      "cell_type": "code",
      "execution_count": null,
      "id": "e3db5fc6-ee9c-48aa-a1e1-40b6d95fe45e",
      "metadata": {
        "id": "e3db5fc6-ee9c-48aa-a1e1-40b6d95fe45e"
      },
      "outputs": [],
      "source": [
        "print(int(10+20j))"
      ]
    },
    {
      "cell_type": "code",
      "execution_count": null,
      "id": "e9c491b0-95ed-437d-94f3-77a849cf3b92",
      "metadata": {
        "id": "e9c491b0-95ed-437d-94f3-77a849cf3b92"
      },
      "outputs": [],
      "source": [
        "int('ten')"
      ]
    },
    {
      "cell_type": "markdown",
      "id": "7c33d881-63f3-4e67-b7f2-16dcd73ed641",
      "metadata": {
        "id": "7c33d881-63f3-4e67-b7f2-16dcd73ed641"
      },
      "source": [
        "# from all other datatype to int typecasting completed\n",
        "# complex & string with text is not allowed"
      ]
    },
    {
      "cell_type": "code",
      "execution_count": null,
      "id": "e0618710-5a0d-468e-88fa-b258d2211e83",
      "metadata": {
        "id": "e0618710-5a0d-468e-88fa-b258d2211e83"
      },
      "outputs": [],
      "source": []
    },
    {
      "cell_type": "code",
      "execution_count": null,
      "id": "7dbd1dc3-ddba-4878-bd1e-7691abc898e6",
      "metadata": {
        "id": "7dbd1dc3-ddba-4878-bd1e-7691abc898e6"
      },
      "outputs": [],
      "source": []
    }
  ],
  "metadata": {
    "kernelspec": {
      "display_name": "Python 3 (ipykernel)",
      "language": "python",
      "name": "python3"
    },
    "language_info": {
      "codemirror_mode": {
        "name": "ipython",
        "version": 3
      },
      "file_extension": ".py",
      "mimetype": "text/x-python",
      "name": "python",
      "nbconvert_exporter": "python",
      "pygments_lexer": "ipython3",
      "version": "3.11.7"
    },
    "colab": {
      "provenance": [],
      "include_colab_link": true
    }
  },
  "nbformat": 4,
  "nbformat_minor": 5
}