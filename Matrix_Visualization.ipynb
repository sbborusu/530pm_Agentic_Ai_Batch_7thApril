{
  "cells": [
    {
      "cell_type": "markdown",
      "metadata": {
        "id": "view-in-github",
        "colab_type": "text"
      },
      "source": [
        "<a href=\"https://colab.research.google.com/github/sbborusu/530pm_Agentic_Ai_Batch_7thApril/blob/main/Matrix_Visualization.ipynb\" target=\"_parent\"><img src=\"https://colab.research.google.com/assets/colab-badge.svg\" alt=\"Open In Colab\"/></a>"
      ]
    },
    {
      "cell_type": "markdown",
      "metadata": {
        "id": "Nbxl0qzRipeh"
      },
      "source": [
        "# Project / Task - 3"
      ]
    },
    {
      "cell_type": "markdown",
      "metadata": {
        "id": "OrvVeRdNipen"
      },
      "source": [
        "### MATRICES / NUMPY -----\n",
        "\n",
        "* Matrix is the tabular representation of the data\n",
        "* Lot of datas are stored in table format,that is why Matrices is very very important topic in python\n",
        "* as we working on dataframe so matrices are played a major rule\n",
        "* List is one dimension & matrix is multidimension\n",
        "* indexation is very important to plot the datapoints\n",
        "\n",
        "* we will see tht & we gonna analyze the NBA players  \n",
        "* hear i have taken top 10 highest paid player in 2015-2016 season\n",
        "* we will analyze how 10 players have been playing over the past 10  years & we had the data for past 10yrs yrs\n",
        "* our main goal is to find trends,patterns & their performance for     the past 10 yrs\n",
        "* ultimately they haven't always been top 10 player & lets see how     they improving, what actually secreates or patterns\n",
        "* dont worry guys if you dont know anything about basket ball NBA\n",
        "* I will explain indepth of everything\n",
        "* lets analyze the statistics of the basket ball player\n",
        "* gp - total games played,mpg - minutes per game,field goal(accuracy), ppg (points per game)  -- this   is no of point player has scores in that season  \n",
        "* guys slowly i am bringing you into data analytics, jump into datavisualization using python\n",
        "* i will give you the this code can everybody copy and paste your jupyter notebook\n",
        "\n",
        "* Now i will explain with matrices\n"
      ]
    },
    {
      "cell_type": "code",
      "execution_count": 1,
      "metadata": {
        "id": "QrMz93XLipeo"
      },
      "outputs": [],
      "source": [
        "#Import numpy\n",
        "import numpy as np\n",
        "\n",
        "#Seasons\n",
        "Seasons = [\"2010\",\"2011\",\"2012\",\"2013\",\"2014\",\"2015\",\"2016\",\"2017\",\"2018\",\"2019\"]\n",
        "Sdict = {\"2010\":0,\"2011\":1,\"2012\":2,\"2013\":3,\"2014\":4,\"2015\":5,\"2016\":6,\"2017\":7,\"2018\":8,\"2019\":9}\n",
        "\n",
        "#Players\n",
        "Players = [\"Sachin\",\"Rahul\",\"Smith\",\"Sami\",\"Pollard\",\"Morris\",\"Samson\",\"Dhoni\",\"Kohli\",\"Sky\"]\n",
        "Pdict = {\"Sachin\":0,\"Rahul\":1,\"Smith\":2,\"Sami\":3,\"Pollard\":4,\"Morris\":5,\"Samson\":6,\"Dhoni\":7,\"Kohli\":8,\"Sky\":9}\n",
        "\n",
        "#Salaries\n",
        "Sachin_Salary = [15946875,17718750,19490625,21262500,23034375,24806250,25244493,27849149,30453805,23500000]\n",
        "Rahul_Salary = [12000000,12744189,13488377,14232567,14976754,16324500,18038573,19752645,21466718,23180790]\n",
        "Smith_Salary = [4621800,5828090,13041250,14410581,15779912,14500000,16022500,17545000,19067500,20644400]\n",
        "Sami_Salary = [3713640,4694041,13041250,14410581,15779912,17149243,18518574,19450000,22407474,22458000]\n",
        "Pollard_Salary = [4493160,4806720,6061274,13758000,15202590,16647180,18091770,19536360,20513178,21436271]\n",
        "Morris_Salary = [3348000,4235220,12455000,14410581,15779912,14500000,16022500,17545000,19067500,20644400]\n",
        "Samson_Salary = [3144240,3380160,3615960,4574189,13520500,14940153,16359805,17779458,18668431,20068563]\n",
        "Dhoni_Salary = [0,0,4171200,4484040,4796880,6053663,15506632,16669630,17832627,18995624]\n",
        "Kohli_Salary = [0,0,0,4822800,5184480,5546160,6993708,16402500,17632688,18862875]\n",
        "Sky_Salary = [3031920,3841443,13041250,14410581,15779912,14200000,15691000,17182000,18673000,15000000]\n",
        "#Matrix\n",
        "Salary = np.array([Sachin_Salary, Rahul_Salary, Smith_Salary, Sami_Salary, Pollard_Salary, Morris_Salary, Samson_Salary, Dhoni_Salary, Kohli_Salary, Sky_Salary])\n",
        "\n",
        "#Games\n",
        "Sachin_G = [80,77,82,82,73,82,58,78,6,35]\n",
        "Rahul_G = [82,57,82,79,76,72,60,72,79,80]\n",
        "Smith_G = [79,78,75,81,76,79,62,76,77,69]\n",
        "Sami_G = [80,65,77,66,69,77,55,67,77,40]\n",
        "Pollard_G = [82,82,82,79,82,78,54,76,71,41]\n",
        "Morris_G = [70,69,67,77,70,77,57,74,79,44]\n",
        "Samson_G = [78,64,80,78,45,80,60,70,62,82]\n",
        "Dhoni_G = [35,35,80,74,82,78,66,81,81,27]\n",
        "Kohli_G = [40,40,40,81,78,81,39,0,10,51]\n",
        "Sky_G = [75,51,51,79,77,76,49,69,54,62]\n",
        "#Matrix\n",
        "Games = np.array([Sachin_G, Rahul_G, Smith_G, Sami_G, Pollard_G, Morris_G, Samson_G, Dhoni_G, Kohli_G, Sky_G])\n",
        "\n",
        "#Points\n",
        "Sachin_PTS = [2832,2430,2323,2201,1970,2078,1616,2133,83,782]\n",
        "Rahul_PTS = [1653,1426,1779,1688,1619,1312,1129,1170,1245,1154]\n",
        "Smith_PTS = [2478,2132,2250,2304,2258,2111,1683,2036,2089,1743]\n",
        "Sami_PTS = [2122,1881,1978,1504,1943,1970,1245,1920,2112,966]\n",
        "Pollard_PTS = [1292,1443,1695,1624,1503,1784,1113,1296,1297,646]\n",
        "Morris_PTS = [1572,1561,1496,1746,1678,1438,1025,1232,1281,928]\n",
        "Samson_PTS = [1258,1104,1684,1781,841,1268,1189,1186,1185,1564]\n",
        "Dhoni_PTS = [903,903,1624,1871,2472,2161,1850,2280,2593,686]\n",
        "Kohli_PTS = [597,597,597,1361,1619,2026,852,0,159,904]\n",
        "Sky_PTS = [2040,1397,1254,2386,2045,1941,1082,1463,1028,1331]\n",
        "#Matrix\n",
        "Points = np.array([Sachin_PTS, Rahul_PTS, Smith_PTS, Sami_PTS, Pollard_PTS, Morris_PTS, Samson_PTS, Dhoni_PTS, Kohli_PTS, Sky_PTS])\n",
        ""
      ]
    },
    {
      "cell_type": "code",
      "execution_count": 2,
      "metadata": {
        "scrolled": false,
        "colab": {
          "base_uri": "https://localhost:8080/"
        },
        "id": "QdVBwKRuipeq",
        "outputId": "4b4ce044-6de0-417b-b651-1bf358ac85a4"
      },
      "outputs": [
        {
          "output_type": "execute_result",
          "data": {
            "text/plain": [
              "array([[15946875, 17718750, 19490625, 21262500, 23034375, 24806250,\n",
              "        25244493, 27849149, 30453805, 23500000],\n",
              "       [12000000, 12744189, 13488377, 14232567, 14976754, 16324500,\n",
              "        18038573, 19752645, 21466718, 23180790],\n",
              "       [ 4621800,  5828090, 13041250, 14410581, 15779912, 14500000,\n",
              "        16022500, 17545000, 19067500, 20644400],\n",
              "       [ 3713640,  4694041, 13041250, 14410581, 15779912, 17149243,\n",
              "        18518574, 19450000, 22407474, 22458000],\n",
              "       [ 4493160,  4806720,  6061274, 13758000, 15202590, 16647180,\n",
              "        18091770, 19536360, 20513178, 21436271],\n",
              "       [ 3348000,  4235220, 12455000, 14410581, 15779912, 14500000,\n",
              "        16022500, 17545000, 19067500, 20644400],\n",
              "       [ 3144240,  3380160,  3615960,  4574189, 13520500, 14940153,\n",
              "        16359805, 17779458, 18668431, 20068563],\n",
              "       [       0,        0,  4171200,  4484040,  4796880,  6053663,\n",
              "        15506632, 16669630, 17832627, 18995624],\n",
              "       [       0,        0,        0,  4822800,  5184480,  5546160,\n",
              "         6993708, 16402500, 17632688, 18862875],\n",
              "       [ 3031920,  3841443, 13041250, 14410581, 15779912, 14200000,\n",
              "        15691000, 17182000, 18673000, 15000000]])"
            ]
          },
          "metadata": {},
          "execution_count": 2
        }
      ],
      "source": [
        "Salary  # martrix format"
      ]
    },
    {
      "cell_type": "code",
      "execution_count": 3,
      "metadata": {
        "colab": {
          "base_uri": "https://localhost:8080/"
        },
        "id": "X1agi5l1ipes",
        "outputId": "43c86942-f1a1-446c-b97e-a3340120101f"
      },
      "outputs": [
        {
          "output_type": "execute_result",
          "data": {
            "text/plain": [
              "array([[80, 77, 82, 82, 73, 82, 58, 78,  6, 35],\n",
              "       [82, 57, 82, 79, 76, 72, 60, 72, 79, 80],\n",
              "       [79, 78, 75, 81, 76, 79, 62, 76, 77, 69],\n",
              "       [80, 65, 77, 66, 69, 77, 55, 67, 77, 40],\n",
              "       [82, 82, 82, 79, 82, 78, 54, 76, 71, 41],\n",
              "       [70, 69, 67, 77, 70, 77, 57, 74, 79, 44],\n",
              "       [78, 64, 80, 78, 45, 80, 60, 70, 62, 82],\n",
              "       [35, 35, 80, 74, 82, 78, 66, 81, 81, 27],\n",
              "       [40, 40, 40, 81, 78, 81, 39,  0, 10, 51],\n",
              "       [75, 51, 51, 79, 77, 76, 49, 69, 54, 62]])"
            ]
          },
          "metadata": {},
          "execution_count": 3
        }
      ],
      "source": [
        "# Building your first matrix -\n",
        "Games"
      ]
    },
    {
      "cell_type": "code",
      "execution_count": 4,
      "metadata": {
        "colab": {
          "base_uri": "https://localhost:8080/"
        },
        "id": "j8-l6NC9ipes",
        "outputId": "d4d5092b-b424-4c82-8e7f-12d4b517a2d6"
      },
      "outputs": [
        {
          "output_type": "execute_result",
          "data": {
            "text/plain": [
              "array([[2832, 2430, 2323, 2201, 1970, 2078, 1616, 2133,   83,  782],\n",
              "       [1653, 1426, 1779, 1688, 1619, 1312, 1129, 1170, 1245, 1154],\n",
              "       [2478, 2132, 2250, 2304, 2258, 2111, 1683, 2036, 2089, 1743],\n",
              "       [2122, 1881, 1978, 1504, 1943, 1970, 1245, 1920, 2112,  966],\n",
              "       [1292, 1443, 1695, 1624, 1503, 1784, 1113, 1296, 1297,  646],\n",
              "       [1572, 1561, 1496, 1746, 1678, 1438, 1025, 1232, 1281,  928],\n",
              "       [1258, 1104, 1684, 1781,  841, 1268, 1189, 1186, 1185, 1564],\n",
              "       [ 903,  903, 1624, 1871, 2472, 2161, 1850, 2280, 2593,  686],\n",
              "       [ 597,  597,  597, 1361, 1619, 2026,  852,    0,  159,  904],\n",
              "       [2040, 1397, 1254, 2386, 2045, 1941, 1082, 1463, 1028, 1331]])"
            ]
          },
          "metadata": {},
          "execution_count": 4
        }
      ],
      "source": [
        "Points"
      ]
    },
    {
      "cell_type": "code",
      "execution_count": 5,
      "metadata": {
        "colab": {
          "base_uri": "https://localhost:8080/"
        },
        "id": "4pID_SVCipet",
        "outputId": "f98286e8-cf25-447e-80ad-34705cd08d5c"
      },
      "outputs": [
        {
          "output_type": "stream",
          "name": "stdout",
          "text": [
            "[ 0  1  2  3  4  5  6  7  8  9 10 11 12 13 14 15 16 17 18 19]\n",
            "1\n"
          ]
        }
      ],
      "source": [
        "mydata = np.arange(0,20)\n",
        "print(mydata)\n",
        "print(mydata.ndim)"
      ]
    },
    {
      "cell_type": "code",
      "execution_count": 6,
      "metadata": {
        "colab": {
          "base_uri": "https://localhost:8080/"
        },
        "id": "NvmdF0P5ipet",
        "outputId": "cb3550aa-6262-4ae1-b52c-2629f180325b"
      },
      "outputs": [
        {
          "output_type": "execute_result",
          "data": {
            "text/plain": [
              "array([[ 0,  1,  2,  3,  4],\n",
              "       [ 5,  6,  7,  8,  9],\n",
              "       [10, 11, 12, 13, 14],\n",
              "       [15, 16, 17, 18, 19]])"
            ]
          },
          "metadata": {},
          "execution_count": 6
        }
      ],
      "source": [
        "np.reshape(mydata,(4,5)) # 5 rows & 4 columns"
      ]
    },
    {
      "cell_type": "code",
      "execution_count": 7,
      "metadata": {
        "colab": {
          "base_uri": "https://localhost:8080/"
        },
        "id": "TvukMZICipeu",
        "outputId": "58dc9ea0-1f00-49f2-de4a-e359eb0f7b1a"
      },
      "outputs": [
        {
          "output_type": "execute_result",
          "data": {
            "text/plain": [
              "array([ 0,  1,  2,  3,  4,  5,  6,  7,  8,  9, 10, 11, 12, 13, 14, 15, 16,\n",
              "       17, 18, 19])"
            ]
          },
          "metadata": {},
          "execution_count": 7
        }
      ],
      "source": [
        "mydata"
      ]
    },
    {
      "cell_type": "code",
      "execution_count": 8,
      "metadata": {
        "scrolled": true,
        "colab": {
          "base_uri": "https://localhost:8080/"
        },
        "id": "kvsnmKRVipeu",
        "outputId": "46b53b82-9fb1-46fc-fef3-58eb1d1b08bc"
      },
      "outputs": [
        {
          "output_type": "execute_result",
          "data": {
            "text/plain": [
              "array([[ 0,  1,  2,  3],\n",
              "       [ 4,  5,  6,  7],\n",
              "       [ 8,  9, 10, 11],\n",
              "       [12, 13, 14, 15],\n",
              "       [16, 17, 18, 19]])"
            ]
          },
          "metadata": {},
          "execution_count": 8
        }
      ],
      "source": [
        "#np.reshape(mydata,(5,4), order = 'c') #'C' means to read / write the elements using C-like index order\n",
        "MATR1 = np.reshape(mydata, (5,4), order = 'c')\n",
        "MATR1"
      ]
    },
    {
      "cell_type": "code",
      "execution_count": 9,
      "metadata": {
        "colab": {
          "base_uri": "https://localhost:8080/"
        },
        "id": "114IWXZXipev",
        "outputId": "474db10d-c44f-4490-da65-7925c2e5c33d"
      },
      "outputs": [
        {
          "output_type": "execute_result",
          "data": {
            "text/plain": [
              "array([[ 0,  1,  2,  3],\n",
              "       [ 4,  5,  6,  7],\n",
              "       [ 8,  9, 10, 11],\n",
              "       [12, 13, 14, 15],\n",
              "       [16, 17, 18, 19]])"
            ]
          },
          "metadata": {},
          "execution_count": 9
        }
      ],
      "source": [
        "MATR1"
      ]
    },
    {
      "cell_type": "code",
      "execution_count": 10,
      "metadata": {
        "colab": {
          "base_uri": "https://localhost:8080/"
        },
        "id": "mhRAheJpipev",
        "outputId": "8897b5c2-ef01-4582-d87f-bda97124880e"
      },
      "outputs": [
        {
          "output_type": "execute_result",
          "data": {
            "text/plain": [
              "np.int64(19)"
            ]
          },
          "metadata": {},
          "execution_count": 10
        }
      ],
      "source": [
        "# If i want to get only no.3\n",
        "MATR1[4,3]"
      ]
    },
    {
      "cell_type": "code",
      "execution_count": 11,
      "metadata": {
        "colab": {
          "base_uri": "https://localhost:8080/"
        },
        "id": "nD7xG661ipev",
        "outputId": "c5adda7c-4afd-47ef-82fc-bbb80754e5b1"
      },
      "outputs": [
        {
          "output_type": "execute_result",
          "data": {
            "text/plain": [
              "np.int64(15)"
            ]
          },
          "metadata": {},
          "execution_count": 11
        }
      ],
      "source": [
        "MATR1[3,3]"
      ]
    },
    {
      "cell_type": "code",
      "execution_count": 12,
      "metadata": {
        "colab": {
          "base_uri": "https://localhost:8080/"
        },
        "id": "vgdMKX2wipew",
        "outputId": "33003ad5-caba-4c54-dbbd-3ec2374b2380"
      },
      "outputs": [
        {
          "output_type": "execute_result",
          "data": {
            "text/plain": [
              "array([[ 0,  1,  2,  3],\n",
              "       [ 4,  5,  6,  7],\n",
              "       [ 8,  9, 10, 11],\n",
              "       [12, 13, 14, 15],\n",
              "       [16, 17, 18, 19]])"
            ]
          },
          "metadata": {},
          "execution_count": 12
        }
      ],
      "source": [
        "MATR1"
      ]
    },
    {
      "cell_type": "code",
      "execution_count": 13,
      "metadata": {
        "colab": {
          "base_uri": "https://localhost:8080/"
        },
        "id": "wT-UT2Wtipew",
        "outputId": "cb34a396-f05d-4d62-88f7-862f9f277a01"
      },
      "outputs": [
        {
          "output_type": "execute_result",
          "data": {
            "text/plain": [
              "np.int64(11)"
            ]
          },
          "metadata": {},
          "execution_count": 13
        }
      ],
      "source": [
        "MATR1[-3,-1]"
      ]
    },
    {
      "cell_type": "code",
      "execution_count": 14,
      "metadata": {
        "colab": {
          "base_uri": "https://localhost:8080/"
        },
        "id": "kn66vxUxipew",
        "outputId": "30834d76-814e-478f-b711-53c15338dadc"
      },
      "outputs": [
        {
          "output_type": "execute_result",
          "data": {
            "text/plain": [
              "array([[ 0,  1,  2,  3],\n",
              "       [ 4,  5,  6,  7],\n",
              "       [ 8,  9, 10, 11],\n",
              "       [12, 13, 14, 15],\n",
              "       [16, 17, 18, 19]])"
            ]
          },
          "metadata": {},
          "execution_count": 14
        }
      ],
      "source": [
        "MATR1"
      ]
    },
    {
      "cell_type": "code",
      "execution_count": 15,
      "metadata": {
        "colab": {
          "base_uri": "https://localhost:8080/"
        },
        "id": "u3LhnjXvipex",
        "outputId": "5734dfff-7993-490d-e4d0-0fdccb015531"
      },
      "outputs": [
        {
          "output_type": "execute_result",
          "data": {
            "text/plain": [
              "array([ 0,  1,  2,  3,  4,  5,  6,  7,  8,  9, 10, 11, 12, 13, 14, 15, 16,\n",
              "       17, 18, 19])"
            ]
          },
          "metadata": {},
          "execution_count": 15
        }
      ],
      "source": [
        "mydata"
      ]
    },
    {
      "cell_type": "code",
      "execution_count": 16,
      "metadata": {
        "scrolled": true,
        "colab": {
          "base_uri": "https://localhost:8080/"
        },
        "id": "_rH0xXr6ipex",
        "outputId": "9ddb6ddf-3fc6-4bbf-e603-cd224a63606f"
      },
      "outputs": [
        {
          "output_type": "execute_result",
          "data": {
            "text/plain": [
              "array([[ 0,  5, 10, 15],\n",
              "       [ 1,  6, 11, 16],\n",
              "       [ 2,  7, 12, 17],\n",
              "       [ 3,  8, 13, 18],\n",
              "       [ 4,  9, 14, 19]])"
            ]
          },
          "metadata": {},
          "execution_count": 16
        }
      ],
      "source": [
        "MATR2 = np.reshape(mydata, (5,4), order = 'F') # reshape behaviour are  - 'C','F','A'\n",
        "MATR2"
      ]
    },
    {
      "cell_type": "code",
      "execution_count": 17,
      "metadata": {
        "colab": {
          "base_uri": "https://localhost:8080/"
        },
        "id": "h8xt6CxUipey",
        "outputId": "46eaf4df-23d5-4b19-bf45-36e366b3524d"
      },
      "outputs": [
        {
          "output_type": "execute_result",
          "data": {
            "text/plain": [
              "np.int64(19)"
            ]
          },
          "metadata": {},
          "execution_count": 17
        }
      ],
      "source": [
        "MATR2[4,3]"
      ]
    },
    {
      "cell_type": "code",
      "execution_count": 18,
      "metadata": {
        "colab": {
          "base_uri": "https://localhost:8080/"
        },
        "id": "lNAYDMf6ipey",
        "outputId": "0e3532ad-e97c-4979-eb9c-da01f957f087"
      },
      "outputs": [
        {
          "output_type": "execute_result",
          "data": {
            "text/plain": [
              "np.int64(10)"
            ]
          },
          "metadata": {},
          "execution_count": 18
        }
      ],
      "source": [
        "MATR2[0,2]"
      ]
    },
    {
      "cell_type": "code",
      "execution_count": 19,
      "metadata": {
        "colab": {
          "base_uri": "https://localhost:8080/"
        },
        "id": "fsPh0kFoipey",
        "outputId": "8911bd8d-69a6-4fd6-8c91-05a26166f93b"
      },
      "outputs": [
        {
          "output_type": "execute_result",
          "data": {
            "text/plain": [
              "array([[ 0,  5, 10, 15],\n",
              "       [ 1,  6, 11, 16]])"
            ]
          },
          "metadata": {},
          "execution_count": 19
        }
      ],
      "source": [
        "MATR2[0:2]"
      ]
    },
    {
      "cell_type": "code",
      "execution_count": 20,
      "metadata": {
        "colab": {
          "base_uri": "https://localhost:8080/"
        },
        "id": "lw2AsTNbipey",
        "outputId": "1fdd6e20-de18-41eb-b2f4-e150d4aef1c7"
      },
      "outputs": [
        {
          "output_type": "execute_result",
          "data": {
            "text/plain": [
              "array([[ 0,  5, 10, 15],\n",
              "       [ 1,  6, 11, 16],\n",
              "       [ 2,  7, 12, 17],\n",
              "       [ 3,  8, 13, 18],\n",
              "       [ 4,  9, 14, 19]])"
            ]
          },
          "metadata": {},
          "execution_count": 20
        }
      ],
      "source": [
        "MATR2"
      ]
    },
    {
      "cell_type": "code",
      "execution_count": 21,
      "metadata": {
        "colab": {
          "base_uri": "https://localhost:8080/"
        },
        "id": "15mqdoiqipez",
        "outputId": "cb8f77f4-649b-4302-eea4-f1522e17f9d1"
      },
      "outputs": [
        {
          "output_type": "execute_result",
          "data": {
            "text/plain": [
              "array([[ 1,  6, 11, 16]])"
            ]
          },
          "metadata": {},
          "execution_count": 21
        }
      ],
      "source": [
        "MATR2[1:2]"
      ]
    },
    {
      "cell_type": "code",
      "execution_count": 22,
      "metadata": {
        "colab": {
          "base_uri": "https://localhost:8080/"
        },
        "id": "gY9J-S_eipez",
        "outputId": "2bb0f698-5d85-44a2-bf77-5e4db763334d"
      },
      "outputs": [
        {
          "output_type": "execute_result",
          "data": {
            "text/plain": [
              "np.int64(11)"
            ]
          },
          "metadata": {},
          "execution_count": 22
        }
      ],
      "source": [
        "MATR2[1,2]"
      ]
    },
    {
      "cell_type": "code",
      "execution_count": 23,
      "metadata": {
        "colab": {
          "base_uri": "https://localhost:8080/"
        },
        "id": "85hXOyC_ipez",
        "outputId": "54d2fd09-6879-494c-ff10-a5c423f13cc5"
      },
      "outputs": [
        {
          "output_type": "execute_result",
          "data": {
            "text/plain": [
              "array([[ 0,  5, 10, 15],\n",
              "       [ 1,  6, 11, 16],\n",
              "       [ 2,  7, 12, 17],\n",
              "       [ 3,  8, 13, 18],\n",
              "       [ 4,  9, 14, 19]])"
            ]
          },
          "metadata": {},
          "execution_count": 23
        }
      ],
      "source": [
        "MATR2"
      ]
    },
    {
      "cell_type": "code",
      "execution_count": 24,
      "metadata": {
        "colab": {
          "base_uri": "https://localhost:8080/"
        },
        "id": "KsVyhh4iipez",
        "outputId": "84a71eff-ec68-46a0-ca4d-fcbfae8a942d"
      },
      "outputs": [
        {
          "output_type": "execute_result",
          "data": {
            "text/plain": [
              "np.int64(18)"
            ]
          },
          "metadata": {},
          "execution_count": 24
        }
      ],
      "source": [
        "MATR2[-2,-1]"
      ]
    },
    {
      "cell_type": "code",
      "execution_count": 25,
      "metadata": {
        "colab": {
          "base_uri": "https://localhost:8080/"
        },
        "id": "vA4AYVeEipez",
        "outputId": "79e886f5-5bee-4065-aa52-8fde7f101842"
      },
      "outputs": [
        {
          "output_type": "execute_result",
          "data": {
            "text/plain": [
              "np.int64(7)"
            ]
          },
          "metadata": {},
          "execution_count": 25
        }
      ],
      "source": [
        "MATR2[-3,-3]"
      ]
    },
    {
      "cell_type": "code",
      "execution_count": 26,
      "metadata": {
        "colab": {
          "base_uri": "https://localhost:8080/"
        },
        "id": "Dhrv7QbGipe0",
        "outputId": "50738a47-86ff-4ea1-8f70-c6fc904cf36a"
      },
      "outputs": [
        {
          "output_type": "execute_result",
          "data": {
            "text/plain": [
              "array([[ 0,  5, 10, 15],\n",
              "       [ 1,  6, 11, 16],\n",
              "       [ 2,  7, 12, 17],\n",
              "       [ 3,  8, 13, 18],\n",
              "       [ 4,  9, 14, 19]])"
            ]
          },
          "metadata": {},
          "execution_count": 26
        }
      ],
      "source": [
        "MATR2"
      ]
    },
    {
      "cell_type": "code",
      "execution_count": 27,
      "metadata": {
        "colab": {
          "base_uri": "https://localhost:8080/"
        },
        "id": "_Vv46xlKipe0",
        "outputId": "14ec24e1-90ee-41f8-eab2-4c490b09d623"
      },
      "outputs": [
        {
          "output_type": "execute_result",
          "data": {
            "text/plain": [
              "array([[ 0,  5, 10, 15],\n",
              "       [ 1,  6, 11, 16]])"
            ]
          },
          "metadata": {},
          "execution_count": 27
        }
      ],
      "source": [
        "MATR2[0:2]"
      ]
    },
    {
      "cell_type": "code",
      "execution_count": 28,
      "metadata": {
        "colab": {
          "base_uri": "https://localhost:8080/"
        },
        "id": "1nd0J-Mqipe0",
        "outputId": "e3bb3815-8eae-4bf5-ce0b-186b4c0b7187"
      },
      "outputs": [
        {
          "output_type": "execute_result",
          "data": {
            "text/plain": [
              "array([ 0,  1,  2,  3,  4,  5,  6,  7,  8,  9, 10, 11, 12, 13, 14, 15, 16,\n",
              "       17, 18, 19])"
            ]
          },
          "metadata": {},
          "execution_count": 28
        }
      ],
      "source": [
        "mydata"
      ]
    },
    {
      "cell_type": "code",
      "execution_count": 29,
      "metadata": {
        "colab": {
          "base_uri": "https://localhost:8080/"
        },
        "id": "7HdnPbvgipe1",
        "outputId": "f6ba2303-c7ca-4f7e-eb25-a3e7ed0d8289"
      },
      "outputs": [
        {
          "output_type": "execute_result",
          "data": {
            "text/plain": [
              "array([[ 0,  1,  2,  3],\n",
              "       [ 4,  5,  6,  7],\n",
              "       [ 8,  9, 10, 11],\n",
              "       [12, 13, 14, 15],\n",
              "       [16, 17, 18, 19]])"
            ]
          },
          "metadata": {},
          "execution_count": 29
        }
      ],
      "source": [
        "MATR3 = np.reshape(mydata, (5,4), order = 'A')\n",
        "MATR3"
      ]
    },
    {
      "cell_type": "code",
      "execution_count": 30,
      "metadata": {
        "colab": {
          "base_uri": "https://localhost:8080/"
        },
        "id": "e29GRzFwipe1",
        "outputId": "640928f1-0431-4b19-8f49-40d0fcea9c26"
      },
      "outputs": [
        {
          "output_type": "execute_result",
          "data": {
            "text/plain": [
              "array([[ 0,  5, 10, 15],\n",
              "       [ 1,  6, 11, 16],\n",
              "       [ 2,  7, 12, 17],\n",
              "       [ 3,  8, 13, 18],\n",
              "       [ 4,  9, 14, 19]])"
            ]
          },
          "metadata": {},
          "execution_count": 30
        }
      ],
      "source": [
        "MATR2 ## F shaped"
      ]
    },
    {
      "cell_type": "code",
      "execution_count": 31,
      "metadata": {
        "colab": {
          "base_uri": "https://localhost:8080/"
        },
        "id": "Gwsr8HG4ipe1",
        "outputId": "3d56dfaf-2a52-48dd-8fca-99a2e60a76b5"
      },
      "outputs": [
        {
          "output_type": "execute_result",
          "data": {
            "text/plain": [
              "array([[ 0,  1,  2,  3],\n",
              "       [ 4,  5,  6,  7],\n",
              "       [ 8,  9, 10, 11],\n",
              "       [12, 13, 14, 15],\n",
              "       [16, 17, 18, 19]])"
            ]
          },
          "metadata": {},
          "execution_count": 31
        }
      ],
      "source": [
        "MATR1 # C shaped"
      ]
    },
    {
      "cell_type": "code",
      "execution_count": 32,
      "metadata": {
        "id": "vkH9OW0sipe2"
      },
      "outputs": [],
      "source": [
        "a1 = ['welcome', 'to','datascience']\n",
        "a2 = ['required','hard','work' ]\n",
        "a3 = [1,2,3]"
      ]
    },
    {
      "cell_type": "code",
      "execution_count": 33,
      "metadata": {
        "colab": {
          "base_uri": "https://localhost:8080/"
        },
        "id": "BDC4JZMRipe2",
        "outputId": "451182ba-9f09-4a60-a5f6-4420976fbec8"
      },
      "outputs": [
        {
          "output_type": "stream",
          "name": "stdout",
          "text": [
            "[['welcome', 'to', 'datascience'], ['required', 'hard', 'work'], [1, 2, 3]]\n",
            "<class 'list'>\n"
          ]
        }
      ],
      "source": [
        "a4 = [a1,a2,a3] # List same dataypte\n",
        "print(a4)\n",
        "print(type(a4))"
      ]
    },
    {
      "cell_type": "code",
      "execution_count": 34,
      "metadata": {
        "colab": {
          "base_uri": "https://localhost:8080/"
        },
        "id": "oedf0rKNipe2",
        "outputId": "036a5624-b99c-4f90-cc61-cc342d8f4d45"
      },
      "outputs": [
        {
          "output_type": "execute_result",
          "data": {
            "text/plain": [
              "array([['welcome', 'to', 'datascience'],\n",
              "       ['required', 'hard', 'work'],\n",
              "       ['1', '2', '3']], dtype='<U21')"
            ]
          },
          "metadata": {},
          "execution_count": 34
        }
      ],
      "source": [
        "np.array([a1,a2,a3])  # u11 - unicode 11 characer : 3*3 matrix"
      ]
    },
    {
      "cell_type": "code",
      "execution_count": 35,
      "metadata": {
        "colab": {
          "base_uri": "https://localhost:8080/"
        },
        "id": "Qke1vz7_ipe3",
        "outputId": "9ddb3229-40ee-4be1-d562-75f9e59915f7"
      },
      "outputs": [
        {
          "output_type": "execute_result",
          "data": {
            "text/plain": [
              "array([[80, 77, 82, 82, 73, 82, 58, 78,  6, 35],\n",
              "       [82, 57, 82, 79, 76, 72, 60, 72, 79, 80],\n",
              "       [79, 78, 75, 81, 76, 79, 62, 76, 77, 69],\n",
              "       [80, 65, 77, 66, 69, 77, 55, 67, 77, 40],\n",
              "       [82, 82, 82, 79, 82, 78, 54, 76, 71, 41],\n",
              "       [70, 69, 67, 77, 70, 77, 57, 74, 79, 44],\n",
              "       [78, 64, 80, 78, 45, 80, 60, 70, 62, 82],\n",
              "       [35, 35, 80, 74, 82, 78, 66, 81, 81, 27],\n",
              "       [40, 40, 40, 81, 78, 81, 39,  0, 10, 51],\n",
              "       [75, 51, 51, 79, 77, 76, 49, 69, 54, 62]])"
            ]
          },
          "metadata": {},
          "execution_count": 35
        }
      ],
      "source": [
        "Games"
      ]
    },
    {
      "cell_type": "code",
      "execution_count": 36,
      "metadata": {
        "colab": {
          "base_uri": "https://localhost:8080/"
        },
        "id": "z-a16lmyipe3",
        "outputId": "fa343a66-a5c5-4593-defb-0cbaa136465d"
      },
      "outputs": [
        {
          "output_type": "execute_result",
          "data": {
            "text/plain": [
              "array([80, 77, 82, 82, 73, 82, 58, 78,  6, 35])"
            ]
          },
          "metadata": {},
          "execution_count": 36
        }
      ],
      "source": [
        "Games[0]"
      ]
    },
    {
      "cell_type": "code",
      "execution_count": 37,
      "metadata": {
        "colab": {
          "base_uri": "https://localhost:8080/"
        },
        "id": "JA3ers_zipe3",
        "outputId": "0ad9ea04-51a7-467a-efaf-de4389699bf4"
      },
      "outputs": [
        {
          "output_type": "execute_result",
          "data": {
            "text/plain": [
              "array([70, 69, 67, 77, 70, 77, 57, 74, 79, 44])"
            ]
          },
          "metadata": {},
          "execution_count": 37
        }
      ],
      "source": [
        "Games[5]"
      ]
    },
    {
      "cell_type": "code",
      "execution_count": 38,
      "metadata": {
        "colab": {
          "base_uri": "https://localhost:8080/"
        },
        "id": "MBLyPFBvipe4",
        "outputId": "e6f9e96b-5917-47e3-ac22-129202bc00e9"
      },
      "outputs": [
        {
          "output_type": "execute_result",
          "data": {
            "text/plain": [
              "array([[80, 77, 82, 82, 73, 82, 58, 78,  6, 35],\n",
              "       [82, 57, 82, 79, 76, 72, 60, 72, 79, 80],\n",
              "       [79, 78, 75, 81, 76, 79, 62, 76, 77, 69],\n",
              "       [80, 65, 77, 66, 69, 77, 55, 67, 77, 40],\n",
              "       [82, 82, 82, 79, 82, 78, 54, 76, 71, 41]])"
            ]
          },
          "metadata": {},
          "execution_count": 38
        }
      ],
      "source": [
        "Games[0:5]"
      ]
    },
    {
      "cell_type": "code",
      "execution_count": 39,
      "metadata": {
        "colab": {
          "base_uri": "https://localhost:8080/"
        },
        "id": "jJ6YonGsipe5",
        "outputId": "60f89489-c2d6-4548-b8a5-97893483b369"
      },
      "outputs": [
        {
          "output_type": "execute_result",
          "data": {
            "text/plain": [
              "np.int64(82)"
            ]
          },
          "metadata": {},
          "execution_count": 39
        }
      ],
      "source": [
        "Games[0,5]"
      ]
    },
    {
      "cell_type": "code",
      "execution_count": 40,
      "metadata": {
        "colab": {
          "base_uri": "https://localhost:8080/"
        },
        "id": "Tu0UJ3aNipe5",
        "outputId": "2841bc88-c2dc-4fb4-85a7-162fec2ed575"
      },
      "outputs": [
        {
          "output_type": "execute_result",
          "data": {
            "text/plain": [
              "np.int64(82)"
            ]
          },
          "metadata": {},
          "execution_count": 40
        }
      ],
      "source": [
        "Games[0,2]"
      ]
    },
    {
      "cell_type": "code",
      "execution_count": 41,
      "metadata": {
        "colab": {
          "base_uri": "https://localhost:8080/"
        },
        "id": "JVpWr4-hipe5",
        "outputId": "b88dee1b-470c-40c4-867e-97786d574289"
      },
      "outputs": [
        {
          "output_type": "execute_result",
          "data": {
            "text/plain": [
              "array([[80, 77, 82, 82, 73, 82, 58, 78,  6, 35],\n",
              "       [82, 57, 82, 79, 76, 72, 60, 72, 79, 80],\n",
              "       [79, 78, 75, 81, 76, 79, 62, 76, 77, 69],\n",
              "       [80, 65, 77, 66, 69, 77, 55, 67, 77, 40],\n",
              "       [82, 82, 82, 79, 82, 78, 54, 76, 71, 41],\n",
              "       [70, 69, 67, 77, 70, 77, 57, 74, 79, 44],\n",
              "       [78, 64, 80, 78, 45, 80, 60, 70, 62, 82],\n",
              "       [35, 35, 80, 74, 82, 78, 66, 81, 81, 27],\n",
              "       [40, 40, 40, 81, 78, 81, 39,  0, 10, 51],\n",
              "       [75, 51, 51, 79, 77, 76, 49, 69, 54, 62]])"
            ]
          },
          "metadata": {},
          "execution_count": 41
        }
      ],
      "source": [
        "Games"
      ]
    },
    {
      "cell_type": "code",
      "execution_count": 42,
      "metadata": {
        "colab": {
          "base_uri": "https://localhost:8080/"
        },
        "id": "npoD_8I3ipe5",
        "outputId": "47df89c9-3e20-47f9-f90d-7c2488724c44"
      },
      "outputs": [
        {
          "output_type": "execute_result",
          "data": {
            "text/plain": [
              "array([[80, 77, 82, 82, 73, 82, 58, 78,  6, 35],\n",
              "       [82, 57, 82, 79, 76, 72, 60, 72, 79, 80]])"
            ]
          },
          "metadata": {},
          "execution_count": 42
        }
      ],
      "source": [
        "Games[0:2]"
      ]
    },
    {
      "cell_type": "code",
      "execution_count": 43,
      "metadata": {
        "colab": {
          "base_uri": "https://localhost:8080/"
        },
        "id": "2b6dTuUkipe6",
        "outputId": "da1773e4-047b-4b65-832a-948ad6e65bfa"
      },
      "outputs": [
        {
          "output_type": "execute_result",
          "data": {
            "text/plain": [
              "array([[80, 77, 82, 82, 73, 82, 58, 78,  6, 35],\n",
              "       [82, 57, 82, 79, 76, 72, 60, 72, 79, 80],\n",
              "       [79, 78, 75, 81, 76, 79, 62, 76, 77, 69],\n",
              "       [80, 65, 77, 66, 69, 77, 55, 67, 77, 40],\n",
              "       [82, 82, 82, 79, 82, 78, 54, 76, 71, 41],\n",
              "       [70, 69, 67, 77, 70, 77, 57, 74, 79, 44],\n",
              "       [78, 64, 80, 78, 45, 80, 60, 70, 62, 82],\n",
              "       [35, 35, 80, 74, 82, 78, 66, 81, 81, 27],\n",
              "       [40, 40, 40, 81, 78, 81, 39,  0, 10, 51],\n",
              "       [75, 51, 51, 79, 77, 76, 49, 69, 54, 62]])"
            ]
          },
          "metadata": {},
          "execution_count": 43
        }
      ],
      "source": [
        "Games"
      ]
    },
    {
      "cell_type": "code",
      "execution_count": 44,
      "metadata": {
        "colab": {
          "base_uri": "https://localhost:8080/"
        },
        "id": "h6iJMQUHipe6",
        "outputId": "7563cd1c-78c8-4011-c960-df75e3380449"
      },
      "outputs": [
        {
          "output_type": "execute_result",
          "data": {
            "text/plain": [
              "array([[82, 57, 82, 79, 76, 72, 60, 72, 79, 80]])"
            ]
          },
          "metadata": {},
          "execution_count": 44
        }
      ],
      "source": [
        "Games[1:2]"
      ]
    },
    {
      "cell_type": "code",
      "execution_count": 45,
      "metadata": {
        "colab": {
          "base_uri": "https://localhost:8080/"
        },
        "id": "wsmUB4IVipe6",
        "outputId": "a5e12cb8-1aaf-494b-b170-edd36f555f8b"
      },
      "outputs": [
        {
          "output_type": "execute_result",
          "data": {
            "text/plain": [
              "array([79, 78, 75, 81, 76, 79, 62, 76, 77, 69])"
            ]
          },
          "metadata": {},
          "execution_count": 45
        }
      ],
      "source": [
        "Games[2]"
      ]
    },
    {
      "cell_type": "code",
      "execution_count": 46,
      "metadata": {
        "colab": {
          "base_uri": "https://localhost:8080/"
        },
        "id": "DWF8Q33Yipe6",
        "outputId": "c87d31c1-e830-4011-8719-8708e2b3f32f"
      },
      "outputs": [
        {
          "output_type": "execute_result",
          "data": {
            "text/plain": [
              "array([[80, 77, 82, 82, 73, 82, 58, 78,  6, 35],\n",
              "       [82, 57, 82, 79, 76, 72, 60, 72, 79, 80],\n",
              "       [79, 78, 75, 81, 76, 79, 62, 76, 77, 69],\n",
              "       [80, 65, 77, 66, 69, 77, 55, 67, 77, 40],\n",
              "       [82, 82, 82, 79, 82, 78, 54, 76, 71, 41],\n",
              "       [70, 69, 67, 77, 70, 77, 57, 74, 79, 44],\n",
              "       [78, 64, 80, 78, 45, 80, 60, 70, 62, 82],\n",
              "       [35, 35, 80, 74, 82, 78, 66, 81, 81, 27],\n",
              "       [40, 40, 40, 81, 78, 81, 39,  0, 10, 51],\n",
              "       [75, 51, 51, 79, 77, 76, 49, 69, 54, 62]])"
            ]
          },
          "metadata": {},
          "execution_count": 46
        }
      ],
      "source": [
        "Games"
      ]
    },
    {
      "cell_type": "code",
      "execution_count": 47,
      "metadata": {
        "colab": {
          "base_uri": "https://localhost:8080/"
        },
        "id": "MLeX261Cipe6",
        "outputId": "5754ed25-5f07-4a5b-ac08-3aedb0fbea1a"
      },
      "outputs": [
        {
          "output_type": "execute_result",
          "data": {
            "text/plain": [
              "np.int64(77)"
            ]
          },
          "metadata": {},
          "execution_count": 47
        }
      ],
      "source": [
        "Games[2,8]"
      ]
    },
    {
      "cell_type": "code",
      "execution_count": 48,
      "metadata": {
        "colab": {
          "base_uri": "https://localhost:8080/"
        },
        "id": "P4L-A8Fvipe7",
        "outputId": "0a994a88-c24d-4cbd-d29b-7461ee2e241c"
      },
      "outputs": [
        {
          "output_type": "execute_result",
          "data": {
            "text/plain": [
              "array([[80, 77, 82, 82, 73, 82, 58, 78,  6, 35],\n",
              "       [82, 57, 82, 79, 76, 72, 60, 72, 79, 80],\n",
              "       [79, 78, 75, 81, 76, 79, 62, 76, 77, 69],\n",
              "       [80, 65, 77, 66, 69, 77, 55, 67, 77, 40],\n",
              "       [82, 82, 82, 79, 82, 78, 54, 76, 71, 41],\n",
              "       [70, 69, 67, 77, 70, 77, 57, 74, 79, 44],\n",
              "       [78, 64, 80, 78, 45, 80, 60, 70, 62, 82],\n",
              "       [35, 35, 80, 74, 82, 78, 66, 81, 81, 27],\n",
              "       [40, 40, 40, 81, 78, 81, 39,  0, 10, 51],\n",
              "       [75, 51, 51, 79, 77, 76, 49, 69, 54, 62]])"
            ]
          },
          "metadata": {},
          "execution_count": 48
        }
      ],
      "source": [
        "Games"
      ]
    },
    {
      "cell_type": "code",
      "execution_count": 49,
      "metadata": {
        "colab": {
          "base_uri": "https://localhost:8080/"
        },
        "id": "sf0CHcYBipe7",
        "outputId": "bd183b86-afe5-489e-ce60-c27df2f63e9b"
      },
      "outputs": [
        {
          "output_type": "execute_result",
          "data": {
            "text/plain": [
              "array([[35, 35, 80, 74, 82, 78, 66, 81, 81, 27],\n",
              "       [40, 40, 40, 81, 78, 81, 39,  0, 10, 51]])"
            ]
          },
          "metadata": {},
          "execution_count": 49
        }
      ],
      "source": [
        "Games[-3:-1]"
      ]
    },
    {
      "cell_type": "code",
      "execution_count": 50,
      "metadata": {
        "colab": {
          "base_uri": "https://localhost:8080/"
        },
        "id": "JWOGL8Ygipe7",
        "outputId": "72ec4a5c-a00b-401d-b4f7-ca05a5c6e79c"
      },
      "outputs": [
        {
          "output_type": "execute_result",
          "data": {
            "text/plain": [
              "np.int64(27)"
            ]
          },
          "metadata": {},
          "execution_count": 50
        }
      ],
      "source": [
        "Games[-3,-1]"
      ]
    },
    {
      "cell_type": "code",
      "execution_count": 51,
      "metadata": {
        "colab": {
          "base_uri": "https://localhost:8080/"
        },
        "id": "883d3itYipe7",
        "outputId": "03fee978-4b04-4d6d-ed95-321a94d2c981"
      },
      "outputs": [
        {
          "output_type": "execute_result",
          "data": {
            "text/plain": [
              "array([[2832, 2430, 2323, 2201, 1970, 2078, 1616, 2133,   83,  782],\n",
              "       [1653, 1426, 1779, 1688, 1619, 1312, 1129, 1170, 1245, 1154],\n",
              "       [2478, 2132, 2250, 2304, 2258, 2111, 1683, 2036, 2089, 1743],\n",
              "       [2122, 1881, 1978, 1504, 1943, 1970, 1245, 1920, 2112,  966],\n",
              "       [1292, 1443, 1695, 1624, 1503, 1784, 1113, 1296, 1297,  646],\n",
              "       [1572, 1561, 1496, 1746, 1678, 1438, 1025, 1232, 1281,  928],\n",
              "       [1258, 1104, 1684, 1781,  841, 1268, 1189, 1186, 1185, 1564],\n",
              "       [ 903,  903, 1624, 1871, 2472, 2161, 1850, 2280, 2593,  686],\n",
              "       [ 597,  597,  597, 1361, 1619, 2026,  852,    0,  159,  904],\n",
              "       [2040, 1397, 1254, 2386, 2045, 1941, 1082, 1463, 1028, 1331]])"
            ]
          },
          "metadata": {},
          "execution_count": 51
        }
      ],
      "source": [
        "Points"
      ]
    },
    {
      "cell_type": "code",
      "execution_count": 52,
      "metadata": {
        "colab": {
          "base_uri": "https://localhost:8080/"
        },
        "id": "c7QzFc7Aipe8",
        "outputId": "63673b85-35d9-4ecc-8877-7279def529ba"
      },
      "outputs": [
        {
          "output_type": "execute_result",
          "data": {
            "text/plain": [
              "array([2832, 2430, 2323, 2201, 1970, 2078, 1616, 2133,   83,  782])"
            ]
          },
          "metadata": {},
          "execution_count": 52
        }
      ],
      "source": [
        "Points[0]"
      ]
    },
    {
      "cell_type": "code",
      "execution_count": 53,
      "metadata": {
        "colab": {
          "base_uri": "https://localhost:8080/"
        },
        "id": "6my4sFs3ipe8",
        "outputId": "ed9c826d-5708-4d3a-8322-c9b8c4f42ec2"
      },
      "outputs": [
        {
          "output_type": "execute_result",
          "data": {
            "text/plain": [
              "array([[2832, 2430, 2323, 2201, 1970, 2078, 1616, 2133,   83,  782],\n",
              "       [1653, 1426, 1779, 1688, 1619, 1312, 1129, 1170, 1245, 1154],\n",
              "       [2478, 2132, 2250, 2304, 2258, 2111, 1683, 2036, 2089, 1743],\n",
              "       [2122, 1881, 1978, 1504, 1943, 1970, 1245, 1920, 2112,  966],\n",
              "       [1292, 1443, 1695, 1624, 1503, 1784, 1113, 1296, 1297,  646],\n",
              "       [1572, 1561, 1496, 1746, 1678, 1438, 1025, 1232, 1281,  928],\n",
              "       [1258, 1104, 1684, 1781,  841, 1268, 1189, 1186, 1185, 1564],\n",
              "       [ 903,  903, 1624, 1871, 2472, 2161, 1850, 2280, 2593,  686],\n",
              "       [ 597,  597,  597, 1361, 1619, 2026,  852,    0,  159,  904],\n",
              "       [2040, 1397, 1254, 2386, 2045, 1941, 1082, 1463, 1028, 1331]])"
            ]
          },
          "metadata": {},
          "execution_count": 53
        }
      ],
      "source": [
        "Points"
      ]
    },
    {
      "cell_type": "code",
      "execution_count": 54,
      "metadata": {
        "colab": {
          "base_uri": "https://localhost:8080/"
        },
        "id": "e74vJX1_ipe8",
        "outputId": "2836fc7c-ef3f-4c77-81cb-605f41d1fc63"
      },
      "outputs": [
        {
          "output_type": "execute_result",
          "data": {
            "text/plain": [
              "np.int64(1104)"
            ]
          },
          "metadata": {},
          "execution_count": 54
        }
      ],
      "source": [
        "Points[6,1]"
      ]
    },
    {
      "cell_type": "code",
      "execution_count": 55,
      "metadata": {
        "colab": {
          "base_uri": "https://localhost:8080/"
        },
        "id": "skoHTsMAipe8",
        "outputId": "2d8ffd31-b0bf-47e9-8936-b4d08519ab2a"
      },
      "outputs": [
        {
          "output_type": "execute_result",
          "data": {
            "text/plain": [
              "array([[2122, 1881, 1978, 1504, 1943, 1970, 1245, 1920, 2112,  966],\n",
              "       [1292, 1443, 1695, 1624, 1503, 1784, 1113, 1296, 1297,  646],\n",
              "       [1572, 1561, 1496, 1746, 1678, 1438, 1025, 1232, 1281,  928]])"
            ]
          },
          "metadata": {},
          "execution_count": 55
        }
      ],
      "source": [
        "Points[3:6]"
      ]
    },
    {
      "cell_type": "code",
      "execution_count": 56,
      "metadata": {
        "colab": {
          "base_uri": "https://localhost:8080/"
        },
        "id": "no8kjiI6ipe9",
        "outputId": "673345c4-474c-4d14-cf97-784ee6ddd3a8"
      },
      "outputs": [
        {
          "output_type": "execute_result",
          "data": {
            "text/plain": [
              "array([[2832, 2430, 2323, 2201, 1970, 2078, 1616, 2133,   83,  782],\n",
              "       [1653, 1426, 1779, 1688, 1619, 1312, 1129, 1170, 1245, 1154],\n",
              "       [2478, 2132, 2250, 2304, 2258, 2111, 1683, 2036, 2089, 1743],\n",
              "       [2122, 1881, 1978, 1504, 1943, 1970, 1245, 1920, 2112,  966],\n",
              "       [1292, 1443, 1695, 1624, 1503, 1784, 1113, 1296, 1297,  646],\n",
              "       [1572, 1561, 1496, 1746, 1678, 1438, 1025, 1232, 1281,  928],\n",
              "       [1258, 1104, 1684, 1781,  841, 1268, 1189, 1186, 1185, 1564],\n",
              "       [ 903,  903, 1624, 1871, 2472, 2161, 1850, 2280, 2593,  686],\n",
              "       [ 597,  597,  597, 1361, 1619, 2026,  852,    0,  159,  904],\n",
              "       [2040, 1397, 1254, 2386, 2045, 1941, 1082, 1463, 1028, 1331]])"
            ]
          },
          "metadata": {},
          "execution_count": 56
        }
      ],
      "source": [
        "Points"
      ]
    },
    {
      "cell_type": "code",
      "execution_count": 57,
      "metadata": {
        "colab": {
          "base_uri": "https://localhost:8080/"
        },
        "id": "7bID1CK6ipe9",
        "outputId": "1ede1e8c-03b2-4c49-c740-47694dae6b9f"
      },
      "outputs": [
        {
          "output_type": "execute_result",
          "data": {
            "text/plain": [
              "np.int64(646)"
            ]
          },
          "metadata": {},
          "execution_count": 57
        }
      ],
      "source": [
        "Points[-6,-1]"
      ]
    },
    {
      "cell_type": "code",
      "execution_count": 58,
      "metadata": {
        "id": "HFcCPBqLipe9"
      },
      "outputs": [],
      "source": [
        "#====== DICTIONARY =======#\n",
        "\n",
        "# dict does not maintain the order\n",
        "\n",
        "dict1 = {'key1':'val1', 'key2':'val2', 'key3':'val3'}"
      ]
    },
    {
      "cell_type": "code",
      "execution_count": 59,
      "metadata": {
        "colab": {
          "base_uri": "https://localhost:8080/"
        },
        "id": "gwL7Ody-ipe9",
        "outputId": "185fcddc-fbf5-4cb5-f185-9153717e9478"
      },
      "outputs": [
        {
          "output_type": "execute_result",
          "data": {
            "text/plain": [
              "{'key1': 'val1', 'key2': 'val2', 'key3': 'val3'}"
            ]
          },
          "metadata": {},
          "execution_count": 59
        }
      ],
      "source": [
        "dict1"
      ]
    },
    {
      "cell_type": "code",
      "execution_count": 60,
      "metadata": {
        "colab": {
          "base_uri": "https://localhost:8080/",
          "height": 35
        },
        "id": "01yNLUIaipe-",
        "outputId": "5b8d2a36-d2bb-4e21-c592-cf6c4327b432"
      },
      "outputs": [
        {
          "output_type": "execute_result",
          "data": {
            "text/plain": [
              "'val2'"
            ],
            "application/vnd.google.colaboratory.intrinsic+json": {
              "type": "string"
            }
          },
          "metadata": {},
          "execution_count": 60
        }
      ],
      "source": [
        "dict1['key2']"
      ]
    },
    {
      "cell_type": "code",
      "execution_count": 61,
      "metadata": {
        "id": "i5zPoo97ipe-"
      },
      "outputs": [],
      "source": [
        "dict2 = {'bang':2,'hyd':'we are hear', 'pune':True}"
      ]
    },
    {
      "cell_type": "code",
      "execution_count": 62,
      "metadata": {
        "colab": {
          "base_uri": "https://localhost:8080/"
        },
        "id": "LctuxiYnipe-",
        "outputId": "b95607a8-b8df-4456-83b7-845498d8bfd0"
      },
      "outputs": [
        {
          "output_type": "execute_result",
          "data": {
            "text/plain": [
              "{'bang': 2, 'hyd': 'we are hear', 'pune': True}"
            ]
          },
          "metadata": {},
          "execution_count": 62
        }
      ],
      "source": [
        "dict2"
      ]
    },
    {
      "cell_type": "code",
      "execution_count": 63,
      "metadata": {
        "id": "T5gknuCqipe-"
      },
      "outputs": [],
      "source": [
        "dict3 = {'Germany':'I have been here', 'France':2, 'Spain': True}"
      ]
    },
    {
      "cell_type": "code",
      "execution_count": 64,
      "metadata": {
        "colab": {
          "base_uri": "https://localhost:8080/"
        },
        "id": "L7JRrxW9ipe-",
        "outputId": "d61019e6-b483-4b77-9d0d-d262604dbebf"
      },
      "outputs": [
        {
          "output_type": "execute_result",
          "data": {
            "text/plain": [
              "{'Germany': 'I have been here', 'France': 2, 'Spain': True}"
            ]
          },
          "metadata": {},
          "execution_count": 64
        }
      ],
      "source": [
        "dict3"
      ]
    },
    {
      "cell_type": "code",
      "execution_count": 65,
      "metadata": {
        "colab": {
          "base_uri": "https://localhost:8080/",
          "height": 35
        },
        "id": "lQfk4ayBipe-",
        "outputId": "fdfd5aa5-efc6-4676-9f6f-f31d261fe5d9"
      },
      "outputs": [
        {
          "output_type": "execute_result",
          "data": {
            "text/plain": [
              "'I have been here'"
            ],
            "application/vnd.google.colaboratory.intrinsic+json": {
              "type": "string"
            }
          },
          "metadata": {},
          "execution_count": 65
        }
      ],
      "source": [
        "dict3['Germany']"
      ]
    },
    {
      "cell_type": "code",
      "execution_count": 66,
      "metadata": {
        "id": "msYD8n0-ipe_"
      },
      "outputs": [],
      "source": [
        "# if you check theat dataset seasons & players are dictionary type of data\n",
        "# if you look at the pdict players names are key part:nos are the values\n",
        "# dictionary can guide us which player at which level and which row\n",
        "# main advantage of the dictionary is we dont required to count which no row which players are sitting"
      ]
    },
    {
      "cell_type": "code",
      "execution_count": 67,
      "metadata": {
        "colab": {
          "base_uri": "https://localhost:8080/"
        },
        "id": "an4lRsARipe_",
        "outputId": "e273edb0-1e80-4a96-a3a3-1c8a4be27ad2"
      },
      "outputs": [
        {
          "output_type": "execute_result",
          "data": {
            "text/plain": [
              "array([[80, 77, 82, 82, 73, 82, 58, 78,  6, 35],\n",
              "       [82, 57, 82, 79, 76, 72, 60, 72, 79, 80],\n",
              "       [79, 78, 75, 81, 76, 79, 62, 76, 77, 69],\n",
              "       [80, 65, 77, 66, 69, 77, 55, 67, 77, 40],\n",
              "       [82, 82, 82, 79, 82, 78, 54, 76, 71, 41],\n",
              "       [70, 69, 67, 77, 70, 77, 57, 74, 79, 44],\n",
              "       [78, 64, 80, 78, 45, 80, 60, 70, 62, 82],\n",
              "       [35, 35, 80, 74, 82, 78, 66, 81, 81, 27],\n",
              "       [40, 40, 40, 81, 78, 81, 39,  0, 10, 51],\n",
              "       [75, 51, 51, 79, 77, 76, 49, 69, 54, 62]])"
            ]
          },
          "metadata": {},
          "execution_count": 67
        }
      ],
      "source": [
        "Games"
      ]
    },
    {
      "cell_type": "code",
      "execution_count": 68,
      "metadata": {
        "colab": {
          "base_uri": "https://localhost:8080/"
        },
        "id": "AvlaMxAJipe_",
        "outputId": "01cefad6-11ce-4ed2-bb6e-ee815dcb0531"
      },
      "outputs": [
        {
          "output_type": "execute_result",
          "data": {
            "text/plain": [
              "{'Sachin': 0,\n",
              " 'Rahul': 1,\n",
              " 'Smith': 2,\n",
              " 'Sami': 3,\n",
              " 'Pollard': 4,\n",
              " 'Morris': 5,\n",
              " 'Samson': 6,\n",
              " 'Dhoni': 7,\n",
              " 'Kohli': 8,\n",
              " 'Sky': 9}"
            ]
          },
          "metadata": {},
          "execution_count": 68
        }
      ],
      "source": [
        "Pdict"
      ]
    },
    {
      "cell_type": "code",
      "execution_count": 69,
      "metadata": {
        "colab": {
          "base_uri": "https://localhost:8080/"
        },
        "id": "IwjUjlx3ipe_",
        "outputId": "70be22b8-d9a3-412f-bedc-391345ab76ee"
      },
      "outputs": [
        {
          "output_type": "execute_result",
          "data": {
            "text/plain": [
              "0"
            ]
          },
          "metadata": {},
          "execution_count": 69
        }
      ],
      "source": [
        "# how do i know player kobebryant is at\n",
        "\n",
        "Pdict['Sachin']"
      ]
    },
    {
      "cell_type": "code",
      "execution_count": 70,
      "metadata": {
        "scrolled": true,
        "colab": {
          "base_uri": "https://localhost:8080/"
        },
        "id": "QK6hJ49KipfA",
        "outputId": "f1d74d35-4448-4553-fde7-da9001fbc786"
      },
      "outputs": [
        {
          "output_type": "execute_result",
          "data": {
            "text/plain": [
              "array([80, 77, 82, 82, 73, 82, 58, 78,  6, 35])"
            ]
          },
          "metadata": {},
          "execution_count": 70
        }
      ],
      "source": [
        "Games[0]"
      ]
    },
    {
      "cell_type": "code",
      "execution_count": 71,
      "metadata": {
        "colab": {
          "base_uri": "https://localhost:8080/"
        },
        "id": "XRzpLnOPipfA",
        "outputId": "9277c244-0aad-42c1-a184-6ef0afcb6dec"
      },
      "outputs": [
        {
          "output_type": "execute_result",
          "data": {
            "text/plain": [
              "array([[80, 77, 82, 82, 73, 82, 58, 78,  6, 35],\n",
              "       [82, 57, 82, 79, 76, 72, 60, 72, 79, 80],\n",
              "       [79, 78, 75, 81, 76, 79, 62, 76, 77, 69],\n",
              "       [80, 65, 77, 66, 69, 77, 55, 67, 77, 40],\n",
              "       [82, 82, 82, 79, 82, 78, 54, 76, 71, 41],\n",
              "       [70, 69, 67, 77, 70, 77, 57, 74, 79, 44],\n",
              "       [78, 64, 80, 78, 45, 80, 60, 70, 62, 82],\n",
              "       [35, 35, 80, 74, 82, 78, 66, 81, 81, 27],\n",
              "       [40, 40, 40, 81, 78, 81, 39,  0, 10, 51],\n",
              "       [75, 51, 51, 79, 77, 76, 49, 69, 54, 62]])"
            ]
          },
          "metadata": {},
          "execution_count": 71
        }
      ],
      "source": [
        "Games"
      ]
    },
    {
      "cell_type": "code",
      "execution_count": 72,
      "metadata": {
        "colab": {
          "base_uri": "https://localhost:8080/"
        },
        "id": "8Je09hJfipfA",
        "outputId": "51129d4d-5ff2-4afa-eb79-f6d932381330"
      },
      "outputs": [
        {
          "output_type": "execute_result",
          "data": {
            "text/plain": [
              "1"
            ]
          },
          "metadata": {},
          "execution_count": 72
        }
      ],
      "source": [
        "Pdict['Rahul']\n",
        "Pdict.get('Rahul')"
      ]
    },
    {
      "cell_type": "code",
      "execution_count": 73,
      "metadata": {
        "colab": {
          "base_uri": "https://localhost:8080/"
        },
        "id": "-wOQ0f6zipfA",
        "outputId": "63b3127c-bf8b-4462-8873-8d906338a1d1"
      },
      "outputs": [
        {
          "output_type": "execute_result",
          "data": {
            "text/plain": [
              "array([82, 57, 82, 79, 76, 72, 60, 72, 79, 80])"
            ]
          },
          "metadata": {},
          "execution_count": 73
        }
      ],
      "source": [
        "Games[1]"
      ]
    },
    {
      "cell_type": "markdown",
      "metadata": {
        "scrolled": true,
        "id": "aoAXwfgoipfA"
      },
      "source": [
        "# Games"
      ]
    },
    {
      "cell_type": "code",
      "execution_count": 74,
      "metadata": {
        "colab": {
          "base_uri": "https://localhost:8080/"
        },
        "id": "iS3iy9WJipfB",
        "outputId": "1e8fec9d-ac11-468a-f530-150b55518694"
      },
      "outputs": [
        {
          "output_type": "execute_result",
          "data": {
            "text/plain": [
              "array([82, 57, 82, 79, 76, 72, 60, 72, 79, 80])"
            ]
          },
          "metadata": {},
          "execution_count": 74
        }
      ],
      "source": [
        "Games[Pdict['Rahul']]"
      ]
    },
    {
      "cell_type": "code",
      "execution_count": 75,
      "metadata": {
        "colab": {
          "base_uri": "https://localhost:8080/"
        },
        "id": "z8k4QxhpipfB",
        "outputId": "c434ec57-8959-4140-e67d-b704bb5a67cd"
      },
      "outputs": [
        {
          "output_type": "execute_result",
          "data": {
            "text/plain": [
              "array([[2832, 2430, 2323, 2201, 1970, 2078, 1616, 2133,   83,  782],\n",
              "       [1653, 1426, 1779, 1688, 1619, 1312, 1129, 1170, 1245, 1154],\n",
              "       [2478, 2132, 2250, 2304, 2258, 2111, 1683, 2036, 2089, 1743],\n",
              "       [2122, 1881, 1978, 1504, 1943, 1970, 1245, 1920, 2112,  966],\n",
              "       [1292, 1443, 1695, 1624, 1503, 1784, 1113, 1296, 1297,  646],\n",
              "       [1572, 1561, 1496, 1746, 1678, 1438, 1025, 1232, 1281,  928],\n",
              "       [1258, 1104, 1684, 1781,  841, 1268, 1189, 1186, 1185, 1564],\n",
              "       [ 903,  903, 1624, 1871, 2472, 2161, 1850, 2280, 2593,  686],\n",
              "       [ 597,  597,  597, 1361, 1619, 2026,  852,    0,  159,  904],\n",
              "       [2040, 1397, 1254, 2386, 2045, 1941, 1082, 1463, 1028, 1331]])"
            ]
          },
          "metadata": {},
          "execution_count": 75
        }
      ],
      "source": [
        "Points"
      ]
    },
    {
      "cell_type": "code",
      "execution_count": 76,
      "metadata": {
        "colab": {
          "base_uri": "https://localhost:8080/"
        },
        "id": "PDJPwdHripfB",
        "outputId": "91c8dacc-7a14-418e-e83a-3c72691aeb70"
      },
      "outputs": [
        {
          "output_type": "execute_result",
          "data": {
            "text/plain": [
              "array([[15946875, 17718750, 19490625, 21262500, 23034375, 24806250,\n",
              "        25244493, 27849149, 30453805, 23500000],\n",
              "       [12000000, 12744189, 13488377, 14232567, 14976754, 16324500,\n",
              "        18038573, 19752645, 21466718, 23180790],\n",
              "       [ 4621800,  5828090, 13041250, 14410581, 15779912, 14500000,\n",
              "        16022500, 17545000, 19067500, 20644400],\n",
              "       [ 3713640,  4694041, 13041250, 14410581, 15779912, 17149243,\n",
              "        18518574, 19450000, 22407474, 22458000],\n",
              "       [ 4493160,  4806720,  6061274, 13758000, 15202590, 16647180,\n",
              "        18091770, 19536360, 20513178, 21436271],\n",
              "       [ 3348000,  4235220, 12455000, 14410581, 15779912, 14500000,\n",
              "        16022500, 17545000, 19067500, 20644400],\n",
              "       [ 3144240,  3380160,  3615960,  4574189, 13520500, 14940153,\n",
              "        16359805, 17779458, 18668431, 20068563],\n",
              "       [       0,        0,  4171200,  4484040,  4796880,  6053663,\n",
              "        15506632, 16669630, 17832627, 18995624],\n",
              "       [       0,        0,        0,  4822800,  5184480,  5546160,\n",
              "         6993708, 16402500, 17632688, 18862875],\n",
              "       [ 3031920,  3841443, 13041250, 14410581, 15779912, 14200000,\n",
              "        15691000, 17182000, 18673000, 15000000]])"
            ]
          },
          "metadata": {},
          "execution_count": 76
        }
      ],
      "source": [
        "Salary"
      ]
    },
    {
      "cell_type": "code",
      "execution_count": 77,
      "metadata": {
        "scrolled": true,
        "colab": {
          "base_uri": "https://localhost:8080/"
        },
        "id": "IVkUTEJcipfB",
        "outputId": "31966fc0-c94d-43fc-fd61-5f204a87b4e4"
      },
      "outputs": [
        {
          "output_type": "execute_result",
          "data": {
            "text/plain": [
              "np.int64(15779912)"
            ]
          },
          "metadata": {},
          "execution_count": 77
        }
      ],
      "source": [
        "Salary[2,4]"
      ]
    },
    {
      "cell_type": "code",
      "execution_count": 78,
      "metadata": {
        "colab": {
          "base_uri": "https://localhost:8080/"
        },
        "id": "W3JFD7yTipfB",
        "outputId": "8d0a9740-6c61-41e8-fab0-b4963c6940e0"
      },
      "outputs": [
        {
          "output_type": "execute_result",
          "data": {
            "text/plain": [
              "array([[15946875, 17718750, 19490625, 21262500, 23034375, 24806250,\n",
              "        25244493, 27849149, 30453805, 23500000],\n",
              "       [12000000, 12744189, 13488377, 14232567, 14976754, 16324500,\n",
              "        18038573, 19752645, 21466718, 23180790],\n",
              "       [ 4621800,  5828090, 13041250, 14410581, 15779912, 14500000,\n",
              "        16022500, 17545000, 19067500, 20644400],\n",
              "       [ 3713640,  4694041, 13041250, 14410581, 15779912, 17149243,\n",
              "        18518574, 19450000, 22407474, 22458000],\n",
              "       [ 4493160,  4806720,  6061274, 13758000, 15202590, 16647180,\n",
              "        18091770, 19536360, 20513178, 21436271],\n",
              "       [ 3348000,  4235220, 12455000, 14410581, 15779912, 14500000,\n",
              "        16022500, 17545000, 19067500, 20644400],\n",
              "       [ 3144240,  3380160,  3615960,  4574189, 13520500, 14940153,\n",
              "        16359805, 17779458, 18668431, 20068563],\n",
              "       [       0,        0,  4171200,  4484040,  4796880,  6053663,\n",
              "        15506632, 16669630, 17832627, 18995624],\n",
              "       [       0,        0,        0,  4822800,  5184480,  5546160,\n",
              "         6993708, 16402500, 17632688, 18862875],\n",
              "       [ 3031920,  3841443, 13041250, 14410581, 15779912, 14200000,\n",
              "        15691000, 17182000, 18673000, 15000000]])"
            ]
          },
          "metadata": {},
          "execution_count": 78
        }
      ],
      "source": [
        "Salary"
      ]
    },
    {
      "cell_type": "code",
      "execution_count": 79,
      "metadata": {
        "colab": {
          "base_uri": "https://localhost:8080/"
        },
        "id": "6PyqBnQHipfB",
        "outputId": "81d01a41-bdd2-4d86-fb80-b15c3ded1dfa"
      },
      "outputs": [
        {
          "output_type": "execute_result",
          "data": {
            "text/plain": [
              "np.int64(15000000)"
            ]
          },
          "metadata": {},
          "execution_count": 79
        }
      ],
      "source": [
        "Salary[Pdict['Sky'],Sdict['2019']]"
      ]
    },
    {
      "cell_type": "code",
      "execution_count": 80,
      "metadata": {
        "colab": {
          "base_uri": "https://localhost:8080/"
        },
        "id": "sML57JKMipfB",
        "outputId": "5c6e352e-756f-49a4-a7dd-e10a5db176b2"
      },
      "outputs": [
        {
          "output_type": "execute_result",
          "data": {
            "text/plain": [
              "array([[15946875, 17718750, 19490625, 21262500, 23034375, 24806250,\n",
              "        25244493, 27849149, 30453805, 23500000],\n",
              "       [12000000, 12744189, 13488377, 14232567, 14976754, 16324500,\n",
              "        18038573, 19752645, 21466718, 23180790],\n",
              "       [ 4621800,  5828090, 13041250, 14410581, 15779912, 14500000,\n",
              "        16022500, 17545000, 19067500, 20644400],\n",
              "       [ 3713640,  4694041, 13041250, 14410581, 15779912, 17149243,\n",
              "        18518574, 19450000, 22407474, 22458000],\n",
              "       [ 4493160,  4806720,  6061274, 13758000, 15202590, 16647180,\n",
              "        18091770, 19536360, 20513178, 21436271],\n",
              "       [ 3348000,  4235220, 12455000, 14410581, 15779912, 14500000,\n",
              "        16022500, 17545000, 19067500, 20644400],\n",
              "       [ 3144240,  3380160,  3615960,  4574189, 13520500, 14940153,\n",
              "        16359805, 17779458, 18668431, 20068563],\n",
              "       [       0,        0,  4171200,  4484040,  4796880,  6053663,\n",
              "        15506632, 16669630, 17832627, 18995624],\n",
              "       [       0,        0,        0,  4822800,  5184480,  5546160,\n",
              "         6993708, 16402500, 17632688, 18862875],\n",
              "       [ 3031920,  3841443, 13041250, 14410581, 15779912, 14200000,\n",
              "        15691000, 17182000, 18673000, 15000000]])"
            ]
          },
          "metadata": {},
          "execution_count": 80
        }
      ],
      "source": [
        "Salary"
      ]
    },
    {
      "cell_type": "code",
      "execution_count": 81,
      "metadata": {
        "colab": {
          "base_uri": "https://localhost:8080/"
        },
        "id": "OiMcId78ipfC",
        "outputId": "0432a263-8fc2-4c92-cc02-483954ed2265"
      },
      "outputs": [
        {
          "output_type": "execute_result",
          "data": {
            "text/plain": [
              "array([[80, 77, 82, 82, 73, 82, 58, 78,  6, 35],\n",
              "       [82, 57, 82, 79, 76, 72, 60, 72, 79, 80],\n",
              "       [79, 78, 75, 81, 76, 79, 62, 76, 77, 69],\n",
              "       [80, 65, 77, 66, 69, 77, 55, 67, 77, 40],\n",
              "       [82, 82, 82, 79, 82, 78, 54, 76, 71, 41],\n",
              "       [70, 69, 67, 77, 70, 77, 57, 74, 79, 44],\n",
              "       [78, 64, 80, 78, 45, 80, 60, 70, 62, 82],\n",
              "       [35, 35, 80, 74, 82, 78, 66, 81, 81, 27],\n",
              "       [40, 40, 40, 81, 78, 81, 39,  0, 10, 51],\n",
              "       [75, 51, 51, 79, 77, 76, 49, 69, 54, 62]])"
            ]
          },
          "metadata": {},
          "execution_count": 81
        }
      ],
      "source": [
        "Games"
      ]
    },
    {
      "cell_type": "code",
      "source": [
        "import numpy as np\n",
        "a1 = np.array([1, 2, 3])\n",
        "a2 = np.array(['a', 'b', 'c'])\n",
        "\n",
        "zipped = zip(a1, a2)\n",
        "'''\n",
        "The zip(a1, a2) function in Python takes two or more iterables (like lists or arrays) and returns an iterator of tuples,\n",
        "where each tuple contains elements from the iterables at the same position.\n",
        "Essentially, it pairs up elements from a1 and a2 based on their positions.\n",
        "\n",
        "The output <zip object at 0x7d932858ce00> indicates that zip(a1, a2) returns a zip object, which is an iterator.\n",
        "This object doesn't directly display its contents when printed; instead, it shows its memory address.\n",
        "To see the contents of the zip object, you need to convert it to a list or iterate over it.\n",
        "'''\n",
        "print(zipped)\n",
        "print(list(zipped))\n"
      ],
      "metadata": {
        "colab": {
          "base_uri": "https://localhost:8080/"
        },
        "id": "q1Mtpq-Vv7eT",
        "outputId": "1b7bef10-7126-4ee9-f210-7e8ae36533ab"
      },
      "execution_count": 6,
      "outputs": [
        {
          "output_type": "stream",
          "name": "stdout",
          "text": [
            "<zip object at 0x7d932839ccc0>\n",
            "[(np.int64(1), np.str_('a')), (np.int64(2), np.str_('b')), (np.int64(3), np.str_('c'))]\n"
          ]
        }
      ]
    },
    {
      "cell_type": "code",
      "source": [
        "import numpy as np\n",
        "array_2d = np.array([\n",
        "    [1, 2, 3],\n",
        "    [4, 5, 6],\n",
        "    [7, 8, 9]\n",
        "])\n",
        "condition = array_2d > 5\n",
        "print(condition)\n",
        "print(array_2d[condition])\n",
        "result = np.where(condition)\n",
        "\n",
        "print(\"Result of np.where(condition):\", result)\n",
        "print(\"type:\", type(result))\n",
        "print(\"Row indices:\", result[0])\n",
        "print(\"Column indices:\", result[1])\n",
        "\n",
        "print('Element is :', array_2d[result[0][0], result[1][0]])"
      ],
      "metadata": {
        "colab": {
          "base_uri": "https://localhost:8080/"
        },
        "id": "9RCl3RZhxTFo",
        "outputId": "d7ac8565-0ea9-414a-fa8d-2d848811ae1c"
      },
      "execution_count": 82,
      "outputs": [
        {
          "output_type": "stream",
          "name": "stdout",
          "text": [
            "[[False False False]\n",
            " [False False  True]\n",
            " [ True  True  True]]\n",
            "[6 7 8 9]\n",
            "Result of np.where(condition): (array([1, 2, 2, 2]), array([2, 0, 1, 2]))\n",
            "type: <class 'tuple'>\n",
            "Row indices: [1 2 2 2]\n",
            "Column indices: [2 0 1 2]\n",
            "Element is : 6\n"
          ]
        }
      ]
    },
    {
      "cell_type": "code",
      "source": [
        "Games"
      ],
      "metadata": {
        "colab": {
          "base_uri": "https://localhost:8080/"
        },
        "id": "wBGmoXkq1P8I",
        "outputId": "6b16e965-0184-4d52-a009-854242a1346d"
      },
      "execution_count": 83,
      "outputs": [
        {
          "output_type": "execute_result",
          "data": {
            "text/plain": [
              "array([[80, 77, 82, 82, 73, 82, 58, 78,  6, 35],\n",
              "       [82, 57, 82, 79, 76, 72, 60, 72, 79, 80],\n",
              "       [79, 78, 75, 81, 76, 79, 62, 76, 77, 69],\n",
              "       [80, 65, 77, 66, 69, 77, 55, 67, 77, 40],\n",
              "       [82, 82, 82, 79, 82, 78, 54, 76, 71, 41],\n",
              "       [70, 69, 67, 77, 70, 77, 57, 74, 79, 44],\n",
              "       [78, 64, 80, 78, 45, 80, 60, 70, 62, 82],\n",
              "       [35, 35, 80, 74, 82, 78, 66, 81, 81, 27],\n",
              "       [40, 40, 40, 81, 78, 81, 39,  0, 10, 51],\n",
              "       [75, 51, 51, 79, 77, 76, 49, 69, 54, 62]])"
            ]
          },
          "metadata": {},
          "execution_count": 83
        }
      ]
    },
    {
      "cell_type": "code",
      "source": [
        "# Condition to get players who played less than 50 games in each season.\n",
        "condition = Games < 50\n",
        "# Get the rows and columns that match the condition\n",
        "rows_columns = np.where(condition)\n",
        "players_seasons_less_than_50_games = {}\n",
        "print(type(players_seasons_less_than_50_games))\n",
        "print('rows and columns tuple ', rows_columns)\n",
        "print('rows and columns tuple ', rows_columns[0])\n",
        "print('rows and columns tuple ', rows_columns[1])\n",
        "print('Games ->', Games[rows_columns[0],rows_columns[1]])\n",
        "print('Player ->', Players[0])\n",
        "print(type(rows_columns[0]))\n",
        "print('count of 0', np.count_nonzero(rows_columns[0] == 0))\n",
        "unique_rows = np.unique(rows_columns[0])\n",
        "print(unique_rows)\n",
        "print(type(unique_rows))\n",
        "\n",
        "for i in unique_rows:\n",
        "  print('Player ', Players[i])\n",
        "  print('Number of ', i,'\\'s is ',np.count_nonzero(rows_columns[0] == i))\n",
        "  count = np.count_nonzero(rows_columns[0] == i)\n",
        "  for j in range(count):\n",
        "      print('Season ', Seasons[j])\n",
        "      #players_seasons_less_than_50_games[Players[i]] = Seasons[j]\n",
        "\n",
        "#print(players_seasons_less_than_50_games)"
      ],
      "metadata": {
        "colab": {
          "base_uri": "https://localhost:8080/"
        },
        "id": "fqSZ1-ldu8VN",
        "outputId": "4ee82a56-efab-4c10-f457-a102f959430f"
      },
      "execution_count": 157,
      "outputs": [
        {
          "output_type": "stream",
          "name": "stdout",
          "text": [
            "<class 'dict'>\n",
            "rows and columns tuple  (array([0, 0, 3, 4, 5, 6, 7, 7, 7, 8, 8, 8, 8, 8, 8, 9]), array([8, 9, 9, 9, 9, 4, 0, 1, 9, 0, 1, 2, 6, 7, 8, 6]))\n",
            "rows and columns tuple  [0 0 3 4 5 6 7 7 7 8 8 8 8 8 8 9]\n",
            "rows and columns tuple  [8 9 9 9 9 4 0 1 9 0 1 2 6 7 8 6]\n",
            "Games -> [ 6 35 40 41 44 45 35 35 27 40 40 40 39  0 10 49]\n",
            "Player -> Sachin\n",
            "<class 'numpy.ndarray'>\n",
            "count of 0 2\n",
            "[0 3 4 5 6 7 8 9]\n",
            "<class 'numpy.ndarray'>\n",
            "Player  Sachin\n",
            "Number of  0 's is  2\n",
            "Season  2010\n",
            "Season  2011\n",
            "Player  Sami\n",
            "Number of  3 's is  1\n",
            "Season  2010\n",
            "Player  Pollard\n",
            "Number of  4 's is  1\n",
            "Season  2010\n",
            "Player  Morris\n",
            "Number of  5 's is  1\n",
            "Season  2010\n",
            "Player  Samson\n",
            "Number of  6 's is  1\n",
            "Season  2010\n",
            "Player  Dhoni\n",
            "Number of  7 's is  3\n",
            "Season  2010\n",
            "Season  2011\n",
            "Season  2012\n",
            "Player  Kohli\n",
            "Number of  8 's is  6\n",
            "Season  2010\n",
            "Season  2011\n",
            "Season  2012\n",
            "Season  2013\n",
            "Season  2014\n",
            "Season  2015\n",
            "Player  Sky\n",
            "Number of  9 's is  1\n",
            "Season  2010\n"
          ]
        }
      ]
    },
    {
      "cell_type": "code",
      "source": [
        "def form_dict_from_arrays(a1, a2):\n",
        "    result_dict = {}\n",
        "    for key, value in zip(a1, a2):\n",
        "        if key in result_dict:\n",
        "            result_dict[key].append(value)\n",
        "        else:\n",
        "            result_dict[key] = [value]\n",
        "    return result_dict\n",
        "\n",
        "# Input arrays\n",
        "a1 = np.array([0, 0, 3, 4, 5, 6, 7, 7, 7, 8, 8, 8, 8, 8, 8, 9])\n",
        "a2 = np.array([8, 9, 9, 9, 9, 4, 0, 1, 9, 0, 1, 2, 6, 7, 8, 6])\n",
        "\n",
        "# Form the dictionary\n",
        "result = form_dict_from_arrays(a1, a2)\n",
        "print(result[0][1])\n"
      ],
      "metadata": {
        "colab": {
          "base_uri": "https://localhost:8080/"
        },
        "id": "vtn6t196Uml7",
        "outputId": "2f3a9305-0fa9-430a-ffde-b714a649ace5"
      },
      "execution_count": 164,
      "outputs": [
        {
          "output_type": "stream",
          "name": "stdout",
          "text": [
            "9\n"
          ]
        }
      ]
    },
    {
      "cell_type": "code",
      "source": [
        "\n",
        "import numpy as np\n",
        "\n",
        "def count_occurrences(arr, element):\n",
        "  return np.count_nonzero(arr == element)\n",
        "\n",
        "# Example usage:\n",
        "array = np.array([1, 0, 3, 4, 0, 2, 5])\n",
        "element_to_count = 0\n",
        "count = count_occurrences(array, element_to_count)\n",
        "print(count)"
      ],
      "metadata": {
        "colab": {
          "base_uri": "https://localhost:8080/"
        },
        "id": "ScJ-WqefOGku",
        "outputId": "6fe92cb7-1ac1-49fe-d8e9-e1d4ce237533"
      },
      "execution_count": 145,
      "outputs": [
        {
          "output_type": "stream",
          "name": "stdout",
          "text": [
            "2\n"
          ]
        }
      ]
    },
    {
      "cell_type": "code",
      "execution_count": 85,
      "metadata": {
        "scrolled": true,
        "colab": {
          "base_uri": "https://localhost:8080/"
        },
        "id": "7sGZni3YipfC",
        "outputId": "1362fcb6-ae32-4788-a384-017928c86d0d"
      },
      "outputs": [
        {
          "output_type": "stream",
          "name": "stderr",
          "text": [
            "<ipython-input-85-f32b113131f8>:1: RuntimeWarning: divide by zero encountered in divide\n",
            "  Salary/Games\n"
          ]
        },
        {
          "output_type": "execute_result",
          "data": {
            "text/plain": [
              "array([[ 199335.9375    ,  230113.63636364,  237690.54878049,\n",
              "         259298.7804878 ,  315539.38356164,  302515.24390244,\n",
              "         435249.87931034,  357040.37179487, 5075634.16666667,\n",
              "         671428.57142857],\n",
              "       [ 146341.46341463,  223582.26315789,  164492.40243902,\n",
              "         180159.07594937,  197062.55263158,  226729.16666667,\n",
              "         300642.88333333,  274342.29166667,  271730.60759494,\n",
              "         289759.875     ],\n",
              "       [  58503.79746835,   74719.1025641 ,  173883.33333333,\n",
              "         177908.40740741,  207630.42105263,  183544.30379747,\n",
              "         258427.41935484,  230855.26315789,  247629.87012987,\n",
              "         299194.20289855],\n",
              "       [  46420.5       ,   72216.01538462,  169366.88311688,\n",
              "         218342.13636364,  228694.37681159,  222717.44155844,\n",
              "         336701.34545455,  290298.50746269,  291006.15584416,\n",
              "         561450.        ],\n",
              "       [  54794.63414634,   58618.53658537,   73917.97560976,\n",
              "         174151.89873418,  185397.43902439,  213425.38461538,\n",
              "         335032.77777778,  257057.36842105,  288918.        ,\n",
              "         522835.87804878],\n",
              "       [  47828.57142857,   61380.        ,  185895.52238806,\n",
              "         187150.4025974 ,  225427.31428571,  188311.68831169,\n",
              "         281096.49122807,  237094.59459459,  241360.75949367,\n",
              "         469190.90909091],\n",
              "       [  40310.76923077,   52815.        ,   45199.5       ,\n",
              "          58643.44871795,  300455.55555556,  186751.9125    ,\n",
              "         272663.41666667,  253992.25714286,  301103.72580645,\n",
              "         244738.57317073],\n",
              "       [      0.        ,       0.        ,   52140.        ,\n",
              "          60595.13513514,   58498.53658537,   77611.06410256,\n",
              "         234948.96969697,  205797.90123457,  220155.88888889,\n",
              "         703541.62962963],\n",
              "       [      0.        ,       0.        ,       0.        ,\n",
              "          59540.74074074,   66467.69230769,   68471.11111111,\n",
              "         179325.84615385,              inf, 1763268.8       ,\n",
              "         369860.29411765],\n",
              "       [  40425.6       ,   75322.41176471,  255710.78431373,\n",
              "         182412.41772152,  204933.92207792,  186842.10526316,\n",
              "         320224.48979592,  249014.49275362,  345796.2962963 ,\n",
              "         241935.48387097]])"
            ]
          },
          "metadata": {},
          "execution_count": 85
        }
      ],
      "source": [
        "Salary/Games"
      ]
    },
    {
      "cell_type": "code",
      "execution_count": 86,
      "metadata": {
        "colab": {
          "base_uri": "https://localhost:8080/"
        },
        "id": "-cRhEv7mipfD",
        "outputId": "56249309-e6bd-4dd1-e0b1-dcb5cf46da7a"
      },
      "outputs": [
        {
          "output_type": "stream",
          "name": "stderr",
          "text": [
            "<ipython-input-86-5820f5b6c283>:1: RuntimeWarning: divide by zero encountered in divide\n",
            "  np.round(Salary/Games)\n"
          ]
        },
        {
          "output_type": "execute_result",
          "data": {
            "text/plain": [
              "array([[ 199336.,  230114.,  237691.,  259299.,  315539.,  302515.,\n",
              "         435250.,  357040., 5075634.,  671429.],\n",
              "       [ 146341.,  223582.,  164492.,  180159.,  197063.,  226729.,\n",
              "         300643.,  274342.,  271731.,  289760.],\n",
              "       [  58504.,   74719.,  173883.,  177908.,  207630.,  183544.,\n",
              "         258427.,  230855.,  247630.,  299194.],\n",
              "       [  46420.,   72216.,  169367.,  218342.,  228694.,  222717.,\n",
              "         336701.,  290299.,  291006.,  561450.],\n",
              "       [  54795.,   58619.,   73918.,  174152.,  185397.,  213425.,\n",
              "         335033.,  257057.,  288918.,  522836.],\n",
              "       [  47829.,   61380.,  185896.,  187150.,  225427.,  188312.,\n",
              "         281096.,  237095.,  241361.,  469191.],\n",
              "       [  40311.,   52815.,   45200.,   58643.,  300456.,  186752.,\n",
              "         272663.,  253992.,  301104.,  244739.],\n",
              "       [      0.,       0.,   52140.,   60595.,   58499.,   77611.,\n",
              "         234949.,  205798.,  220156.,  703542.],\n",
              "       [      0.,       0.,       0.,   59541.,   66468.,   68471.,\n",
              "         179326.,      inf, 1763269.,  369860.],\n",
              "       [  40426.,   75322.,  255711.,  182412.,  204934.,  186842.,\n",
              "         320224.,  249014.,  345796.,  241935.]])"
            ]
          },
          "metadata": {},
          "execution_count": 86
        }
      ],
      "source": [
        "np.round(Salary/Games)"
      ]
    },
    {
      "cell_type": "code",
      "execution_count": 87,
      "metadata": {
        "id": "TPSm7TT3ipfD"
      },
      "outputs": [],
      "source": [
        "import warnings\n",
        "warnings.filterwarnings('ignore')\n",
        "#np.round(FieldGoals/Games)\n",
        "#FieldGoals/Games  # this matrix is lot of decimal points yo can not round\n",
        "#round()"
      ]
    },
    {
      "cell_type": "code",
      "execution_count": 88,
      "metadata": {
        "id": "oIXh-KSiipfD"
      },
      "outputs": [],
      "source": [
        "## --- First visualization ----##"
      ]
    },
    {
      "cell_type": "code",
      "execution_count": 91,
      "metadata": {
        "id": "gnWTdHA-ipfD"
      },
      "outputs": [],
      "source": [
        "import numpy as np\n",
        "import matplotlib.pyplot as plt"
      ]
    },
    {
      "cell_type": "code",
      "execution_count": 90,
      "metadata": {
        "colab": {
          "base_uri": "https://localhost:8080/"
        },
        "id": "IAIXAp_nipfD",
        "outputId": "bff7664f-8df4-4628-ce49-58972fdc5ebb"
      },
      "outputs": [
        {
          "output_type": "stream",
          "name": "stderr",
          "text": [
            "UsageError: unrecognized arguments: # keep the plot inside jupyter nots insted of getting in other screen\n"
          ]
        }
      ],
      "source": [
        "%matplotlib inline # keep the plot inside jupyter nots insted of getting in other screen"
      ]
    },
    {
      "cell_type": "code",
      "execution_count": null,
      "metadata": {
        "id": "Tc892g5CipfE"
      },
      "outputs": [],
      "source": [
        "Salary"
      ]
    },
    {
      "cell_type": "code",
      "execution_count": null,
      "metadata": {
        "id": "HFaaw2CNipfE"
      },
      "outputs": [],
      "source": [
        "Salary[0]"
      ]
    },
    {
      "cell_type": "code",
      "execution_count": null,
      "metadata": {
        "scrolled": true,
        "id": "EjNlLwLlipfE"
      },
      "outputs": [],
      "source": [
        "plt.plot(Salary[0])"
      ]
    },
    {
      "cell_type": "code",
      "execution_count": null,
      "metadata": {
        "id": "8DIlPvROipfE"
      },
      "outputs": [],
      "source": [
        "plt.plot(Salary[0], c='red')"
      ]
    },
    {
      "cell_type": "code",
      "execution_count": null,
      "metadata": {
        "id": "B1DxptusipfE"
      },
      "outputs": [],
      "source": [
        "%matplotlib inline\n",
        "plt.rcParams['figure.figsize'] = 10,6"
      ]
    },
    {
      "cell_type": "code",
      "execution_count": null,
      "metadata": {
        "scrolled": false,
        "id": "emyhTGreipfF"
      },
      "outputs": [],
      "source": [
        "plt.plot(Salary[0], c='Blue', ls = 'dashed')"
      ]
    },
    {
      "cell_type": "code",
      "execution_count": null,
      "metadata": {
        "id": "GVEloFUCipfF"
      },
      "outputs": [],
      "source": [
        "plt.plot(Salary[0], c='Green', ls = '--', marker = 's') # s - squares"
      ]
    },
    {
      "cell_type": "code",
      "execution_count": null,
      "metadata": {
        "id": "QvTy-VHWipfF"
      },
      "outputs": [],
      "source": [
        "%matplotlib inline\n",
        "plt.rcParams['figure.figsize'] = 10,8 #runtime configuration parameter"
      ]
    },
    {
      "cell_type": "code",
      "execution_count": null,
      "metadata": {
        "id": "LQgelrboipfF"
      },
      "outputs": [],
      "source": [
        "plt.plot(Salary[0], c='Green', ls = '--', marker = 's', ms = 10)\n",
        "plt.show()"
      ]
    },
    {
      "cell_type": "code",
      "execution_count": null,
      "metadata": {
        "id": "BaJyR3QWipfF"
      },
      "outputs": [],
      "source": [
        "list(range(0,10))"
      ]
    },
    {
      "cell_type": "code",
      "execution_count": null,
      "metadata": {
        "id": "sCdMDMuiipfG"
      },
      "outputs": [],
      "source": [
        "Sdict"
      ]
    },
    {
      "cell_type": "code",
      "execution_count": null,
      "metadata": {
        "id": "5V_NsPBjipfG"
      },
      "outputs": [],
      "source": [
        "Pdict"
      ]
    },
    {
      "cell_type": "code",
      "execution_count": null,
      "metadata": {
        "id": "8Zb47p0FipfG"
      },
      "outputs": [],
      "source": [
        "plt.plot(Salary[0], c='Green', ls = '--', marker = 's', ms = 7)\n",
        "plt.xticks(list(range(0,10)), Seasons)\n",
        "plt.show()"
      ]
    },
    {
      "cell_type": "code",
      "execution_count": null,
      "metadata": {
        "scrolled": true,
        "id": "YPl5toP6ipfH"
      },
      "outputs": [],
      "source": [
        "plt.plot(Salary[0], c='Green', ls = ':', marker = 's', ms = 7, label = Players[0])\n",
        "plt.xticks(list(range(0,10)), Seasons,rotation='vertical')\n",
        "plt.show()"
      ]
    },
    {
      "cell_type": "code",
      "execution_count": null,
      "metadata": {
        "id": "898Z9Sr4ipfH"
      },
      "outputs": [],
      "source": [
        "Games"
      ]
    },
    {
      "cell_type": "code",
      "execution_count": null,
      "metadata": {
        "id": "XLX967j1ipfH"
      },
      "outputs": [],
      "source": [
        "plt.plot(Salary[0], c='Green', ls = '--', marker = 's', ms = 7, label = Players[0])\n",
        "plt.xticks(list(range(0,10)), Seasons,rotation='horizontal')\n",
        "plt.show()"
      ]
    },
    {
      "cell_type": "code",
      "execution_count": null,
      "metadata": {
        "id": "_fW_5usoipfI"
      },
      "outputs": [],
      "source": [
        "Salary[0]"
      ]
    },
    {
      "cell_type": "code",
      "execution_count": null,
      "metadata": {
        "id": "rVpssuR1ipfI"
      },
      "outputs": [],
      "source": [
        "Salary[1]"
      ]
    },
    {
      "cell_type": "code",
      "execution_count": null,
      "metadata": {
        "id": "A565Z0HEipfI"
      },
      "outputs": [],
      "source": [
        "plt.plot(Salary[1], c='Blue', ls = ':', marker = 'o', ms = 10, label = Players[1])"
      ]
    },
    {
      "cell_type": "code",
      "execution_count": null,
      "metadata": {
        "id": "4szVr9hPipfI"
      },
      "outputs": [],
      "source": [
        "# More visualization"
      ]
    },
    {
      "cell_type": "code",
      "execution_count": null,
      "metadata": {
        "id": "-iwTx51EipfI"
      },
      "outputs": [],
      "source": [
        "plt.plot(Salary[0], c='Green', ls = '--', marker = 's', ms = 10, label = Players[0])\n",
        "plt.plot(Salary[1], c='Blue', ls = ':', marker = 'o', ms = 10, label = Players[1])\n",
        "\n",
        "plt.xticks(list(range(0,10)), Seasons,rotation='vertical')\n",
        "\n",
        "plt.show()"
      ]
    },
    {
      "cell_type": "code",
      "execution_count": null,
      "metadata": {
        "id": "sswvUCVdipfJ"
      },
      "outputs": [],
      "source": [
        "plt.plot(Salary[0], c='Green', ls = '--', marker = 's', ms = 7, label = Players[0])\n",
        "plt.plot(Salary[1], c='Blue', ls = '--', marker = 'o', ms = 5, label = Players[1])\n",
        "plt.plot(Salary[2], c='purple', ls = '--', marker = '^', ms = 8, label = Players[2])\n",
        "\n",
        "\n",
        "plt.xticks(list(range(0,10)), Seasons,rotation='vertical')\n",
        "\n",
        "plt.show()"
      ]
    },
    {
      "cell_type": "code",
      "execution_count": null,
      "metadata": {
        "id": "-f4iBRFLipfJ"
      },
      "outputs": [],
      "source": [
        "plt.plot(Salary[0], c='Green', ls = '--', marker = 's', ms = 7, label = Players[0])\n",
        "plt.plot(Salary[1], c='Blue', ls = '-', marker = 'o', ms = 5, label = Players[1])\n",
        "plt.plot(Salary[2], c='purple', ls = '--', marker = '^', ms = 8, label = Players[2])\n",
        "plt.plot(Salary[3], c='Red', ls = ':', marker = 'd', ms = 8, label = Players[3])\n",
        "\n",
        "plt.xticks(list(range(0,10)), Seasons,rotation='vertical')\n",
        "\n",
        "plt.show()"
      ]
    },
    {
      "cell_type": "code",
      "execution_count": null,
      "metadata": {
        "id": "WWmZPhF2ipfJ"
      },
      "outputs": [],
      "source": [
        "# how to add legned in visualisation\n",
        "\n",
        "plt.plot(Salary[0], c='Green', ls = '--', marker = 's', ms = 7, label = Players[0])\n",
        "plt.plot(Salary[1], c='Blue', ls = ':', marker = 'o', ms = 5, label = Players[1])\n",
        "plt.plot(Salary[2], c='purple', ls = '-', marker = '^', ms = 8, label = Players[2])\n",
        "plt.plot(Salary[3], c='Red', ls = '--', marker = 'd', ms = 8, label = Players[3])\n",
        "plt.legend()\n",
        "plt.xticks(list(range(0,10)), Seasons,rotation='vertical')\n",
        "\n",
        "plt.show()"
      ]
    },
    {
      "cell_type": "code",
      "execution_count": null,
      "metadata": {
        "id": "Vm9BjoKYipfJ"
      },
      "outputs": [],
      "source": [
        "plt.plot(Salary[0], c='Green', ls = '--', marker = 's', ms = 7, label = Players[0])\n",
        "plt.plot(Salary[1], c='Blue', ls = '--', marker = 'o', ms = 5, label = Players[1])\n",
        "plt.plot(Salary[2], c='purple', ls = '--', marker = '^', ms = 8, label = Players[2])\n",
        "plt.plot(Salary[3], c='Red', ls = '--', marker = 'd', ms = 8, label = Players[3])\n",
        "plt.legend(loc = 'upper left',bbox_to_anchor=(0,0) )\n",
        "plt.xticks(list(range(0,10)), Seasons,rotation='vertical')\n",
        "\n",
        "plt.show()"
      ]
    },
    {
      "cell_type": "code",
      "execution_count": null,
      "metadata": {
        "id": "RdlLoLv1ipfK"
      },
      "outputs": [],
      "source": [
        "plt.plot(Salary[0], c='Green', ls = '--', marker = 's', ms = 7, label = Players[0])\n",
        "plt.plot(Salary[1], c='Blue', ls = '--', marker = 'o', ms = 5, label = Players[1])\n",
        "plt.plot(Salary[2], c='Green', ls = '--', marker = '^', ms = 8, label = Players[2])\n",
        "plt.plot(Salary[3], c='Red', ls = '--', marker = 'd', ms = 8, label = Players[3])\n",
        "plt.legend(loc = 'upper right',bbox_to_anchor=(1,0) )\n",
        "plt.xticks(list(range(0,10)), Seasons,rotation='vertical')\n",
        "\n",
        "plt.show()"
      ]
    },
    {
      "cell_type": "code",
      "execution_count": null,
      "metadata": {
        "id": "eUgEEfv9ipfK"
      },
      "outputs": [],
      "source": [
        "plt.plot(Salary[0], c='Green', ls = '--', marker = 's', ms = 7, label = Players[0])\n",
        "plt.plot(Salary[1], c='Blue', ls = '--', marker = 'o', ms = 5, label = Players[1])\n",
        "plt.plot(Salary[2], c='Green', ls = '--', marker = '^', ms = 8, label = Players[2])\n",
        "plt.plot(Salary[3], c='Red', ls = '--', marker = 'd', ms = 8, label = Players[3])\n",
        "plt.legend(loc = 'lower right',bbox_to_anchor=(0.5,1) )\n",
        "plt.xticks(list(range(0,10)), Seasons,rotation='vertical')\n",
        "\n",
        "plt.show()"
      ]
    },
    {
      "cell_type": "code",
      "execution_count": null,
      "metadata": {
        "id": "MAzEmBxsipfK"
      },
      "outputs": [],
      "source": [
        "plt.plot(Salary[0], c='Green', ls = '--', marker = 's', ms = 7, label = Players[0])\n",
        "plt.plot(Salary[1], c='Blue', ls = '--', marker = 'o', ms = 7, label = Players[1])\n",
        "plt.plot(Salary[2], c='Green', ls = '--', marker = '^', ms = 7, label = Players[2])\n",
        "plt.plot(Salary[3], c='Purple', ls = '--', marker = 'D', ms = 7, label = Players[3])\n",
        "plt.plot(Salary[4], c='Black', ls = '--', marker = 's', ms = 7, label = Players[4])\n",
        "plt.plot(Salary[5], c='Red', ls = '--', marker = 'o', ms = 7, label = Players[5])\n",
        "plt.plot(Salary[6], c='Red', ls = '--', marker = '^', ms = 7, label = Players[6])\n",
        "plt.plot(Salary[7], c='Red', ls = '--', marker = 'd', ms = 7, label = Players[7])\n",
        "plt.plot(Salary[8], c='Red', ls = '--', marker = 's', ms = 7, label = Players[8])\n",
        "plt.plot(Salary[9], c='Red', ls = '--', marker = 'o', ms = 7, label = Players[9])\n",
        "\n",
        "plt.legend(loc = 'lover right',bbox_to_anchor=(0.5,1) )\n",
        "plt.xticks(list(range(0,10)), Seasons,rotation='vertical')\n",
        "\n",
        "plt.show()"
      ]
    },
    {
      "cell_type": "code",
      "execution_count": null,
      "metadata": {
        "id": "g_lFvXvzipfL"
      },
      "outputs": [],
      "source": [
        "# we can visualize the how many games played by a player\n",
        "\n",
        "plt.plot(Games[0], c='Green', ls = '--', marker = 's', ms = 7, label = Players[0])\n",
        "plt.plot(Games[1], c='Blue', ls = '--', marker = 'o', ms = 7, label = Players[1])\n",
        "plt.plot(Games[2], c='Green', ls = '--', marker = '^', ms = 7, label = Players[2])\n",
        "plt.plot(Games[3], c='Red', ls = '--', marker = 'D', ms = 7, label = Players[3])\n",
        "plt.plot(Games[4], c='Black', ls = '--', marker = 's', ms = 7, label = Players[4])\n",
        "plt.plot(Games[5], c='Blue', ls = '--', marker = 'o', ms = 7, label = Players[5])\n",
        "plt.plot(Games[6], c='red', ls = '--', marker = '^', ms = 7, label = Players[6])\n",
        "plt.plot(Games[7], c='Green', ls = '--', marker = 'd', ms = 7, label = Players[7])\n",
        "plt.plot(Games[8], c='Red', ls = '--', marker = 's', ms = 7, label = Players[8])\n",
        "plt.plot(Games[9], c='Blue', ls = '--', marker = 'o', ms = 7, label = Players[9])\n",
        "\n",
        "plt.legend(loc = 'lower right',bbox_to_anchor=(0.5,1) )\n",
        "plt.xticks(list(range(0,10)), Seasons,rotation='vertical')\n",
        "\n",
        "plt.show()"
      ]
    },
    {
      "cell_type": "markdown",
      "metadata": {
        "id": "8XJoI6GNipfL"
      },
      "source": [
        "* In this section we learned -\n",
        "1>Matrices\n",
        "2>Building matrices - np.reshape\n",
        "3>Dictionaried in python (order doesnot mater) (keys & values)\n",
        "4>visualizaing using pyplot\n",
        "5>Basket ball analysis\n"
      ]
    },
    {
      "cell_type": "code",
      "execution_count": null,
      "metadata": {
        "id": "Pe9ywdBUipfL"
      },
      "outputs": [],
      "source": []
    }
  ],
  "metadata": {
    "kernelspec": {
      "display_name": "Python 3",
      "language": "python",
      "name": "python3"
    },
    "language_info": {
      "codemirror_mode": {
        "name": "ipython",
        "version": 3
      },
      "file_extension": ".py",
      "mimetype": "text/x-python",
      "name": "python",
      "nbconvert_exporter": "python",
      "pygments_lexer": "ipython3",
      "version": "3.7.6"
    },
    "colab": {
      "provenance": [],
      "include_colab_link": true
    }
  },
  "nbformat": 4,
  "nbformat_minor": 0
}