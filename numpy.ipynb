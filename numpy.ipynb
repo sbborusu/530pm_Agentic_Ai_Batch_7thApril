{
  "nbformat": 4,
  "nbformat_minor": 0,
  "metadata": {
    "colab": {
      "provenance": [],
      "authorship_tag": "ABX9TyNgAX9tcYu0OocZ9jnFVhn6",
      "include_colab_link": true
    },
    "kernelspec": {
      "name": "python3",
      "display_name": "Python 3"
    },
    "language_info": {
      "name": "python"
    }
  },
  "cells": [
    {
      "cell_type": "markdown",
      "metadata": {
        "id": "view-in-github",
        "colab_type": "text"
      },
      "source": [
        "<a href=\"https://colab.research.google.com/github/sbborusu/530pm_Agentic_Ai_Batch_7thApril/blob/main/numpy.ipynb\" target=\"_parent\"><img src=\"https://colab.research.google.com/assets/colab-badge.svg\" alt=\"Open In Colab\"/></a>"
      ]
    },
    {
      "cell_type": "code",
      "execution_count": null,
      "metadata": {
        "id": "ePSBgPj-i57k"
      },
      "outputs": [],
      "source": [
        "import numpy as np"
      ]
    },
    {
      "cell_type": "code",
      "source": [
        "arr1D = np.array([1,2,3,4]) # 1D array\n",
        "arr1D"
      ],
      "metadata": {
        "colab": {
          "base_uri": "https://localhost:8080/"
        },
        "id": "Y_DiGwtcoWO3",
        "outputId": "881a3be2-74a6-4059-b8be-484eb47b9b14"
      },
      "execution_count": null,
      "outputs": [
        {
          "output_type": "execute_result",
          "data": {
            "text/plain": [
              "array([1, 2, 3, 4])"
            ]
          },
          "metadata": {},
          "execution_count": 2
        }
      ]
    },
    {
      "cell_type": "code",
      "source": [
        "arr2D_1 = np.array([[1,2,3],[4,5,6]]) # 2D 2 X 3 matrix\n",
        "arr2D_1"
      ],
      "metadata": {
        "colab": {
          "base_uri": "https://localhost:8080/"
        },
        "id": "DInsMWiun-SM",
        "outputId": "c5ba6e3a-e09e-4e93-caf0-271a753e8e9f"
      },
      "execution_count": null,
      "outputs": [
        {
          "output_type": "execute_result",
          "data": {
            "text/plain": [
              "array([[1, 2, 3],\n",
              "       [4, 5, 6]])"
            ]
          },
          "metadata": {},
          "execution_count": 3
        }
      ]
    },
    {
      "cell_type": "code",
      "source": [
        "arr2D_2 = np.array([[1,2],[4,5],[7,8]]) # 2D 3 X 2 matrix\n",
        "arr2D_2"
      ],
      "metadata": {
        "colab": {
          "base_uri": "https://localhost:8080/"
        },
        "id": "uLzlJS7Rox_J",
        "outputId": "8aab57fb-3288-432d-ce4a-f4cb84a5d55a"
      },
      "execution_count": null,
      "outputs": [
        {
          "output_type": "execute_result",
          "data": {
            "text/plain": [
              "array([[1, 2],\n",
              "       [4, 5],\n",
              "       [7, 8]])"
            ]
          },
          "metadata": {},
          "execution_count": 4
        }
      ]
    },
    {
      "cell_type": "code",
      "source": [
        "arr1 = np.array([[1,2,3],[4,5,6,7]]) # All rows in a 2D array must have the same number of columns\n",
        "arr1"
      ],
      "metadata": {
        "colab": {
          "base_uri": "https://localhost:8080/",
          "height": 176
        },
        "id": "BKzfBWJvi-zu",
        "outputId": "ac85f9f4-5714-437b-fd1c-09a10ba3e580"
      },
      "execution_count": null,
      "outputs": [
        {
          "output_type": "error",
          "ename": "ValueError",
          "evalue": "setting an array element with a sequence. The requested array has an inhomogeneous shape after 1 dimensions. The detected shape was (2,) + inhomogeneous part.",
          "traceback": [
            "\u001b[0;31m---------------------------------------------------------------------------\u001b[0m",
            "\u001b[0;31mValueError\u001b[0m                                Traceback (most recent call last)",
            "\u001b[0;32m<ipython-input-5-3b8551bf5324>\u001b[0m in \u001b[0;36m<cell line: 0>\u001b[0;34m()\u001b[0m\n\u001b[0;32m----> 1\u001b[0;31m \u001b[0marr1\u001b[0m \u001b[0;34m=\u001b[0m \u001b[0mnp\u001b[0m\u001b[0;34m.\u001b[0m\u001b[0marray\u001b[0m\u001b[0;34m(\u001b[0m\u001b[0;34m[\u001b[0m\u001b[0;34m[\u001b[0m\u001b[0;36m1\u001b[0m\u001b[0;34m,\u001b[0m\u001b[0;36m2\u001b[0m\u001b[0;34m,\u001b[0m\u001b[0;36m3\u001b[0m\u001b[0;34m]\u001b[0m\u001b[0;34m,\u001b[0m\u001b[0;34m[\u001b[0m\u001b[0;36m4\u001b[0m\u001b[0;34m,\u001b[0m\u001b[0;36m5\u001b[0m\u001b[0;34m,\u001b[0m\u001b[0;36m6\u001b[0m\u001b[0;34m,\u001b[0m\u001b[0;36m7\u001b[0m\u001b[0;34m]\u001b[0m\u001b[0;34m]\u001b[0m\u001b[0;34m)\u001b[0m \u001b[0;31m# All rows in a 2D array must have the same number of columns\u001b[0m\u001b[0;34m\u001b[0m\u001b[0;34m\u001b[0m\u001b[0m\n\u001b[0m\u001b[1;32m      2\u001b[0m \u001b[0marr1\u001b[0m\u001b[0;34m\u001b[0m\u001b[0;34m\u001b[0m\u001b[0m\n",
            "\u001b[0;31mValueError\u001b[0m: setting an array element with a sequence. The requested array has an inhomogeneous shape after 1 dimensions. The detected shape was (2,) + inhomogeneous part."
          ]
        }
      ]
    },
    {
      "cell_type": "code",
      "source": [
        "arr1 = np.array([[1,2,3,None],[4,5,6,7]]) # ou can pad the shorter rows with a placeholder value (like None or 0) to make all rows the same length:\n",
        "arr1"
      ],
      "metadata": {
        "colab": {
          "base_uri": "https://localhost:8080/"
        },
        "id": "nJYzw72Qm_6j",
        "outputId": "69b2305c-157a-4e98-b3b8-eafce2230130"
      },
      "execution_count": null,
      "outputs": [
        {
          "output_type": "execute_result",
          "data": {
            "text/plain": [
              "array([[1, 2, 3, None],\n",
              "       [4, 5, 6, 7]], dtype=object)"
            ]
          },
          "metadata": {},
          "execution_count": 6
        }
      ]
    },
    {
      "cell_type": "markdown",
      "source": [
        "# Access a 2D array"
      ],
      "metadata": {
        "id": "3QU6hTO8pfDC"
      }
    },
    {
      "cell_type": "code",
      "source": [
        "range(10,100,10)\n",
        "arr = np.array([1,2,3],dtype='int',ndmin=2)\n",
        "print(arr)\n",
        "print(arr[0])\n",
        "print(arr[0][0])\n",
        "print(arr.ndim)\n",
        "arr2 = np.array([[1,2,3],[4,5,6]],ndmin=2)\n",
        "print(arr2)"
      ],
      "metadata": {
        "colab": {
          "base_uri": "https://localhost:8080/"
        },
        "id": "SenvwydepY5X",
        "outputId": "8c420cf0-48f4-4f21-c252-22c67876c1ac"
      },
      "execution_count": null,
      "outputs": [
        {
          "output_type": "stream",
          "name": "stdout",
          "text": [
            "[[1 2 3]]\n",
            "[1 2 3]\n",
            "1\n",
            "2\n",
            "[[1 2 3]\n",
            " [4 5 6]]\n"
          ]
        }
      ]
    },
    {
      "cell_type": "code",
      "source": [
        "arr = np.array([1,2,3, 'sindhur'],dtype=int)"
      ],
      "metadata": {
        "colab": {
          "base_uri": "https://localhost:8080/",
          "height": 141
        },
        "id": "VVaMBgqSxzLX",
        "outputId": "2e33c2c8-9d8f-40ae-bd0c-4a673511270b"
      },
      "execution_count": null,
      "outputs": [
        {
          "output_type": "error",
          "ename": "ValueError",
          "evalue": "invalid literal for int() with base 10: 'sindhur'",
          "traceback": [
            "\u001b[0;31m---------------------------------------------------------------------------\u001b[0m",
            "\u001b[0;31mValueError\u001b[0m                                Traceback (most recent call last)",
            "\u001b[0;32m<ipython-input-8-04b86c037b6a>\u001b[0m in \u001b[0;36m<cell line: 0>\u001b[0;34m()\u001b[0m\n\u001b[0;32m----> 1\u001b[0;31m \u001b[0marr\u001b[0m \u001b[0;34m=\u001b[0m \u001b[0mnp\u001b[0m\u001b[0;34m.\u001b[0m\u001b[0marray\u001b[0m\u001b[0;34m(\u001b[0m\u001b[0;34m[\u001b[0m\u001b[0;36m1\u001b[0m\u001b[0;34m,\u001b[0m\u001b[0;36m2\u001b[0m\u001b[0;34m,\u001b[0m\u001b[0;36m3\u001b[0m\u001b[0;34m,\u001b[0m \u001b[0;34m'sindhur'\u001b[0m\u001b[0;34m]\u001b[0m\u001b[0;34m,\u001b[0m\u001b[0mdtype\u001b[0m\u001b[0;34m=\u001b[0m\u001b[0mint\u001b[0m\u001b[0;34m)\u001b[0m\u001b[0;34m\u001b[0m\u001b[0;34m\u001b[0m\u001b[0m\n\u001b[0m",
            "\u001b[0;31mValueError\u001b[0m: invalid literal for int() with base 10: 'sindhur'"
          ]
        }
      ]
    },
    {
      "cell_type": "code",
      "source": [
        "arr4 = np.array([[1,2,3,10], [4,5,6,20], [7,8,9,30]])\n",
        "print(arr4) # This prints the entire 2D array\n",
        "print(arr4[0]) # This prints the first row of the array:\n",
        "print(arr4[0:2]) # This prints the first two rows of the array:\n",
        "print(arr4[1][2]) # This prints the element in the second row and third column:\n",
        "print(arr4[1,2]) # This also prints the element in the second row and third column, using a different indexing method\n",
        "print(arr4[0:2,1:3]) #This prints a subarray consisting of the first two rows and the second and third columns\n",
        "print(arr4[:,2]) #This prints the third column of the array\n",
        "print(arr4[:,2].reshape(-1,1)) #This prints the third column in a column format"
      ],
      "metadata": {
        "colab": {
          "base_uri": "https://localhost:8080/"
        },
        "id": "AH-uXHT5p3f_",
        "outputId": "9d5f9c3e-927f-4dd7-b981-9e2ec7c62ea9"
      },
      "execution_count": null,
      "outputs": [
        {
          "output_type": "stream",
          "name": "stdout",
          "text": [
            "[[ 1  2  3 10]\n",
            " [ 4  5  6 20]\n",
            " [ 7  8  9 30]]\n",
            "[ 1  2  3 10]\n",
            "[[ 1  2  3 10]\n",
            " [ 4  5  6 20]]\n",
            "6\n",
            "6\n",
            "[[2 3]\n",
            " [5 6]]\n",
            "[3 6 9]\n",
            "[[3]\n",
            " [6]\n",
            " [9]]\n"
          ]
        }
      ]
    },
    {
      "cell_type": "markdown",
      "source": [
        "# reshape an array"
      ],
      "metadata": {
        "id": "t7e7De2R4wdj"
      }
    },
    {
      "cell_type": "code",
      "source": [
        "arr5 = np.array([1,2,3,4,6,7])\n",
        "print(arr5)\n",
        "print(arr5.reshape(2,3))\n",
        "print(arr5.reshape(-1,3)) # -1 indicates numpy to figure out the number of rows based on columns needed.\n",
        "print(arr5.reshape(3,-1)) # -1 indicates numpy to figure out the number of columns based on rows needed.\n",
        "arr6 = np.array([[1,2],[3,4]])\n",
        "print(arr6.reshape(-1)) # reshape(-1) flattens the 2D array into a 1D array. The -1 parameter tells NumPy to automatically calculate the size of the new dimension based on the total number of elements."
      ],
      "metadata": {
        "colab": {
          "base_uri": "https://localhost:8080/"
        },
        "id": "cjkvGB77yYt7",
        "outputId": "b0b4e263-a1b2-4795-e808-5f45dc6f0ba7"
      },
      "execution_count": null,
      "outputs": [
        {
          "output_type": "stream",
          "name": "stdout",
          "text": [
            "[1 2 3 4 6 7]\n",
            "[[1 2 3]\n",
            " [4 6 7]]\n",
            "[[1 2 3]\n",
            " [4 6 7]]\n",
            "[[1 2]\n",
            " [3 4]\n",
            " [6 7]]\n",
            "[1 2 3 4]\n"
          ]
        }
      ]
    },
    {
      "cell_type": "markdown",
      "source": [
        "# Random and Random int"
      ],
      "metadata": {
        "id": "skePWsG98D-j"
      }
    },
    {
      "cell_type": "code",
      "source": [
        "print(np.random.randint(5)) # Generates a random integer below 5\n",
        "print(np.random.randint(5, 10)) # Generates a random integer below 5(inclusive) and 10(exclusive)\n",
        "print(np.random.randint(2, size=5)) # Generates a 1D array of size 5 with elements below 2\n",
        "print(np.random.randint(0,20,4)) # Generates a random list of integers between 0(inclusive) and 20(exclusive). Number of elements in list is third parameter\n",
        "print(np.random.randint(0,20,(10,10))) # Generates a random array of 10 x 10 matrix integers between 0(inclusive) and 20(exclusive).\n"
      ],
      "metadata": {
        "colab": {
          "base_uri": "https://localhost:8080/"
        },
        "id": "SCXw0Lo65Dlb",
        "outputId": "b02bbd4c-80c5-4c90-f058-ec81eef3c696"
      },
      "execution_count": null,
      "outputs": [
        {
          "output_type": "stream",
          "name": "stdout",
          "text": [
            "0\n",
            "5\n",
            "[0 1 1 0 1]\n",
            "[18  3 12 12]\n",
            "[[ 7 16 10  4  7 11  0  8 11  8]\n",
            " [14  1 12 15  4 17 12 12  2  0]\n",
            " [17  4  7 16 15  8  0  9 10 14]\n",
            " [15 14  6  7  7  5  1  0 11  6]\n",
            " [ 0  9  1 18  4  4  6  1  5 19]\n",
            " [16 15  0  2 13  2 19 14  8  7]\n",
            " [17  7  6  4 14 12 19 15  4 19]\n",
            " [ 6 13  9 14 17  8  2 18  9  6]\n",
            " [16 17 18 12  8 19 19  5  1 16]\n",
            " [ 5 17  2 12 14 13  2 15 16  7]]\n"
          ]
        }
      ]
    },
    {
      "cell_type": "code",
      "source": [
        "print(np.random.rand()) # Generates a single float between 0 and 1\n",
        "print(np.random.rand(3)) # Generates a 1D array with values between 0 and 1. 3 indicates number of elements in the array.\n",
        "print(np.random.rand(3,2)) # Generates a 2D array with values between 0 and 1. 3,2 indicates 3 rows 2 columns matrix.\n",
        "print(np.random.rand(3,2,3)) # Generates a 3D array with values between 0 and 1."
      ],
      "metadata": {
        "colab": {
          "base_uri": "https://localhost:8080/"
        },
        "id": "ZXEjf56R8TdA",
        "outputId": "f8df6d02-9b57-496b-8ffb-013d70358f34"
      },
      "execution_count": null,
      "outputs": [
        {
          "output_type": "stream",
          "name": "stdout",
          "text": [
            "0.8936279202296217\n",
            "[0.78836719 0.28205927 0.53731237]\n",
            "[[0.56573862 0.74881568]\n",
            " [0.15174448 0.70420818]\n",
            " [0.71832383 0.31231544]]\n",
            "[[[0.65441146 0.60807219 0.16620275]\n",
            "  [0.1509855  0.33306105 0.95555295]]\n",
            "\n",
            " [[0.65059403 0.86508888 0.66083306]\n",
            "  [0.5570284  0.75542139 0.6617841 ]]\n",
            "\n",
            " [[0.74949549 0.46621232 0.70130251]\n",
            "  [0.54131914 0.42475469 0.3824949 ]]]\n"
          ]
        }
      ]
    },
    {
      "cell_type": "code",
      "source": [
        "print(np.ones(5))\n",
        "print(np.ones(5,dtype=str))\n",
        "print(np.ones(5,dtype=bool))\n",
        "print(np.ones(5,dtype=int))\n",
        "print(np.ones(5,dtype=complex))\n",
        "print(np.ones((3,2)))\n",
        "print(np.ones((3,2,4)))"
      ],
      "metadata": {
        "colab": {
          "base_uri": "https://localhost:8080/"
        },
        "id": "eNf9-qDvT-Bz",
        "outputId": "c0260749-cf3d-49dc-f604-535516f224b4"
      },
      "execution_count": null,
      "outputs": [
        {
          "output_type": "stream",
          "name": "stdout",
          "text": [
            "[1. 1. 1. 1. 1.]\n",
            "['1' '1' '1' '1' '1']\n",
            "[ True  True  True  True  True]\n",
            "[1 1 1 1 1]\n",
            "[1.+0.j 1.+0.j 1.+0.j 1.+0.j 1.+0.j]\n",
            "[[1. 1.]\n",
            " [1. 1.]\n",
            " [1. 1.]]\n",
            "[[[1. 1. 1. 1.]\n",
            "  [1. 1. 1. 1.]]\n",
            "\n",
            " [[1. 1. 1. 1.]\n",
            "  [1. 1. 1. 1.]]\n",
            "\n",
            " [[1. 1. 1. 1.]\n",
            "  [1. 1. 1. 1.]]]\n"
          ]
        }
      ]
    },
    {
      "cell_type": "code",
      "source": [
        "print(np.zeros(5))\n",
        "print(np.zeros(5,dtype=str))\n",
        "print(np.zeros(5,dtype=bool))\n",
        "print(np.zeros(5,dtype=int))\n",
        "print(np.zeros(5,dtype=complex))\n",
        "print(np.zeros((3,2)))\n",
        "print(np.zeros((3,2,4)))"
      ],
      "metadata": {
        "colab": {
          "base_uri": "https://localhost:8080/"
        },
        "id": "ljgmPL5CXZVz",
        "outputId": "a951cdcf-1295-40a3-c6ae-ec11540af681"
      },
      "execution_count": null,
      "outputs": [
        {
          "output_type": "stream",
          "name": "stdout",
          "text": [
            "[0. 0. 0. 0. 0.]\n",
            "['' '' '' '' '']\n",
            "[False False False False False]\n",
            "[0 0 0 0 0]\n",
            "[0.+0.j 0.+0.j 0.+0.j 0.+0.j 0.+0.j]\n",
            "[[0. 0.]\n",
            " [0. 0.]\n",
            " [0. 0.]]\n",
            "[[[0. 0. 0. 0.]\n",
            "  [0. 0. 0. 0.]]\n",
            "\n",
            " [[0. 0. 0. 0.]\n",
            "  [0. 0. 0. 0.]]\n",
            "\n",
            " [[0. 0. 0. 0.]\n",
            "  [0. 0. 0. 0.]]]\n"
          ]
        }
      ]
    },
    {
      "cell_type": "markdown",
      "source": [
        "# ND Arrays"
      ],
      "metadata": {
        "id": "8algGJ99dByr"
      }
    },
    {
      "cell_type": "code",
      "source": [
        "# 3D array\n",
        "arr3d = np.array([[[2,3,1],[4,5,2]], [[4,2,1],[6,2,3]], [[5,3,1],[8,9,2]]]) # 3 layers, 2 rows, 3 columns\n",
        "print(arr3d.ndim)\n",
        "print(arr3d)\n",
        "print(arr3d[0][0])\n",
        "print(arr3d[0][0:2])\n",
        "print(arr3d[1][1][0])\n",
        "print(arr3d[1][1,0])\n",
        "print(arr3d[0][0:2,0:2])\n",
        "print(arr3d[0][:,:])\n",
        "print(arr3d[0][:,0:1])\n",
        "print(arr3d[0][:,0:1].reshape(-1,1))"
      ],
      "metadata": {
        "colab": {
          "base_uri": "https://localhost:8080/"
        },
        "id": "cYoNDSgqaq1y",
        "outputId": "9ef020b0-d634-4fd9-857e-d5b41c839e76"
      },
      "execution_count": null,
      "outputs": [
        {
          "output_type": "stream",
          "name": "stdout",
          "text": [
            "3\n",
            "[[[2 3 1]\n",
            "  [4 5 2]]\n",
            "\n",
            " [[4 2 1]\n",
            "  [6 2 3]]\n",
            "\n",
            " [[5 3 1]\n",
            "  [8 9 2]]]\n",
            "[2 3 1]\n",
            "[[2 3 1]\n",
            " [4 5 2]]\n",
            "6\n",
            "6\n",
            "[[2 3]\n",
            " [4 5]]\n",
            "[[2 3 1]\n",
            " [4 5 2]]\n",
            "[[2]\n",
            " [4]]\n",
            "[[2]\n",
            " [4]]\n"
          ]
        }
      ]
    },
    {
      "cell_type": "markdown",
      "source": [
        "# Images, Text, Speech inputs AI will internally get converted into multi-dimentional arrays"
      ],
      "metadata": {
        "id": "tdFgKYKtpwzp"
      }
    },
    {
      "cell_type": "code",
      "source": [
        "image_array = np.random.rand(3,4,2) # 3D array with 3 layers, 4 rows, 2 columns\n",
        "print(image_array.ndim)\n",
        "print(image_array)\n",
        "print(image_array[0])"
      ],
      "metadata": {
        "colab": {
          "base_uri": "https://localhost:8080/"
        },
        "id": "gCNWw3dog44b",
        "outputId": "fc187724-39b9-4e53-8683-f6188e83d608"
      },
      "execution_count": null,
      "outputs": [
        {
          "output_type": "stream",
          "name": "stdout",
          "text": [
            "3\n",
            "[[[0.17889944 0.28193276]\n",
            "  [0.94835376 0.42112249]\n",
            "  [0.47450945 0.63192733]\n",
            "  [0.09168105 0.92544047]]\n",
            "\n",
            " [[0.72817638 0.83133594]\n",
            "  [0.32505033 0.25800687]\n",
            "  [0.77175561 0.13979451]\n",
            "  [0.63219724 0.21820612]]\n",
            "\n",
            " [[0.89882875 0.74019029]\n",
            "  [0.80285385 0.13545466]\n",
            "  [0.15479938 0.92925165]\n",
            "  [0.31334914 0.80563073]]]\n",
            "[[0.17889944 0.28193276]\n",
            " [0.94835376 0.42112249]\n",
            " [0.47450945 0.63192733]\n",
            " [0.09168105 0.92544047]]\n"
          ]
        }
      ]
    },
    {
      "cell_type": "code",
      "source": [
        "\n",
        "text_data = np.array(['hello', 'world'])"
      ],
      "metadata": {
        "id": "icEDTownqAaQ"
      },
      "execution_count": null,
      "outputs": []
    },
    {
      "cell_type": "code",
      "source": [
        "print(text_data.reshape(2,1))\n",
        "print(text_data.reshape(-1,1))"
      ],
      "metadata": {
        "colab": {
          "base_uri": "https://localhost:8080/"
        },
        "id": "GciRPmeEC83o",
        "outputId": "cb9fb2a3-05f4-4ede-c026-21773cc27f11"
      },
      "execution_count": null,
      "outputs": [
        {
          "output_type": "stream",
          "name": "stdout",
          "text": [
            "[['hello']\n",
            " ['world']]\n",
            "[['hello']\n",
            " ['world']]\n"
          ]
        }
      ]
    },
    {
      "cell_type": "code",
      "source": [
        "num_data = np.array([1,2,3,4,5,6])\n",
        "reshpaed_data = num_data.reshape(2,3)\n",
        "reshpaed_data1 = num_data.reshape((2,3))\n",
        "print(num_data)\n",
        "print(reshpaed_data)\n",
        "print(reshpaed_data1)\n",
        "reshpaed_data_c_type = num_data.reshape(2,3,order='C') #Taking the input, the rows are filled first in the reshaped array\n",
        "print(reshpaed_data_c_type)\n",
        "reshpaed_data_F_type = num_data.reshape(2,3,order='F') #Taking the input, the columns are filled first in the reshaped array\n",
        "print(reshpaed_data_F_type)"
      ],
      "metadata": {
        "colab": {
          "base_uri": "https://localhost:8080/"
        },
        "id": "F1sdKf9gDIJy",
        "outputId": "f9a41252-98cc-49d0-ed69-05a6ed198b1c"
      },
      "execution_count": null,
      "outputs": [
        {
          "output_type": "stream",
          "name": "stdout",
          "text": [
            "[1 2 3 4 5 6]\n",
            "[[1 2 3]\n",
            " [4 5 6]]\n",
            "[[1 2 3]\n",
            " [4 5 6]]\n",
            "[[1 2 3]\n",
            " [4 5 6]]\n",
            "[[1 3 5]\n",
            " [2 4 6]]\n"
          ]
        }
      ]
    },
    {
      "cell_type": "code",
      "source": [
        "# Arrays vs Lists ()"
      ],
      "metadata": {
        "id": "VvlwpqlSpVHy"
      },
      "execution_count": null,
      "outputs": []
    },
    {
      "cell_type": "code",
      "source": [
        "import numpy as np\n",
        "import sys\n",
        "\n",
        "# Python list\n",
        "lst = [1, 2, 3]\n",
        "print(\"List element addresses:\")\n",
        "for i in lst:\n",
        "    print(sys.getsizeof(i), id(i)) # Notice the memory locations are far from each other and are scattered in memory\n",
        "\n",
        "# NumPy array\n",
        "arr = np.array([1, 2, 3])\n",
        "print(\"\\nNumPy array element addresses:\")\n",
        "for i in arr:\n",
        "    print(sys.getsizeof(i), id(i)) # Notice the memory locations show close to each other and contigeous.\n"
      ],
      "metadata": {
        "id": "SBm0f-FFE7A6",
        "colab": {
          "base_uri": "https://localhost:8080/"
        },
        "outputId": "4878f0a9-bd7d-4236-b626-40c2ca0f7b73"
      },
      "execution_count": null,
      "outputs": [
        {
          "output_type": "stream",
          "name": "stdout",
          "text": [
            "List element addresses:\n",
            "28 10750856\n",
            "28 10750888\n",
            "28 10750920\n",
            "\n",
            "NumPy array element addresses:\n",
            "32 137761836792912\n",
            "32 137761836792624\n",
            "32 137761836792912\n"
          ]
        }
      ]
    },
    {
      "cell_type": "code",
      "source": [
        "import numpy as np\n",
        "a1 = np.array([1,2,3])\n",
        "a2 = np.array([4,5,6])\n",
        "print(a1 * a2)\n",
        "print(type(a1 * a2))\n",
        "print(np.dot(a1,a2))\n",
        "print(type(np.dot(a1,a2)))\n",
        "\n",
        "\n",
        "a21 = np.array([[1,2,3], [4,5,6]])\n",
        "print(a21.shape)\n",
        "a22 = np.array([[1,2,3], [4,5,3], [5,6,3]])\n",
        "#print(a21 * a22)\n",
        "print(np.dot(a21,a22))\n",
        "print(np.dot(a21,a22))"
      ],
      "metadata": {
        "id": "LYql3Y7mjJ8r",
        "colab": {
          "base_uri": "https://localhost:8080/"
        },
        "outputId": "8986d853-8ff5-4a9c-b114-d821703f7816"
      },
      "execution_count": null,
      "outputs": [
        {
          "output_type": "stream",
          "name": "stdout",
          "text": [
            "[ 4 10 18]\n",
            "<class 'numpy.ndarray'>\n",
            "32\n",
            "<class 'numpy.int64'>\n",
            "(2, 3)\n",
            "[[24 30 18]\n",
            " [54 69 45]]\n",
            "[[24 30 18]\n",
            " [54 69 45]]\n"
          ]
        }
      ]
    },
    {
      "cell_type": "code",
      "source": [
        "import numpy as np\n",
        "mixed_array = np.array([1, 'hello', 3.14, True])\n",
        "print(mixed_array)\n",
        "print(mixed_array.dtype)"
      ],
      "metadata": {
        "id": "2Rc2tS43poMo",
        "colab": {
          "base_uri": "https://localhost:8080/"
        },
        "outputId": "008b02ab-29ed-4697-a259-d37694ebb4e2"
      },
      "execution_count": null,
      "outputs": [
        {
          "output_type": "stream",
          "name": "stdout",
          "text": [
            "['1' 'hello' '3.14' 'True']\n",
            "<U32\n"
          ]
        }
      ]
    },
    {
      "cell_type": "code",
      "source": [
        "import numpy as np\n",
        "\n",
        "arr = np.array([1, 2, 3, 4, 5])\n",
        "x = arr.copy()\n",
        "arr[0] = 42\n",
        "\n",
        "print(arr)\n",
        "print(x)"
      ],
      "metadata": {
        "id": "RJV-vKYFhbft",
        "colab": {
          "base_uri": "https://localhost:8080/"
        },
        "outputId": "f03348f0-2003-43cc-bdba-36279e36934b"
      },
      "execution_count": null,
      "outputs": [
        {
          "output_type": "stream",
          "name": "stdout",
          "text": [
            "[42  2  3  4  5]\n",
            "[1 2 3 4 5]\n"
          ]
        }
      ]
    },
    {
      "cell_type": "code",
      "source": [
        "import numpy as np\n",
        "\n",
        "arr = np.array([1, 2, 3, 4, 5])\n",
        "x = arr.view()\n",
        "arr[0] = 42\n",
        "\n",
        "print(arr)\n",
        "print(x)"
      ],
      "metadata": {
        "colab": {
          "base_uri": "https://localhost:8080/"
        },
        "id": "zTcIhfUzjhsm",
        "outputId": "48596b4a-cc31-49a4-a1bf-760a8ea93cfc"
      },
      "execution_count": null,
      "outputs": [
        {
          "output_type": "stream",
          "name": "stdout",
          "text": [
            "[42  2  3  4  5]\n",
            "[42  2  3  4  5]\n"
          ]
        }
      ]
    },
    {
      "cell_type": "code",
      "source": [
        "# copies owns the data, and views does not own the data, but how can we check this?\n",
        "# Every NumPy array has the attribute base that returns None if the array owns the data.\n",
        "# Otherwise, the base  attribute refers to the original object.\n",
        "import numpy as np\n",
        "\n",
        "arr = np.array([1, 2, 3, 4, 5])\n",
        "\n",
        "x = arr.copy()\n",
        "y = arr.view()\n",
        "\n",
        "print(x.base)\n",
        "print(y.base)"
      ],
      "metadata": {
        "colab": {
          "base_uri": "https://localhost:8080/"
        },
        "id": "wJB14RN5jl7Y",
        "outputId": "7ca3f8ab-3a1b-47dd-e085-cb31bba4a659"
      },
      "execution_count": null,
      "outputs": [
        {
          "output_type": "stream",
          "name": "stdout",
          "text": [
            "None\n",
            "[1 2 3 4 5]\n"
          ]
        }
      ]
    },
    {
      "cell_type": "code",
      "source": [
        "import numpy as np\n",
        "\n",
        "arr_1d = np.array([1, 2, 3, 4], ndmin=1)\n",
        "print(arr_1d)\n",
        "print('shape of array :', arr.shape)\n",
        "\n",
        "arr_2d = np.array([[1, 2, 3, 4], [5, 6, 7, 8]])\n",
        "print(arr_2d.shape)\n",
        "print(type(arr_2d.shape))\n",
        "\n",
        "arr_3d = np.array([1, 2, 3, 4], ndmin=3)\n",
        "print(arr_3d)\n",
        "print('shape of array :', arr_3d.shape)"
      ],
      "metadata": {
        "colab": {
          "base_uri": "https://localhost:8080/"
        },
        "id": "NiCvFOcIkVWg",
        "outputId": "cf9042cb-07dc-44e5-8301-ea7f60c0e864"
      },
      "execution_count": null,
      "outputs": [
        {
          "output_type": "stream",
          "name": "stdout",
          "text": [
            "[1 2 3 4]\n",
            "shape of array : (4,)\n",
            "(2, 4)\n",
            "<class 'tuple'>\n",
            "[[[1 2 3 4]]]\n",
            "shape of array : (1, 1, 4)\n"
          ]
        }
      ]
    },
    {
      "cell_type": "code",
      "source": [
        "import numpy as np\n",
        "\n",
        "arr = np.array([1, 2, 3, 4, 5, 6, 7, 8])\n",
        "print(arr.reshape(2, 4).base)\n",
        "arr1 = arr.reshape(2,4).view()\n",
        "print(arr)\n",
        "print(arr1)\n",
        "print(arr1[1,1])\n",
        "arr1[1,1] = 66\n",
        "print(arr)\n",
        "print(arr1)\n",
        "print(arr.reshape(2, 4).base)\n"
      ],
      "metadata": {
        "colab": {
          "base_uri": "https://localhost:8080/"
        },
        "id": "w-3hFp27l2U-",
        "outputId": "e2bf29b7-d106-4169-8d4c-a554046b6915"
      },
      "execution_count": null,
      "outputs": [
        {
          "output_type": "stream",
          "name": "stdout",
          "text": [
            "[1 2 3 4 5 6 7 8]\n",
            "[1 2 3 4 5 6 7 8]\n",
            "[[1 2 3 4]\n",
            " [5 6 7 8]]\n",
            "6\n",
            "[ 1  2  3  4  5 66  7  8]\n",
            "[[ 1  2  3  4]\n",
            " [ 5 66  7  8]]\n",
            "[ 1  2  3  4  5 66  7  8]\n"
          ]
        }
      ]
    },
    {
      "cell_type": "code",
      "source": [
        "import numpy as np\n",
        "\n",
        "arr = np.array([[1, 2, 3], [4, 5, 6]])\n",
        "\n",
        "newarr = arr.reshape(1,-1)\n",
        "newarr1 = arr.reshape(-1)\n",
        "newarr2 = arr.reshape(6)\n",
        "newarr3 = arr.flatten()\n",
        "\n",
        "\n",
        "print(newarr)\n",
        "print(newarr1)\n",
        "print(newarr2)\n",
        "print(newarr3)"
      ],
      "metadata": {
        "colab": {
          "base_uri": "https://localhost:8080/"
        },
        "id": "dlnR5YCQxHVL",
        "outputId": "0504ca38-fc61-4e7c-af1e-3c4ee364c3c7"
      },
      "execution_count": null,
      "outputs": [
        {
          "output_type": "stream",
          "name": "stdout",
          "text": [
            "[[1 2 3 4 5 6]]\n",
            "[1 2 3 4 5 6]\n",
            "[1 2 3 4 5 6]\n",
            "[1 2 3 4 5 6]\n"
          ]
        }
      ]
    },
    {
      "cell_type": "code",
      "source": [
        "import numpy as np\n",
        "\n",
        "# Access 1D array in for loop\n",
        "arr = np.array([1, 2, 3])\n",
        "\n",
        "for x in arr:\n",
        "  print(x)\n",
        "\n",
        "print('')\n",
        "\n",
        "# Access 2D array in for loop\n",
        "arr = np.array([[1, 2, 3], [4, 5, 6]])\n",
        "\n",
        "for x in arr:\n",
        "  for y in x:\n",
        "    print(y)\n",
        "\n",
        "print('')\n",
        "\n",
        "# Access 3D array in for loop\n",
        "arr = np.array([[[1, 2, 3], [4, 5, 6]], [[7, 8, 9], [10, 11, 12]]])\n",
        "\n",
        "for x in arr:\n",
        "  for y in x:\n",
        "    for z in y:\n",
        "      print(z)"
      ],
      "metadata": {
        "colab": {
          "base_uri": "https://localhost:8080/"
        },
        "id": "jAs7elax0r_-",
        "outputId": "062e9182-dcd3-455f-8a1d-030c1a4b795a"
      },
      "execution_count": null,
      "outputs": [
        {
          "output_type": "stream",
          "name": "stdout",
          "text": [
            "1\n",
            "2\n",
            "3\n",
            "\n",
            "1\n",
            "2\n",
            "3\n",
            "4\n",
            "5\n",
            "6\n",
            "\n",
            "1\n",
            "2\n",
            "3\n",
            "4\n",
            "5\n",
            "6\n",
            "7\n",
            "8\n",
            "9\n",
            "10\n",
            "11\n",
            "12\n"
          ]
        }
      ]
    },
    {
      "cell_type": "markdown",
      "source": [
        "# nditer"
      ],
      "metadata": {
        "id": "8xmqxUzg6SVs"
      }
    },
    {
      "cell_type": "code",
      "source": [
        "import numpy as np\n",
        "\n",
        "# Access 3D array in for loop without nditer\n",
        "arr = np.array([[[1, 2, 3], [4, 5, 6]], [[7, 8, 9], [10, 11, 12]]])\n",
        "\n",
        "for x in arr:\n",
        "  for y in x:\n",
        "    for z in y:\n",
        "      print(z)\n",
        "\n",
        "print('')\n",
        "# Access 3D array in for loop with nditer\n",
        "\n",
        "for x in np.nditer(arr):\n",
        "  print(x)"
      ],
      "metadata": {
        "colab": {
          "base_uri": "https://localhost:8080/"
        },
        "id": "XYGHI8fB2QZP",
        "outputId": "f5370d00-f565-4f82-dfd8-f8c700a29223"
      },
      "execution_count": null,
      "outputs": [
        {
          "output_type": "stream",
          "name": "stdout",
          "text": [
            "1\n",
            "2\n",
            "3\n",
            "4\n",
            "5\n",
            "6\n",
            "7\n",
            "8\n",
            "9\n",
            "10\n",
            "11\n",
            "12\n",
            "\n",
            "1\n",
            "2\n",
            "3\n",
            "4\n",
            "5\n",
            "6\n",
            "7\n",
            "8\n",
            "9\n",
            "10\n",
            "11\n",
            "12\n"
          ]
        }
      ]
    },
    {
      "cell_type": "code",
      "source": [
        "import numpy as np\n",
        "arr = np.array([[1, 2],\n",
        "                [3, 4]])\n",
        "print(arr.T)\n",
        "# Output:\n",
        "# [[1, 3],\n",
        "#  [2, 4]]\n",
        "print('')\n",
        "arr_3d = np.array([[[1, 2, 3,24], [4, 5, 6,34], [13,14,15,44]], [[7, 8, 9, 93], [10, 11, 12, 83], [33,43,53,63]]])\n",
        "print(arr_3d)\n",
        "print(arr_3d.shape)\n",
        "arr_3d.transpose(2,0,1)\n",
        "print(arr_3d)\n",
        "print(arr_3d.shape)"
      ],
      "metadata": {
        "colab": {
          "base_uri": "https://localhost:8080/"
        },
        "id": "TLSeweOp6pFI",
        "outputId": "073f552d-d4b7-46ab-fc11-079f0bedb959"
      },
      "execution_count": null,
      "outputs": [
        {
          "output_type": "stream",
          "name": "stdout",
          "text": [
            "[[1 3]\n",
            " [2 4]]\n",
            "\n",
            "[[[ 1  2  3 24]\n",
            "  [ 4  5  6 34]\n",
            "  [13 14 15 44]]\n",
            "\n",
            " [[ 7  8  9 93]\n",
            "  [10 11 12 83]\n",
            "  [33 43 53 63]]]\n",
            "(2, 3, 4)\n",
            "[[[ 1  2  3 24]\n",
            "  [ 4  5  6 34]\n",
            "  [13 14 15 44]]\n",
            "\n",
            " [[ 7  8  9 93]\n",
            "  [10 11 12 83]\n",
            "  [33 43 53 63]]]\n",
            "(2, 3, 4)\n"
          ]
        }
      ]
    },
    {
      "cell_type": "code",
      "source": [
        "arr = np.array([[1, 2], [3, 4]])\n",
        "arr + 10\n",
        "# Output:\n",
        "# [[11, 12],\n",
        "#  [13, 14]]\n"
      ],
      "metadata": {
        "colab": {
          "base_uri": "https://localhost:8080/"
        },
        "id": "5MniPwVeyRcq",
        "outputId": "c26912ee-bb26-49ef-df1b-81fbe1d436fa"
      },
      "execution_count": null,
      "outputs": [
        {
          "output_type": "execute_result",
          "data": {
            "text/plain": [
              "array([[11, 12],\n",
              "       [13, 14]])"
            ]
          },
          "metadata": {},
          "execution_count": 9
        }
      ]
    },
    {
      "cell_type": "code",
      "source": [
        "arr = np.array([[1, 2], [3, 4]])\n",
        "row = np.array([10, 20])\n",
        "arr + row\n",
        "# Output:\n",
        "# [[11, 22],\n",
        "#  [13, 24]]\n"
      ],
      "metadata": {
        "colab": {
          "base_uri": "https://localhost:8080/"
        },
        "id": "p3OXK6lp0WXy",
        "outputId": "0e3b6a98-54eb-48f7-b9b2-81a4054bec38"
      },
      "execution_count": null,
      "outputs": [
        {
          "output_type": "execute_result",
          "data": {
            "text/plain": [
              "array([[11, 22],\n",
              "       [13, 24]])"
            ]
          },
          "metadata": {},
          "execution_count": 10
        }
      ]
    },
    {
      "cell_type": "code",
      "source": [
        "arr = np.array([[[1, 2], [3, 4]], [[2,3], [3,4]]])\n",
        "row = np.array([[10, 20]])\n",
        "arr + row\n",
        "# Output:\n",
        "# [[11, 22],\n",
        "#  [13, 24]]\n"
      ],
      "metadata": {
        "colab": {
          "base_uri": "https://localhost:8080/"
        },
        "id": "JTN4uVeD0dWz",
        "outputId": "bde0b110-bd4e-4639-9c47-92796e623508"
      },
      "execution_count": null,
      "outputs": [
        {
          "output_type": "execute_result",
          "data": {
            "text/plain": [
              "array([[[10, 40],\n",
              "        [30, 80]],\n",
              "\n",
              "       [[20, 60],\n",
              "        [30, 80]]])"
            ]
          },
          "metadata": {},
          "execution_count": 16
        }
      ]
    },
    {
      "cell_type": "code",
      "source": [
        "arr = np.array([[[1, 2], [3, 4]], [[2,3], [3,4]]])\n",
        "row = np.array([[10, 20], [30, 40]])\n",
        "arr + row\n",
        "# Output:\n",
        "# [[11, 22],\n",
        "#  [13, 24]]\n"
      ],
      "metadata": {
        "colab": {
          "base_uri": "https://localhost:8080/"
        },
        "id": "d1OsOygA0mVA",
        "outputId": "edb99119-da4c-46f3-a624-2182490704f3"
      },
      "execution_count": null,
      "outputs": [
        {
          "output_type": "execute_result",
          "data": {
            "text/plain": [
              "array([[[11, 22],\n",
              "        [33, 44]],\n",
              "\n",
              "       [[12, 23],\n",
              "        [33, 44]]])"
            ]
          },
          "metadata": {},
          "execution_count": 15
        }
      ]
    },
    {
      "cell_type": "markdown",
      "source": [
        "# This is NumPy's multi-dimensional iterator. It allows you to iterate over arrays efficiently, even with complex operations.\n",
        "\n",
        "flags=['buffered']: This tells nditer to use an internal buffer. This is required when you're changing the data type during iteration (as you're doing here).\n",
        "op_dtypes=['S']: This tells nditer to cast each element to a string of bytes (i.e., a byte string). 'S' is shorthand for a byte string data type in NumPy (like np.string_)."
      ],
      "metadata": {
        "id": "xhftTDkfM3jg"
      }
    },
    {
      "cell_type": "code",
      "source": [
        "import numpy as np\n",
        "\n",
        "arr = np.array([1, 2, 3])\n",
        "\n",
        "for x in np.nditer(arr, flags=['buffered'], op_dtypes=['S']):\n",
        "  print(x)\n",
        "  print(x.ndim)\n",
        "  print(x.shape)\n",
        "  print(x.dtype)"
      ],
      "metadata": {
        "colab": {
          "base_uri": "https://localhost:8080/"
        },
        "id": "2_34Vzs7HBuO",
        "outputId": "76560882-c9aa-47ff-bcbf-c4accd17d7b7"
      },
      "execution_count": 1,
      "outputs": [
        {
          "output_type": "stream",
          "name": "stdout",
          "text": [
            "np.bytes_(b'1')\n",
            "0\n",
            "()\n",
            "|S21\n",
            "np.bytes_(b'2')\n",
            "0\n",
            "()\n",
            "|S21\n",
            "np.bytes_(b'3')\n",
            "0\n",
            "()\n",
            "|S21\n"
          ]
        }
      ]
    },
    {
      "cell_type": "code",
      "source": [
        "import numpy as np\n",
        "\n",
        "arr = np.array([[1, 2, 3, 4], [5, 6, 7, 8]])\n",
        "\n",
        "# Iterate through every scalar element of the 2D array skipping 1 element:\n",
        "# arr[:, ::2]\n",
        "# :    - indicates all rows\n",
        "# ::2  - indicates step count of 2 from all rows identified\n",
        "for x in np.nditer(arr[:, ::2]):\n",
        "  print(x)\n",
        "\n",
        "print('')\n",
        "\n",
        "# Iterate through every scalar element of the 2D array skipping 1 element:\n",
        "# arr[0:1, ::2]\n",
        "# 0:1  - indicates first row alone\n",
        "# ::2  - indicates step count of 2 from all rows identified\n",
        "for x in np.nditer(arr[0:1, ::2]):\n",
        "  print(x)\n",
        "\n",
        "print(\"\")\n",
        "# Iterate through every scalar element of the 2D array skipping 1 element:\n",
        "# arr[:, 1::2]\n",
        "# :    - indicates all rows\n",
        "# 1::2 - indicates step count of 2 from all rows start at index 1\n",
        "for x in np.nditer(arr[:, 1::2]):\n",
        "  print(x)"
      ],
      "metadata": {
        "colab": {
          "base_uri": "https://localhost:8080/"
        },
        "id": "AtiMNRI6MoiC",
        "outputId": "aa7220b3-e44e-4a1b-d91e-51c695dde8f1"
      },
      "execution_count": 11,
      "outputs": [
        {
          "output_type": "stream",
          "name": "stdout",
          "text": [
            "1\n",
            "3\n",
            "5\n",
            "7\n",
            "\n",
            "1\n",
            "3\n",
            "\n",
            "2\n",
            "4\n",
            "6\n",
            "8\n"
          ]
        }
      ]
    },
    {
      "cell_type": "markdown",
      "source": [
        "#enumerate vs ndenumerate"
      ],
      "metadata": {
        "id": "dP9USUmqU-Il"
      }
    },
    {
      "cell_type": "code",
      "source": [
        "import numpy as np\n",
        "\n",
        "arr = np.array([1, 2, 3])\n",
        "\n",
        "for idx, x in np.ndenumerate(arr):\n",
        "  print(idx)\n",
        "  print(x)\n",
        "\n",
        "print(\"\")\n",
        "\n",
        "lst = [1,2,3]\n",
        "\n",
        "for idx, x in enumerate(lst):\n",
        "  print(idx)\n",
        "  print(x)\n"
      ],
      "metadata": {
        "colab": {
          "base_uri": "https://localhost:8080/"
        },
        "id": "9EF_g6CUPXMR",
        "outputId": "6dad1b72-94a6-4bef-c5ad-cfdf4ec6734a"
      },
      "execution_count": 12,
      "outputs": [
        {
          "output_type": "stream",
          "name": "stdout",
          "text": [
            "(0,)\n",
            "1\n",
            "(1,)\n",
            "2\n",
            "(2,)\n",
            "3\n",
            "\n",
            "0\n",
            "1\n",
            "1\n",
            "2\n",
            "2\n",
            "3\n"
          ]
        }
      ]
    },
    {
      "cell_type": "code",
      "source": [],
      "metadata": {
        "id": "hr43OTx5VCaE"
      },
      "execution_count": null,
      "outputs": []
    }
  ]
}