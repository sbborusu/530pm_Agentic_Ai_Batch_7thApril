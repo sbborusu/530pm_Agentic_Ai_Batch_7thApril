{
  "nbformat": 4,
  "nbformat_minor": 0,
  "metadata": {
    "colab": {
      "provenance": [],
      "authorship_tag": "ABX9TyPF1rQ2zVFcbYvn34AX5Zog",
      "include_colab_link": true
    },
    "kernelspec": {
      "name": "python3",
      "display_name": "Python 3"
    },
    "language_info": {
      "name": "python"
    }
  },
  "cells": [
    {
      "cell_type": "markdown",
      "metadata": {
        "id": "view-in-github",
        "colab_type": "text"
      },
      "source": [
        "<a href=\"https://colab.research.google.com/github/sbborusu/530pm_Agentic_Ai_Batch_7thApril/blob/main/numpy.ipynb\" target=\"_parent\"><img src=\"https://colab.research.google.com/assets/colab-badge.svg\" alt=\"Open In Colab\"/></a>"
      ]
    },
    {
      "cell_type": "code",
      "execution_count": 3,
      "metadata": {
        "id": "ePSBgPj-i57k"
      },
      "outputs": [],
      "source": [
        "import numpy as np"
      ]
    },
    {
      "cell_type": "code",
      "source": [
        "arr1D = np.array([1,2,3,4]) # 1D array\n",
        "arr1D"
      ],
      "metadata": {
        "colab": {
          "base_uri": "https://localhost:8080/"
        },
        "id": "Y_DiGwtcoWO3",
        "outputId": "19dcb7a6-bc7b-4793-8b8a-7ac225687b81"
      },
      "execution_count": 17,
      "outputs": [
        {
          "output_type": "execute_result",
          "data": {
            "text/plain": [
              "array([1, 2, 3, 4])"
            ]
          },
          "metadata": {},
          "execution_count": 17
        }
      ]
    },
    {
      "cell_type": "code",
      "source": [
        "arr2D_1 = np.array([[1,2,3],[4,5,6]]) # 2D 2 X 3 matrix\n",
        "arr2D_1"
      ],
      "metadata": {
        "colab": {
          "base_uri": "https://localhost:8080/"
        },
        "id": "DInsMWiun-SM",
        "outputId": "ef6e9a78-c3bc-4c4e-faee-3efb9596687d"
      },
      "execution_count": 18,
      "outputs": [
        {
          "output_type": "execute_result",
          "data": {
            "text/plain": [
              "array([[1, 2, 3],\n",
              "       [4, 5, 6]])"
            ]
          },
          "metadata": {},
          "execution_count": 18
        }
      ]
    },
    {
      "cell_type": "code",
      "source": [
        "arr2D_2 = np.array([[1,2],[4,5],[7,8]]) # 2D 3 X 2 matrix\n",
        "arr2D_2"
      ],
      "metadata": {
        "colab": {
          "base_uri": "https://localhost:8080/"
        },
        "id": "uLzlJS7Rox_J",
        "outputId": "4cdc1842-8d6f-4d6c-a45c-6f3a86c7a73d"
      },
      "execution_count": 19,
      "outputs": [
        {
          "output_type": "execute_result",
          "data": {
            "text/plain": [
              "array([[1, 2],\n",
              "       [4, 5],\n",
              "       [7, 8]])"
            ]
          },
          "metadata": {},
          "execution_count": 19
        }
      ]
    },
    {
      "cell_type": "code",
      "source": [
        "arr1 = np.array([[1,2,3],[4,5,6,7]]) # All rows in a 2D array must have the same number of columns\n",
        "arr1"
      ],
      "metadata": {
        "colab": {
          "base_uri": "https://localhost:8080/",
          "height": 176
        },
        "id": "BKzfBWJvi-zu",
        "outputId": "7b890694-f22d-4e09-e509-0aff630d6268"
      },
      "execution_count": 20,
      "outputs": [
        {
          "output_type": "error",
          "ename": "ValueError",
          "evalue": "setting an array element with a sequence. The requested array has an inhomogeneous shape after 1 dimensions. The detected shape was (2,) + inhomogeneous part.",
          "traceback": [
            "\u001b[0;31m---------------------------------------------------------------------------\u001b[0m",
            "\u001b[0;31mValueError\u001b[0m                                Traceback (most recent call last)",
            "\u001b[0;32m<ipython-input-20-3b8551bf5324>\u001b[0m in \u001b[0;36m<cell line: 0>\u001b[0;34m()\u001b[0m\n\u001b[0;32m----> 1\u001b[0;31m \u001b[0marr1\u001b[0m \u001b[0;34m=\u001b[0m \u001b[0mnp\u001b[0m\u001b[0;34m.\u001b[0m\u001b[0marray\u001b[0m\u001b[0;34m(\u001b[0m\u001b[0;34m[\u001b[0m\u001b[0;34m[\u001b[0m\u001b[0;36m1\u001b[0m\u001b[0;34m,\u001b[0m\u001b[0;36m2\u001b[0m\u001b[0;34m,\u001b[0m\u001b[0;36m3\u001b[0m\u001b[0;34m]\u001b[0m\u001b[0;34m,\u001b[0m\u001b[0;34m[\u001b[0m\u001b[0;36m4\u001b[0m\u001b[0;34m,\u001b[0m\u001b[0;36m5\u001b[0m\u001b[0;34m,\u001b[0m\u001b[0;36m6\u001b[0m\u001b[0;34m,\u001b[0m\u001b[0;36m7\u001b[0m\u001b[0;34m]\u001b[0m\u001b[0;34m]\u001b[0m\u001b[0;34m)\u001b[0m \u001b[0;31m# All rows in a 2D array must have the same number of columns\u001b[0m\u001b[0;34m\u001b[0m\u001b[0;34m\u001b[0m\u001b[0m\n\u001b[0m\u001b[1;32m      2\u001b[0m \u001b[0marr1\u001b[0m\u001b[0;34m\u001b[0m\u001b[0;34m\u001b[0m\u001b[0m\n",
            "\u001b[0;31mValueError\u001b[0m: setting an array element with a sequence. The requested array has an inhomogeneous shape after 1 dimensions. The detected shape was (2,) + inhomogeneous part."
          ]
        }
      ]
    },
    {
      "cell_type": "code",
      "source": [
        "arr1 = np.array([[1,2,3,None],[4,5,6,7]]) # ou can pad the shorter rows with a placeholder value (like None or 0) to make all rows the same length:\n",
        "arr1"
      ],
      "metadata": {
        "colab": {
          "base_uri": "https://localhost:8080/"
        },
        "id": "nJYzw72Qm_6j",
        "outputId": "2c311add-6d01-41da-ae30-4a6ebe28f038"
      },
      "execution_count": 21,
      "outputs": [
        {
          "output_type": "execute_result",
          "data": {
            "text/plain": [
              "array([[1, 2, 3, None],\n",
              "       [4, 5, 6, 7]], dtype=object)"
            ]
          },
          "metadata": {},
          "execution_count": 21
        }
      ]
    },
    {
      "cell_type": "markdown",
      "source": [
        "# Access a 2D array"
      ],
      "metadata": {
        "id": "3QU6hTO8pfDC"
      }
    },
    {
      "cell_type": "code",
      "source": [
        "range(10,100,10)\n",
        "arr = np.array([1,2,3],dtype='int',ndmin=2)\n",
        "print(arr)\n",
        "print(arr[0])\n",
        "print(arr[0][0])\n",
        "print(arr.ndim)\n",
        "arr2 = np.array([[1,2,3],[4,5,6]],ndmin=2)\n",
        "print(arr2)"
      ],
      "metadata": {
        "colab": {
          "base_uri": "https://localhost:8080/"
        },
        "id": "SenvwydepY5X",
        "outputId": "0ee0c936-878d-4b54-efb0-850930e8d326"
      },
      "execution_count": 55,
      "outputs": [
        {
          "output_type": "stream",
          "name": "stdout",
          "text": [
            "[[1 2 3]]\n",
            "[1 2 3]\n",
            "1\n",
            "2\n",
            "[[1 2 3]\n",
            " [4 5 6]]\n"
          ]
        }
      ]
    },
    {
      "cell_type": "code",
      "source": [
        "arr = np.array([1,2,3, 'sindhur'],dtype=int)"
      ],
      "metadata": {
        "colab": {
          "base_uri": "https://localhost:8080/",
          "height": 141
        },
        "id": "VVaMBgqSxzLX",
        "outputId": "ddb6211b-d4bc-4907-b60d-bb99cf70bea4"
      },
      "execution_count": 56,
      "outputs": [
        {
          "output_type": "error",
          "ename": "ValueError",
          "evalue": "invalid literal for int() with base 10: 'sindhur'",
          "traceback": [
            "\u001b[0;31m---------------------------------------------------------------------------\u001b[0m",
            "\u001b[0;31mValueError\u001b[0m                                Traceback (most recent call last)",
            "\u001b[0;32m<ipython-input-56-90c5e0636c71>\u001b[0m in \u001b[0;36m<cell line: 0>\u001b[0;34m()\u001b[0m\n\u001b[0;32m----> 1\u001b[0;31m \u001b[0marr\u001b[0m \u001b[0;34m=\u001b[0m \u001b[0mnp\u001b[0m\u001b[0;34m.\u001b[0m\u001b[0marray\u001b[0m\u001b[0;34m(\u001b[0m\u001b[0;34m[\u001b[0m\u001b[0;36m1\u001b[0m\u001b[0;34m,\u001b[0m\u001b[0;36m2\u001b[0m\u001b[0;34m,\u001b[0m\u001b[0;36m3\u001b[0m\u001b[0;34m,\u001b[0m \u001b[0;34m'sindhur'\u001b[0m\u001b[0;34m]\u001b[0m\u001b[0;34m,\u001b[0m\u001b[0mdtype\u001b[0m\u001b[0;34m=\u001b[0m\u001b[0;34m'int'\u001b[0m\u001b[0;34m)\u001b[0m\u001b[0;34m\u001b[0m\u001b[0;34m\u001b[0m\u001b[0m\n\u001b[0m",
            "\u001b[0;31mValueError\u001b[0m: invalid literal for int() with base 10: 'sindhur'"
          ]
        }
      ]
    },
    {
      "cell_type": "code",
      "source": [
        "arr4 = np.array([[1,2,3,10], [4,5,6,20], [7,8,9,30]])\n",
        "print(arr4) # This prints the entire 2D array\n",
        "print(arr4[0]) # This prints the first row of the array:\n",
        "print(arr4[0:2]) # This prints the first two rows of the array:\n",
        "print(arr4[1][2]) # This prints the element in the second row and third column:\n",
        "print(arr4[1,2]) # This also prints the element in the second row and third column, using a different indexing method\n",
        "print(arr4[0:2,1:3]) #This prints a subarray consisting of the first two rows and the second and third columns\n",
        "print(arr4[:,2]) #This prints the third column of the array\n",
        "print(arr4[:,2].reshape(-1,1)) #This prints the third column in a column format"
      ],
      "metadata": {
        "colab": {
          "base_uri": "https://localhost:8080/"
        },
        "id": "AH-uXHT5p3f_",
        "outputId": "da9b02d9-592e-4b36-aed3-4085b2059d22"
      },
      "execution_count": 84,
      "outputs": [
        {
          "output_type": "stream",
          "name": "stdout",
          "text": [
            "[[ 1  2  3 10]\n",
            " [ 4  5  6 20]\n",
            " [ 7  8  9 30]]\n",
            "[ 1  2  3 10]\n",
            "[[ 1  2  3 10]\n",
            " [ 4  5  6 20]]\n",
            "6\n",
            "6\n",
            "[[2 3]\n",
            " [5 6]]\n",
            "[3 6 9]\n",
            "[[3]\n",
            " [6]\n",
            " [9]]\n"
          ]
        }
      ]
    },
    {
      "cell_type": "markdown",
      "source": [
        "# reshape an array"
      ],
      "metadata": {
        "id": "t7e7De2R4wdj"
      }
    },
    {
      "cell_type": "code",
      "source": [
        "arr5 = np.array([1,2,3,4,6,7])\n",
        "print(arr5)\n",
        "print(arr5.reshape(2,3))\n",
        "print(arr5.reshape(-1,3)) # -1 indicates numpy to figure out the number of rows based on columns needed.\n",
        "print(arr5.reshape(3,-1)) # -1 indicates numpy to figure out the number of columns based on rows needed.\n",
        "arr6 = np.array([[1,2],[3,4]])\n",
        "print(arr6.reshape(-1)) # reshape(-1) flattens the 2D array into a 1D array. The -1 parameter tells NumPy to automatically calculate the size of the new dimension based on the total number of elements."
      ],
      "metadata": {
        "colab": {
          "base_uri": "https://localhost:8080/"
        },
        "id": "cjkvGB77yYt7",
        "outputId": "e822cad9-6c67-4080-ff79-2cfba1f5f324"
      },
      "execution_count": 93,
      "outputs": [
        {
          "output_type": "stream",
          "name": "stdout",
          "text": [
            "[1 2 3 4 6 7]\n",
            "[[1 2 3]\n",
            " [4 6 7]]\n",
            "[[1 2 3]\n",
            " [4 6 7]]\n",
            "[[1 2]\n",
            " [3 4]\n",
            " [6 7]]\n",
            "[1 2 3 4]\n"
          ]
        }
      ]
    },
    {
      "cell_type": "markdown",
      "source": [
        "# Random and Random int"
      ],
      "metadata": {
        "id": "skePWsG98D-j"
      }
    },
    {
      "cell_type": "code",
      "source": [
        "print(np.random.randint(5)) # Generates a random integer below 5\n",
        "print(np.random.randint(5, 10)) # Generates a random integer below 5(inclusive) and 10(exclusive)\n",
        "print(np.random.randint(2, size=5)) # Generates a 1D array of size 5 with elements below 2\n",
        "print(np.random.randint(0,20,4)) # Generates a random list of integers between 0(inclusive) and 20(exclusive). Number of elements in list is third parameter\n",
        "print(np.random.randint(0,20,(10,10))) # Generates a random array of 10 x 10 matrix integers between 0(inclusive) and 20(exclusive)."
      ],
      "metadata": {
        "colab": {
          "base_uri": "https://localhost:8080/"
        },
        "id": "SCXw0Lo65Dlb",
        "outputId": "f1619212-dd9c-4030-f269-76afd63f95c8"
      },
      "execution_count": 127,
      "outputs": [
        {
          "output_type": "stream",
          "name": "stdout",
          "text": [
            "3\n",
            "9\n",
            "[0 0 1 1 1]\n",
            "[ 6 10 10  3]\n",
            "[[ 8 14 10 15  9 16 11  7  6  7]\n",
            " [ 1 15  5  7 16 19 10 13  1 15]\n",
            " [15  4 18 16  9  5 12 11 14 13]\n",
            " [ 7 14  9 12  8 17 18 19 13  1]\n",
            " [11  2  8 10  6  2  4  2 18  0]\n",
            " [ 0  8 11 17  5 15  4  9  7  4]\n",
            " [10  9 17  2 18 10 19  6  2 19]\n",
            " [19 14  4 17  8  7  9 15 14 14]\n",
            " [11 12  2 19 17 18  3 13  3  4]\n",
            " [ 9 19  8  8  7 12 15  2  9 14]]\n"
          ]
        }
      ]
    },
    {
      "cell_type": "code",
      "source": [],
      "metadata": {
        "id": "ZXEjf56R8TdA"
      },
      "execution_count": null,
      "outputs": []
    }
  ]
}