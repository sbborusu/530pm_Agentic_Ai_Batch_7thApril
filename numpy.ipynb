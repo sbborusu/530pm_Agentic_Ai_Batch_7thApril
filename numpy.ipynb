{
  "nbformat": 4,
  "nbformat_minor": 0,
  "metadata": {
    "colab": {
      "provenance": [],
      "authorship_tag": "ABX9TyNkhqUQGGxgBixchCenS8f7",
      "include_colab_link": true
    },
    "kernelspec": {
      "name": "python3",
      "display_name": "Python 3"
    },
    "language_info": {
      "name": "python"
    }
  },
  "cells": [
    {
      "cell_type": "markdown",
      "metadata": {
        "id": "view-in-github",
        "colab_type": "text"
      },
      "source": [
        "<a href=\"https://colab.research.google.com/github/sbborusu/530pm_Agentic_Ai_Batch_7thApril/blob/main/numpy.ipynb\" target=\"_parent\"><img src=\"https://colab.research.google.com/assets/colab-badge.svg\" alt=\"Open In Colab\"/></a>"
      ]
    },
    {
      "cell_type": "code",
      "execution_count": 1,
      "metadata": {
        "id": "ePSBgPj-i57k"
      },
      "outputs": [],
      "source": [
        "import numpy as np"
      ]
    },
    {
      "cell_type": "code",
      "source": [
        "arr1D = np.array([1,2,3,4]) # 1D array\n",
        "arr1D"
      ],
      "metadata": {
        "colab": {
          "base_uri": "https://localhost:8080/"
        },
        "id": "Y_DiGwtcoWO3",
        "outputId": "7b9d6195-4ccb-4712-c852-4a921a067c1e"
      },
      "execution_count": 2,
      "outputs": [
        {
          "output_type": "execute_result",
          "data": {
            "text/plain": [
              "array([1, 2, 3, 4])"
            ]
          },
          "metadata": {},
          "execution_count": 2
        }
      ]
    },
    {
      "cell_type": "code",
      "source": [
        "arr2D_1 = np.array([[1,2,3],[4,5,6]]) # 2D 2 X 3 matrix\n",
        "arr2D_1"
      ],
      "metadata": {
        "colab": {
          "base_uri": "https://localhost:8080/"
        },
        "id": "DInsMWiun-SM",
        "outputId": "535aead6-7892-4576-a1b9-563815583f2b"
      },
      "execution_count": 3,
      "outputs": [
        {
          "output_type": "execute_result",
          "data": {
            "text/plain": [
              "array([[1, 2, 3],\n",
              "       [4, 5, 6]])"
            ]
          },
          "metadata": {},
          "execution_count": 3
        }
      ]
    },
    {
      "cell_type": "code",
      "source": [
        "arr2D_2 = np.array([[1,2],[4,5],[7,8]]) # 2D 3 X 2 matrix\n",
        "arr2D_2"
      ],
      "metadata": {
        "colab": {
          "base_uri": "https://localhost:8080/"
        },
        "id": "uLzlJS7Rox_J",
        "outputId": "73635214-cfd8-4ad3-b0b2-20173eacec7e"
      },
      "execution_count": 4,
      "outputs": [
        {
          "output_type": "execute_result",
          "data": {
            "text/plain": [
              "array([[1, 2],\n",
              "       [4, 5],\n",
              "       [7, 8]])"
            ]
          },
          "metadata": {},
          "execution_count": 4
        }
      ]
    },
    {
      "cell_type": "code",
      "source": [
        "arr1 = np.array([[1,2,3],[4,5,6,7]]) # All rows in a 2D array must have the same number of columns\n",
        "arr1"
      ],
      "metadata": {
        "colab": {
          "base_uri": "https://localhost:8080/",
          "height": 176
        },
        "id": "BKzfBWJvi-zu",
        "outputId": "c7c35a3b-afe1-4217-ff61-a7dfc685988d"
      },
      "execution_count": 5,
      "outputs": [
        {
          "output_type": "error",
          "ename": "ValueError",
          "evalue": "setting an array element with a sequence. The requested array has an inhomogeneous shape after 1 dimensions. The detected shape was (2,) + inhomogeneous part.",
          "traceback": [
            "\u001b[0;31m---------------------------------------------------------------------------\u001b[0m",
            "\u001b[0;31mValueError\u001b[0m                                Traceback (most recent call last)",
            "\u001b[0;32m<ipython-input-5-3b8551bf5324>\u001b[0m in \u001b[0;36m<cell line: 0>\u001b[0;34m()\u001b[0m\n\u001b[0;32m----> 1\u001b[0;31m \u001b[0marr1\u001b[0m \u001b[0;34m=\u001b[0m \u001b[0mnp\u001b[0m\u001b[0;34m.\u001b[0m\u001b[0marray\u001b[0m\u001b[0;34m(\u001b[0m\u001b[0;34m[\u001b[0m\u001b[0;34m[\u001b[0m\u001b[0;36m1\u001b[0m\u001b[0;34m,\u001b[0m\u001b[0;36m2\u001b[0m\u001b[0;34m,\u001b[0m\u001b[0;36m3\u001b[0m\u001b[0;34m]\u001b[0m\u001b[0;34m,\u001b[0m\u001b[0;34m[\u001b[0m\u001b[0;36m4\u001b[0m\u001b[0;34m,\u001b[0m\u001b[0;36m5\u001b[0m\u001b[0;34m,\u001b[0m\u001b[0;36m6\u001b[0m\u001b[0;34m,\u001b[0m\u001b[0;36m7\u001b[0m\u001b[0;34m]\u001b[0m\u001b[0;34m]\u001b[0m\u001b[0;34m)\u001b[0m \u001b[0;31m# All rows in a 2D array must have the same number of columns\u001b[0m\u001b[0;34m\u001b[0m\u001b[0;34m\u001b[0m\u001b[0m\n\u001b[0m\u001b[1;32m      2\u001b[0m \u001b[0marr1\u001b[0m\u001b[0;34m\u001b[0m\u001b[0;34m\u001b[0m\u001b[0m\n",
            "\u001b[0;31mValueError\u001b[0m: setting an array element with a sequence. The requested array has an inhomogeneous shape after 1 dimensions. The detected shape was (2,) + inhomogeneous part."
          ]
        }
      ]
    },
    {
      "cell_type": "code",
      "source": [
        "arr1 = np.array([[1,2,3,None],[4,5,6,7]]) # ou can pad the shorter rows with a placeholder value (like None or 0) to make all rows the same length:\n",
        "arr1"
      ],
      "metadata": {
        "colab": {
          "base_uri": "https://localhost:8080/"
        },
        "id": "nJYzw72Qm_6j",
        "outputId": "96abd6ab-0ee4-42e2-f31f-32a129cea189"
      },
      "execution_count": 7,
      "outputs": [
        {
          "output_type": "execute_result",
          "data": {
            "text/plain": [
              "array([[1, 2, 3, None],\n",
              "       [4, 5, 6, 7]], dtype=object)"
            ]
          },
          "metadata": {},
          "execution_count": 7
        }
      ]
    },
    {
      "cell_type": "markdown",
      "source": [
        "# Access a 2D array"
      ],
      "metadata": {
        "id": "3QU6hTO8pfDC"
      }
    },
    {
      "cell_type": "code",
      "source": [
        "range(10,100,10)\n",
        "arr = np.array([1,2,3],dtype='int',ndmin=2)\n",
        "print(arr)\n",
        "print(arr[0])\n",
        "print(arr[0][0])\n",
        "print(arr.ndim)\n",
        "arr2 = np.array([[1,2,3],[4,5,6]],ndmin=2)\n",
        "print(arr2)"
      ],
      "metadata": {
        "colab": {
          "base_uri": "https://localhost:8080/"
        },
        "id": "SenvwydepY5X",
        "outputId": "f5f7d8b8-ee12-4b90-b088-0956f454ea2f"
      },
      "execution_count": 8,
      "outputs": [
        {
          "output_type": "stream",
          "name": "stdout",
          "text": [
            "[[1 2 3]]\n",
            "[1 2 3]\n",
            "1\n",
            "2\n",
            "[[1 2 3]\n",
            " [4 5 6]]\n"
          ]
        }
      ]
    },
    {
      "cell_type": "code",
      "source": [
        "arr = np.array([1,2,3, 'sindhur'],dtype=int)"
      ],
      "metadata": {
        "colab": {
          "base_uri": "https://localhost:8080/",
          "height": 141
        },
        "id": "VVaMBgqSxzLX",
        "outputId": "e47043d4-47b5-46d0-f4f0-88da4e5f22d7"
      },
      "execution_count": 9,
      "outputs": [
        {
          "output_type": "error",
          "ename": "ValueError",
          "evalue": "invalid literal for int() with base 10: 'sindhur'",
          "traceback": [
            "\u001b[0;31m---------------------------------------------------------------------------\u001b[0m",
            "\u001b[0;31mValueError\u001b[0m                                Traceback (most recent call last)",
            "\u001b[0;32m<ipython-input-9-04b86c037b6a>\u001b[0m in \u001b[0;36m<cell line: 0>\u001b[0;34m()\u001b[0m\n\u001b[0;32m----> 1\u001b[0;31m \u001b[0marr\u001b[0m \u001b[0;34m=\u001b[0m \u001b[0mnp\u001b[0m\u001b[0;34m.\u001b[0m\u001b[0marray\u001b[0m\u001b[0;34m(\u001b[0m\u001b[0;34m[\u001b[0m\u001b[0;36m1\u001b[0m\u001b[0;34m,\u001b[0m\u001b[0;36m2\u001b[0m\u001b[0;34m,\u001b[0m\u001b[0;36m3\u001b[0m\u001b[0;34m,\u001b[0m \u001b[0;34m'sindhur'\u001b[0m\u001b[0;34m]\u001b[0m\u001b[0;34m,\u001b[0m\u001b[0mdtype\u001b[0m\u001b[0;34m=\u001b[0m\u001b[0mint\u001b[0m\u001b[0;34m)\u001b[0m\u001b[0;34m\u001b[0m\u001b[0;34m\u001b[0m\u001b[0m\n\u001b[0m",
            "\u001b[0;31mValueError\u001b[0m: invalid literal for int() with base 10: 'sindhur'"
          ]
        }
      ]
    },
    {
      "cell_type": "code",
      "source": [
        "arr4 = np.array([[1,2,3,10], [4,5,6,20], [7,8,9,30]])\n",
        "print(arr4) # This prints the entire 2D array\n",
        "print(arr4[0]) # This prints the first row of the array:\n",
        "print(arr4[0:2]) # This prints the first two rows of the array:\n",
        "print(arr4[1][2]) # This prints the element in the second row and third column:\n",
        "print(arr4[1,2]) # This also prints the element in the second row and third column, using a different indexing method\n",
        "print(arr4[0:2,1:3]) #This prints a subarray consisting of the first two rows and the second and third columns\n",
        "print(arr4[:,2]) #This prints the third column of the array\n",
        "print(arr4[:,2].reshape(-1,1)) #This prints the third column in a column format"
      ],
      "metadata": {
        "colab": {
          "base_uri": "https://localhost:8080/"
        },
        "id": "AH-uXHT5p3f_",
        "outputId": "7979e317-6512-48c1-e1e6-d6e2796bc5c3"
      },
      "execution_count": 10,
      "outputs": [
        {
          "output_type": "stream",
          "name": "stdout",
          "text": [
            "[[ 1  2  3 10]\n",
            " [ 4  5  6 20]\n",
            " [ 7  8  9 30]]\n",
            "[ 1  2  3 10]\n",
            "[[ 1  2  3 10]\n",
            " [ 4  5  6 20]]\n",
            "6\n",
            "6\n",
            "[[2 3]\n",
            " [5 6]]\n",
            "[3 6 9]\n",
            "[[3]\n",
            " [6]\n",
            " [9]]\n"
          ]
        }
      ]
    },
    {
      "cell_type": "markdown",
      "source": [
        "# reshape an array"
      ],
      "metadata": {
        "id": "t7e7De2R4wdj"
      }
    },
    {
      "cell_type": "code",
      "source": [
        "arr5 = np.array([1,2,3,4,6,7])\n",
        "print(arr5)\n",
        "print(arr5.reshape(2,3))\n",
        "print(arr5.reshape(-1,3)) # -1 indicates numpy to figure out the number of rows based on columns needed.\n",
        "print(arr5.reshape(3,-1)) # -1 indicates numpy to figure out the number of columns based on rows needed.\n",
        "arr6 = np.array([[1,2],[3,4]])\n",
        "print(arr6.reshape(-1)) # reshape(-1) flattens the 2D array into a 1D array. The -1 parameter tells NumPy to automatically calculate the size of the new dimension based on the total number of elements."
      ],
      "metadata": {
        "colab": {
          "base_uri": "https://localhost:8080/"
        },
        "id": "cjkvGB77yYt7",
        "outputId": "b031f826-8d45-40e4-a56d-a96c2c25aa69"
      },
      "execution_count": 11,
      "outputs": [
        {
          "output_type": "stream",
          "name": "stdout",
          "text": [
            "[1 2 3 4 6 7]\n",
            "[[1 2 3]\n",
            " [4 6 7]]\n",
            "[[1 2 3]\n",
            " [4 6 7]]\n",
            "[[1 2]\n",
            " [3 4]\n",
            " [6 7]]\n",
            "[1 2 3 4]\n"
          ]
        }
      ]
    },
    {
      "cell_type": "markdown",
      "source": [
        "# Random and Random int"
      ],
      "metadata": {
        "id": "skePWsG98D-j"
      }
    },
    {
      "cell_type": "code",
      "source": [
        "print(np.random.randint(5)) # Generates a random integer below 5\n",
        "print(np.random.randint(5, 10)) # Generates a random integer below 5(inclusive) and 10(exclusive)\n",
        "print(np.random.randint(2, size=5)) # Generates a 1D array of size 5 with elements below 2\n",
        "print(np.random.randint(0,20,4)) # Generates a random list of integers between 0(inclusive) and 20(exclusive). Number of elements in list is third parameter\n",
        "print(np.random.randint(0,20,(10,10))) # Generates a random array of 10 x 10 matrix integers between 0(inclusive) and 20(exclusive).\n"
      ],
      "metadata": {
        "colab": {
          "base_uri": "https://localhost:8080/"
        },
        "id": "SCXw0Lo65Dlb",
        "outputId": "75a7e8c3-37d2-48b1-a5a5-0d1995a12932"
      },
      "execution_count": 12,
      "outputs": [
        {
          "output_type": "stream",
          "name": "stdout",
          "text": [
            "2\n",
            "9\n",
            "[0 1 0 1 0]\n",
            "[12  1 13  0]\n",
            "[[19  1  7  7 11 14  8 16 19 15]\n",
            " [18 14 18 13 16  7 12  5  5 16]\n",
            " [ 6  7  5  3  2 13  4  4  9  4]\n",
            " [ 3 12  9 13  2  8 17  5  4 10]\n",
            " [12  5 15  2  6 19 18 18  8  2]\n",
            " [ 3  8  7 12  9 13  8  1  8  6]\n",
            " [ 3 10  1  1  6  4 18 13  7  7]\n",
            " [ 6 13  1 12 13 14  5  1 11  2]\n",
            " [ 7 14  6 17  2 15 11 15  3  1]\n",
            " [ 3 19 19 16 11 11  4 13  9 10]]\n"
          ]
        }
      ]
    },
    {
      "cell_type": "code",
      "source": [
        "print(np.random.rand()) # Generates a single float between 0 and 1\n",
        "print(np.random.rand(3)) # Generates a 1D array with values between 0 and 1. 3 indicates number of elements in the array.\n",
        "print(np.random.rand(3,2)) # Generates a 2D array with values between 0 and 1. 3,2 indicates 3 rows 2 columns matrix.\n",
        "print(np.random.rand(3,2,3)) # Generates a 3D array with values between 0 and 1."
      ],
      "metadata": {
        "colab": {
          "base_uri": "https://localhost:8080/"
        },
        "id": "ZXEjf56R8TdA",
        "outputId": "6641eba9-a843-4db1-f76c-dfec50cc821a"
      },
      "execution_count": 38,
      "outputs": [
        {
          "output_type": "stream",
          "name": "stdout",
          "text": [
            "0.25177678540081105\n",
            "[0.72692677 0.88528981 0.12525915]\n",
            "[[0.59100463 0.99301476]\n",
            " [0.51528647 0.28967005]\n",
            " [0.66834664 0.9227482 ]]\n",
            "[[[0.30376415 0.79158029 0.81493925]\n",
            "  [0.63026497 0.38134954 0.03594815]]\n",
            "\n",
            " [[0.21690249 0.77307987 0.72274763]\n",
            "  [0.59114507 0.16120163 0.93666869]]\n",
            "\n",
            " [[0.26113497 0.05719438 0.28566211]\n",
            "  [0.85697048 0.33773809 0.37882172]]]\n"
          ]
        }
      ]
    },
    {
      "cell_type": "code",
      "source": [
        "print(np.ones(5))\n",
        "print(np.ones(5,dtype=str))\n",
        "print(np.ones(5,dtype=bool))\n",
        "print(np.ones(5,dtype=int))\n",
        "print(np.ones(5,dtype=complex))\n",
        "print(np.ones((3,2)))\n",
        "print(np.ones((3,2,4)))"
      ],
      "metadata": {
        "colab": {
          "base_uri": "https://localhost:8080/"
        },
        "id": "eNf9-qDvT-Bz",
        "outputId": "0d342c78-9f69-4f63-e9c4-9a78d7b61e1f"
      },
      "execution_count": 51,
      "outputs": [
        {
          "output_type": "stream",
          "name": "stdout",
          "text": [
            "[1. 1. 1. 1. 1.]\n",
            "['1' '1' '1' '1' '1']\n",
            "[ True  True  True  True  True]\n",
            "[1 1 1 1 1]\n",
            "[1.+0.j 1.+0.j 1.+0.j 1.+0.j 1.+0.j]\n",
            "[[1. 1.]\n",
            " [1. 1.]\n",
            " [1. 1.]]\n",
            "[[[1. 1. 1. 1.]\n",
            "  [1. 1. 1. 1.]]\n",
            "\n",
            " [[1. 1. 1. 1.]\n",
            "  [1. 1. 1. 1.]]\n",
            "\n",
            " [[1. 1. 1. 1.]\n",
            "  [1. 1. 1. 1.]]]\n"
          ]
        }
      ]
    },
    {
      "cell_type": "code",
      "source": [
        "print(np.zeros(5))\n",
        "print(np.zeros(5,dtype=str))\n",
        "print(np.zeros(5,dtype=bool))\n",
        "print(np.zeros(5,dtype=int))\n",
        "print(np.zeros(5,dtype=complex))\n",
        "print(np.zeros((3,2)))\n",
        "print(np.zeros((3,2,4)))"
      ],
      "metadata": {
        "colab": {
          "base_uri": "https://localhost:8080/"
        },
        "id": "ljgmPL5CXZVz",
        "outputId": "93c1e2cb-5e51-4371-bbf4-91c25016a865"
      },
      "execution_count": 53,
      "outputs": [
        {
          "output_type": "stream",
          "name": "stdout",
          "text": [
            "[0. 0. 0. 0. 0.]\n",
            "['' '' '' '' '']\n",
            "[False False False False False]\n",
            "[0 0 0 0 0]\n",
            "[0.+0.j 0.+0.j 0.+0.j 0.+0.j 0.+0.j]\n",
            "[[0. 0.]\n",
            " [0. 0.]\n",
            " [0. 0.]]\n",
            "[[[0. 0. 0. 0.]\n",
            "  [0. 0. 0. 0.]]\n",
            "\n",
            " [[0. 0. 0. 0.]\n",
            "  [0. 0. 0. 0.]]\n",
            "\n",
            " [[0. 0. 0. 0.]\n",
            "  [0. 0. 0. 0.]]]\n"
          ]
        }
      ]
    },
    {
      "cell_type": "markdown",
      "source": [
        "# ND Arrays"
      ],
      "metadata": {
        "id": "8algGJ99dByr"
      }
    },
    {
      "cell_type": "code",
      "source": [
        "# 3D array\n",
        "arr3d = np.array([[[2,3,1],[4,5,2]], [[4,2,1],[6,2,3]], [[5,3,1],[8,9,2]]]) # 3 layers, 2 rows, 3 columns\n",
        "print(arr3d.ndim)\n",
        "print(arr3d)\n",
        "print(arr3d[0][0])\n",
        "print(arr3d[0][0:2])\n",
        "print(arr3d[1][1][0])\n",
        "print(arr3d[1][1,0])\n",
        "print(arr3d[0][0:2,0:2])\n",
        "print(arr3d[0][:,:])\n",
        "print(arr3d[0][:,0:1])\n",
        "print(arr3d[0][:,0:1].reshape(-1,1))"
      ],
      "metadata": {
        "colab": {
          "base_uri": "https://localhost:8080/"
        },
        "id": "cYoNDSgqaq1y",
        "outputId": "15370419-15dc-4b05-d1c1-3afabda80551"
      },
      "execution_count": 67,
      "outputs": [
        {
          "output_type": "stream",
          "name": "stdout",
          "text": [
            "3\n",
            "[[[2 3 1]\n",
            "  [4 5 2]]\n",
            "\n",
            " [[4 2 1]\n",
            "  [6 2 3]]\n",
            "\n",
            " [[5 3 1]\n",
            "  [8 9 2]]]\n",
            "[2 3 1]\n",
            "[[2 3 1]\n",
            " [4 5 2]]\n",
            "6\n",
            "6\n",
            "[[2 3]\n",
            " [4 5]]\n",
            "[[2 3 1]\n",
            " [4 5 2]]\n",
            "[[2]\n",
            " [4]]\n",
            "[[2]\n",
            " [4]]\n"
          ]
        }
      ]
    },
    {
      "cell_type": "markdown",
      "source": [
        "# Images, Text, Speech inputs AI will internally get converted into multi-dimentional arrays"
      ],
      "metadata": {
        "id": "tdFgKYKtpwzp"
      }
    },
    {
      "cell_type": "code",
      "source": [
        "image_array = np.random.rand(3,4,2) # 3D array with 3 layers, 4 rows, 2 columns\n",
        "print(image_array.ndim)\n",
        "print(image_array)\n",
        "print(image_array[0])"
      ],
      "metadata": {
        "colab": {
          "base_uri": "https://localhost:8080/"
        },
        "id": "gCNWw3dog44b",
        "outputId": "f5a45df2-513e-44f9-e25c-bbb912c2914a"
      },
      "execution_count": 97,
      "outputs": [
        {
          "output_type": "stream",
          "name": "stdout",
          "text": [
            "3\n",
            "[[[0.56551472 0.63805554]\n",
            "  [0.91072073 0.34266487]\n",
            "  [0.88801184 0.61650597]\n",
            "  [0.50967534 0.51813245]]\n",
            "\n",
            " [[0.98478646 0.40089153]\n",
            "  [0.69856055 0.770159  ]\n",
            "  [0.84730537 0.26680403]\n",
            "  [0.5154633  0.42421665]]\n",
            "\n",
            " [[0.22383891 0.70305163]\n",
            "  [0.85164989 0.40571669]\n",
            "  [0.0379242  0.98265396]\n",
            "  [0.96118485 0.48074076]]]\n",
            "[[0.56551472 0.63805554]\n",
            " [0.91072073 0.34266487]\n",
            " [0.88801184 0.61650597]\n",
            " [0.50967534 0.51813245]]\n"
          ]
        }
      ]
    },
    {
      "cell_type": "code",
      "source": [],
      "metadata": {
        "id": "icEDTownqAaQ"
      },
      "execution_count": null,
      "outputs": []
    }
  ]
}